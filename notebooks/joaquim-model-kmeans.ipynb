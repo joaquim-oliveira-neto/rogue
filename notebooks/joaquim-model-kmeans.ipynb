{
 "cells": [
  {
   "cell_type": "code",
   "execution_count": 1,
   "metadata": {
    "ExecuteTime": {
     "end_time": "2020-11-26T19:19:10.654488Z",
     "start_time": "2020-11-26T19:19:08.668397Z"
    }
   },
   "outputs": [],
   "source": [
    "import pandas as pd\n",
    "import numpy as np\n",
    "import matplotlib.pyplot as plt\n",
    "import seaborn as sns"
   ]
  },
  {
   "cell_type": "code",
   "execution_count": 2,
   "metadata": {
    "ExecuteTime": {
     "end_time": "2020-11-26T19:19:10.671692Z",
     "start_time": "2020-11-26T19:19:10.657972Z"
    }
   },
   "outputs": [],
   "source": [
    "def find_movie_title(id):\n",
    "    row = movies.loc[movies['movieId'] == id]\n",
    "    return row['title']"
   ]
  },
  {
   "cell_type": "code",
   "execution_count": 3,
   "metadata": {
    "ExecuteTime": {
     "end_time": "2020-11-26T19:19:17.738636Z",
     "start_time": "2020-11-26T19:19:10.699381Z"
    }
   },
   "outputs": [],
   "source": [
    "data_path = '../raw_data/ml-25m/'\n",
    "movies = pd.read_csv(data_path + 'movies.csv')\n",
    "ratings = pd.read_csv(data_path + 'ratings.csv')"
   ]
  },
  {
   "cell_type": "code",
   "execution_count": 4,
   "metadata": {
    "ExecuteTime": {
     "end_time": "2020-11-26T19:19:26.195635Z",
     "start_time": "2020-11-26T19:19:17.741046Z"
    }
   },
   "outputs": [],
   "source": [
    "ratings = ratings.merge(movies[['movieId', 'title']], on='movieId')"
   ]
  },
  {
   "cell_type": "code",
   "execution_count": 5,
   "metadata": {
    "ExecuteTime": {
     "end_time": "2020-11-26T19:19:26.258159Z",
     "start_time": "2020-11-26T19:19:26.198405Z"
    }
   },
   "outputs": [
    {
     "data": {
      "text/html": [
       "<div>\n",
       "<style scoped>\n",
       "    .dataframe tbody tr th:only-of-type {\n",
       "        vertical-align: middle;\n",
       "    }\n",
       "\n",
       "    .dataframe tbody tr th {\n",
       "        vertical-align: top;\n",
       "    }\n",
       "\n",
       "    .dataframe thead th {\n",
       "        text-align: right;\n",
       "    }\n",
       "</style>\n",
       "<table border=\"1\" class=\"dataframe\">\n",
       "  <thead>\n",
       "    <tr style=\"text-align: right;\">\n",
       "      <th></th>\n",
       "      <th>userId</th>\n",
       "      <th>movieId</th>\n",
       "      <th>rating</th>\n",
       "      <th>timestamp</th>\n",
       "      <th>title</th>\n",
       "    </tr>\n",
       "  </thead>\n",
       "  <tbody>\n",
       "    <tr>\n",
       "      <th>0</th>\n",
       "      <td>1</td>\n",
       "      <td>296</td>\n",
       "      <td>5.0</td>\n",
       "      <td>1147880044</td>\n",
       "      <td>Pulp Fiction (1994)</td>\n",
       "    </tr>\n",
       "    <tr>\n",
       "      <th>1</th>\n",
       "      <td>3</td>\n",
       "      <td>296</td>\n",
       "      <td>5.0</td>\n",
       "      <td>1439474476</td>\n",
       "      <td>Pulp Fiction (1994)</td>\n",
       "    </tr>\n",
       "    <tr>\n",
       "      <th>2</th>\n",
       "      <td>4</td>\n",
       "      <td>296</td>\n",
       "      <td>4.0</td>\n",
       "      <td>1573938898</td>\n",
       "      <td>Pulp Fiction (1994)</td>\n",
       "    </tr>\n",
       "    <tr>\n",
       "      <th>3</th>\n",
       "      <td>5</td>\n",
       "      <td>296</td>\n",
       "      <td>4.0</td>\n",
       "      <td>830786155</td>\n",
       "      <td>Pulp Fiction (1994)</td>\n",
       "    </tr>\n",
       "    <tr>\n",
       "      <th>4</th>\n",
       "      <td>7</td>\n",
       "      <td>296</td>\n",
       "      <td>4.0</td>\n",
       "      <td>835444730</td>\n",
       "      <td>Pulp Fiction (1994)</td>\n",
       "    </tr>\n",
       "    <tr>\n",
       "      <th>...</th>\n",
       "      <td>...</td>\n",
       "      <td>...</td>\n",
       "      <td>...</td>\n",
       "      <td>...</td>\n",
       "      <td>...</td>\n",
       "    </tr>\n",
       "    <tr>\n",
       "      <th>25000090</th>\n",
       "      <td>162358</td>\n",
       "      <td>200192</td>\n",
       "      <td>2.0</td>\n",
       "      <td>1553453039</td>\n",
       "      <td>Den frusna leoparden (1986)</td>\n",
       "    </tr>\n",
       "    <tr>\n",
       "      <th>25000091</th>\n",
       "      <td>162358</td>\n",
       "      <td>200194</td>\n",
       "      <td>2.0</td>\n",
       "      <td>1553453843</td>\n",
       "      <td>Tough Luck (2004)</td>\n",
       "    </tr>\n",
       "    <tr>\n",
       "      <th>25000092</th>\n",
       "      <td>162386</td>\n",
       "      <td>139970</td>\n",
       "      <td>3.5</td>\n",
       "      <td>1549215965</td>\n",
       "      <td>I Don't Speak English (1995)</td>\n",
       "    </tr>\n",
       "    <tr>\n",
       "      <th>25000093</th>\n",
       "      <td>162386</td>\n",
       "      <td>200726</td>\n",
       "      <td>4.0</td>\n",
       "      <td>1554651417</td>\n",
       "      <td>The Graduates (1995)</td>\n",
       "    </tr>\n",
       "    <tr>\n",
       "      <th>25000094</th>\n",
       "      <td>162386</td>\n",
       "      <td>200728</td>\n",
       "      <td>4.0</td>\n",
       "      <td>1554651472</td>\n",
       "      <td>Il pesce innamorato (1999)</td>\n",
       "    </tr>\n",
       "  </tbody>\n",
       "</table>\n",
       "<p>25000095 rows × 5 columns</p>\n",
       "</div>"
      ],
      "text/plain": [
       "          userId  movieId  rating   timestamp                         title\n",
       "0              1      296     5.0  1147880044           Pulp Fiction (1994)\n",
       "1              3      296     5.0  1439474476           Pulp Fiction (1994)\n",
       "2              4      296     4.0  1573938898           Pulp Fiction (1994)\n",
       "3              5      296     4.0   830786155           Pulp Fiction (1994)\n",
       "4              7      296     4.0   835444730           Pulp Fiction (1994)\n",
       "...          ...      ...     ...         ...                           ...\n",
       "25000090  162358   200192     2.0  1553453039   Den frusna leoparden (1986)\n",
       "25000091  162358   200194     2.0  1553453843             Tough Luck (2004)\n",
       "25000092  162386   139970     3.5  1549215965  I Don't Speak English (1995)\n",
       "25000093  162386   200726     4.0  1554651417          The Graduates (1995)\n",
       "25000094  162386   200728     4.0  1554651472    Il pesce innamorato (1999)\n",
       "\n",
       "[25000095 rows x 5 columns]"
      ]
     },
     "execution_count": 5,
     "metadata": {},
     "output_type": "execute_result"
    }
   ],
   "source": [
    "ratings"
   ]
  },
  {
   "cell_type": "code",
   "execution_count": 6,
   "metadata": {
    "ExecuteTime": {
     "end_time": "2020-11-26T19:19:26.678645Z",
     "start_time": "2020-11-26T19:19:26.269084Z"
    }
   },
   "outputs": [
    {
     "data": {
      "text/plain": [
       "162541"
      ]
     },
     "execution_count": 6,
     "metadata": {},
     "output_type": "execute_result"
    }
   ],
   "source": [
    "ratings.userId.nunique()"
   ]
  },
  {
   "cell_type": "code",
   "execution_count": 7,
   "metadata": {
    "ExecuteTime": {
     "end_time": "2020-11-26T19:19:26.880790Z",
     "start_time": "2020-11-26T19:19:26.709300Z"
    }
   },
   "outputs": [
    {
     "data": {
      "text/plain": [
       "59047"
      ]
     },
     "execution_count": 7,
     "metadata": {},
     "output_type": "execute_result"
    }
   ],
   "source": [
    "ratings.movieId.nunique()"
   ]
  },
  {
   "cell_type": "code",
   "execution_count": 8,
   "metadata": {
    "ExecuteTime": {
     "end_time": "2020-11-26T19:19:27.079897Z",
     "start_time": "2020-11-26T19:19:26.886052Z"
    }
   },
   "outputs": [
    {
     "data": {
      "text/plain": [
       "array([0.5, 1. , 1.5, 2. , 2.5, 3. , 3.5, 4. , 4.5, 5. ])"
      ]
     },
     "execution_count": 8,
     "metadata": {},
     "output_type": "execute_result"
    }
   ],
   "source": [
    "possible_rates = ratings.rating.unique()\n",
    "np.sort(possible_rates, axis=0)"
   ]
  },
  {
   "cell_type": "code",
   "execution_count": 9,
   "metadata": {
    "ExecuteTime": {
     "end_time": "2020-11-26T19:19:28.759873Z",
     "start_time": "2020-11-26T19:19:27.083565Z"
    }
   },
   "outputs": [
    {
     "data": {
      "text/plain": [
       "Forrest Gump (1994)                 81491\n",
       "Shawshank Redemption, The (1994)    81482\n",
       "Pulp Fiction (1994)                 79672\n",
       "Silence of the Lambs, The (1991)    74127\n",
       "Matrix, The (1999)                  72674\n",
       "                                    ...  \n",
       "Finding Forrester (2000)             6239\n",
       "Miller's Crossing (1990)             6239\n",
       "Chariots of Fire (1981)              6230\n",
       "Streetcar Named Desire, A (1951)     6223\n",
       "Producers, The (1968)                6181\n",
       "Name: title, Length: 1000, dtype: int64"
      ]
     },
     "execution_count": 9,
     "metadata": {},
     "output_type": "execute_result"
    }
   ],
   "source": [
    "ratings.title.value_counts().head(1000)"
   ]
  },
  {
   "cell_type": "code",
   "execution_count": 10,
   "metadata": {
    "ExecuteTime": {
     "end_time": "2020-11-26T19:19:28.770431Z",
     "start_time": "2020-11-26T19:19:28.764047Z"
    }
   },
   "outputs": [],
   "source": [
    "def get_most_rated_movies_df(ratings_df, top_number):\n",
    "    most_rated_movies = ratings_df.movieId.value_counts().head(top_number).index\n",
    "    return ratings_df[ratings_df.movieId.isin(most_rated_movies)].copy()"
   ]
  },
  {
   "cell_type": "code",
   "execution_count": 11,
   "metadata": {
    "ExecuteTime": {
     "end_time": "2020-11-26T19:19:32.504687Z",
     "start_time": "2020-11-26T19:19:28.773817Z"
    }
   },
   "outputs": [
    {
     "data": {
      "text/html": [
       "<div>\n",
       "<style scoped>\n",
       "    .dataframe tbody tr th:only-of-type {\n",
       "        vertical-align: middle;\n",
       "    }\n",
       "\n",
       "    .dataframe tbody tr th {\n",
       "        vertical-align: top;\n",
       "    }\n",
       "\n",
       "    .dataframe thead th {\n",
       "        text-align: right;\n",
       "    }\n",
       "</style>\n",
       "<table border=\"1\" class=\"dataframe\">\n",
       "  <thead>\n",
       "    <tr style=\"text-align: right;\">\n",
       "      <th></th>\n",
       "      <th>userId</th>\n",
       "      <th>movieId</th>\n",
       "      <th>rating</th>\n",
       "      <th>timestamp</th>\n",
       "      <th>title</th>\n",
       "    </tr>\n",
       "  </thead>\n",
       "  <tbody>\n",
       "    <tr>\n",
       "      <th>0</th>\n",
       "      <td>1</td>\n",
       "      <td>296</td>\n",
       "      <td>5.0</td>\n",
       "      <td>1147880044</td>\n",
       "      <td>Pulp Fiction (1994)</td>\n",
       "    </tr>\n",
       "    <tr>\n",
       "      <th>1</th>\n",
       "      <td>3</td>\n",
       "      <td>296</td>\n",
       "      <td>5.0</td>\n",
       "      <td>1439474476</td>\n",
       "      <td>Pulp Fiction (1994)</td>\n",
       "    </tr>\n",
       "    <tr>\n",
       "      <th>2</th>\n",
       "      <td>4</td>\n",
       "      <td>296</td>\n",
       "      <td>4.0</td>\n",
       "      <td>1573938898</td>\n",
       "      <td>Pulp Fiction (1994)</td>\n",
       "    </tr>\n",
       "    <tr>\n",
       "      <th>3</th>\n",
       "      <td>5</td>\n",
       "      <td>296</td>\n",
       "      <td>4.0</td>\n",
       "      <td>830786155</td>\n",
       "      <td>Pulp Fiction (1994)</td>\n",
       "    </tr>\n",
       "    <tr>\n",
       "      <th>4</th>\n",
       "      <td>7</td>\n",
       "      <td>296</td>\n",
       "      <td>4.0</td>\n",
       "      <td>835444730</td>\n",
       "      <td>Pulp Fiction (1994)</td>\n",
       "    </tr>\n",
       "    <tr>\n",
       "      <th>...</th>\n",
       "      <td>...</td>\n",
       "      <td>...</td>\n",
       "      <td>...</td>\n",
       "      <td>...</td>\n",
       "      <td>...</td>\n",
       "    </tr>\n",
       "    <tr>\n",
       "      <th>21613743</th>\n",
       "      <td>162504</td>\n",
       "      <td>204</td>\n",
       "      <td>3.0</td>\n",
       "      <td>851692500</td>\n",
       "      <td>Under Siege 2: Dark Territory (1995)</td>\n",
       "    </tr>\n",
       "    <tr>\n",
       "      <th>21613744</th>\n",
       "      <td>162505</td>\n",
       "      <td>204</td>\n",
       "      <td>3.0</td>\n",
       "      <td>840104538</td>\n",
       "      <td>Under Siege 2: Dark Territory (1995)</td>\n",
       "    </tr>\n",
       "    <tr>\n",
       "      <th>21613745</th>\n",
       "      <td>162516</td>\n",
       "      <td>204</td>\n",
       "      <td>2.5</td>\n",
       "      <td>1175652894</td>\n",
       "      <td>Under Siege 2: Dark Territory (1995)</td>\n",
       "    </tr>\n",
       "    <tr>\n",
       "      <th>21613746</th>\n",
       "      <td>162517</td>\n",
       "      <td>204</td>\n",
       "      <td>5.0</td>\n",
       "      <td>1073909995</td>\n",
       "      <td>Under Siege 2: Dark Territory (1995)</td>\n",
       "    </tr>\n",
       "    <tr>\n",
       "      <th>21613747</th>\n",
       "      <td>162531</td>\n",
       "      <td>204</td>\n",
       "      <td>4.0</td>\n",
       "      <td>828993342</td>\n",
       "      <td>Under Siege 2: Dark Territory (1995)</td>\n",
       "    </tr>\n",
       "  </tbody>\n",
       "</table>\n",
       "<p>15117393 rows × 5 columns</p>\n",
       "</div>"
      ],
      "text/plain": [
       "          userId  movieId  rating   timestamp  \\\n",
       "0              1      296     5.0  1147880044   \n",
       "1              3      296     5.0  1439474476   \n",
       "2              4      296     4.0  1573938898   \n",
       "3              5      296     4.0   830786155   \n",
       "4              7      296     4.0   835444730   \n",
       "...          ...      ...     ...         ...   \n",
       "21613743  162504      204     3.0   851692500   \n",
       "21613744  162505      204     3.0   840104538   \n",
       "21613745  162516      204     2.5  1175652894   \n",
       "21613746  162517      204     5.0  1073909995   \n",
       "21613747  162531      204     4.0   828993342   \n",
       "\n",
       "                                         title  \n",
       "0                          Pulp Fiction (1994)  \n",
       "1                          Pulp Fiction (1994)  \n",
       "2                          Pulp Fiction (1994)  \n",
       "3                          Pulp Fiction (1994)  \n",
       "4                          Pulp Fiction (1994)  \n",
       "...                                        ...  \n",
       "21613743  Under Siege 2: Dark Territory (1995)  \n",
       "21613744  Under Siege 2: Dark Territory (1995)  \n",
       "21613745  Under Siege 2: Dark Territory (1995)  \n",
       "21613746  Under Siege 2: Dark Territory (1995)  \n",
       "21613747  Under Siege 2: Dark Territory (1995)  \n",
       "\n",
       "[15117393 rows x 5 columns]"
      ]
     },
     "execution_count": 11,
     "metadata": {},
     "output_type": "execute_result"
    }
   ],
   "source": [
    "ratings_top = get_most_rated_movies_df(ratings, 1000)\n",
    "ratings_top"
   ]
  },
  {
   "cell_type": "code",
   "execution_count": 12,
   "metadata": {
    "ExecuteTime": {
     "end_time": "2020-11-26T19:19:33.431973Z",
     "start_time": "2020-11-26T19:19:32.508831Z"
    }
   },
   "outputs": [
    {
     "data": {
      "text/plain": [
       "107650    1000\n",
       "57548      994\n",
       "72315      986\n",
       "123711     975\n",
       "162516     970\n",
       "          ... \n",
       "55072        1\n",
       "132964       1\n",
       "88992        1\n",
       "102450       1\n",
       "26659        1\n",
       "Name: userId, Length: 162506, dtype: int64"
      ]
     },
     "execution_count": 12,
     "metadata": {},
     "output_type": "execute_result"
    }
   ],
   "source": [
    "rates_per_user = ratings_top.userId.value_counts()\n",
    "rates_per_user"
   ]
  },
  {
   "cell_type": "code",
   "execution_count": 13,
   "metadata": {
    "ExecuteTime": {
     "end_time": "2020-11-26T19:19:33.445744Z",
     "start_time": "2020-11-26T19:19:33.435689Z"
    }
   },
   "outputs": [
    {
     "data": {
      "text/plain": [
       "107650        1000\n",
       "57548         1994\n",
       "72315         2980\n",
       "123711        3955\n",
       "162516        4925\n",
       "            ...   \n",
       "55072     15117389\n",
       "132964    15117390\n",
       "88992     15117391\n",
       "102450    15117392\n",
       "26659     15117393\n",
       "Name: userId, Length: 162506, dtype: int64"
      ]
     },
     "execution_count": 13,
     "metadata": {},
     "output_type": "execute_result"
    }
   ],
   "source": [
    "cumulative_rates_per_user = rates_per_user.cumsum()\n",
    "cumulative_rates_per_user"
   ]
  },
  {
   "cell_type": "code",
   "execution_count": 14,
   "metadata": {
    "ExecuteTime": {
     "end_time": "2020-11-26T19:19:42.477318Z",
     "start_time": "2020-11-26T19:19:33.448922Z"
    }
   },
   "outputs": [
    {
     "data": {
      "text/plain": [
       "<AxesSubplot:ylabel='userId'>"
      ]
     },
     "execution_count": 14,
     "metadata": {},
     "output_type": "execute_result"
    },
    {
     "data": {
      "image/png": "[encoded data removed]",
      "text/plain": [
       "<Figure size 432x288 with 1 Axes>"
      ]
     },
     "metadata": {
      "needs_background": "light"
     },
     "output_type": "display_data"
    }
   ],
   "source": [
    "x_axis = list(range(1,len(rates_per_user)+1))\n",
    "sns.lineplot(x=x_axis, y=rates_per_user)"
   ]
  },
  {
   "cell_type": "code",
   "execution_count": 15,
   "metadata": {
    "ExecuteTime": {
     "end_time": "2020-11-26T19:19:51.462590Z",
     "start_time": "2020-11-26T19:19:42.481450Z"
    }
   },
   "outputs": [
    {
     "data": {
      "text/plain": [
       "<AxesSubplot:ylabel='userId'>"
      ]
     },
     "execution_count": 15,
     "metadata": {},
     "output_type": "execute_result"
    },
    {
     "data": {
      "image/png": "[encoded data removed]",
      "text/plain": [
       "<Figure size 432x288 with 1 Axes>"
      ]
     },
     "metadata": {
      "needs_background": "light"
     },
     "output_type": "display_data"
    }
   ],
   "source": [
    "sns.lineplot(x=x_axis, y=cumulative_rates_per_user)"
   ]
  },
  {
   "cell_type": "code",
   "execution_count": 16,
   "metadata": {
    "ExecuteTime": {
     "end_time": "2020-11-26T19:19:51.472340Z",
     "start_time": "2020-11-26T19:19:51.465587Z"
    }
   },
   "outputs": [],
   "source": [
    "def get_users_with_min_num_of_ratings_df(ratings_df, min_num_of_ratings):\n",
    "    rates_per_user = ratings_df.userId.value_counts()\n",
    "    bolean_users_with_min_num_of_ratings = ratings_df.userId.value_counts() >= min_num_of_ratings\n",
    "    users_with_min_num_of_ratings = rates_per_user[bolean_users_with_min_num_of_ratings].index\n",
    "    return ratings_df[ratings_df.userId.isin(users_with_min_num_of_ratings)].copy()"
   ]
  },
  {
   "cell_type": "code",
   "execution_count": 17,
   "metadata": {
    "ExecuteTime": {
     "end_time": "2020-11-26T19:19:52.354550Z",
     "start_time": "2020-11-26T19:19:51.475777Z"
    }
   },
   "outputs": [
    {
     "data": {
      "text/plain": [
       "Int64Index([107650,  57548,  72315, 123711, 162516,  89464,  20055, 143049,\n",
       "             92046,  30643,\n",
       "            ...\n",
       "              2500,  75849,  59125,  96795, 158420, 102901,  88165, 133984,\n",
       "             57576, 104889],\n",
       "           dtype='int64', length=19342)"
      ]
     },
     "execution_count": 17,
     "metadata": {},
     "output_type": "execute_result"
    }
   ],
   "source": [
    "bolean_users_rated_min_200 = ratings_top.userId.value_counts() >= 200\n",
    "users_rated_min_200 = rates_per_user[bolean_users_rated_min_200].index\n",
    "users_rated_min_200"
   ]
  },
  {
   "cell_type": "code",
   "execution_count": 18,
   "metadata": {
    "ExecuteTime": {
     "end_time": "2020-11-26T19:19:56.164454Z",
     "start_time": "2020-11-26T19:19:52.359129Z"
    }
   },
   "outputs": [
    {
     "data": {
      "text/html": [
       "<div>\n",
       "<style scoped>\n",
       "    .dataframe tbody tr th:only-of-type {\n",
       "        vertical-align: middle;\n",
       "    }\n",
       "\n",
       "    .dataframe tbody tr th {\n",
       "        vertical-align: top;\n",
       "    }\n",
       "\n",
       "    .dataframe thead th {\n",
       "        text-align: right;\n",
       "    }\n",
       "</style>\n",
       "<table border=\"1\" class=\"dataframe\">\n",
       "  <thead>\n",
       "    <tr style=\"text-align: right;\">\n",
       "      <th></th>\n",
       "      <th>userId</th>\n",
       "      <th>movieId</th>\n",
       "      <th>rating</th>\n",
       "      <th>timestamp</th>\n",
       "      <th>title</th>\n",
       "    </tr>\n",
       "  </thead>\n",
       "  <tbody>\n",
       "    <tr>\n",
       "      <th>1</th>\n",
       "      <td>3</td>\n",
       "      <td>296</td>\n",
       "      <td>5.0</td>\n",
       "      <td>1439474476</td>\n",
       "      <td>Pulp Fiction (1994)</td>\n",
       "    </tr>\n",
       "    <tr>\n",
       "      <th>7</th>\n",
       "      <td>12</td>\n",
       "      <td>296</td>\n",
       "      <td>5.0</td>\n",
       "      <td>1119354604</td>\n",
       "      <td>Pulp Fiction (1994)</td>\n",
       "    </tr>\n",
       "    <tr>\n",
       "      <th>8</th>\n",
       "      <td>13</td>\n",
       "      <td>296</td>\n",
       "      <td>5.0</td>\n",
       "      <td>1238029599</td>\n",
       "      <td>Pulp Fiction (1994)</td>\n",
       "    </tr>\n",
       "    <tr>\n",
       "      <th>12</th>\n",
       "      <td>19</td>\n",
       "      <td>296</td>\n",
       "      <td>3.5</td>\n",
       "      <td>1466674637</td>\n",
       "      <td>Pulp Fiction (1994)</td>\n",
       "    </tr>\n",
       "    <tr>\n",
       "      <th>14</th>\n",
       "      <td>23</td>\n",
       "      <td>296</td>\n",
       "      <td>5.0</td>\n",
       "      <td>942964550</td>\n",
       "      <td>Pulp Fiction (1994)</td>\n",
       "    </tr>\n",
       "    <tr>\n",
       "      <th>...</th>\n",
       "      <td>...</td>\n",
       "      <td>...</td>\n",
       "      <td>...</td>\n",
       "      <td>...</td>\n",
       "      <td>...</td>\n",
       "    </tr>\n",
       "    <tr>\n",
       "      <th>21613717</th>\n",
       "      <td>161939</td>\n",
       "      <td>204</td>\n",
       "      <td>4.0</td>\n",
       "      <td>974694915</td>\n",
       "      <td>Under Siege 2: Dark Territory (1995)</td>\n",
       "    </tr>\n",
       "    <tr>\n",
       "      <th>21613720</th>\n",
       "      <td>162007</td>\n",
       "      <td>204</td>\n",
       "      <td>2.0</td>\n",
       "      <td>975974775</td>\n",
       "      <td>Under Siege 2: Dark Territory (1995)</td>\n",
       "    </tr>\n",
       "    <tr>\n",
       "      <th>21613726</th>\n",
       "      <td>162047</td>\n",
       "      <td>204</td>\n",
       "      <td>2.5</td>\n",
       "      <td>1459091602</td>\n",
       "      <td>Under Siege 2: Dark Territory (1995)</td>\n",
       "    </tr>\n",
       "    <tr>\n",
       "      <th>21613731</th>\n",
       "      <td>162145</td>\n",
       "      <td>204</td>\n",
       "      <td>3.0</td>\n",
       "      <td>865099912</td>\n",
       "      <td>Under Siege 2: Dark Territory (1995)</td>\n",
       "    </tr>\n",
       "    <tr>\n",
       "      <th>21613745</th>\n",
       "      <td>162516</td>\n",
       "      <td>204</td>\n",
       "      <td>2.5</td>\n",
       "      <td>1175652894</td>\n",
       "      <td>Under Siege 2: Dark Territory (1995)</td>\n",
       "    </tr>\n",
       "  </tbody>\n",
       "</table>\n",
       "<p>6380581 rows × 5 columns</p>\n",
       "</div>"
      ],
      "text/plain": [
       "          userId  movieId  rating   timestamp  \\\n",
       "1              3      296     5.0  1439474476   \n",
       "7             12      296     5.0  1119354604   \n",
       "8             13      296     5.0  1238029599   \n",
       "12            19      296     3.5  1466674637   \n",
       "14            23      296     5.0   942964550   \n",
       "...          ...      ...     ...         ...   \n",
       "21613717  161939      204     4.0   974694915   \n",
       "21613720  162007      204     2.0   975974775   \n",
       "21613726  162047      204     2.5  1459091602   \n",
       "21613731  162145      204     3.0   865099912   \n",
       "21613745  162516      204     2.5  1175652894   \n",
       "\n",
       "                                         title  \n",
       "1                          Pulp Fiction (1994)  \n",
       "7                          Pulp Fiction (1994)  \n",
       "8                          Pulp Fiction (1994)  \n",
       "12                         Pulp Fiction (1994)  \n",
       "14                         Pulp Fiction (1994)  \n",
       "...                                        ...  \n",
       "21613717  Under Siege 2: Dark Territory (1995)  \n",
       "21613720  Under Siege 2: Dark Territory (1995)  \n",
       "21613726  Under Siege 2: Dark Territory (1995)  \n",
       "21613731  Under Siege 2: Dark Territory (1995)  \n",
       "21613745  Under Siege 2: Dark Territory (1995)  \n",
       "\n",
       "[6380581 rows x 5 columns]"
      ]
     },
     "execution_count": 18,
     "metadata": {},
     "output_type": "execute_result"
    }
   ],
   "source": [
    "ratings_top_users_top = get_users_with_min_num_of_ratings_df(ratings_top, 200)\n",
    "ratings_top_users_top"
   ]
  },
  {
   "cell_type": "code",
   "execution_count": 19,
   "metadata": {
    "ExecuteTime": {
     "end_time": "2020-11-26T19:20:09.786291Z",
     "start_time": "2020-11-26T19:19:56.168103Z"
    }
   },
   "outputs": [
    {
     "data": {
      "text/html": [
       "<div>\n",
       "<style scoped>\n",
       "    .dataframe tbody tr th:only-of-type {\n",
       "        vertical-align: middle;\n",
       "    }\n",
       "\n",
       "    .dataframe tbody tr th {\n",
       "        vertical-align: top;\n",
       "    }\n",
       "\n",
       "    .dataframe thead th {\n",
       "        text-align: right;\n",
       "    }\n",
       "</style>\n",
       "<table border=\"1\" class=\"dataframe\">\n",
       "  <thead>\n",
       "    <tr style=\"text-align: right;\">\n",
       "      <th>title</th>\n",
       "      <th>(500) Days of Summer (2009)</th>\n",
       "      <th>10 Things I Hate About You (1999)</th>\n",
       "      <th>101 Dalmatians (1996)</th>\n",
       "      <th>101 Dalmatians (One Hundred and One Dalmatians) (1961)</th>\n",
       "      <th>12 Angry Men (1957)</th>\n",
       "      <th>127 Hours (2010)</th>\n",
       "      <th>13th Warrior, The (1999)</th>\n",
       "      <th>2001: A Space Odyssey (1968)</th>\n",
       "      <th>21 Grams (2003)</th>\n",
       "      <th>21 Jump Street (2012)</th>\n",
       "      <th>...</th>\n",
       "      <th>X-Men: The Last Stand (2006)</th>\n",
       "      <th>X2: X-Men United (2003)</th>\n",
       "      <th>You've Got Mail (1998)</th>\n",
       "      <th>Young Frankenstein (1974)</th>\n",
       "      <th>Young Guns (1988)</th>\n",
       "      <th>Zodiac (2007)</th>\n",
       "      <th>Zombieland (2009)</th>\n",
       "      <th>Zoolander (2001)</th>\n",
       "      <th>Zootopia (2016)</th>\n",
       "      <th>¡Three Amigos! (1986)</th>\n",
       "    </tr>\n",
       "    <tr>\n",
       "      <th>userId</th>\n",
       "      <th></th>\n",
       "      <th></th>\n",
       "      <th></th>\n",
       "      <th></th>\n",
       "      <th></th>\n",
       "      <th></th>\n",
       "      <th></th>\n",
       "      <th></th>\n",
       "      <th></th>\n",
       "      <th></th>\n",
       "      <th></th>\n",
       "      <th></th>\n",
       "      <th></th>\n",
       "      <th></th>\n",
       "      <th></th>\n",
       "      <th></th>\n",
       "      <th></th>\n",
       "      <th></th>\n",
       "      <th></th>\n",
       "      <th></th>\n",
       "      <th></th>\n",
       "    </tr>\n",
       "  </thead>\n",
       "  <tbody>\n",
       "    <tr>\n",
       "      <th>1</th>\n",
       "      <td>NaN</td>\n",
       "      <td>NaN</td>\n",
       "      <td>NaN</td>\n",
       "      <td>NaN</td>\n",
       "      <td>NaN</td>\n",
       "      <td>NaN</td>\n",
       "      <td>NaN</td>\n",
       "      <td>NaN</td>\n",
       "      <td>NaN</td>\n",
       "      <td>NaN</td>\n",
       "      <td>...</td>\n",
       "      <td>NaN</td>\n",
       "      <td>NaN</td>\n",
       "      <td>NaN</td>\n",
       "      <td>NaN</td>\n",
       "      <td>NaN</td>\n",
       "      <td>NaN</td>\n",
       "      <td>NaN</td>\n",
       "      <td>NaN</td>\n",
       "      <td>NaN</td>\n",
       "      <td>NaN</td>\n",
       "    </tr>\n",
       "    <tr>\n",
       "      <th>2</th>\n",
       "      <td>NaN</td>\n",
       "      <td>NaN</td>\n",
       "      <td>NaN</td>\n",
       "      <td>NaN</td>\n",
       "      <td>NaN</td>\n",
       "      <td>NaN</td>\n",
       "      <td>NaN</td>\n",
       "      <td>NaN</td>\n",
       "      <td>NaN</td>\n",
       "      <td>NaN</td>\n",
       "      <td>...</td>\n",
       "      <td>NaN</td>\n",
       "      <td>5.0</td>\n",
       "      <td>NaN</td>\n",
       "      <td>NaN</td>\n",
       "      <td>NaN</td>\n",
       "      <td>NaN</td>\n",
       "      <td>NaN</td>\n",
       "      <td>NaN</td>\n",
       "      <td>NaN</td>\n",
       "      <td>NaN</td>\n",
       "    </tr>\n",
       "    <tr>\n",
       "      <th>3</th>\n",
       "      <td>NaN</td>\n",
       "      <td>NaN</td>\n",
       "      <td>NaN</td>\n",
       "      <td>NaN</td>\n",
       "      <td>NaN</td>\n",
       "      <td>NaN</td>\n",
       "      <td>NaN</td>\n",
       "      <td>5.0</td>\n",
       "      <td>NaN</td>\n",
       "      <td>NaN</td>\n",
       "      <td>...</td>\n",
       "      <td>4.0</td>\n",
       "      <td>4.0</td>\n",
       "      <td>NaN</td>\n",
       "      <td>NaN</td>\n",
       "      <td>NaN</td>\n",
       "      <td>NaN</td>\n",
       "      <td>4.0</td>\n",
       "      <td>3.5</td>\n",
       "      <td>NaN</td>\n",
       "      <td>NaN</td>\n",
       "    </tr>\n",
       "    <tr>\n",
       "      <th>4</th>\n",
       "      <td>NaN</td>\n",
       "      <td>NaN</td>\n",
       "      <td>NaN</td>\n",
       "      <td>NaN</td>\n",
       "      <td>NaN</td>\n",
       "      <td>NaN</td>\n",
       "      <td>NaN</td>\n",
       "      <td>4.0</td>\n",
       "      <td>NaN</td>\n",
       "      <td>4.0</td>\n",
       "      <td>...</td>\n",
       "      <td>NaN</td>\n",
       "      <td>NaN</td>\n",
       "      <td>NaN</td>\n",
       "      <td>4.0</td>\n",
       "      <td>NaN</td>\n",
       "      <td>NaN</td>\n",
       "      <td>NaN</td>\n",
       "      <td>4.0</td>\n",
       "      <td>4.5</td>\n",
       "      <td>NaN</td>\n",
       "    </tr>\n",
       "    <tr>\n",
       "      <th>5</th>\n",
       "      <td>NaN</td>\n",
       "      <td>NaN</td>\n",
       "      <td>NaN</td>\n",
       "      <td>NaN</td>\n",
       "      <td>NaN</td>\n",
       "      <td>NaN</td>\n",
       "      <td>NaN</td>\n",
       "      <td>NaN</td>\n",
       "      <td>NaN</td>\n",
       "      <td>NaN</td>\n",
       "      <td>...</td>\n",
       "      <td>NaN</td>\n",
       "      <td>NaN</td>\n",
       "      <td>NaN</td>\n",
       "      <td>NaN</td>\n",
       "      <td>NaN</td>\n",
       "      <td>NaN</td>\n",
       "      <td>NaN</td>\n",
       "      <td>NaN</td>\n",
       "      <td>NaN</td>\n",
       "      <td>NaN</td>\n",
       "    </tr>\n",
       "    <tr>\n",
       "      <th>...</th>\n",
       "      <td>...</td>\n",
       "      <td>...</td>\n",
       "      <td>...</td>\n",
       "      <td>...</td>\n",
       "      <td>...</td>\n",
       "      <td>...</td>\n",
       "      <td>...</td>\n",
       "      <td>...</td>\n",
       "      <td>...</td>\n",
       "      <td>...</td>\n",
       "      <td>...</td>\n",
       "      <td>...</td>\n",
       "      <td>...</td>\n",
       "      <td>...</td>\n",
       "      <td>...</td>\n",
       "      <td>...</td>\n",
       "      <td>...</td>\n",
       "      <td>...</td>\n",
       "      <td>...</td>\n",
       "      <td>...</td>\n",
       "      <td>...</td>\n",
       "    </tr>\n",
       "    <tr>\n",
       "      <th>162537</th>\n",
       "      <td>NaN</td>\n",
       "      <td>NaN</td>\n",
       "      <td>NaN</td>\n",
       "      <td>NaN</td>\n",
       "      <td>NaN</td>\n",
       "      <td>NaN</td>\n",
       "      <td>NaN</td>\n",
       "      <td>NaN</td>\n",
       "      <td>NaN</td>\n",
       "      <td>NaN</td>\n",
       "      <td>...</td>\n",
       "      <td>NaN</td>\n",
       "      <td>NaN</td>\n",
       "      <td>NaN</td>\n",
       "      <td>NaN</td>\n",
       "      <td>NaN</td>\n",
       "      <td>NaN</td>\n",
       "      <td>NaN</td>\n",
       "      <td>NaN</td>\n",
       "      <td>NaN</td>\n",
       "      <td>NaN</td>\n",
       "    </tr>\n",
       "    <tr>\n",
       "      <th>162538</th>\n",
       "      <td>4.5</td>\n",
       "      <td>4.5</td>\n",
       "      <td>NaN</td>\n",
       "      <td>NaN</td>\n",
       "      <td>NaN</td>\n",
       "      <td>NaN</td>\n",
       "      <td>NaN</td>\n",
       "      <td>NaN</td>\n",
       "      <td>NaN</td>\n",
       "      <td>4.5</td>\n",
       "      <td>...</td>\n",
       "      <td>NaN</td>\n",
       "      <td>NaN</td>\n",
       "      <td>NaN</td>\n",
       "      <td>NaN</td>\n",
       "      <td>NaN</td>\n",
       "      <td>NaN</td>\n",
       "      <td>NaN</td>\n",
       "      <td>NaN</td>\n",
       "      <td>NaN</td>\n",
       "      <td>NaN</td>\n",
       "    </tr>\n",
       "    <tr>\n",
       "      <th>162539</th>\n",
       "      <td>NaN</td>\n",
       "      <td>NaN</td>\n",
       "      <td>NaN</td>\n",
       "      <td>NaN</td>\n",
       "      <td>NaN</td>\n",
       "      <td>NaN</td>\n",
       "      <td>NaN</td>\n",
       "      <td>NaN</td>\n",
       "      <td>NaN</td>\n",
       "      <td>NaN</td>\n",
       "      <td>...</td>\n",
       "      <td>NaN</td>\n",
       "      <td>NaN</td>\n",
       "      <td>NaN</td>\n",
       "      <td>NaN</td>\n",
       "      <td>NaN</td>\n",
       "      <td>NaN</td>\n",
       "      <td>NaN</td>\n",
       "      <td>NaN</td>\n",
       "      <td>NaN</td>\n",
       "      <td>NaN</td>\n",
       "    </tr>\n",
       "    <tr>\n",
       "      <th>162540</th>\n",
       "      <td>NaN</td>\n",
       "      <td>NaN</td>\n",
       "      <td>3.0</td>\n",
       "      <td>NaN</td>\n",
       "      <td>NaN</td>\n",
       "      <td>NaN</td>\n",
       "      <td>NaN</td>\n",
       "      <td>NaN</td>\n",
       "      <td>NaN</td>\n",
       "      <td>NaN</td>\n",
       "      <td>...</td>\n",
       "      <td>NaN</td>\n",
       "      <td>NaN</td>\n",
       "      <td>NaN</td>\n",
       "      <td>NaN</td>\n",
       "      <td>NaN</td>\n",
       "      <td>NaN</td>\n",
       "      <td>NaN</td>\n",
       "      <td>NaN</td>\n",
       "      <td>NaN</td>\n",
       "      <td>NaN</td>\n",
       "    </tr>\n",
       "    <tr>\n",
       "      <th>162541</th>\n",
       "      <td>NaN</td>\n",
       "      <td>NaN</td>\n",
       "      <td>3.0</td>\n",
       "      <td>NaN</td>\n",
       "      <td>NaN</td>\n",
       "      <td>NaN</td>\n",
       "      <td>NaN</td>\n",
       "      <td>3.0</td>\n",
       "      <td>NaN</td>\n",
       "      <td>NaN</td>\n",
       "      <td>...</td>\n",
       "      <td>NaN</td>\n",
       "      <td>NaN</td>\n",
       "      <td>NaN</td>\n",
       "      <td>NaN</td>\n",
       "      <td>NaN</td>\n",
       "      <td>NaN</td>\n",
       "      <td>NaN</td>\n",
       "      <td>NaN</td>\n",
       "      <td>NaN</td>\n",
       "      <td>NaN</td>\n",
       "    </tr>\n",
       "  </tbody>\n",
       "</table>\n",
       "<p>162506 rows × 1000 columns</p>\n",
       "</div>"
      ],
      "text/plain": [
       "title   (500) Days of Summer (2009)  10 Things I Hate About You (1999)  \\\n",
       "userId                                                                   \n",
       "1                               NaN                                NaN   \n",
       "2                               NaN                                NaN   \n",
       "3                               NaN                                NaN   \n",
       "4                               NaN                                NaN   \n",
       "5                               NaN                                NaN   \n",
       "...                             ...                                ...   \n",
       "162537                          NaN                                NaN   \n",
       "162538                          4.5                                4.5   \n",
       "162539                          NaN                                NaN   \n",
       "162540                          NaN                                NaN   \n",
       "162541                          NaN                                NaN   \n",
       "\n",
       "title   101 Dalmatians (1996)  \\\n",
       "userId                          \n",
       "1                         NaN   \n",
       "2                         NaN   \n",
       "3                         NaN   \n",
       "4                         NaN   \n",
       "5                         NaN   \n",
       "...                       ...   \n",
       "162537                    NaN   \n",
       "162538                    NaN   \n",
       "162539                    NaN   \n",
       "162540                    3.0   \n",
       "162541                    3.0   \n",
       "\n",
       "title   101 Dalmatians (One Hundred and One Dalmatians) (1961)  \\\n",
       "userId                                                           \n",
       "1                                                     NaN        \n",
       "2                                                     NaN        \n",
       "3                                                     NaN        \n",
       "4                                                     NaN        \n",
       "5                                                     NaN        \n",
       "...                                                   ...        \n",
       "162537                                                NaN        \n",
       "162538                                                NaN        \n",
       "162539                                                NaN        \n",
       "162540                                                NaN        \n",
       "162541                                                NaN        \n",
       "\n",
       "title   12 Angry Men (1957)  127 Hours (2010)  13th Warrior, The (1999)  \\\n",
       "userId                                                                    \n",
       "1                       NaN               NaN                       NaN   \n",
       "2                       NaN               NaN                       NaN   \n",
       "3                       NaN               NaN                       NaN   \n",
       "4                       NaN               NaN                       NaN   \n",
       "5                       NaN               NaN                       NaN   \n",
       "...                     ...               ...                       ...   \n",
       "162537                  NaN               NaN                       NaN   \n",
       "162538                  NaN               NaN                       NaN   \n",
       "162539                  NaN               NaN                       NaN   \n",
       "162540                  NaN               NaN                       NaN   \n",
       "162541                  NaN               NaN                       NaN   \n",
       "\n",
       "title   2001: A Space Odyssey (1968)  21 Grams (2003)  21 Jump Street (2012)  \\\n",
       "userId                                                                         \n",
       "1                                NaN              NaN                    NaN   \n",
       "2                                NaN              NaN                    NaN   \n",
       "3                                5.0              NaN                    NaN   \n",
       "4                                4.0              NaN                    4.0   \n",
       "5                                NaN              NaN                    NaN   \n",
       "...                              ...              ...                    ...   \n",
       "162537                           NaN              NaN                    NaN   \n",
       "162538                           NaN              NaN                    4.5   \n",
       "162539                           NaN              NaN                    NaN   \n",
       "162540                           NaN              NaN                    NaN   \n",
       "162541                           3.0              NaN                    NaN   \n",
       "\n",
       "title   ...  X-Men: The Last Stand (2006)  X2: X-Men United (2003)  \\\n",
       "userId  ...                                                          \n",
       "1       ...                           NaN                      NaN   \n",
       "2       ...                           NaN                      5.0   \n",
       "3       ...                           4.0                      4.0   \n",
       "4       ...                           NaN                      NaN   \n",
       "5       ...                           NaN                      NaN   \n",
       "...     ...                           ...                      ...   \n",
       "162537  ...                           NaN                      NaN   \n",
       "162538  ...                           NaN                      NaN   \n",
       "162539  ...                           NaN                      NaN   \n",
       "162540  ...                           NaN                      NaN   \n",
       "162541  ...                           NaN                      NaN   \n",
       "\n",
       "title   You've Got Mail (1998)  Young Frankenstein (1974)  Young Guns (1988)  \\\n",
       "userId                                                                         \n",
       "1                          NaN                        NaN                NaN   \n",
       "2                          NaN                        NaN                NaN   \n",
       "3                          NaN                        NaN                NaN   \n",
       "4                          NaN                        4.0                NaN   \n",
       "5                          NaN                        NaN                NaN   \n",
       "...                        ...                        ...                ...   \n",
       "162537                     NaN                        NaN                NaN   \n",
       "162538                     NaN                        NaN                NaN   \n",
       "162539                     NaN                        NaN                NaN   \n",
       "162540                     NaN                        NaN                NaN   \n",
       "162541                     NaN                        NaN                NaN   \n",
       "\n",
       "title   Zodiac (2007)  Zombieland (2009)  Zoolander (2001)  Zootopia (2016)  \\\n",
       "userId                                                                        \n",
       "1                 NaN                NaN               NaN              NaN   \n",
       "2                 NaN                NaN               NaN              NaN   \n",
       "3                 NaN                4.0               3.5              NaN   \n",
       "4                 NaN                NaN               4.0              4.5   \n",
       "5                 NaN                NaN               NaN              NaN   \n",
       "...               ...                ...               ...              ...   \n",
       "162537            NaN                NaN               NaN              NaN   \n",
       "162538            NaN                NaN               NaN              NaN   \n",
       "162539            NaN                NaN               NaN              NaN   \n",
       "162540            NaN                NaN               NaN              NaN   \n",
       "162541            NaN                NaN               NaN              NaN   \n",
       "\n",
       "title   ¡Three Amigos! (1986)  \n",
       "userId                         \n",
       "1                         NaN  \n",
       "2                         NaN  \n",
       "3                         NaN  \n",
       "4                         NaN  \n",
       "5                         NaN  \n",
       "...                       ...  \n",
       "162537                    NaN  \n",
       "162538                    NaN  \n",
       "162539                    NaN  \n",
       "162540                    NaN  \n",
       "162541                    NaN  \n",
       "\n",
       "[162506 rows x 1000 columns]"
      ]
     },
     "execution_count": 19,
     "metadata": {},
     "output_type": "execute_result"
    }
   ],
   "source": [
    "df_ratings_top = ratings_top.pivot(index='userId', columns='title', values='rating')\n",
    "df_ratings_top"
   ]
  },
  {
   "cell_type": "code",
   "execution_count": 20,
   "metadata": {
    "ExecuteTime": {
     "end_time": "2020-11-26T19:20:14.110635Z",
     "start_time": "2020-11-26T19:20:09.791181Z"
    }
   },
   "outputs": [
    {
     "data": {
      "text/html": [
       "<div>\n",
       "<style scoped>\n",
       "    .dataframe tbody tr th:only-of-type {\n",
       "        vertical-align: middle;\n",
       "    }\n",
       "\n",
       "    .dataframe tbody tr th {\n",
       "        vertical-align: top;\n",
       "    }\n",
       "\n",
       "    .dataframe thead th {\n",
       "        text-align: right;\n",
       "    }\n",
       "</style>\n",
       "<table border=\"1\" class=\"dataframe\">\n",
       "  <thead>\n",
       "    <tr style=\"text-align: right;\">\n",
       "      <th>title</th>\n",
       "      <th>(500) Days of Summer (2009)</th>\n",
       "      <th>10 Things I Hate About You (1999)</th>\n",
       "      <th>101 Dalmatians (1996)</th>\n",
       "      <th>101 Dalmatians (One Hundred and One Dalmatians) (1961)</th>\n",
       "      <th>12 Angry Men (1957)</th>\n",
       "      <th>127 Hours (2010)</th>\n",
       "      <th>13th Warrior, The (1999)</th>\n",
       "      <th>2001: A Space Odyssey (1968)</th>\n",
       "      <th>21 Grams (2003)</th>\n",
       "      <th>21 Jump Street (2012)</th>\n",
       "      <th>...</th>\n",
       "      <th>X-Men: The Last Stand (2006)</th>\n",
       "      <th>X2: X-Men United (2003)</th>\n",
       "      <th>You've Got Mail (1998)</th>\n",
       "      <th>Young Frankenstein (1974)</th>\n",
       "      <th>Young Guns (1988)</th>\n",
       "      <th>Zodiac (2007)</th>\n",
       "      <th>Zombieland (2009)</th>\n",
       "      <th>Zoolander (2001)</th>\n",
       "      <th>Zootopia (2016)</th>\n",
       "      <th>¡Three Amigos! (1986)</th>\n",
       "    </tr>\n",
       "    <tr>\n",
       "      <th>userId</th>\n",
       "      <th></th>\n",
       "      <th></th>\n",
       "      <th></th>\n",
       "      <th></th>\n",
       "      <th></th>\n",
       "      <th></th>\n",
       "      <th></th>\n",
       "      <th></th>\n",
       "      <th></th>\n",
       "      <th></th>\n",
       "      <th></th>\n",
       "      <th></th>\n",
       "      <th></th>\n",
       "      <th></th>\n",
       "      <th></th>\n",
       "      <th></th>\n",
       "      <th></th>\n",
       "      <th></th>\n",
       "      <th></th>\n",
       "      <th></th>\n",
       "      <th></th>\n",
       "    </tr>\n",
       "  </thead>\n",
       "  <tbody>\n",
       "    <tr>\n",
       "      <th>3</th>\n",
       "      <td>NaN</td>\n",
       "      <td>NaN</td>\n",
       "      <td>NaN</td>\n",
       "      <td>NaN</td>\n",
       "      <td>NaN</td>\n",
       "      <td>NaN</td>\n",
       "      <td>NaN</td>\n",
       "      <td>5.0</td>\n",
       "      <td>NaN</td>\n",
       "      <td>NaN</td>\n",
       "      <td>...</td>\n",
       "      <td>4.0</td>\n",
       "      <td>4.0</td>\n",
       "      <td>NaN</td>\n",
       "      <td>NaN</td>\n",
       "      <td>NaN</td>\n",
       "      <td>NaN</td>\n",
       "      <td>4.0</td>\n",
       "      <td>3.5</td>\n",
       "      <td>NaN</td>\n",
       "      <td>NaN</td>\n",
       "    </tr>\n",
       "    <tr>\n",
       "      <th>12</th>\n",
       "      <td>3.0</td>\n",
       "      <td>3.0</td>\n",
       "      <td>1.0</td>\n",
       "      <td>NaN</td>\n",
       "      <td>NaN</td>\n",
       "      <td>NaN</td>\n",
       "      <td>NaN</td>\n",
       "      <td>NaN</td>\n",
       "      <td>NaN</td>\n",
       "      <td>NaN</td>\n",
       "      <td>...</td>\n",
       "      <td>NaN</td>\n",
       "      <td>NaN</td>\n",
       "      <td>2.0</td>\n",
       "      <td>NaN</td>\n",
       "      <td>4.0</td>\n",
       "      <td>NaN</td>\n",
       "      <td>NaN</td>\n",
       "      <td>NaN</td>\n",
       "      <td>NaN</td>\n",
       "      <td>3.5</td>\n",
       "    </tr>\n",
       "    <tr>\n",
       "      <th>13</th>\n",
       "      <td>NaN</td>\n",
       "      <td>NaN</td>\n",
       "      <td>NaN</td>\n",
       "      <td>NaN</td>\n",
       "      <td>NaN</td>\n",
       "      <td>NaN</td>\n",
       "      <td>3.5</td>\n",
       "      <td>3.5</td>\n",
       "      <td>NaN</td>\n",
       "      <td>NaN</td>\n",
       "      <td>...</td>\n",
       "      <td>3.0</td>\n",
       "      <td>3.5</td>\n",
       "      <td>NaN</td>\n",
       "      <td>5.0</td>\n",
       "      <td>3.5</td>\n",
       "      <td>NaN</td>\n",
       "      <td>4.0</td>\n",
       "      <td>3.5</td>\n",
       "      <td>NaN</td>\n",
       "      <td>NaN</td>\n",
       "    </tr>\n",
       "    <tr>\n",
       "      <th>19</th>\n",
       "      <td>NaN</td>\n",
       "      <td>NaN</td>\n",
       "      <td>2.5</td>\n",
       "      <td>NaN</td>\n",
       "      <td>NaN</td>\n",
       "      <td>NaN</td>\n",
       "      <td>NaN</td>\n",
       "      <td>5.0</td>\n",
       "      <td>NaN</td>\n",
       "      <td>NaN</td>\n",
       "      <td>...</td>\n",
       "      <td>2.0</td>\n",
       "      <td>3.0</td>\n",
       "      <td>NaN</td>\n",
       "      <td>NaN</td>\n",
       "      <td>NaN</td>\n",
       "      <td>NaN</td>\n",
       "      <td>NaN</td>\n",
       "      <td>NaN</td>\n",
       "      <td>3.5</td>\n",
       "      <td>NaN</td>\n",
       "    </tr>\n",
       "    <tr>\n",
       "      <th>23</th>\n",
       "      <td>NaN</td>\n",
       "      <td>NaN</td>\n",
       "      <td>NaN</td>\n",
       "      <td>NaN</td>\n",
       "      <td>5.0</td>\n",
       "      <td>NaN</td>\n",
       "      <td>NaN</td>\n",
       "      <td>4.0</td>\n",
       "      <td>NaN</td>\n",
       "      <td>NaN</td>\n",
       "      <td>...</td>\n",
       "      <td>NaN</td>\n",
       "      <td>NaN</td>\n",
       "      <td>NaN</td>\n",
       "      <td>NaN</td>\n",
       "      <td>NaN</td>\n",
       "      <td>NaN</td>\n",
       "      <td>NaN</td>\n",
       "      <td>NaN</td>\n",
       "      <td>NaN</td>\n",
       "      <td>NaN</td>\n",
       "    </tr>\n",
       "    <tr>\n",
       "      <th>...</th>\n",
       "      <td>...</td>\n",
       "      <td>...</td>\n",
       "      <td>...</td>\n",
       "      <td>...</td>\n",
       "      <td>...</td>\n",
       "      <td>...</td>\n",
       "      <td>...</td>\n",
       "      <td>...</td>\n",
       "      <td>...</td>\n",
       "      <td>...</td>\n",
       "      <td>...</td>\n",
       "      <td>...</td>\n",
       "      <td>...</td>\n",
       "      <td>...</td>\n",
       "      <td>...</td>\n",
       "      <td>...</td>\n",
       "      <td>...</td>\n",
       "      <td>...</td>\n",
       "      <td>...</td>\n",
       "      <td>...</td>\n",
       "      <td>...</td>\n",
       "    </tr>\n",
       "    <tr>\n",
       "      <th>162519</th>\n",
       "      <td>NaN</td>\n",
       "      <td>NaN</td>\n",
       "      <td>NaN</td>\n",
       "      <td>3.0</td>\n",
       "      <td>NaN</td>\n",
       "      <td>NaN</td>\n",
       "      <td>2.0</td>\n",
       "      <td>5.0</td>\n",
       "      <td>NaN</td>\n",
       "      <td>NaN</td>\n",
       "      <td>...</td>\n",
       "      <td>NaN</td>\n",
       "      <td>NaN</td>\n",
       "      <td>NaN</td>\n",
       "      <td>3.0</td>\n",
       "      <td>NaN</td>\n",
       "      <td>NaN</td>\n",
       "      <td>NaN</td>\n",
       "      <td>NaN</td>\n",
       "      <td>NaN</td>\n",
       "      <td>NaN</td>\n",
       "    </tr>\n",
       "    <tr>\n",
       "      <th>162521</th>\n",
       "      <td>NaN</td>\n",
       "      <td>NaN</td>\n",
       "      <td>NaN</td>\n",
       "      <td>NaN</td>\n",
       "      <td>NaN</td>\n",
       "      <td>NaN</td>\n",
       "      <td>4.5</td>\n",
       "      <td>4.0</td>\n",
       "      <td>NaN</td>\n",
       "      <td>NaN</td>\n",
       "      <td>...</td>\n",
       "      <td>4.0</td>\n",
       "      <td>4.0</td>\n",
       "      <td>NaN</td>\n",
       "      <td>NaN</td>\n",
       "      <td>NaN</td>\n",
       "      <td>NaN</td>\n",
       "      <td>4.5</td>\n",
       "      <td>2.5</td>\n",
       "      <td>NaN</td>\n",
       "      <td>NaN</td>\n",
       "    </tr>\n",
       "    <tr>\n",
       "      <th>162529</th>\n",
       "      <td>NaN</td>\n",
       "      <td>NaN</td>\n",
       "      <td>NaN</td>\n",
       "      <td>NaN</td>\n",
       "      <td>NaN</td>\n",
       "      <td>NaN</td>\n",
       "      <td>NaN</td>\n",
       "      <td>5.0</td>\n",
       "      <td>NaN</td>\n",
       "      <td>NaN</td>\n",
       "      <td>...</td>\n",
       "      <td>NaN</td>\n",
       "      <td>NaN</td>\n",
       "      <td>NaN</td>\n",
       "      <td>5.0</td>\n",
       "      <td>3.0</td>\n",
       "      <td>NaN</td>\n",
       "      <td>NaN</td>\n",
       "      <td>NaN</td>\n",
       "      <td>NaN</td>\n",
       "      <td>NaN</td>\n",
       "    </tr>\n",
       "    <tr>\n",
       "      <th>162533</th>\n",
       "      <td>NaN</td>\n",
       "      <td>2.5</td>\n",
       "      <td>NaN</td>\n",
       "      <td>NaN</td>\n",
       "      <td>NaN</td>\n",
       "      <td>3.5</td>\n",
       "      <td>NaN</td>\n",
       "      <td>NaN</td>\n",
       "      <td>3.5</td>\n",
       "      <td>NaN</td>\n",
       "      <td>...</td>\n",
       "      <td>NaN</td>\n",
       "      <td>3.5</td>\n",
       "      <td>NaN</td>\n",
       "      <td>NaN</td>\n",
       "      <td>NaN</td>\n",
       "      <td>3.5</td>\n",
       "      <td>3.5</td>\n",
       "      <td>NaN</td>\n",
       "      <td>NaN</td>\n",
       "      <td>NaN</td>\n",
       "    </tr>\n",
       "    <tr>\n",
       "      <th>162534</th>\n",
       "      <td>NaN</td>\n",
       "      <td>NaN</td>\n",
       "      <td>NaN</td>\n",
       "      <td>NaN</td>\n",
       "      <td>4.5</td>\n",
       "      <td>NaN</td>\n",
       "      <td>NaN</td>\n",
       "      <td>5.0</td>\n",
       "      <td>3.5</td>\n",
       "      <td>NaN</td>\n",
       "      <td>...</td>\n",
       "      <td>NaN</td>\n",
       "      <td>NaN</td>\n",
       "      <td>NaN</td>\n",
       "      <td>4.0</td>\n",
       "      <td>NaN</td>\n",
       "      <td>3.0</td>\n",
       "      <td>NaN</td>\n",
       "      <td>3.0</td>\n",
       "      <td>2.5</td>\n",
       "      <td>NaN</td>\n",
       "    </tr>\n",
       "  </tbody>\n",
       "</table>\n",
       "<p>19342 rows × 1000 columns</p>\n",
       "</div>"
      ],
      "text/plain": [
       "title   (500) Days of Summer (2009)  10 Things I Hate About You (1999)  \\\n",
       "userId                                                                   \n",
       "3                               NaN                                NaN   \n",
       "12                              3.0                                3.0   \n",
       "13                              NaN                                NaN   \n",
       "19                              NaN                                NaN   \n",
       "23                              NaN                                NaN   \n",
       "...                             ...                                ...   \n",
       "162519                          NaN                                NaN   \n",
       "162521                          NaN                                NaN   \n",
       "162529                          NaN                                NaN   \n",
       "162533                          NaN                                2.5   \n",
       "162534                          NaN                                NaN   \n",
       "\n",
       "title   101 Dalmatians (1996)  \\\n",
       "userId                          \n",
       "3                         NaN   \n",
       "12                        1.0   \n",
       "13                        NaN   \n",
       "19                        2.5   \n",
       "23                        NaN   \n",
       "...                       ...   \n",
       "162519                    NaN   \n",
       "162521                    NaN   \n",
       "162529                    NaN   \n",
       "162533                    NaN   \n",
       "162534                    NaN   \n",
       "\n",
       "title   101 Dalmatians (One Hundred and One Dalmatians) (1961)  \\\n",
       "userId                                                           \n",
       "3                                                     NaN        \n",
       "12                                                    NaN        \n",
       "13                                                    NaN        \n",
       "19                                                    NaN        \n",
       "23                                                    NaN        \n",
       "...                                                   ...        \n",
       "162519                                                3.0        \n",
       "162521                                                NaN        \n",
       "162529                                                NaN        \n",
       "162533                                                NaN        \n",
       "162534                                                NaN        \n",
       "\n",
       "title   12 Angry Men (1957)  127 Hours (2010)  13th Warrior, The (1999)  \\\n",
       "userId                                                                    \n",
       "3                       NaN               NaN                       NaN   \n",
       "12                      NaN               NaN                       NaN   \n",
       "13                      NaN               NaN                       3.5   \n",
       "19                      NaN               NaN                       NaN   \n",
       "23                      5.0               NaN                       NaN   \n",
       "...                     ...               ...                       ...   \n",
       "162519                  NaN               NaN                       2.0   \n",
       "162521                  NaN               NaN                       4.5   \n",
       "162529                  NaN               NaN                       NaN   \n",
       "162533                  NaN               3.5                       NaN   \n",
       "162534                  4.5               NaN                       NaN   \n",
       "\n",
       "title   2001: A Space Odyssey (1968)  21 Grams (2003)  21 Jump Street (2012)  \\\n",
       "userId                                                                         \n",
       "3                                5.0              NaN                    NaN   \n",
       "12                               NaN              NaN                    NaN   \n",
       "13                               3.5              NaN                    NaN   \n",
       "19                               5.0              NaN                    NaN   \n",
       "23                               4.0              NaN                    NaN   \n",
       "...                              ...              ...                    ...   \n",
       "162519                           5.0              NaN                    NaN   \n",
       "162521                           4.0              NaN                    NaN   \n",
       "162529                           5.0              NaN                    NaN   \n",
       "162533                           NaN              3.5                    NaN   \n",
       "162534                           5.0              3.5                    NaN   \n",
       "\n",
       "title   ...  X-Men: The Last Stand (2006)  X2: X-Men United (2003)  \\\n",
       "userId  ...                                                          \n",
       "3       ...                           4.0                      4.0   \n",
       "12      ...                           NaN                      NaN   \n",
       "13      ...                           3.0                      3.5   \n",
       "19      ...                           2.0                      3.0   \n",
       "23      ...                           NaN                      NaN   \n",
       "...     ...                           ...                      ...   \n",
       "162519  ...                           NaN                      NaN   \n",
       "162521  ...                           4.0                      4.0   \n",
       "162529  ...                           NaN                      NaN   \n",
       "162533  ...                           NaN                      3.5   \n",
       "162534  ...                           NaN                      NaN   \n",
       "\n",
       "title   You've Got Mail (1998)  Young Frankenstein (1974)  Young Guns (1988)  \\\n",
       "userId                                                                         \n",
       "3                          NaN                        NaN                NaN   \n",
       "12                         2.0                        NaN                4.0   \n",
       "13                         NaN                        5.0                3.5   \n",
       "19                         NaN                        NaN                NaN   \n",
       "23                         NaN                        NaN                NaN   \n",
       "...                        ...                        ...                ...   \n",
       "162519                     NaN                        3.0                NaN   \n",
       "162521                     NaN                        NaN                NaN   \n",
       "162529                     NaN                        5.0                3.0   \n",
       "162533                     NaN                        NaN                NaN   \n",
       "162534                     NaN                        4.0                NaN   \n",
       "\n",
       "title   Zodiac (2007)  Zombieland (2009)  Zoolander (2001)  Zootopia (2016)  \\\n",
       "userId                                                                        \n",
       "3                 NaN                4.0               3.5              NaN   \n",
       "12                NaN                NaN               NaN              NaN   \n",
       "13                NaN                4.0               3.5              NaN   \n",
       "19                NaN                NaN               NaN              3.5   \n",
       "23                NaN                NaN               NaN              NaN   \n",
       "...               ...                ...               ...              ...   \n",
       "162519            NaN                NaN               NaN              NaN   \n",
       "162521            NaN                4.5               2.5              NaN   \n",
       "162529            NaN                NaN               NaN              NaN   \n",
       "162533            3.5                3.5               NaN              NaN   \n",
       "162534            3.0                NaN               3.0              2.5   \n",
       "\n",
       "title   ¡Three Amigos! (1986)  \n",
       "userId                         \n",
       "3                         NaN  \n",
       "12                        3.5  \n",
       "13                        NaN  \n",
       "19                        NaN  \n",
       "23                        NaN  \n",
       "...                       ...  \n",
       "162519                    NaN  \n",
       "162521                    NaN  \n",
       "162529                    NaN  \n",
       "162533                    NaN  \n",
       "162534                    NaN  \n",
       "\n",
       "[19342 rows x 1000 columns]"
      ]
     },
     "execution_count": 20,
     "metadata": {},
     "output_type": "execute_result"
    }
   ],
   "source": [
    "df = ratings_top_users_top.pivot(index='userId', columns='title', values='rating')\n",
    "df"
   ]
  },
  {
   "cell_type": "code",
   "execution_count": 25,
   "metadata": {
    "ExecuteTime": {
     "end_time": "2020-11-26T19:25:45.926328Z",
     "start_time": "2020-11-26T19:25:45.922980Z"
    }
   },
   "outputs": [],
   "source": [
    "# df = ratings_top_users_top.pivot(index='userId', columns='movieId', values='rating')\n",
    "# df"
   ]
  },
  {
   "cell_type": "code",
   "execution_count": 26,
   "metadata": {
    "ExecuteTime": {
     "end_time": "2020-11-26T19:25:49.441756Z",
     "start_time": "2020-11-26T19:25:47.355727Z"
    }
   },
   "outputs": [
    {
     "data": {
      "text/html": [
       "<div>\n",
       "<style scoped>\n",
       "    .dataframe tbody tr th:only-of-type {\n",
       "        vertical-align: middle;\n",
       "    }\n",
       "\n",
       "    .dataframe tbody tr th {\n",
       "        vertical-align: top;\n",
       "    }\n",
       "\n",
       "    .dataframe thead th {\n",
       "        text-align: right;\n",
       "    }\n",
       "</style>\n",
       "<table border=\"1\" class=\"dataframe\">\n",
       "  <thead>\n",
       "    <tr style=\"text-align: right;\">\n",
       "      <th>title</th>\n",
       "      <th>(500) Days of Summer (2009)</th>\n",
       "      <th>10 Things I Hate About You (1999)</th>\n",
       "      <th>101 Dalmatians (1996)</th>\n",
       "      <th>101 Dalmatians (One Hundred and One Dalmatians) (1961)</th>\n",
       "      <th>12 Angry Men (1957)</th>\n",
       "      <th>127 Hours (2010)</th>\n",
       "      <th>13th Warrior, The (1999)</th>\n",
       "      <th>2001: A Space Odyssey (1968)</th>\n",
       "      <th>21 Grams (2003)</th>\n",
       "      <th>21 Jump Street (2012)</th>\n",
       "      <th>...</th>\n",
       "      <th>X-Men: The Last Stand (2006)</th>\n",
       "      <th>X2: X-Men United (2003)</th>\n",
       "      <th>You've Got Mail (1998)</th>\n",
       "      <th>Young Frankenstein (1974)</th>\n",
       "      <th>Young Guns (1988)</th>\n",
       "      <th>Zodiac (2007)</th>\n",
       "      <th>Zombieland (2009)</th>\n",
       "      <th>Zoolander (2001)</th>\n",
       "      <th>Zootopia (2016)</th>\n",
       "      <th>¡Three Amigos! (1986)</th>\n",
       "    </tr>\n",
       "    <tr>\n",
       "      <th>userId</th>\n",
       "      <th></th>\n",
       "      <th></th>\n",
       "      <th></th>\n",
       "      <th></th>\n",
       "      <th></th>\n",
       "      <th></th>\n",
       "      <th></th>\n",
       "      <th></th>\n",
       "      <th></th>\n",
       "      <th></th>\n",
       "      <th></th>\n",
       "      <th></th>\n",
       "      <th></th>\n",
       "      <th></th>\n",
       "      <th></th>\n",
       "      <th></th>\n",
       "      <th></th>\n",
       "      <th></th>\n",
       "      <th></th>\n",
       "      <th></th>\n",
       "      <th></th>\n",
       "    </tr>\n",
       "  </thead>\n",
       "  <tbody>\n",
       "    <tr>\n",
       "      <th>3</th>\n",
       "      <td>3.0</td>\n",
       "      <td>3.0</td>\n",
       "      <td>3.0</td>\n",
       "      <td>3.0</td>\n",
       "      <td>3.0</td>\n",
       "      <td>3.0</td>\n",
       "      <td>3.0</td>\n",
       "      <td>5.0</td>\n",
       "      <td>3.0</td>\n",
       "      <td>3.0</td>\n",
       "      <td>...</td>\n",
       "      <td>4.0</td>\n",
       "      <td>4.0</td>\n",
       "      <td>3.0</td>\n",
       "      <td>3.0</td>\n",
       "      <td>3.0</td>\n",
       "      <td>3.0</td>\n",
       "      <td>4.0</td>\n",
       "      <td>3.5</td>\n",
       "      <td>3.0</td>\n",
       "      <td>3.0</td>\n",
       "    </tr>\n",
       "    <tr>\n",
       "      <th>12</th>\n",
       "      <td>3.0</td>\n",
       "      <td>3.0</td>\n",
       "      <td>1.0</td>\n",
       "      <td>3.0</td>\n",
       "      <td>3.0</td>\n",
       "      <td>3.0</td>\n",
       "      <td>3.0</td>\n",
       "      <td>3.0</td>\n",
       "      <td>3.0</td>\n",
       "      <td>3.0</td>\n",
       "      <td>...</td>\n",
       "      <td>3.0</td>\n",
       "      <td>3.0</td>\n",
       "      <td>2.0</td>\n",
       "      <td>3.0</td>\n",
       "      <td>4.0</td>\n",
       "      <td>3.0</td>\n",
       "      <td>3.0</td>\n",
       "      <td>3.0</td>\n",
       "      <td>3.0</td>\n",
       "      <td>3.5</td>\n",
       "    </tr>\n",
       "    <tr>\n",
       "      <th>13</th>\n",
       "      <td>3.0</td>\n",
       "      <td>3.0</td>\n",
       "      <td>3.0</td>\n",
       "      <td>3.0</td>\n",
       "      <td>3.0</td>\n",
       "      <td>3.0</td>\n",
       "      <td>3.5</td>\n",
       "      <td>3.5</td>\n",
       "      <td>3.0</td>\n",
       "      <td>3.0</td>\n",
       "      <td>...</td>\n",
       "      <td>3.0</td>\n",
       "      <td>3.5</td>\n",
       "      <td>3.0</td>\n",
       "      <td>5.0</td>\n",
       "      <td>3.5</td>\n",
       "      <td>3.0</td>\n",
       "      <td>4.0</td>\n",
       "      <td>3.5</td>\n",
       "      <td>3.0</td>\n",
       "      <td>3.0</td>\n",
       "    </tr>\n",
       "    <tr>\n",
       "      <th>19</th>\n",
       "      <td>3.0</td>\n",
       "      <td>3.0</td>\n",
       "      <td>2.5</td>\n",
       "      <td>3.0</td>\n",
       "      <td>3.0</td>\n",
       "      <td>3.0</td>\n",
       "      <td>3.0</td>\n",
       "      <td>5.0</td>\n",
       "      <td>3.0</td>\n",
       "      <td>3.0</td>\n",
       "      <td>...</td>\n",
       "      <td>2.0</td>\n",
       "      <td>3.0</td>\n",
       "      <td>3.0</td>\n",
       "      <td>3.0</td>\n",
       "      <td>3.0</td>\n",
       "      <td>3.0</td>\n",
       "      <td>3.0</td>\n",
       "      <td>3.0</td>\n",
       "      <td>3.5</td>\n",
       "      <td>3.0</td>\n",
       "    </tr>\n",
       "    <tr>\n",
       "      <th>23</th>\n",
       "      <td>3.0</td>\n",
       "      <td>3.0</td>\n",
       "      <td>3.0</td>\n",
       "      <td>3.0</td>\n",
       "      <td>5.0</td>\n",
       "      <td>3.0</td>\n",
       "      <td>3.0</td>\n",
       "      <td>4.0</td>\n",
       "      <td>3.0</td>\n",
       "      <td>3.0</td>\n",
       "      <td>...</td>\n",
       "      <td>3.0</td>\n",
       "      <td>3.0</td>\n",
       "      <td>3.0</td>\n",
       "      <td>3.0</td>\n",
       "      <td>3.0</td>\n",
       "      <td>3.0</td>\n",
       "      <td>3.0</td>\n",
       "      <td>3.0</td>\n",
       "      <td>3.0</td>\n",
       "      <td>3.0</td>\n",
       "    </tr>\n",
       "    <tr>\n",
       "      <th>...</th>\n",
       "      <td>...</td>\n",
       "      <td>...</td>\n",
       "      <td>...</td>\n",
       "      <td>...</td>\n",
       "      <td>...</td>\n",
       "      <td>...</td>\n",
       "      <td>...</td>\n",
       "      <td>...</td>\n",
       "      <td>...</td>\n",
       "      <td>...</td>\n",
       "      <td>...</td>\n",
       "      <td>...</td>\n",
       "      <td>...</td>\n",
       "      <td>...</td>\n",
       "      <td>...</td>\n",
       "      <td>...</td>\n",
       "      <td>...</td>\n",
       "      <td>...</td>\n",
       "      <td>...</td>\n",
       "      <td>...</td>\n",
       "      <td>...</td>\n",
       "    </tr>\n",
       "    <tr>\n",
       "      <th>162519</th>\n",
       "      <td>3.0</td>\n",
       "      <td>3.0</td>\n",
       "      <td>3.0</td>\n",
       "      <td>3.0</td>\n",
       "      <td>3.0</td>\n",
       "      <td>3.0</td>\n",
       "      <td>2.0</td>\n",
       "      <td>5.0</td>\n",
       "      <td>3.0</td>\n",
       "      <td>3.0</td>\n",
       "      <td>...</td>\n",
       "      <td>3.0</td>\n",
       "      <td>3.0</td>\n",
       "      <td>3.0</td>\n",
       "      <td>3.0</td>\n",
       "      <td>3.0</td>\n",
       "      <td>3.0</td>\n",
       "      <td>3.0</td>\n",
       "      <td>3.0</td>\n",
       "      <td>3.0</td>\n",
       "      <td>3.0</td>\n",
       "    </tr>\n",
       "    <tr>\n",
       "      <th>162521</th>\n",
       "      <td>3.0</td>\n",
       "      <td>3.0</td>\n",
       "      <td>3.0</td>\n",
       "      <td>3.0</td>\n",
       "      <td>3.0</td>\n",
       "      <td>3.0</td>\n",
       "      <td>4.5</td>\n",
       "      <td>4.0</td>\n",
       "      <td>3.0</td>\n",
       "      <td>3.0</td>\n",
       "      <td>...</td>\n",
       "      <td>4.0</td>\n",
       "      <td>4.0</td>\n",
       "      <td>3.0</td>\n",
       "      <td>3.0</td>\n",
       "      <td>3.0</td>\n",
       "      <td>3.0</td>\n",
       "      <td>4.5</td>\n",
       "      <td>2.5</td>\n",
       "      <td>3.0</td>\n",
       "      <td>3.0</td>\n",
       "    </tr>\n",
       "    <tr>\n",
       "      <th>162529</th>\n",
       "      <td>3.0</td>\n",
       "      <td>3.0</td>\n",
       "      <td>3.0</td>\n",
       "      <td>3.0</td>\n",
       "      <td>3.0</td>\n",
       "      <td>3.0</td>\n",
       "      <td>3.0</td>\n",
       "      <td>5.0</td>\n",
       "      <td>3.0</td>\n",
       "      <td>3.0</td>\n",
       "      <td>...</td>\n",
       "      <td>3.0</td>\n",
       "      <td>3.0</td>\n",
       "      <td>3.0</td>\n",
       "      <td>5.0</td>\n",
       "      <td>3.0</td>\n",
       "      <td>3.0</td>\n",
       "      <td>3.0</td>\n",
       "      <td>3.0</td>\n",
       "      <td>3.0</td>\n",
       "      <td>3.0</td>\n",
       "    </tr>\n",
       "    <tr>\n",
       "      <th>162533</th>\n",
       "      <td>3.0</td>\n",
       "      <td>2.5</td>\n",
       "      <td>3.0</td>\n",
       "      <td>3.0</td>\n",
       "      <td>3.0</td>\n",
       "      <td>3.5</td>\n",
       "      <td>3.0</td>\n",
       "      <td>3.0</td>\n",
       "      <td>3.5</td>\n",
       "      <td>3.0</td>\n",
       "      <td>...</td>\n",
       "      <td>3.0</td>\n",
       "      <td>3.5</td>\n",
       "      <td>3.0</td>\n",
       "      <td>3.0</td>\n",
       "      <td>3.0</td>\n",
       "      <td>3.5</td>\n",
       "      <td>3.5</td>\n",
       "      <td>3.0</td>\n",
       "      <td>3.0</td>\n",
       "      <td>3.0</td>\n",
       "    </tr>\n",
       "    <tr>\n",
       "      <th>162534</th>\n",
       "      <td>3.0</td>\n",
       "      <td>3.0</td>\n",
       "      <td>3.0</td>\n",
       "      <td>3.0</td>\n",
       "      <td>4.5</td>\n",
       "      <td>3.0</td>\n",
       "      <td>3.0</td>\n",
       "      <td>5.0</td>\n",
       "      <td>3.5</td>\n",
       "      <td>3.0</td>\n",
       "      <td>...</td>\n",
       "      <td>3.0</td>\n",
       "      <td>3.0</td>\n",
       "      <td>3.0</td>\n",
       "      <td>4.0</td>\n",
       "      <td>3.0</td>\n",
       "      <td>3.0</td>\n",
       "      <td>3.0</td>\n",
       "      <td>3.0</td>\n",
       "      <td>2.5</td>\n",
       "      <td>3.0</td>\n",
       "    </tr>\n",
       "  </tbody>\n",
       "</table>\n",
       "<p>19342 rows × 1000 columns</p>\n",
       "</div>"
      ],
      "text/plain": [
       "title   (500) Days of Summer (2009)  10 Things I Hate About You (1999)  \\\n",
       "userId                                                                   \n",
       "3                               3.0                                3.0   \n",
       "12                              3.0                                3.0   \n",
       "13                              3.0                                3.0   \n",
       "19                              3.0                                3.0   \n",
       "23                              3.0                                3.0   \n",
       "...                             ...                                ...   \n",
       "162519                          3.0                                3.0   \n",
       "162521                          3.0                                3.0   \n",
       "162529                          3.0                                3.0   \n",
       "162533                          3.0                                2.5   \n",
       "162534                          3.0                                3.0   \n",
       "\n",
       "title   101 Dalmatians (1996)  \\\n",
       "userId                          \n",
       "3                         3.0   \n",
       "12                        1.0   \n",
       "13                        3.0   \n",
       "19                        2.5   \n",
       "23                        3.0   \n",
       "...                       ...   \n",
       "162519                    3.0   \n",
       "162521                    3.0   \n",
       "162529                    3.0   \n",
       "162533                    3.0   \n",
       "162534                    3.0   \n",
       "\n",
       "title   101 Dalmatians (One Hundred and One Dalmatians) (1961)  \\\n",
       "userId                                                           \n",
       "3                                                     3.0        \n",
       "12                                                    3.0        \n",
       "13                                                    3.0        \n",
       "19                                                    3.0        \n",
       "23                                                    3.0        \n",
       "...                                                   ...        \n",
       "162519                                                3.0        \n",
       "162521                                                3.0        \n",
       "162529                                                3.0        \n",
       "162533                                                3.0        \n",
       "162534                                                3.0        \n",
       "\n",
       "title   12 Angry Men (1957)  127 Hours (2010)  13th Warrior, The (1999)  \\\n",
       "userId                                                                    \n",
       "3                       3.0               3.0                       3.0   \n",
       "12                      3.0               3.0                       3.0   \n",
       "13                      3.0               3.0                       3.5   \n",
       "19                      3.0               3.0                       3.0   \n",
       "23                      5.0               3.0                       3.0   \n",
       "...                     ...               ...                       ...   \n",
       "162519                  3.0               3.0                       2.0   \n",
       "162521                  3.0               3.0                       4.5   \n",
       "162529                  3.0               3.0                       3.0   \n",
       "162533                  3.0               3.5                       3.0   \n",
       "162534                  4.5               3.0                       3.0   \n",
       "\n",
       "title   2001: A Space Odyssey (1968)  21 Grams (2003)  21 Jump Street (2012)  \\\n",
       "userId                                                                         \n",
       "3                                5.0              3.0                    3.0   \n",
       "12                               3.0              3.0                    3.0   \n",
       "13                               3.5              3.0                    3.0   \n",
       "19                               5.0              3.0                    3.0   \n",
       "23                               4.0              3.0                    3.0   \n",
       "...                              ...              ...                    ...   \n",
       "162519                           5.0              3.0                    3.0   \n",
       "162521                           4.0              3.0                    3.0   \n",
       "162529                           5.0              3.0                    3.0   \n",
       "162533                           3.0              3.5                    3.0   \n",
       "162534                           5.0              3.5                    3.0   \n",
       "\n",
       "title   ...  X-Men: The Last Stand (2006)  X2: X-Men United (2003)  \\\n",
       "userId  ...                                                          \n",
       "3       ...                           4.0                      4.0   \n",
       "12      ...                           3.0                      3.0   \n",
       "13      ...                           3.0                      3.5   \n",
       "19      ...                           2.0                      3.0   \n",
       "23      ...                           3.0                      3.0   \n",
       "...     ...                           ...                      ...   \n",
       "162519  ...                           3.0                      3.0   \n",
       "162521  ...                           4.0                      4.0   \n",
       "162529  ...                           3.0                      3.0   \n",
       "162533  ...                           3.0                      3.5   \n",
       "162534  ...                           3.0                      3.0   \n",
       "\n",
       "title   You've Got Mail (1998)  Young Frankenstein (1974)  Young Guns (1988)  \\\n",
       "userId                                                                         \n",
       "3                          3.0                        3.0                3.0   \n",
       "12                         2.0                        3.0                4.0   \n",
       "13                         3.0                        5.0                3.5   \n",
       "19                         3.0                        3.0                3.0   \n",
       "23                         3.0                        3.0                3.0   \n",
       "...                        ...                        ...                ...   \n",
       "162519                     3.0                        3.0                3.0   \n",
       "162521                     3.0                        3.0                3.0   \n",
       "162529                     3.0                        5.0                3.0   \n",
       "162533                     3.0                        3.0                3.0   \n",
       "162534                     3.0                        4.0                3.0   \n",
       "\n",
       "title   Zodiac (2007)  Zombieland (2009)  Zoolander (2001)  Zootopia (2016)  \\\n",
       "userId                                                                        \n",
       "3                 3.0                4.0               3.5              3.0   \n",
       "12                3.0                3.0               3.0              3.0   \n",
       "13                3.0                4.0               3.5              3.0   \n",
       "19                3.0                3.0               3.0              3.5   \n",
       "23                3.0                3.0               3.0              3.0   \n",
       "...               ...                ...               ...              ...   \n",
       "162519            3.0                3.0               3.0              3.0   \n",
       "162521            3.0                4.5               2.5              3.0   \n",
       "162529            3.0                3.0               3.0              3.0   \n",
       "162533            3.5                3.5               3.0              3.0   \n",
       "162534            3.0                3.0               3.0              2.5   \n",
       "\n",
       "title   ¡Three Amigos! (1986)  \n",
       "userId                         \n",
       "3                         3.0  \n",
       "12                        3.5  \n",
       "13                        3.0  \n",
       "19                        3.0  \n",
       "23                        3.0  \n",
       "...                       ...  \n",
       "162519                    3.0  \n",
       "162521                    3.0  \n",
       "162529                    3.0  \n",
       "162533                    3.0  \n",
       "162534                    3.0  \n",
       "\n",
       "[19342 rows x 1000 columns]"
      ]
     },
     "execution_count": 26,
     "metadata": {},
     "output_type": "execute_result"
    }
   ],
   "source": [
    "df_3 = df.fillna(3).replace(0.5,1)\n",
    "df_3"
   ]
  },
  {
   "cell_type": "code",
   "execution_count": 60,
   "metadata": {
    "ExecuteTime": {
     "end_time": "2020-11-26T20:09:48.751942Z",
     "start_time": "2020-11-26T20:09:46.088429Z"
    }
   },
   "outputs": [
    {
     "data": {
      "text/plain": [
       "<AxesSubplot:>"
      ]
     },
     "execution_count": 60,
     "metadata": {},
     "output_type": "execute_result"
    },
    {
     "data": {
      "image/png": "[encoded data removed]",
      "text/plain": [
       "<Figure size 432x288 with 1 Axes>"
      ]
     },
     "metadata": {
      "needs_background": "light"
     },
     "output_type": "display_data"
    }
   ],
   "source": [
    "average_score_per_user = np.sort(df_3.mean(axis=1),axis=0)\n",
    "x_axis = list(range(1,df_3.shape[0]+1))\n",
    "sns.lineplot(x=x_axis, y=average_score_per_user)"
   ]
  },
  {
   "cell_type": "code",
   "execution_count": 61,
   "metadata": {
    "ExecuteTime": {
     "end_time": "2020-11-26T20:11:04.071603Z",
     "start_time": "2020-11-26T20:11:00.366327Z"
    }
   },
   "outputs": [
    {
     "data": {
      "text/plain": [
       "<AxesSubplot:>"
      ]
     },
     "execution_count": 61,
     "metadata": {},
     "output_type": "execute_result"
    },
    {
     "data": {
      "image/png": "[encoded data removed]",
      "text/plain": [
       "<Figure size 432x288 with 1 Axes>"
      ]
     },
     "metadata": {
      "needs_background": "light"
     },
     "output_type": "display_data"
    }
   ],
   "source": [
    "average_score_per_user = np.sort(df.mean(axis=1),axis=0)\n",
    "x_axis = list(range(1,df.shape[0]+1))\n",
    "sns.lineplot(x=x_axis, y=average_score_per_user)"
   ]
  },
  {
   "cell_type": "code",
   "execution_count": 65,
   "metadata": {
    "ExecuteTime": {
     "end_time": "2020-11-26T20:19:21.135068Z",
     "start_time": "2020-11-26T20:19:20.548895Z"
    }
   },
   "outputs": [
    {
     "ename": "ValueError",
     "evalue": "Input contains NaN, infinity or a value too large for dtype('float64').",
     "output_type": "error",
     "traceback": [
      "\u001b[0;31m---------------------------------------------------------------------------\u001b[0m",
      "\u001b[0;31mValueError\u001b[0m                                Traceback (most recent call last)",
      "\u001b[0;32m<ipython-input-65-e1da2cb8433e>\u001b[0m in \u001b[0;36m<module>\u001b[0;34m\u001b[0m\n\u001b[1;32m      2\u001b[0m \u001b[0;34m\u001b[0m\u001b[0m\n\u001b[1;32m      3\u001b[0m \u001b[0mmbkm\u001b[0m \u001b[0;34m=\u001b[0m \u001b[0mMiniBatchKMeans\u001b[0m\u001b[0;34m(\u001b[0m\u001b[0mn_clusters\u001b[0m\u001b[0;34m=\u001b[0m\u001b[0;36m20\u001b[0m\u001b[0;34m)\u001b[0m\u001b[0;34m\u001b[0m\u001b[0;34m\u001b[0m\u001b[0m\n\u001b[0;32m----> 4\u001b[0;31m \u001b[0mmbkm\u001b[0m\u001b[0;34m.\u001b[0m\u001b[0mfit\u001b[0m\u001b[0;34m(\u001b[0m\u001b[0mdf\u001b[0m\u001b[0;34m)\u001b[0m\u001b[0;34m\u001b[0m\u001b[0;34m\u001b[0m\u001b[0m\n\u001b[0m",
      "\u001b[0;32m~/.pyenv/versions/3.7.7/envs/rogue/lib/python3.7/site-packages/sklearn/cluster/_kmeans.py\u001b[0m in \u001b[0;36mfit\u001b[0;34m(self, X, y, sample_weight)\u001b[0m\n\u001b[1;32m   1664\u001b[0m         X = self._validate_data(X, accept_sparse='csr',\n\u001b[1;32m   1665\u001b[0m                                 \u001b[0mdtype\u001b[0m\u001b[0;34m=\u001b[0m\u001b[0;34m[\u001b[0m\u001b[0mnp\u001b[0m\u001b[0;34m.\u001b[0m\u001b[0mfloat64\u001b[0m\u001b[0;34m,\u001b[0m \u001b[0mnp\u001b[0m\u001b[0;34m.\u001b[0m\u001b[0mfloat32\u001b[0m\u001b[0;34m]\u001b[0m\u001b[0;34m,\u001b[0m\u001b[0;34m\u001b[0m\u001b[0;34m\u001b[0m\u001b[0m\n\u001b[0;32m-> 1666\u001b[0;31m                                 order='C', accept_large_sparse=False)\n\u001b[0m\u001b[1;32m   1667\u001b[0m \u001b[0;34m\u001b[0m\u001b[0m\n\u001b[1;32m   1668\u001b[0m         \u001b[0mself\u001b[0m\u001b[0;34m.\u001b[0m\u001b[0m_check_params\u001b[0m\u001b[0;34m(\u001b[0m\u001b[0mX\u001b[0m\u001b[0;34m)\u001b[0m\u001b[0;34m\u001b[0m\u001b[0;34m\u001b[0m\u001b[0m\n",
      "\u001b[0;32m~/.pyenv/versions/3.7.7/envs/rogue/lib/python3.7/site-packages/sklearn/base.py\u001b[0m in \u001b[0;36m_validate_data\u001b[0;34m(self, X, y, reset, validate_separately, **check_params)\u001b[0m\n\u001b[1;32m    418\u001b[0m                     \u001b[0;34mf\"requires y to be passed, but the target y is None.\"\u001b[0m\u001b[0;34m\u001b[0m\u001b[0;34m\u001b[0m\u001b[0m\n\u001b[1;32m    419\u001b[0m                 )\n\u001b[0;32m--> 420\u001b[0;31m             \u001b[0mX\u001b[0m \u001b[0;34m=\u001b[0m \u001b[0mcheck_array\u001b[0m\u001b[0;34m(\u001b[0m\u001b[0mX\u001b[0m\u001b[0;34m,\u001b[0m \u001b[0;34m**\u001b[0m\u001b[0mcheck_params\u001b[0m\u001b[0;34m)\u001b[0m\u001b[0;34m\u001b[0m\u001b[0;34m\u001b[0m\u001b[0m\n\u001b[0m\u001b[1;32m    421\u001b[0m             \u001b[0mout\u001b[0m \u001b[0;34m=\u001b[0m \u001b[0mX\u001b[0m\u001b[0;34m\u001b[0m\u001b[0;34m\u001b[0m\u001b[0m\n\u001b[1;32m    422\u001b[0m         \u001b[0;32melse\u001b[0m\u001b[0;34m:\u001b[0m\u001b[0;34m\u001b[0m\u001b[0;34m\u001b[0m\u001b[0m\n",
      "\u001b[0;32m~/.pyenv/versions/3.7.7/envs/rogue/lib/python3.7/site-packages/sklearn/utils/validation.py\u001b[0m in \u001b[0;36minner_f\u001b[0;34m(*args, **kwargs)\u001b[0m\n\u001b[1;32m     70\u001b[0m                           FutureWarning)\n\u001b[1;32m     71\u001b[0m         \u001b[0mkwargs\u001b[0m\u001b[0;34m.\u001b[0m\u001b[0mupdate\u001b[0m\u001b[0;34m(\u001b[0m\u001b[0;34m{\u001b[0m\u001b[0mk\u001b[0m\u001b[0;34m:\u001b[0m \u001b[0marg\u001b[0m \u001b[0;32mfor\u001b[0m \u001b[0mk\u001b[0m\u001b[0;34m,\u001b[0m \u001b[0marg\u001b[0m \u001b[0;32min\u001b[0m \u001b[0mzip\u001b[0m\u001b[0;34m(\u001b[0m\u001b[0msig\u001b[0m\u001b[0;34m.\u001b[0m\u001b[0mparameters\u001b[0m\u001b[0;34m,\u001b[0m \u001b[0margs\u001b[0m\u001b[0;34m)\u001b[0m\u001b[0;34m}\u001b[0m\u001b[0;34m)\u001b[0m\u001b[0;34m\u001b[0m\u001b[0;34m\u001b[0m\u001b[0m\n\u001b[0;32m---> 72\u001b[0;31m         \u001b[0;32mreturn\u001b[0m \u001b[0mf\u001b[0m\u001b[0;34m(\u001b[0m\u001b[0;34m**\u001b[0m\u001b[0mkwargs\u001b[0m\u001b[0;34m)\u001b[0m\u001b[0;34m\u001b[0m\u001b[0;34m\u001b[0m\u001b[0m\n\u001b[0m\u001b[1;32m     73\u001b[0m     \u001b[0;32mreturn\u001b[0m \u001b[0minner_f\u001b[0m\u001b[0;34m\u001b[0m\u001b[0;34m\u001b[0m\u001b[0m\n\u001b[1;32m     74\u001b[0m \u001b[0;34m\u001b[0m\u001b[0m\n",
      "\u001b[0;32m~/.pyenv/versions/3.7.7/envs/rogue/lib/python3.7/site-packages/sklearn/utils/validation.py\u001b[0m in \u001b[0;36mcheck_array\u001b[0;34m(array, accept_sparse, accept_large_sparse, dtype, order, copy, force_all_finite, ensure_2d, allow_nd, ensure_min_samples, ensure_min_features, estimator)\u001b[0m\n\u001b[1;32m    643\u001b[0m         \u001b[0;32mif\u001b[0m \u001b[0mforce_all_finite\u001b[0m\u001b[0;34m:\u001b[0m\u001b[0;34m\u001b[0m\u001b[0;34m\u001b[0m\u001b[0m\n\u001b[1;32m    644\u001b[0m             _assert_all_finite(array,\n\u001b[0;32m--> 645\u001b[0;31m                                allow_nan=force_all_finite == 'allow-nan')\n\u001b[0m\u001b[1;32m    646\u001b[0m \u001b[0;34m\u001b[0m\u001b[0m\n\u001b[1;32m    647\u001b[0m     \u001b[0;32mif\u001b[0m \u001b[0mensure_min_samples\u001b[0m \u001b[0;34m>\u001b[0m \u001b[0;36m0\u001b[0m\u001b[0;34m:\u001b[0m\u001b[0;34m\u001b[0m\u001b[0;34m\u001b[0m\u001b[0m\n",
      "\u001b[0;32m~/.pyenv/versions/3.7.7/envs/rogue/lib/python3.7/site-packages/sklearn/utils/validation.py\u001b[0m in \u001b[0;36m_assert_all_finite\u001b[0;34m(X, allow_nan, msg_dtype)\u001b[0m\n\u001b[1;32m     97\u001b[0m                     \u001b[0mmsg_err\u001b[0m\u001b[0;34m.\u001b[0m\u001b[0mformat\u001b[0m\u001b[0;34m\u001b[0m\u001b[0;34m\u001b[0m\u001b[0m\n\u001b[1;32m     98\u001b[0m                     (type_err,\n\u001b[0;32m---> 99\u001b[0;31m                      msg_dtype if msg_dtype is not None else X.dtype)\n\u001b[0m\u001b[1;32m    100\u001b[0m             )\n\u001b[1;32m    101\u001b[0m     \u001b[0;31m# for object dtype data, we only check for NaNs (GH-13254)\u001b[0m\u001b[0;34m\u001b[0m\u001b[0;34m\u001b[0m\u001b[0;34m\u001b[0m\u001b[0m\n",
      "\u001b[0;31mValueError\u001b[0m: Input contains NaN, infinity or a value too large for dtype('float64')."
     ]
    }
   ],
   "source": [
    "from sklearn.cluster import MiniBatchKMeans, KMeans\n",
    "\n",
    "mbkm = MiniBatchKMeans(n_clusters=20)\n",
    "mbkm.fit(df)"
   ]
  },
  {
   "cell_type": "code",
   "execution_count": 63,
   "metadata": {
    "ExecuteTime": {
     "end_time": "2020-11-26T20:18:43.988441Z",
     "start_time": "2020-11-26T20:18:43.959313Z"
    }
   },
   "outputs": [
    {
     "data": {
      "text/plain": [
       "18    4840\n",
       "7     4770\n",
       "1     3293\n",
       "13    2198\n",
       "11    1874\n",
       "0     1248\n",
       "14     941\n",
       "5      139\n",
       "6       27\n",
       "3        2\n",
       "8        1\n",
       "9        1\n",
       "4        1\n",
       "19       1\n",
       "10       1\n",
       "2        1\n",
       "17       1\n",
       "12       1\n",
       "16       1\n",
       "15       1\n",
       "dtype: int64"
      ]
     },
     "execution_count": 63,
     "metadata": {},
     "output_type": "execute_result"
    }
   ],
   "source": [
    "clusters = pd.Series(mbkm.labels_).value_counts()\n",
    "clusters"
   ]
  },
  {
   "cell_type": "code",
   "execution_count": 64,
   "metadata": {
    "ExecuteTime": {
     "end_time": "2020-11-26T20:18:48.944954Z",
     "start_time": "2020-11-26T20:18:48.470555Z"
    }
   },
   "outputs": [
    {
     "data": {
      "text/plain": [
       "<AxesSubplot:>"
      ]
     },
     "execution_count": 64,
     "metadata": {},
     "output_type": "execute_result"
    },
    {
     "data": {
      "image/png": "[encoded data removed]",
      "text/plain": [
       "<Figure size 432x288 with 1 Axes>"
      ]
     },
     "metadata": {
      "needs_background": "light"
     },
     "output_type": "display_data"
    }
   ],
   "source": [
    "x_axis = list(range(1,len(clusters)+1))\n",
    "sns.lineplot(x=x_axis, y=clusters)"
   ]
  },
  {
   "cell_type": "code",
   "execution_count": 30,
   "metadata": {
    "ExecuteTime": {
     "end_time": "2020-11-26T19:25:57.957751Z",
     "start_time": "2020-11-26T19:25:57.948101Z"
    }
   },
   "outputs": [],
   "source": [
    "def make_user_ratings(movie_ids, ratings, df):\n",
    "    number_of_movies = df.shape[1]\n",
    "    new_user = pd.DataFrame([np.zeros(number_of_movies)], columns=df.columns).replace(0,3)\n",
    "    for movie_id, rating in zip(movie_ids,ratings):\n",
    "        new_user[movie_id] = rating\n",
    "    return new_user"
   ]
  },
  {
   "cell_type": "code",
   "execution_count": 41,
   "metadata": {
    "ExecuteTime": {
     "end_time": "2020-11-26T19:58:32.789569Z",
     "start_time": "2020-11-26T19:58:32.553344Z"
    }
   },
   "outputs": [
    {
     "data": {
      "text/html": [
       "<div>\n",
       "<style scoped>\n",
       "    .dataframe tbody tr th:only-of-type {\n",
       "        vertical-align: middle;\n",
       "    }\n",
       "\n",
       "    .dataframe tbody tr th {\n",
       "        vertical-align: top;\n",
       "    }\n",
       "\n",
       "    .dataframe thead th {\n",
       "        text-align: right;\n",
       "    }\n",
       "</style>\n",
       "<table border=\"1\" class=\"dataframe\">\n",
       "  <thead>\n",
       "    <tr style=\"text-align: right;\">\n",
       "      <th>title</th>\n",
       "      <th>(500) Days of Summer (2009)</th>\n",
       "      <th>10 Things I Hate About You (1999)</th>\n",
       "      <th>101 Dalmatians (1996)</th>\n",
       "      <th>101 Dalmatians (One Hundred and One Dalmatians) (1961)</th>\n",
       "      <th>12 Angry Men (1957)</th>\n",
       "      <th>127 Hours (2010)</th>\n",
       "      <th>13th Warrior, The (1999)</th>\n",
       "      <th>2001: A Space Odyssey (1968)</th>\n",
       "      <th>21 Grams (2003)</th>\n",
       "      <th>21 Jump Street (2012)</th>\n",
       "      <th>...</th>\n",
       "      <th>X-Men: The Last Stand (2006)</th>\n",
       "      <th>X2: X-Men United (2003)</th>\n",
       "      <th>You've Got Mail (1998)</th>\n",
       "      <th>Young Frankenstein (1974)</th>\n",
       "      <th>Young Guns (1988)</th>\n",
       "      <th>Zodiac (2007)</th>\n",
       "      <th>Zombieland (2009)</th>\n",
       "      <th>Zoolander (2001)</th>\n",
       "      <th>Zootopia (2016)</th>\n",
       "      <th>¡Three Amigos! (1986)</th>\n",
       "    </tr>\n",
       "  </thead>\n",
       "  <tbody>\n",
       "    <tr>\n",
       "      <th>0</th>\n",
       "      <td>5</td>\n",
       "      <td>5</td>\n",
       "      <td>3.0</td>\n",
       "      <td>3.0</td>\n",
       "      <td>3.0</td>\n",
       "      <td>3.0</td>\n",
       "      <td>3.0</td>\n",
       "      <td>3.0</td>\n",
       "      <td>3.0</td>\n",
       "      <td>3.0</td>\n",
       "      <td>...</td>\n",
       "      <td>3.0</td>\n",
       "      <td>3.0</td>\n",
       "      <td>3.0</td>\n",
       "      <td>3.0</td>\n",
       "      <td>3.0</td>\n",
       "      <td>3.0</td>\n",
       "      <td>4</td>\n",
       "      <td>1</td>\n",
       "      <td>3.0</td>\n",
       "      <td>3.0</td>\n",
       "    </tr>\n",
       "  </tbody>\n",
       "</table>\n",
       "<p>1 rows × 1000 columns</p>\n",
       "</div>"
      ],
      "text/plain": [
       "title  (500) Days of Summer (2009)  10 Things I Hate About You (1999)  \\\n",
       "0                                5                                  5   \n",
       "\n",
       "title  101 Dalmatians (1996)  \\\n",
       "0                        3.0   \n",
       "\n",
       "title  101 Dalmatians (One Hundred and One Dalmatians) (1961)  \\\n",
       "0                                                    3.0        \n",
       "\n",
       "title  12 Angry Men (1957)  127 Hours (2010)  13th Warrior, The (1999)  \\\n",
       "0                      3.0               3.0                       3.0   \n",
       "\n",
       "title  2001: A Space Odyssey (1968)  21 Grams (2003)  21 Jump Street (2012)  \\\n",
       "0                               3.0              3.0                    3.0   \n",
       "\n",
       "title  ...  X-Men: The Last Stand (2006)  X2: X-Men United (2003)  \\\n",
       "0      ...                           3.0                      3.0   \n",
       "\n",
       "title  You've Got Mail (1998)  Young Frankenstein (1974)  Young Guns (1988)  \\\n",
       "0                         3.0                        3.0                3.0   \n",
       "\n",
       "title  Zodiac (2007)  Zombieland (2009)  Zoolander (2001)  Zootopia (2016)  \\\n",
       "0                3.0                  4                 1              3.0   \n",
       "\n",
       "title  ¡Three Amigos! (1986)  \n",
       "0                        3.0  \n",
       "\n",
       "[1 rows x 1000 columns]"
      ]
     },
     "execution_count": 41,
     "metadata": {},
     "output_type": "execute_result"
    }
   ],
   "source": [
    "new_user_ratings_1 = make_user_ratings(\n",
    "    [\n",
    "        '(500) Days of Summer (2009)',\n",
    "        '10 Things I Hate About You (1999)',\n",
    "        'Zoolander (2001)',\n",
    "        'Zombieland (2009)',\n",
    "        'Mask of Zorro, The (1998)',\n",
    "        'Big Hero 6 (2014)',\n",
    "        'Scream 2 (1997)'\n",
    "    ],\n",
    "    [5,5,1,4,4,5,1],\n",
    "    df\n",
    ")\n",
    "new_user_ratings_1"
   ]
  },
  {
   "cell_type": "code",
   "execution_count": 40,
   "metadata": {
    "ExecuteTime": {
     "end_time": "2020-11-26T19:57:52.903577Z",
     "start_time": "2020-11-26T19:57:52.860537Z"
    }
   },
   "outputs": [],
   "source": [
    "import random\n",
    "\n",
    "movie_names = list(df.columns)"
   ]
  },
  {
   "cell_type": "code",
   "execution_count": 53,
   "metadata": {
    "ExecuteTime": {
     "end_time": "2020-11-26T20:05:01.730916Z",
     "start_time": "2020-11-26T20:05:01.199070Z"
    }
   },
   "outputs": [
    {
     "data": {
      "text/html": [
       "<div>\n",
       "<style scoped>\n",
       "    .dataframe tbody tr th:only-of-type {\n",
       "        vertical-align: middle;\n",
       "    }\n",
       "\n",
       "    .dataframe tbody tr th {\n",
       "        vertical-align: top;\n",
       "    }\n",
       "\n",
       "    .dataframe thead th {\n",
       "        text-align: right;\n",
       "    }\n",
       "</style>\n",
       "<table border=\"1\" class=\"dataframe\">\n",
       "  <thead>\n",
       "    <tr style=\"text-align: right;\">\n",
       "      <th>title</th>\n",
       "      <th>(500) Days of Summer (2009)</th>\n",
       "      <th>10 Things I Hate About You (1999)</th>\n",
       "      <th>101 Dalmatians (1996)</th>\n",
       "      <th>101 Dalmatians (One Hundred and One Dalmatians) (1961)</th>\n",
       "      <th>12 Angry Men (1957)</th>\n",
       "      <th>127 Hours (2010)</th>\n",
       "      <th>13th Warrior, The (1999)</th>\n",
       "      <th>2001: A Space Odyssey (1968)</th>\n",
       "      <th>21 Grams (2003)</th>\n",
       "      <th>21 Jump Street (2012)</th>\n",
       "      <th>...</th>\n",
       "      <th>X-Men: The Last Stand (2006)</th>\n",
       "      <th>X2: X-Men United (2003)</th>\n",
       "      <th>You've Got Mail (1998)</th>\n",
       "      <th>Young Frankenstein (1974)</th>\n",
       "      <th>Young Guns (1988)</th>\n",
       "      <th>Zodiac (2007)</th>\n",
       "      <th>Zombieland (2009)</th>\n",
       "      <th>Zoolander (2001)</th>\n",
       "      <th>Zootopia (2016)</th>\n",
       "      <th>¡Three Amigos! (1986)</th>\n",
       "    </tr>\n",
       "  </thead>\n",
       "  <tbody>\n",
       "    <tr>\n",
       "      <th>0</th>\n",
       "      <td>5</td>\n",
       "      <td>5</td>\n",
       "      <td>5</td>\n",
       "      <td>5</td>\n",
       "      <td>5</td>\n",
       "      <td>5</td>\n",
       "      <td>5</td>\n",
       "      <td>5</td>\n",
       "      <td>5</td>\n",
       "      <td>5</td>\n",
       "      <td>...</td>\n",
       "      <td>5</td>\n",
       "      <td>5</td>\n",
       "      <td>5</td>\n",
       "      <td>5</td>\n",
       "      <td>5</td>\n",
       "      <td>5</td>\n",
       "      <td>5</td>\n",
       "      <td>5</td>\n",
       "      <td>5</td>\n",
       "      <td>5</td>\n",
       "    </tr>\n",
       "  </tbody>\n",
       "</table>\n",
       "<p>1 rows × 1000 columns</p>\n",
       "</div>"
      ],
      "text/plain": [
       "title  (500) Days of Summer (2009)  10 Things I Hate About You (1999)  \\\n",
       "0                                5                                  5   \n",
       "\n",
       "title  101 Dalmatians (1996)  \\\n",
       "0                          5   \n",
       "\n",
       "title  101 Dalmatians (One Hundred and One Dalmatians) (1961)  \\\n",
       "0                                                      5        \n",
       "\n",
       "title  12 Angry Men (1957)  127 Hours (2010)  13th Warrior, The (1999)  \\\n",
       "0                        5                 5                         5   \n",
       "\n",
       "title  2001: A Space Odyssey (1968)  21 Grams (2003)  21 Jump Street (2012)  \\\n",
       "0                                 5                5                      5   \n",
       "\n",
       "title  ...  X-Men: The Last Stand (2006)  X2: X-Men United (2003)  \\\n",
       "0      ...                             5                        5   \n",
       "\n",
       "title  You've Got Mail (1998)  Young Frankenstein (1974)  Young Guns (1988)  \\\n",
       "0                           5                          5                  5   \n",
       "\n",
       "title  Zodiac (2007)  Zombieland (2009)  Zoolander (2001)  Zootopia (2016)  \\\n",
       "0                  5                  5                 5                5   \n",
       "\n",
       "title  ¡Three Amigos! (1986)  \n",
       "0                          5  \n",
       "\n",
       "[1 rows x 1000 columns]"
      ]
     },
     "execution_count": 53,
     "metadata": {},
     "output_type": "execute_result"
    }
   ],
   "source": [
    "# new_user_ratings_2 = make_user_ratings(\n",
    "#     [7,48,94,534,132660,1721,164909,2291,2558,33679,595,130073,2706,7293,1380,45672,31685,587,4246,84374],\n",
    "#     [1,1,1,1,1,1,1,1,1,1,1,1,1,1,1,1,1,1,1,1],\n",
    "#     df\n",
    "# )\n",
    "\n",
    "# new_user_ratings_2\n",
    "\n",
    "new_user_ratings_2 = make_user_ratings(\n",
    "    random.sample(movie_names, 1000),\n",
    "    [5 for i in range(1000)],\n",
    "    df\n",
    ")\n",
    "\n",
    "new_user_ratings_2\n"
   ]
  },
  {
   "cell_type": "code",
   "execution_count": 47,
   "metadata": {
    "ExecuteTime": {
     "end_time": "2020-11-26T20:04:10.134200Z",
     "start_time": "2020-11-26T20:04:10.095489Z"
    }
   },
   "outputs": [
    {
     "data": {
      "text/plain": [
       "array([89], dtype=int32)"
      ]
     },
     "execution_count": 47,
     "metadata": {},
     "output_type": "execute_result"
    }
   ],
   "source": [
    "mbkm.predict(new_user_ratings_1)"
   ]
  },
  {
   "cell_type": "code",
   "execution_count": 54,
   "metadata": {
    "ExecuteTime": {
     "end_time": "2020-11-26T20:05:09.189172Z",
     "start_time": "2020-11-26T20:05:09.074750Z"
    }
   },
   "outputs": [
    {
     "data": {
      "text/plain": [
       "array([31], dtype=int32)"
      ]
     },
     "execution_count": 54,
     "metadata": {},
     "output_type": "execute_result"
    }
   ],
   "source": [
    "mbkm.predict(new_user_ratings_2)"
   ]
  },
  {
   "cell_type": "code",
   "execution_count": 35,
   "metadata": {
    "ExecuteTime": {
     "end_time": "2020-11-26T19:29:36.200236Z",
     "start_time": "2020-11-26T19:28:04.781173Z"
    }
   },
   "outputs": [
    {
     "data": {
      "text/plain": [
       "KMeans(n_clusters=100)"
      ]
     },
     "execution_count": 35,
     "metadata": {},
     "output_type": "execute_result"
    }
   ],
   "source": [
    "km = KMeans(n_clusters=100)\n",
    "km.fit(df_3)"
   ]
  },
  {
   "cell_type": "code",
   "execution_count": 36,
   "metadata": {
    "ExecuteTime": {
     "end_time": "2020-11-26T19:30:10.085575Z",
     "start_time": "2020-11-26T19:30:10.072493Z"
    }
   },
   "outputs": [
    {
     "data": {
      "text/plain": [
       "68    583\n",
       "75    577\n",
       "16    543\n",
       "78    526\n",
       "21    475\n",
       "     ... \n",
       "23      1\n",
       "77      1\n",
       "54      1\n",
       "36      1\n",
       "55      1\n",
       "Length: 100, dtype: int64"
      ]
     },
     "execution_count": 36,
     "metadata": {},
     "output_type": "execute_result"
    }
   ],
   "source": [
    "clusters = pd.Series(km.labels_).value_counts()\n",
    "clusters"
   ]
  },
  {
   "cell_type": "code",
   "execution_count": 37,
   "metadata": {
    "ExecuteTime": {
     "end_time": "2020-11-26T19:30:23.411024Z",
     "start_time": "2020-11-26T19:30:23.138613Z"
    }
   },
   "outputs": [
    {
     "data": {
      "text/plain": [
       "<AxesSubplot:>"
      ]
     },
     "execution_count": 37,
     "metadata": {},
     "output_type": "execute_result"
    },
    {
     "data": {
      "image/png": "[encoded data removed]",
      "text/plain": [
       "<Figure size 432x288 with 1 Axes>"
      ]
     },
     "metadata": {
      "needs_background": "light"
     },
     "output_type": "display_data"
    }
   ],
   "source": [
    "x_axis = list(range(1,len(clusters)+1))\n",
    "sns.lineplot(x=x_axis, y=clusters)"
   ]
  },
  {
   "cell_type": "code",
   "execution_count": 51,
   "metadata": {
    "ExecuteTime": {
     "end_time": "2020-11-26T20:04:47.750342Z",
     "start_time": "2020-11-26T20:04:47.733223Z"
    }
   },
   "outputs": [
    {
     "data": {
      "text/plain": [
       "array([16], dtype=int32)"
      ]
     },
     "execution_count": 51,
     "metadata": {},
     "output_type": "execute_result"
    }
   ],
   "source": [
    "km.predict(new_user_ratings_1)"
   ]
  },
  {
   "cell_type": "code",
   "execution_count": 55,
   "metadata": {
    "ExecuteTime": {
     "end_time": "2020-11-26T20:05:13.391896Z",
     "start_time": "2020-11-26T20:05:13.357529Z"
    }
   },
   "outputs": [
    {
     "data": {
      "text/plain": [
       "array([43], dtype=int32)"
      ]
     },
     "execution_count": 55,
     "metadata": {},
     "output_type": "execute_result"
    }
   ],
   "source": [
    "km.predict(new_user_ratings_2)"
   ]
  },
  {
   "cell_type": "markdown",
   "metadata": {},
   "source": [
    "- How do you determine which users or items are similar to one another?\n",
    "- Given that you know which users are similar, how do you determine the rating that a user would give to an item based on the ratings of similar users?\n",
    "- How do you measure the accuracy of the ratings you calculate?"
   ]
  },
  {
   "cell_type": "code",
   "execution_count": null,
   "metadata": {},
   "outputs": [],
   "source": [
    "new_df = "
   ]
  }
 ],
 "metadata": {
  "kernelspec": {
   "display_name": "Python 3",
   "language": "python",
   "name": "python3"
  },
  "language_info": {
   "codemirror_mode": {
    "name": "ipython",
    "version": 3
   },
   "file_extension": ".py",
   "mimetype": "text/x-python",
   "name": "python",
   "nbconvert_exporter": "python",
   "pygments_lexer": "ipython3",
   "version": "3.7.7"
  },
  "toc": {
   "base_numbering": 1,
   "nav_menu": {},
   "number_sections": true,
   "sideBar": true,
   "skip_h1_title": false,
   "title_cell": "Table of Contents",
   "title_sidebar": "Contents",
   "toc_cell": false,
   "toc_position": {},
   "toc_section_display": true,
   "toc_window_display": false
  },
  "varInspector": {
   "cols": {
    "lenName": 16,
    "lenType": 16,
    "lenVar": 40
   },
   "kernels_config": {
    "python": {
     "delete_cmd_postfix": "",
     "delete_cmd_prefix": "del ",
     "library": "var_list.py",
     "varRefreshCmd": "print(var_dic_list())"
    },
    "r": {
     "delete_cmd_postfix": ") ",
     "delete_cmd_prefix": "rm(",
     "library": "var_list.r",
     "varRefreshCmd": "cat(var_dic_list()) "
    }
   },
   "types_to_exclude": [
    "module",
    "function",
    "builtin_function_or_method",
    "instance",
    "_Feature"
   ],
   "window_display": false
  }
 },
 "nbformat": 4,
 "nbformat_minor": 4
}
