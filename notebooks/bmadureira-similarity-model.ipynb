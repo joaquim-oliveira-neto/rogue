{
 "cells": [
  {
   "cell_type": "markdown",
   "metadata": {},
   "source": [
    "# Movie Recomendation - Similarity Model"
   ]
  },
  {
   "cell_type": "markdown",
   "metadata": {},
   "source": [
    "The purpose of this motel is to get recomendations of movies based on a selected movie and related features."
   ]
  },
  {
   "cell_type": "code",
   "execution_count": 1,
   "metadata": {
    "ExecuteTime": {
     "end_time": "2020-11-25T21:26:43.684936Z",
     "start_time": "2020-11-25T21:26:43.680947Z"
    }
   },
   "outputs": [],
   "source": [
    "# from nltk.corpus import stopwords \n",
    "# from nltk.tokenize import word_tokenize\n",
    "# def stop_words(x):\n",
    "#     text = ' '.join(x)\n",
    "#     stop_words = set(stopwords.words('english')) \n",
    "#     word_tokens = word_tokenize(text) \n",
    "#     text = [w for w in word_tokens if not w in stop_words] \n",
    "#     return text"
   ]
  },
  {
   "cell_type": "code",
   "execution_count": 2,
   "metadata": {
    "ExecuteTime": {
     "end_time": "2020-11-25T21:26:44.313255Z",
     "start_time": "2020-11-25T21:26:43.692914Z"
    }
   },
   "outputs": [],
   "source": [
    "import pandas as pd\n",
    "import numpy as np"
   ]
  },
  {
   "cell_type": "markdown",
   "metadata": {},
   "source": [
    "## Importing Database"
   ]
  },
  {
   "cell_type": "code",
   "execution_count": 3,
   "metadata": {
    "ExecuteTime": {
     "end_time": "2020-11-25T21:26:44.488819Z",
     "start_time": "2020-11-25T21:26:44.314252Z"
    }
   },
   "outputs": [],
   "source": [
    "data = pd.read_csv('../raw_data/treated-db/data.csv')"
   ]
  },
  {
   "cell_type": "code",
   "execution_count": 4,
   "metadata": {
    "ExecuteTime": {
     "end_time": "2020-11-25T21:26:44.516713Z",
     "start_time": "2020-11-25T21:26:44.490781Z"
    }
   },
   "outputs": [],
   "source": [
    "data.dropna(inplace=True)"
   ]
  },
  {
   "cell_type": "code",
   "execution_count": 5,
   "metadata": {
    "ExecuteTime": {
     "end_time": "2020-11-25T21:26:44.545634Z",
     "start_time": "2020-11-25T21:26:44.517708Z"
    }
   },
   "outputs": [
    {
     "data": {
      "text/html": [
       "<div>\n",
       "<style scoped>\n",
       "    .dataframe tbody tr th:only-of-type {\n",
       "        vertical-align: middle;\n",
       "    }\n",
       "\n",
       "    .dataframe tbody tr th {\n",
       "        vertical-align: top;\n",
       "    }\n",
       "\n",
       "    .dataframe thead th {\n",
       "        text-align: right;\n",
       "    }\n",
       "</style>\n",
       "<table border=\"1\" class=\"dataframe\">\n",
       "  <thead>\n",
       "    <tr style=\"text-align: right;\">\n",
       "      <th></th>\n",
       "      <th>movieId</th>\n",
       "      <th>tmdbId</th>\n",
       "      <th>title</th>\n",
       "      <th>title_clean</th>\n",
       "      <th>genres</th>\n",
       "      <th>actors</th>\n",
       "      <th>directors</th>\n",
       "      <th>overview</th>\n",
       "      <th>keywords</th>\n",
       "      <th>popularity</th>\n",
       "      <th>vote_count</th>\n",
       "      <th>vote_average</th>\n",
       "      <th>runtime</th>\n",
       "      <th>release</th>\n",
       "    </tr>\n",
       "  </thead>\n",
       "  <tbody>\n",
       "    <tr>\n",
       "      <th>0</th>\n",
       "      <td>1.0</td>\n",
       "      <td>862</td>\n",
       "      <td>Toy Story (1995)</td>\n",
       "      <td>['toy story']</td>\n",
       "      <td>['adventure', 'animation', 'children', 'comedy...</td>\n",
       "      <td>['tomhanks', 'timallen', 'donrickles']</td>\n",
       "      <td>['johnlasseter']</td>\n",
       "      <td>led by woody, andy's toys live happily in his ...</td>\n",
       "      <td>['martialarts', 'jealousy', 'toy', 'friendship...</td>\n",
       "      <td>70.910</td>\n",
       "      <td>13173.0</td>\n",
       "      <td>7.9</td>\n",
       "      <td>81.0</td>\n",
       "      <td>1995-10-30</td>\n",
       "    </tr>\n",
       "    <tr>\n",
       "      <th>1</th>\n",
       "      <td>2.0</td>\n",
       "      <td>8844</td>\n",
       "      <td>Jumanji (1995)</td>\n",
       "      <td>['jumanji']</td>\n",
       "      <td>['adventure', 'children', 'fantasy']</td>\n",
       "      <td>['robinwilliams', 'jonathanhyde', 'kirstendunst']</td>\n",
       "      <td>['joejohnston']</td>\n",
       "      <td>when siblings judy and peter discover an encha...</td>\n",
       "      <td>['giantinsect', 'boardgame', 'jungle', 'disapp...</td>\n",
       "      <td>11.919</td>\n",
       "      <td>7711.0</td>\n",
       "      <td>7.2</td>\n",
       "      <td>104.0</td>\n",
       "      <td>1995-12-15</td>\n",
       "    </tr>\n",
       "    <tr>\n",
       "      <th>2</th>\n",
       "      <td>3.0</td>\n",
       "      <td>15602</td>\n",
       "      <td>Grumpier Old Men (1995)</td>\n",
       "      <td>['grumpier old men']</td>\n",
       "      <td>['comedy', 'romance']</td>\n",
       "      <td>['waltermatthau', 'jacklemmon', 'ann-margret']</td>\n",
       "      <td>['howarddeutch']</td>\n",
       "      <td>a family wedding reignites the ancient feud be...</td>\n",
       "      <td>['fishing', 'oldman', 'bestfriend', 'duringcre...</td>\n",
       "      <td>13.122</td>\n",
       "      <td>217.0</td>\n",
       "      <td>6.6</td>\n",
       "      <td>101.0</td>\n",
       "      <td>1995-12-22</td>\n",
       "    </tr>\n",
       "    <tr>\n",
       "      <th>3</th>\n",
       "      <td>4.0</td>\n",
       "      <td>31357</td>\n",
       "      <td>Waiting to Exhale (1995)</td>\n",
       "      <td>['waiting to exhale']</td>\n",
       "      <td>['comedy', 'drama', 'romance']</td>\n",
       "      <td>['whitneyhouston', 'angelabassett', 'lorettade...</td>\n",
       "      <td>['forestwhitaker']</td>\n",
       "      <td>cheated on, mistreated and stepped on, the wom...</td>\n",
       "      <td>['basedonnovelorbook', 'interracialrelationshi...</td>\n",
       "      <td>5.123</td>\n",
       "      <td>79.0</td>\n",
       "      <td>6.2</td>\n",
       "      <td>127.0</td>\n",
       "      <td>1995-12-22</td>\n",
       "    </tr>\n",
       "    <tr>\n",
       "      <th>4</th>\n",
       "      <td>5.0</td>\n",
       "      <td>11862</td>\n",
       "      <td>Father of the Bride Part II (1995)</td>\n",
       "      <td>['father of the bride part ii']</td>\n",
       "      <td>['comedy']</td>\n",
       "      <td>['stevemartin', 'dianekeaton', 'martinshort']</td>\n",
       "      <td>['charlesshyer']</td>\n",
       "      <td>just when george banks has recovered from his ...</td>\n",
       "      <td>['parentchildrelationship', 'baby', 'midlifecr...</td>\n",
       "      <td>15.142</td>\n",
       "      <td>446.0</td>\n",
       "      <td>6.2</td>\n",
       "      <td>106.0</td>\n",
       "      <td>1995-12-08</td>\n",
       "    </tr>\n",
       "    <tr>\n",
       "      <th>...</th>\n",
       "      <td>...</td>\n",
       "      <td>...</td>\n",
       "      <td>...</td>\n",
       "      <td>...</td>\n",
       "      <td>...</td>\n",
       "      <td>...</td>\n",
       "      <td>...</td>\n",
       "      <td>...</td>\n",
       "      <td>...</td>\n",
       "      <td>...</td>\n",
       "      <td>...</td>\n",
       "      <td>...</td>\n",
       "      <td>...</td>\n",
       "      <td>...</td>\n",
       "    </tr>\n",
       "    <tr>\n",
       "      <th>23308</th>\n",
       "      <td>208843.0</td>\n",
       "      <td>553882</td>\n",
       "      <td>An Acceptable Loss (2019)</td>\n",
       "      <td>['an acceptable loss']</td>\n",
       "      <td>['drama', 'thriller']</td>\n",
       "      <td>['tikasumpter', 'jamieleecurtis', 'bentavassoli']</td>\n",
       "      <td>['joechappelle']</td>\n",
       "      <td>former top u.s. security adviser elizabeth \"li...</td>\n",
       "      <td>['regret', 'politician', 'betrayal', 'threat',...</td>\n",
       "      <td>7.757</td>\n",
       "      <td>42.0</td>\n",
       "      <td>6.3</td>\n",
       "      <td>102.0</td>\n",
       "      <td>2018-10-13</td>\n",
       "    </tr>\n",
       "    <tr>\n",
       "      <th>23309</th>\n",
       "      <td>208863.0</td>\n",
       "      <td>31006</td>\n",
       "      <td>Homicide: The Movie (2000)</td>\n",
       "      <td>['homicide: the movie']</td>\n",
       "      <td>['crime', 'drama']</td>\n",
       "      <td>['danielbaldwin', 'nedbeatty', 'richardbelzer']</td>\n",
       "      <td>['jeandesegonzac']</td>\n",
       "      <td>retired police lieutenant al giardello is runn...</td>\n",
       "      <td>['usa', 'baltimore']</td>\n",
       "      <td>3.374</td>\n",
       "      <td>12.0</td>\n",
       "      <td>6.9</td>\n",
       "      <td>89.0</td>\n",
       "      <td>2000-02-13</td>\n",
       "    </tr>\n",
       "    <tr>\n",
       "      <th>23310</th>\n",
       "      <td>208915.0</td>\n",
       "      <td>639832</td>\n",
       "      <td>Undercover Brother 2 (2019)</td>\n",
       "      <td>['undercover brother 2']</td>\n",
       "      <td>['action', 'comedy']</td>\n",
       "      <td>['michaeljaiwhite', 'barrybostwick', 'jeffdani...</td>\n",
       "      <td>['lesliesmall']</td>\n",
       "      <td>sixteen years ago, undercover brother and his ...</td>\n",
       "      <td>['spy']</td>\n",
       "      <td>19.101</td>\n",
       "      <td>14.0</td>\n",
       "      <td>3.9</td>\n",
       "      <td>85.0</td>\n",
       "      <td>2019-11-05</td>\n",
       "    </tr>\n",
       "    <tr>\n",
       "      <th>23311</th>\n",
       "      <td>208917.0</td>\n",
       "      <td>186021</td>\n",
       "      <td>Caicedo (with Pole) (1894)</td>\n",
       "      <td>['caicedo (with pole)']</td>\n",
       "      <td>['documentary']</td>\n",
       "      <td>['juana.caicedo']</td>\n",
       "      <td>['williamk.l.dickson']</td>\n",
       "      <td>king of the slack wire. his daring feats of ba...</td>\n",
       "      <td>['silentfilm', 'vaudeville', 'acrobats']</td>\n",
       "      <td>1.591</td>\n",
       "      <td>21.0</td>\n",
       "      <td>5.8</td>\n",
       "      <td>1.0</td>\n",
       "      <td>1894-07-25</td>\n",
       "    </tr>\n",
       "    <tr>\n",
       "      <th>23312</th>\n",
       "      <td>208939.0</td>\n",
       "      <td>508965</td>\n",
       "      <td>Klaus (2019)</td>\n",
       "      <td>['klaus']</td>\n",
       "      <td>['adventure', 'animation', 'children', 'comedy']</td>\n",
       "      <td>['jasonschwartzman', 'j.k.simmons', 'rashidajo...</td>\n",
       "      <td>['sergiopablos']</td>\n",
       "      <td>when jesper distinguishes himself as the posta...</td>\n",
       "      <td>['santaclaus', 'island', 'postman', 'friendshi...</td>\n",
       "      <td>77.986</td>\n",
       "      <td>1933.0</td>\n",
       "      <td>8.3</td>\n",
       "      <td>96.0</td>\n",
       "      <td>2019-11-08</td>\n",
       "    </tr>\n",
       "  </tbody>\n",
       "</table>\n",
       "<p>23308 rows × 14 columns</p>\n",
       "</div>"
      ],
      "text/plain": [
       "        movieId  tmdbId                               title  \\\n",
       "0           1.0     862                    Toy Story (1995)   \n",
       "1           2.0    8844                      Jumanji (1995)   \n",
       "2           3.0   15602             Grumpier Old Men (1995)   \n",
       "3           4.0   31357            Waiting to Exhale (1995)   \n",
       "4           5.0   11862  Father of the Bride Part II (1995)   \n",
       "...         ...     ...                                 ...   \n",
       "23308  208843.0  553882           An Acceptable Loss (2019)   \n",
       "23309  208863.0   31006          Homicide: The Movie (2000)   \n",
       "23310  208915.0  639832         Undercover Brother 2 (2019)   \n",
       "23311  208917.0  186021          Caicedo (with Pole) (1894)   \n",
       "23312  208939.0  508965                        Klaus (2019)   \n",
       "\n",
       "                           title_clean  \\\n",
       "0                        ['toy story']   \n",
       "1                          ['jumanji']   \n",
       "2                 ['grumpier old men']   \n",
       "3                ['waiting to exhale']   \n",
       "4      ['father of the bride part ii']   \n",
       "...                                ...   \n",
       "23308           ['an acceptable loss']   \n",
       "23309          ['homicide: the movie']   \n",
       "23310         ['undercover brother 2']   \n",
       "23311          ['caicedo (with pole)']   \n",
       "23312                        ['klaus']   \n",
       "\n",
       "                                                  genres  \\\n",
       "0      ['adventure', 'animation', 'children', 'comedy...   \n",
       "1                   ['adventure', 'children', 'fantasy']   \n",
       "2                                  ['comedy', 'romance']   \n",
       "3                         ['comedy', 'drama', 'romance']   \n",
       "4                                             ['comedy']   \n",
       "...                                                  ...   \n",
       "23308                              ['drama', 'thriller']   \n",
       "23309                                 ['crime', 'drama']   \n",
       "23310                               ['action', 'comedy']   \n",
       "23311                                    ['documentary']   \n",
       "23312   ['adventure', 'animation', 'children', 'comedy']   \n",
       "\n",
       "                                                  actors  \\\n",
       "0                 ['tomhanks', 'timallen', 'donrickles']   \n",
       "1      ['robinwilliams', 'jonathanhyde', 'kirstendunst']   \n",
       "2         ['waltermatthau', 'jacklemmon', 'ann-margret']   \n",
       "3      ['whitneyhouston', 'angelabassett', 'lorettade...   \n",
       "4          ['stevemartin', 'dianekeaton', 'martinshort']   \n",
       "...                                                  ...   \n",
       "23308  ['tikasumpter', 'jamieleecurtis', 'bentavassoli']   \n",
       "23309    ['danielbaldwin', 'nedbeatty', 'richardbelzer']   \n",
       "23310  ['michaeljaiwhite', 'barrybostwick', 'jeffdani...   \n",
       "23311                                  ['juana.caicedo']   \n",
       "23312  ['jasonschwartzman', 'j.k.simmons', 'rashidajo...   \n",
       "\n",
       "                    directors  \\\n",
       "0            ['johnlasseter']   \n",
       "1             ['joejohnston']   \n",
       "2            ['howarddeutch']   \n",
       "3          ['forestwhitaker']   \n",
       "4            ['charlesshyer']   \n",
       "...                       ...   \n",
       "23308        ['joechappelle']   \n",
       "23309      ['jeandesegonzac']   \n",
       "23310         ['lesliesmall']   \n",
       "23311  ['williamk.l.dickson']   \n",
       "23312        ['sergiopablos']   \n",
       "\n",
       "                                                overview  \\\n",
       "0      led by woody, andy's toys live happily in his ...   \n",
       "1      when siblings judy and peter discover an encha...   \n",
       "2      a family wedding reignites the ancient feud be...   \n",
       "3      cheated on, mistreated and stepped on, the wom...   \n",
       "4      just when george banks has recovered from his ...   \n",
       "...                                                  ...   \n",
       "23308  former top u.s. security adviser elizabeth \"li...   \n",
       "23309  retired police lieutenant al giardello is runn...   \n",
       "23310  sixteen years ago, undercover brother and his ...   \n",
       "23311  king of the slack wire. his daring feats of ba...   \n",
       "23312  when jesper distinguishes himself as the posta...   \n",
       "\n",
       "                                                keywords  popularity  \\\n",
       "0      ['martialarts', 'jealousy', 'toy', 'friendship...      70.910   \n",
       "1      ['giantinsect', 'boardgame', 'jungle', 'disapp...      11.919   \n",
       "2      ['fishing', 'oldman', 'bestfriend', 'duringcre...      13.122   \n",
       "3      ['basedonnovelorbook', 'interracialrelationshi...       5.123   \n",
       "4      ['parentchildrelationship', 'baby', 'midlifecr...      15.142   \n",
       "...                                                  ...         ...   \n",
       "23308  ['regret', 'politician', 'betrayal', 'threat',...       7.757   \n",
       "23309                               ['usa', 'baltimore']       3.374   \n",
       "23310                                            ['spy']      19.101   \n",
       "23311           ['silentfilm', 'vaudeville', 'acrobats']       1.591   \n",
       "23312  ['santaclaus', 'island', 'postman', 'friendshi...      77.986   \n",
       "\n",
       "       vote_count  vote_average  runtime     release  \n",
       "0         13173.0           7.9     81.0  1995-10-30  \n",
       "1          7711.0           7.2    104.0  1995-12-15  \n",
       "2           217.0           6.6    101.0  1995-12-22  \n",
       "3            79.0           6.2    127.0  1995-12-22  \n",
       "4           446.0           6.2    106.0  1995-12-08  \n",
       "...           ...           ...      ...         ...  \n",
       "23308        42.0           6.3    102.0  2018-10-13  \n",
       "23309        12.0           6.9     89.0  2000-02-13  \n",
       "23310        14.0           3.9     85.0  2019-11-05  \n",
       "23311        21.0           5.8      1.0  1894-07-25  \n",
       "23312      1933.0           8.3     96.0  2019-11-08  \n",
       "\n",
       "[23308 rows x 14 columns]"
      ]
     },
     "execution_count": 5,
     "metadata": {},
     "output_type": "execute_result"
    }
   ],
   "source": [
    "data"
   ]
  },
  {
   "cell_type": "markdown",
   "metadata": {},
   "source": [
    "## Database setup"
   ]
  },
  {
   "cell_type": "code",
   "execution_count": 6,
   "metadata": {
    "ExecuteTime": {
     "end_time": "2020-11-25T21:26:44.550620Z",
     "start_time": "2020-11-25T21:26:44.546631Z"
    }
   },
   "outputs": [],
   "source": [
    "import ast\n",
    "def api_to_dict(x):\n",
    "    return ast.literal_eval(x)"
   ]
  },
  {
   "cell_type": "code",
   "execution_count": 7,
   "metadata": {
    "ExecuteTime": {
     "end_time": "2020-11-25T21:26:44.558599Z",
     "start_time": "2020-11-25T21:26:44.551618Z"
    }
   },
   "outputs": [],
   "source": [
    "df = data.copy()"
   ]
  },
  {
   "cell_type": "code",
   "execution_count": 8,
   "metadata": {
    "ExecuteTime": {
     "end_time": "2020-11-25T21:26:44.571565Z",
     "start_time": "2020-11-25T21:26:44.559596Z"
    }
   },
   "outputs": [
    {
     "data": {
      "text/html": [
       "<div>\n",
       "<style scoped>\n",
       "    .dataframe tbody tr th:only-of-type {\n",
       "        vertical-align: middle;\n",
       "    }\n",
       "\n",
       "    .dataframe tbody tr th {\n",
       "        vertical-align: top;\n",
       "    }\n",
       "\n",
       "    .dataframe thead th {\n",
       "        text-align: right;\n",
       "    }\n",
       "</style>\n",
       "<table border=\"1\" class=\"dataframe\">\n",
       "  <thead>\n",
       "    <tr style=\"text-align: right;\">\n",
       "      <th></th>\n",
       "      <th>movieId</th>\n",
       "      <th>tmdbId</th>\n",
       "      <th>title</th>\n",
       "      <th>title_clean</th>\n",
       "      <th>genres</th>\n",
       "      <th>actors</th>\n",
       "      <th>directors</th>\n",
       "      <th>overview</th>\n",
       "      <th>keywords</th>\n",
       "      <th>popularity</th>\n",
       "      <th>vote_count</th>\n",
       "      <th>vote_average</th>\n",
       "      <th>runtime</th>\n",
       "      <th>release</th>\n",
       "    </tr>\n",
       "  </thead>\n",
       "  <tbody>\n",
       "    <tr>\n",
       "      <th>0</th>\n",
       "      <td>1.0</td>\n",
       "      <td>862</td>\n",
       "      <td>Toy Story (1995)</td>\n",
       "      <td>['toy story']</td>\n",
       "      <td>['adventure', 'animation', 'children', 'comedy...</td>\n",
       "      <td>['tomhanks', 'timallen', 'donrickles']</td>\n",
       "      <td>['johnlasseter']</td>\n",
       "      <td>led by woody, andy's toys live happily in his ...</td>\n",
       "      <td>['martialarts', 'jealousy', 'toy', 'friendship...</td>\n",
       "      <td>70.91</td>\n",
       "      <td>13173.0</td>\n",
       "      <td>7.9</td>\n",
       "      <td>81.0</td>\n",
       "      <td>1995-10-30</td>\n",
       "    </tr>\n",
       "  </tbody>\n",
       "</table>\n",
       "</div>"
      ],
      "text/plain": [
       "   movieId  tmdbId             title    title_clean  \\\n",
       "0      1.0     862  Toy Story (1995)  ['toy story']   \n",
       "\n",
       "                                              genres  \\\n",
       "0  ['adventure', 'animation', 'children', 'comedy...   \n",
       "\n",
       "                                   actors         directors  \\\n",
       "0  ['tomhanks', 'timallen', 'donrickles']  ['johnlasseter']   \n",
       "\n",
       "                                            overview  \\\n",
       "0  led by woody, andy's toys live happily in his ...   \n",
       "\n",
       "                                            keywords  popularity  vote_count  \\\n",
       "0  ['martialarts', 'jealousy', 'toy', 'friendship...       70.91     13173.0   \n",
       "\n",
       "   vote_average  runtime     release  \n",
       "0           7.9     81.0  1995-10-30  "
      ]
     },
     "execution_count": 8,
     "metadata": {},
     "output_type": "execute_result"
    }
   ],
   "source": [
    "df.head(1)"
   ]
  },
  {
   "cell_type": "code",
   "execution_count": 9,
   "metadata": {
    "ExecuteTime": {
     "end_time": "2020-11-25T21:26:45.334557Z",
     "start_time": "2020-11-25T21:26:44.572562Z"
    }
   },
   "outputs": [
    {
     "data": {
      "text/html": [
       "<div>\n",
       "<style scoped>\n",
       "    .dataframe tbody tr th:only-of-type {\n",
       "        vertical-align: middle;\n",
       "    }\n",
       "\n",
       "    .dataframe tbody tr th {\n",
       "        vertical-align: top;\n",
       "    }\n",
       "\n",
       "    .dataframe thead th {\n",
       "        text-align: right;\n",
       "    }\n",
       "</style>\n",
       "<table border=\"1\" class=\"dataframe\">\n",
       "  <thead>\n",
       "    <tr style=\"text-align: right;\">\n",
       "      <th></th>\n",
       "      <th>tmdbId</th>\n",
       "      <th>title</th>\n",
       "      <th>title_clean</th>\n",
       "      <th>genres</th>\n",
       "      <th>actors</th>\n",
       "      <th>directors</th>\n",
       "      <th>overview</th>\n",
       "      <th>keywords</th>\n",
       "    </tr>\n",
       "  </thead>\n",
       "  <tbody>\n",
       "    <tr>\n",
       "      <th>0</th>\n",
       "      <td>862</td>\n",
       "      <td>Toy Story (1995)</td>\n",
       "      <td>['toy story']</td>\n",
       "      <td>[adventure, animation, children, comedy, fantasy]</td>\n",
       "      <td>[tomhanks, timallen, donrickles]</td>\n",
       "      <td>['johnlasseter']</td>\n",
       "      <td>led by woody, andy's toys live happily in his ...</td>\n",
       "      <td>[martialarts, jealousy, toy, friendship, bully...</td>\n",
       "    </tr>\n",
       "  </tbody>\n",
       "</table>\n",
       "</div>"
      ],
      "text/plain": [
       "   tmdbId             title    title_clean  \\\n",
       "0     862  Toy Story (1995)  ['toy story']   \n",
       "\n",
       "                                              genres  \\\n",
       "0  [adventure, animation, children, comedy, fantasy]   \n",
       "\n",
       "                             actors         directors  \\\n",
       "0  [tomhanks, timallen, donrickles]  ['johnlasseter']   \n",
       "\n",
       "                                            overview  \\\n",
       "0  led by woody, andy's toys live happily in his ...   \n",
       "\n",
       "                                            keywords  \n",
       "0  [martialarts, jealousy, toy, friendship, bully...  "
      ]
     },
     "execution_count": 9,
     "metadata": {},
     "output_type": "execute_result"
    }
   ],
   "source": [
    "import ast\n",
    "df = data.copy()\n",
    "df.drop(columns=['popularity','movieId','vote_count','vote_average','runtime','release'],inplace = True)\n",
    "\n",
    "df['actors'] = df['actors'].apply(api_to_dict)\n",
    "df['keywords'] = df['keywords'].apply(api_to_dict)\n",
    "df['genres'] = df['genres'].apply(api_to_dict)\n",
    "\n",
    "df.head(1)"
   ]
  },
  {
   "cell_type": "markdown",
   "metadata": {},
   "source": [
    "### Overview setup"
   ]
  },
  {
   "cell_type": "markdown",
   "metadata": {},
   "source": [
    "#### Remove ponctuation and stopwords"
   ]
  },
  {
   "cell_type": "code",
   "execution_count": 10,
   "metadata": {
    "ExecuteTime": {
     "end_time": "2020-11-25T21:26:46.680927Z",
     "start_time": "2020-11-25T21:26:45.336519Z"
    }
   },
   "outputs": [],
   "source": [
    "import string \n",
    "from nltk.corpus import stopwords\n",
    "from nltk.tokenize import word_tokenize"
   ]
  },
  {
   "cell_type": "code",
   "execution_count": 11,
   "metadata": {
    "ExecuteTime": {
     "end_time": "2020-11-25T21:26:46.685912Z",
     "start_time": "2020-11-25T21:26:46.681922Z"
    }
   },
   "outputs": [],
   "source": [
    "def remove_punctuation(x):\n",
    "    for i in string.punctuation:\n",
    "        x = x.replace(i, '')\n",
    "    return x"
   ]
  },
  {
   "cell_type": "code",
   "execution_count": 12,
   "metadata": {
    "ExecuteTime": {
     "end_time": "2020-11-25T21:26:46.692892Z",
     "start_time": "2020-11-25T21:26:46.686908Z"
    }
   },
   "outputs": [],
   "source": [
    "def stop_words(x):\n",
    "    stop_words = set(stopwords.words('english'))\n",
    "    word_tokens = word_tokenize(x)\n",
    "    x = [w for w in word_tokens if not w in stop_words] \n",
    "  \n",
    "    return x"
   ]
  },
  {
   "cell_type": "code",
   "execution_count": 13,
   "metadata": {
    "ExecuteTime": {
     "end_time": "2020-11-25T21:27:11.579358Z",
     "start_time": "2020-11-25T21:26:46.693890Z"
    }
   },
   "outputs": [],
   "source": [
    "df['title_clean'] = df['title_clean'].apply(remove_punctuation)\n",
    "df['title_clean'] = df['title_clean'].apply(stop_words)\n",
    "df['overview'] = df['overview'].apply(remove_punctuation)\n",
    "df['overview'] = df['overview'].apply(stop_words)\n",
    "df['directors'] = df['directors'].apply(remove_punctuation)\n",
    "df['directors'] = df['directors'].apply(stop_words)"
   ]
  },
  {
   "cell_type": "code",
   "execution_count": 14,
   "metadata": {
    "ExecuteTime": {
     "end_time": "2020-11-25T21:27:11.586335Z",
     "start_time": "2020-11-25T21:27:11.581347Z"
    }
   },
   "outputs": [],
   "source": [
    "def to_string(x):\n",
    "    x = ' '.join(x)\n",
    "    return x"
   ]
  },
  {
   "cell_type": "code",
   "execution_count": 15,
   "metadata": {
    "ExecuteTime": {
     "end_time": "2020-11-25T21:27:12.761280Z",
     "start_time": "2020-11-25T21:27:11.588338Z"
    }
   },
   "outputs": [],
   "source": [
    "#Tudão Bolado\n",
    "df['soup_1'] = (df['genres'] + df['actors'] + df['keywords'] + df['overview'] + df['directors'] + df['title_clean']).map(to_string)\n",
    "\n",
    "#Sem title\n",
    "df['soup_2'] = (df['genres'] + df['actors'] + df['keywords'] + df['overview'] + df['directors']).map(to_string)\n",
    "\n",
    "#Sem overview e title\n",
    "df['soup_3'] = (df['genres'] + df['actors'] + df['keywords'] + df['directors']).map(to_string)\n",
    "\n",
    "#Sem Key words\n",
    "df['soup_4'] = (df['genres'] + df['actors'] + df['overview'] + df['directors'] + df['title_clean']).map(to_string)\n",
    "\n",
    "#Sem Key words e Title\n",
    "df['soup_5'] = (df['genres'] + df['actors'] + df['overview'] + df['directors']).map(to_string)\n",
    "\n",
    "#Sem Actors e Directors\n",
    "df['soup_6'] = (df['genres'] + df['keywords'] + df['overview']).map(to_string)\n",
    "\n",
    "#Genres e KW\n",
    "df['soup_7'] = (df['genres'] + df['keywords']).map(to_string)\n",
    "\n",
    "#Genres e Overview\n",
    "df['soup_8'] = (df['genres'] + df['overview']).map(to_string)"
   ]
  },
  {
   "cell_type": "code",
   "execution_count": 16,
   "metadata": {
    "ExecuteTime": {
     "end_time": "2020-11-25T21:27:12.780141Z",
     "start_time": "2020-11-25T21:27:12.762189Z"
    }
   },
   "outputs": [
    {
     "data": {
      "text/html": [
       "<div>\n",
       "<style scoped>\n",
       "    .dataframe tbody tr th:only-of-type {\n",
       "        vertical-align: middle;\n",
       "    }\n",
       "\n",
       "    .dataframe tbody tr th {\n",
       "        vertical-align: top;\n",
       "    }\n",
       "\n",
       "    .dataframe thead th {\n",
       "        text-align: right;\n",
       "    }\n",
       "</style>\n",
       "<table border=\"1\" class=\"dataframe\">\n",
       "  <thead>\n",
       "    <tr style=\"text-align: right;\">\n",
       "      <th></th>\n",
       "      <th>tmdbId</th>\n",
       "      <th>title</th>\n",
       "      <th>title_clean</th>\n",
       "      <th>genres</th>\n",
       "      <th>actors</th>\n",
       "      <th>directors</th>\n",
       "      <th>overview</th>\n",
       "      <th>keywords</th>\n",
       "      <th>soup_1</th>\n",
       "      <th>soup_2</th>\n",
       "      <th>soup_3</th>\n",
       "      <th>soup_4</th>\n",
       "      <th>soup_5</th>\n",
       "      <th>soup_6</th>\n",
       "      <th>soup_7</th>\n",
       "      <th>soup_8</th>\n",
       "    </tr>\n",
       "  </thead>\n",
       "  <tbody>\n",
       "    <tr>\n",
       "      <th>0</th>\n",
       "      <td>862</td>\n",
       "      <td>Toy Story (1995)</td>\n",
       "      <td>[toy, story]</td>\n",
       "      <td>[adventure, animation, children, comedy, fantasy]</td>\n",
       "      <td>[tomhanks, timallen, donrickles]</td>\n",
       "      <td>[johnlasseter]</td>\n",
       "      <td>[led, woody, andys, toys, live, happily, room,...</td>\n",
       "      <td>[martialarts, jealousy, toy, friendship, bully...</td>\n",
       "      <td>adventure animation children comedy fantasy to...</td>\n",
       "      <td>adventure animation children comedy fantasy to...</td>\n",
       "      <td>adventure animation children comedy fantasy to...</td>\n",
       "      <td>adventure animation children comedy fantasy to...</td>\n",
       "      <td>adventure animation children comedy fantasy to...</td>\n",
       "      <td>adventure animation children comedy fantasy ma...</td>\n",
       "      <td>adventure animation children comedy fantasy ma...</td>\n",
       "      <td>adventure animation children comedy fantasy le...</td>\n",
       "    </tr>\n",
       "    <tr>\n",
       "      <th>1</th>\n",
       "      <td>8844</td>\n",
       "      <td>Jumanji (1995)</td>\n",
       "      <td>[jumanji]</td>\n",
       "      <td>[adventure, children, fantasy]</td>\n",
       "      <td>[robinwilliams, jonathanhyde, kirstendunst]</td>\n",
       "      <td>[joejohnston]</td>\n",
       "      <td>[siblings, judy, peter, discover, enchanted, b...</td>\n",
       "      <td>[giantinsect, boardgame, jungle, disappearance...</td>\n",
       "      <td>adventure children fantasy robinwilliams jonat...</td>\n",
       "      <td>adventure children fantasy robinwilliams jonat...</td>\n",
       "      <td>adventure children fantasy robinwilliams jonat...</td>\n",
       "      <td>adventure children fantasy robinwilliams jonat...</td>\n",
       "      <td>adventure children fantasy robinwilliams jonat...</td>\n",
       "      <td>adventure children fantasy giantinsect boardga...</td>\n",
       "      <td>adventure children fantasy giantinsect boardga...</td>\n",
       "      <td>adventure children fantasy siblings judy peter...</td>\n",
       "    </tr>\n",
       "  </tbody>\n",
       "</table>\n",
       "</div>"
      ],
      "text/plain": [
       "   tmdbId             title   title_clean  \\\n",
       "0     862  Toy Story (1995)  [toy, story]   \n",
       "1    8844    Jumanji (1995)     [jumanji]   \n",
       "\n",
       "                                              genres  \\\n",
       "0  [adventure, animation, children, comedy, fantasy]   \n",
       "1                     [adventure, children, fantasy]   \n",
       "\n",
       "                                        actors       directors  \\\n",
       "0             [tomhanks, timallen, donrickles]  [johnlasseter]   \n",
       "1  [robinwilliams, jonathanhyde, kirstendunst]   [joejohnston]   \n",
       "\n",
       "                                            overview  \\\n",
       "0  [led, woody, andys, toys, live, happily, room,...   \n",
       "1  [siblings, judy, peter, discover, enchanted, b...   \n",
       "\n",
       "                                            keywords  \\\n",
       "0  [martialarts, jealousy, toy, friendship, bully...   \n",
       "1  [giantinsect, boardgame, jungle, disappearance...   \n",
       "\n",
       "                                              soup_1  \\\n",
       "0  adventure animation children comedy fantasy to...   \n",
       "1  adventure children fantasy robinwilliams jonat...   \n",
       "\n",
       "                                              soup_2  \\\n",
       "0  adventure animation children comedy fantasy to...   \n",
       "1  adventure children fantasy robinwilliams jonat...   \n",
       "\n",
       "                                              soup_3  \\\n",
       "0  adventure animation children comedy fantasy to...   \n",
       "1  adventure children fantasy robinwilliams jonat...   \n",
       "\n",
       "                                              soup_4  \\\n",
       "0  adventure animation children comedy fantasy to...   \n",
       "1  adventure children fantasy robinwilliams jonat...   \n",
       "\n",
       "                                              soup_5  \\\n",
       "0  adventure animation children comedy fantasy to...   \n",
       "1  adventure children fantasy robinwilliams jonat...   \n",
       "\n",
       "                                              soup_6  \\\n",
       "0  adventure animation children comedy fantasy ma...   \n",
       "1  adventure children fantasy giantinsect boardga...   \n",
       "\n",
       "                                              soup_7  \\\n",
       "0  adventure animation children comedy fantasy ma...   \n",
       "1  adventure children fantasy giantinsect boardga...   \n",
       "\n",
       "                                              soup_8  \n",
       "0  adventure animation children comedy fantasy le...  \n",
       "1  adventure children fantasy siblings judy peter...  "
      ]
     },
     "execution_count": 16,
     "metadata": {},
     "output_type": "execute_result"
    }
   ],
   "source": [
    "df.head(2)"
   ]
  },
  {
   "cell_type": "code",
   "execution_count": 18,
   "metadata": {
    "ExecuteTime": {
     "end_time": "2020-11-25T21:27:51.656288Z",
     "start_time": "2020-11-25T21:27:45.735027Z"
    }
   },
   "outputs": [],
   "source": [
    "# Import CountVectorizer and create the count matrix\n",
    "from sklearn.feature_extraction.text import CountVectorizer\n",
    "\n",
    "count1 = CountVectorizer()\n",
    "count_matrix1 = count1.fit_transform(df['soup_1'])\n",
    "\n",
    "count2 = CountVectorizer()\n",
    "count_matrix2 = count2.fit_transform(df['soup_2'])\n",
    "\n",
    "count3 = CountVectorizer()\n",
    "count_matrix3 = count3.fit_transform(df['soup_3'])\n",
    "\n",
    "count4 = CountVectorizer()\n",
    "count_matrix4 = count4.fit_transform(df['soup_4'])\n",
    "\n",
    "count5 = CountVectorizer()\n",
    "count_matrix5 = count5.fit_transform(df['soup_5'])\n",
    "\n",
    "count6 = CountVectorizer()\n",
    "count_matrix6 = count6.fit_transform(df['soup_6'])\n",
    "\n",
    "count7 = CountVectorizer()\n",
    "count_matrix7 = count7.fit_transform(df['soup_7'])\n",
    "\n",
    "count8 = CountVectorizer()\n",
    "count_matrix8 = count8.fit_transform(df['soup_8'])"
   ]
  },
  {
   "cell_type": "code",
   "execution_count": 19,
   "metadata": {
    "ExecuteTime": {
     "end_time": "2020-11-25T21:29:38.658094Z",
     "start_time": "2020-11-25T21:27:53.280851Z"
    }
   },
   "outputs": [],
   "source": [
    "# Compute the Cosine Similarity matrix based on the count_matrix\n",
    "from sklearn.metrics.pairwise import cosine_similarity\n",
    "\n",
    "cosine_sim1 = cosine_similarity(count_matrix1, count_matrix1)\n",
    "cosine_sim2 = cosine_similarity(count_matrix2, count_matrix2)\n",
    "cosine_sim3 = cosine_similarity(count_matrix3, count_matrix3)\n",
    "cosine_sim4 = cosine_similarity(count_matrix4, count_matrix4)\n",
    "cosine_sim5 = cosine_similarity(count_matrix5, count_matrix5)\n",
    "cosine_sim6 = cosine_similarity(count_matrix6, count_matrix6)\n",
    "cosine_sim7 = cosine_similarity(count_matrix7, count_matrix7)\n",
    "cosine_sim8 = cosine_similarity(count_matrix8, count_matrix8)"
   ]
  },
  {
   "cell_type": "code",
   "execution_count": 20,
   "metadata": {
    "ExecuteTime": {
     "end_time": "2020-11-25T21:29:49.340532Z",
     "start_time": "2020-11-25T21:29:48.464874Z"
    }
   },
   "outputs": [],
   "source": [
    "df2 = df.copy()"
   ]
  },
  {
   "cell_type": "code",
   "execution_count": 21,
   "metadata": {
    "ExecuteTime": {
     "end_time": "2020-11-25T21:29:56.961240Z",
     "start_time": "2020-11-25T21:29:56.915279Z"
    }
   },
   "outputs": [],
   "source": [
    "# Reset index of our main DataFrame and construct reverse mapping as before\n",
    "df2 = df2.reset_index()\n",
    "indices = pd.Series(df2.index, index=df2['title'])"
   ]
  },
  {
   "cell_type": "code",
   "execution_count": 24,
   "metadata": {
    "ExecuteTime": {
     "end_time": "2020-11-25T21:30:56.842048Z",
     "start_time": "2020-11-25T21:30:56.837063Z"
    }
   },
   "outputs": [],
   "source": [
    "# Function that takes in movie title as input and outputs most similar movies\n",
    "def get_recommendations(title, cosine_sim):\n",
    "    # Get the index of the movie that matches the title\n",
    "    idx = indices[title]\n",
    "\n",
    "    # Get the pairwsie similarity scores of all movies with that movie\n",
    "    sim_scores = list(enumerate(cosine_sim[idx]))\n",
    "\n",
    "    # Sort the movies based on the similarity scores\n",
    "    sim_scores = sorted(sim_scores, key=lambda x: x[1], reverse=True)\n",
    "\n",
    "    # Get the scores of the 10 most similar movies\n",
    "    sim_scores = sim_scores[1:11]\n",
    "\n",
    "    # Get the movie indices\n",
    "    movie_indices = [i[0] for i in sim_scores]\n",
    "\n",
    "    # Return the top 10 most similar movies\n",
    "    return df2['title'].iloc[movie_indices]"
   ]
  },
  {
   "cell_type": "code",
   "execution_count": 25,
   "metadata": {
    "ExecuteTime": {
     "end_time": "2020-11-25T21:31:46.885284Z",
     "start_time": "2020-11-25T21:31:46.833392Z"
    }
   },
   "outputs": [
    {
     "data": {
      "text/plain": [
       "8739                               Dark Knight, The (2008)\n",
       "7280                                  Batman Begins (2005)\n",
       "20844                    Batman: Gotham by Gaslight (2018)\n",
       "20160                           Batman vs. Two-Face (2017)\n",
       "11206                              Batman and Robin (1949)\n",
       "113                                  Batman Forever (1995)\n",
       "18735                         DC Showcase: Catwoman (2011)\n",
       "2585                                     Death Wish (1974)\n",
       "482                                          Batman (1989)\n",
       "18736    Batman Beyond Darwyn Cooke's Batman 75th Anniv...\n",
       "Name: title, dtype: object"
      ]
     },
     "execution_count": 25,
     "metadata": {},
     "output_type": "execute_result"
    }
   ],
   "source": [
    "get_recommendations('Dark Knight Rises, The (2012)', cosine_sim1)"
   ]
  },
  {
   "cell_type": "code",
   "execution_count": 27,
   "metadata": {
    "ExecuteTime": {
     "end_time": "2020-11-25T21:31:54.299429Z",
     "start_time": "2020-11-25T21:31:54.273499Z"
    }
   },
   "outputs": [
    {
     "data": {
      "text/plain": [
       "8739                               Dark Knight, The (2008)\n",
       "7280                                  Batman Begins (2005)\n",
       "11206                              Batman and Robin (1949)\n",
       "18735                         DC Showcase: Catwoman (2011)\n",
       "20160                           Batman vs. Two-Face (2017)\n",
       "20844                    Batman: Gotham by Gaslight (2018)\n",
       "18416    LEGO DC Comics Super Heroes: Batman: Be-League...\n",
       "13132                  Teenage Mutant Ninja Turtles (2014)\n",
       "23244              LEGO DC: Batman - Family Matters (2019)\n",
       "482                                          Batman (1989)\n",
       "Name: title, dtype: object"
      ]
     },
     "execution_count": 27,
     "metadata": {},
     "output_type": "execute_result"
    }
   ],
   "source": [
    "get_recommendations('Dark Knight Rises, The (2012)', cosine_sim2)"
   ]
  },
  {
   "cell_type": "code",
   "execution_count": 28,
   "metadata": {
    "ExecuteTime": {
     "end_time": "2020-11-25T21:31:57.786106Z",
     "start_time": "2020-11-25T21:31:57.761173Z"
    }
   },
   "outputs": [
    {
     "data": {
      "text/plain": [
       "8739                               Dark Knight, The (2008)\n",
       "7280                                  Batman Begins (2005)\n",
       "7851                               Superman Returns (2006)\n",
       "12245                                  Man of Steel (2013)\n",
       "12372                                    Kick-Ass 2 (2013)\n",
       "11205                                        Batman (1943)\n",
       "12557                          Thor: The Dark World (2013)\n",
       "15741            Batman v Superman: Dawn of Justice (2016)\n",
       "14233    Star Wars: Episode VII - The Force Awakens (2015)\n",
       "9033                                      Eagle Eye (2008)\n",
       "Name: title, dtype: object"
      ]
     },
     "execution_count": 28,
     "metadata": {},
     "output_type": "execute_result"
    }
   ],
   "source": [
    "get_recommendations('Dark Knight Rises, The (2012)', cosine_sim3)"
   ]
  },
  {
   "cell_type": "code",
   "execution_count": 29,
   "metadata": {
    "ExecuteTime": {
     "end_time": "2020-11-25T21:32:03.241528Z",
     "start_time": "2020-11-25T21:32:03.216586Z"
    }
   },
   "outputs": [
    {
     "data": {
      "text/plain": [
       "8739                               Dark Knight, The (2008)\n",
       "7280                                  Batman Begins (2005)\n",
       "113                                  Batman Forever (1995)\n",
       "20844                    Batman: Gotham by Gaslight (2018)\n",
       "18736    Batman Beyond Darwyn Cooke's Batman 75th Anniv...\n",
       "20160                           Batman vs. Two-Face (2017)\n",
       "482                                          Batman (1989)\n",
       "11206                              Batman and Robin (1949)\n",
       "1009                                 Batman Returns (1992)\n",
       "18416    LEGO DC Comics Super Heroes: Batman: Be-League...\n",
       "Name: title, dtype: object"
      ]
     },
     "execution_count": 29,
     "metadata": {},
     "output_type": "execute_result"
    }
   ],
   "source": [
    "get_recommendations('Dark Knight Rises, The (2012)', cosine_sim4)"
   ]
  },
  {
   "cell_type": "code",
   "execution_count": 30,
   "metadata": {
    "ExecuteTime": {
     "end_time": "2020-11-25T21:32:08.201288Z",
     "start_time": "2020-11-25T21:32:08.177323Z"
    }
   },
   "outputs": [
    {
     "data": {
      "text/plain": [
       "8739                               Dark Knight, The (2008)\n",
       "7280                                  Batman Begins (2005)\n",
       "113                                  Batman Forever (1995)\n",
       "20844                    Batman: Gotham by Gaslight (2018)\n",
       "18416    LEGO DC Comics Super Heroes: Batman: Be-League...\n",
       "23244              LEGO DC: Batman - Family Matters (2019)\n",
       "482                                          Batman (1989)\n",
       "20160                           Batman vs. Two-Face (2017)\n",
       "18735                         DC Showcase: Catwoman (2011)\n",
       "1009                                 Batman Returns (1992)\n",
       "Name: title, dtype: object"
      ]
     },
     "execution_count": 30,
     "metadata": {},
     "output_type": "execute_result"
    }
   ],
   "source": [
    "get_recommendations('Dark Knight Rises, The (2012)', cosine_sim5)"
   ]
  },
  {
   "cell_type": "code",
   "execution_count": 31,
   "metadata": {
    "ExecuteTime": {
     "end_time": "2020-11-25T21:32:13.406341Z",
     "start_time": "2020-11-25T21:32:13.377419Z"
    }
   },
   "outputs": [
    {
     "data": {
      "text/plain": [
       "8739                               Dark Knight, The (2008)\n",
       "7280                                  Batman Begins (2005)\n",
       "11206                              Batman and Robin (1949)\n",
       "18735                         DC Showcase: Catwoman (2011)\n",
       "20844                    Batman: Gotham by Gaslight (2018)\n",
       "20160                           Batman vs. Two-Face (2017)\n",
       "18416    LEGO DC Comics Super Heroes: Batman: Be-League...\n",
       "23244              LEGO DC: Batman - Family Matters (2019)\n",
       "13132                  Teenage Mutant Ninja Turtles (2014)\n",
       "482                                          Batman (1989)\n",
       "Name: title, dtype: object"
      ]
     },
     "execution_count": 31,
     "metadata": {},
     "output_type": "execute_result"
    }
   ],
   "source": [
    "get_recommendations('Dark Knight Rises, The (2012)', cosine_sim6)"
   ]
  },
  {
   "cell_type": "code",
   "execution_count": 32,
   "metadata": {
    "ExecuteTime": {
     "end_time": "2020-11-25T21:32:17.829515Z",
     "start_time": "2020-11-25T21:32:17.809568Z"
    }
   },
   "outputs": [
    {
     "data": {
      "text/plain": [
       "8739                              Dark Knight, The (2008)\n",
       "7280                                 Batman Begins (2005)\n",
       "12372                                   Kick-Ass 2 (2013)\n",
       "7851                              Superman Returns (2006)\n",
       "12245                                 Man of Steel (2013)\n",
       "15635    Iron Man & Captain America: Heroes United (2014)\n",
       "16280               Iron Man & Hulk: Heroes United (2013)\n",
       "19906                        Batman & Harley Quinn (2017)\n",
       "22630                                 Batman: Hush (2019)\n",
       "11205                                       Batman (1943)\n",
       "Name: title, dtype: object"
      ]
     },
     "execution_count": 32,
     "metadata": {},
     "output_type": "execute_result"
    }
   ],
   "source": [
    "get_recommendations('Dark Knight Rises, The (2012)', cosine_sim7)"
   ]
  },
  {
   "cell_type": "code",
   "execution_count": 33,
   "metadata": {
    "ExecuteTime": {
     "end_time": "2020-11-25T21:32:24.070828Z",
     "start_time": "2020-11-25T21:32:24.049883Z"
    }
   },
   "outputs": [
    {
     "data": {
      "text/plain": [
       "8739                               Dark Knight, The (2008)\n",
       "113                                  Batman Forever (1995)\n",
       "20844                    Batman: Gotham by Gaslight (2018)\n",
       "18416    LEGO DC Comics Super Heroes: Batman: Be-League...\n",
       "7280                                  Batman Begins (2005)\n",
       "23244              LEGO DC: Batman - Family Matters (2019)\n",
       "18735                         DC Showcase: Catwoman (2011)\n",
       "20160                           Batman vs. Two-Face (2017)\n",
       "11206                              Batman and Robin (1949)\n",
       "482                                          Batman (1989)\n",
       "Name: title, dtype: object"
      ]
     },
     "execution_count": 33,
     "metadata": {},
     "output_type": "execute_result"
    }
   ],
   "source": [
    "get_recommendations('Dark Knight Rises, The (2012)', cosine_sim8)"
   ]
  },
  {
   "cell_type": "code",
   "execution_count": null,
   "metadata": {},
   "outputs": [],
   "source": []
  }
 ],
 "metadata": {
  "kernelspec": {
   "display_name": "Python 3",
   "language": "python",
   "name": "python3"
  },
  "toc": {
   "base_numbering": 1,
   "nav_menu": {},
   "number_sections": true,
   "sideBar": true,
   "skip_h1_title": false,
   "title_cell": "Table of Contents",
   "title_sidebar": "Contents",
   "toc_cell": false,
   "toc_position": {},
   "toc_section_display": true,
   "toc_window_display": false
  },
  "varInspector": {
   "cols": {
    "lenName": 16,
    "lenType": 16,
    "lenVar": 40
   },
   "kernels_config": {
    "python": {
     "delete_cmd_postfix": "",
     "delete_cmd_prefix": "del ",
     "library": "var_list.py",
     "varRefreshCmd": "print(var_dic_list())"
    },
    "r": {
     "delete_cmd_postfix": ") ",
     "delete_cmd_prefix": "rm(",
     "library": "var_list.r",
     "varRefreshCmd": "cat(var_dic_list()) "
    }
   },
   "types_to_exclude": [
    "module",
    "function",
    "builtin_function_or_method",
    "instance",
    "_Feature"
   ],
   "window_display": false
  }
 },
 "nbformat": 4,
 "nbformat_minor": 4
}
