{
 "cells": [
  {
   "cell_type": "markdown",
   "metadata": {},
   "source": [
    "# Movie Recomendation - Similarity Model"
   ]
  },
  {
   "cell_type": "markdown",
   "metadata": {},
   "source": [
    "The purpose of this motel is to get recomendations of movies based on a selected movie and related features."
   ]
  },
  {
   "cell_type": "code",
   "execution_count": 1,
   "metadata": {
    "ExecuteTime": {
     "end_time": "2020-11-25T20:30:32.919271Z",
     "start_time": "2020-11-25T20:30:32.914284Z"
    },
    "execution": {
     "iopub.execute_input": "2020-11-25T21:29:43.896713Z",
     "iopub.status.busy": "2020-11-25T21:29:43.896245Z",
     "iopub.status.idle": "2020-11-25T21:29:43.903606Z",
     "shell.execute_reply": "2020-11-25T21:29:43.901532Z",
     "shell.execute_reply.started": "2020-11-25T21:29:43.896626Z"
    }
   },
   "outputs": [],
   "source": [
    "# from nltk.corpus import stopwords \n",
    "# from nltk.tokenize import word_tokenize\n",
    "# def stop_words(x):\n",
    "#     text = ' '.join(x)\n",
    "#     stop_words = set(stopwords.words('english')) \n",
    "#     word_tokens = word_tokenize(text) \n",
    "#     text = [w for w in word_tokens if not w in stop_words] \n",
    "#     return text"
   ]
  },
  {
   "cell_type": "code",
   "execution_count": 2,
   "metadata": {
    "ExecuteTime": {
     "end_time": "2020-11-25T20:30:33.290310Z",
     "start_time": "2020-11-25T20:30:32.921265Z"
    },
    "execution": {
     "iopub.execute_input": "2020-11-25T21:29:43.919916Z",
     "iopub.status.busy": "2020-11-25T21:29:43.919183Z",
     "iopub.status.idle": "2020-11-25T21:29:44.243418Z",
     "shell.execute_reply": "2020-11-25T21:29:44.242480Z",
     "shell.execute_reply.started": "2020-11-25T21:29:43.919867Z"
    }
   },
   "outputs": [],
   "source": [
    "import pandas as pd\n",
    "import numpy as np"
   ]
  },
  {
   "cell_type": "markdown",
   "metadata": {},
   "source": [
    "## Importing Database"
   ]
  },
  {
   "cell_type": "code",
   "execution_count": 3,
   "metadata": {
    "ExecuteTime": {
     "end_time": "2020-11-25T20:30:33.457867Z",
     "start_time": "2020-11-25T20:30:33.291275Z"
    },
    "execution": {
     "iopub.execute_input": "2020-11-25T21:29:44.289770Z",
     "iopub.status.busy": "2020-11-25T21:29:44.289212Z",
     "iopub.status.idle": "2020-11-25T21:29:44.544265Z",
     "shell.execute_reply": "2020-11-25T21:29:44.543385Z",
     "shell.execute_reply.started": "2020-11-25T21:29:44.289711Z"
    }
   },
   "outputs": [],
   "source": [
    "data = pd.read_csv('../raw_data/treated-db/data.csv')"
   ]
  },
  {
   "cell_type": "code",
   "execution_count": 4,
   "metadata": {
    "ExecuteTime": {
     "end_time": "2020-11-25T20:30:33.483794Z",
     "start_time": "2020-11-25T20:30:33.461819Z"
    },
    "execution": {
     "iopub.execute_input": "2020-11-25T21:29:44.545937Z",
     "iopub.status.busy": "2020-11-25T21:29:44.545632Z",
     "iopub.status.idle": "2020-11-25T21:29:44.622246Z",
     "shell.execute_reply": "2020-11-25T21:29:44.621453Z",
     "shell.execute_reply.started": "2020-11-25T21:29:44.545910Z"
    }
   },
   "outputs": [],
   "source": [
    "data.dropna(inplace=True)"
   ]
  },
  {
   "cell_type": "code",
   "execution_count": 5,
   "metadata": {
    "ExecuteTime": {
     "end_time": "2020-11-25T20:30:33.510721Z",
     "start_time": "2020-11-25T20:30:33.484757Z"
    },
    "execution": {
     "iopub.execute_input": "2020-11-25T21:29:44.624068Z",
     "iopub.status.busy": "2020-11-25T21:29:44.623620Z",
     "iopub.status.idle": "2020-11-25T21:29:44.719569Z",
     "shell.execute_reply": "2020-11-25T21:29:44.712996Z",
     "shell.execute_reply.started": "2020-11-25T21:29:44.623995Z"
    }
   },
   "outputs": [
    {
     "data": {
      "text/html": [
       "<div>\n",
       "<style scoped>\n",
       "    .dataframe tbody tr th:only-of-type {\n",
       "        vertical-align: middle;\n",
       "    }\n",
       "\n",
       "    .dataframe tbody tr th {\n",
       "        vertical-align: top;\n",
       "    }\n",
       "\n",
       "    .dataframe thead th {\n",
       "        text-align: right;\n",
       "    }\n",
       "</style>\n",
       "<table border=\"1\" class=\"dataframe\">\n",
       "  <thead>\n",
       "    <tr style=\"text-align: right;\">\n",
       "      <th></th>\n",
       "      <th>movieId</th>\n",
       "      <th>tmdbId</th>\n",
       "      <th>title</th>\n",
       "      <th>title_clean</th>\n",
       "      <th>genres</th>\n",
       "      <th>actors</th>\n",
       "      <th>directors</th>\n",
       "      <th>overview</th>\n",
       "      <th>keywords</th>\n",
       "      <th>popularity</th>\n",
       "      <th>vote_count</th>\n",
       "      <th>vote_average</th>\n",
       "      <th>runtime</th>\n",
       "      <th>release</th>\n",
       "    </tr>\n",
       "  </thead>\n",
       "  <tbody>\n",
       "    <tr>\n",
       "      <th>0</th>\n",
       "      <td>1.0</td>\n",
       "      <td>862</td>\n",
       "      <td>Toy Story (1995)</td>\n",
       "      <td>['toy story']</td>\n",
       "      <td>['adventure', 'animation', 'children', 'comedy...</td>\n",
       "      <td>['tomhanks', 'timallen', 'donrickles']</td>\n",
       "      <td>['johnlasseter']</td>\n",
       "      <td>led by woody, andy's toys live happily in his ...</td>\n",
       "      <td>['martialarts', 'jealousy', 'toy', 'friendship...</td>\n",
       "      <td>70.910</td>\n",
       "      <td>13173.0</td>\n",
       "      <td>7.9</td>\n",
       "      <td>81.0</td>\n",
       "      <td>1995-10-30</td>\n",
       "    </tr>\n",
       "    <tr>\n",
       "      <th>1</th>\n",
       "      <td>2.0</td>\n",
       "      <td>8844</td>\n",
       "      <td>Jumanji (1995)</td>\n",
       "      <td>['jumanji']</td>\n",
       "      <td>['adventure', 'children', 'fantasy']</td>\n",
       "      <td>['robinwilliams', 'jonathanhyde', 'kirstendunst']</td>\n",
       "      <td>['joejohnston']</td>\n",
       "      <td>when siblings judy and peter discover an encha...</td>\n",
       "      <td>['giantinsect', 'boardgame', 'jungle', 'disapp...</td>\n",
       "      <td>11.919</td>\n",
       "      <td>7711.0</td>\n",
       "      <td>7.2</td>\n",
       "      <td>104.0</td>\n",
       "      <td>1995-12-15</td>\n",
       "    </tr>\n",
       "    <tr>\n",
       "      <th>2</th>\n",
       "      <td>3.0</td>\n",
       "      <td>15602</td>\n",
       "      <td>Grumpier Old Men (1995)</td>\n",
       "      <td>['grumpier old men']</td>\n",
       "      <td>['comedy', 'romance']</td>\n",
       "      <td>['waltermatthau', 'jacklemmon', 'ann-margret']</td>\n",
       "      <td>['howarddeutch']</td>\n",
       "      <td>a family wedding reignites the ancient feud be...</td>\n",
       "      <td>['fishing', 'oldman', 'bestfriend', 'duringcre...</td>\n",
       "      <td>13.122</td>\n",
       "      <td>217.0</td>\n",
       "      <td>6.6</td>\n",
       "      <td>101.0</td>\n",
       "      <td>1995-12-22</td>\n",
       "    </tr>\n",
       "    <tr>\n",
       "      <th>3</th>\n",
       "      <td>4.0</td>\n",
       "      <td>31357</td>\n",
       "      <td>Waiting to Exhale (1995)</td>\n",
       "      <td>['waiting to exhale']</td>\n",
       "      <td>['comedy', 'drama', 'romance']</td>\n",
       "      <td>['whitneyhouston', 'angelabassett', 'lorettade...</td>\n",
       "      <td>['forestwhitaker']</td>\n",
       "      <td>cheated on, mistreated and stepped on, the wom...</td>\n",
       "      <td>['basedonnovelorbook', 'interracialrelationshi...</td>\n",
       "      <td>5.123</td>\n",
       "      <td>79.0</td>\n",
       "      <td>6.2</td>\n",
       "      <td>127.0</td>\n",
       "      <td>1995-12-22</td>\n",
       "    </tr>\n",
       "    <tr>\n",
       "      <th>4</th>\n",
       "      <td>5.0</td>\n",
       "      <td>11862</td>\n",
       "      <td>Father of the Bride Part II (1995)</td>\n",
       "      <td>['father of the bride part ii']</td>\n",
       "      <td>['comedy']</td>\n",
       "      <td>['stevemartin', 'dianekeaton', 'martinshort']</td>\n",
       "      <td>['charlesshyer']</td>\n",
       "      <td>just when george banks has recovered from his ...</td>\n",
       "      <td>['parentchildrelationship', 'baby', 'midlifecr...</td>\n",
       "      <td>15.142</td>\n",
       "      <td>446.0</td>\n",
       "      <td>6.2</td>\n",
       "      <td>106.0</td>\n",
       "      <td>1995-12-08</td>\n",
       "    </tr>\n",
       "    <tr>\n",
       "      <th>...</th>\n",
       "      <td>...</td>\n",
       "      <td>...</td>\n",
       "      <td>...</td>\n",
       "      <td>...</td>\n",
       "      <td>...</td>\n",
       "      <td>...</td>\n",
       "      <td>...</td>\n",
       "      <td>...</td>\n",
       "      <td>...</td>\n",
       "      <td>...</td>\n",
       "      <td>...</td>\n",
       "      <td>...</td>\n",
       "      <td>...</td>\n",
       "      <td>...</td>\n",
       "    </tr>\n",
       "    <tr>\n",
       "      <th>23308</th>\n",
       "      <td>208843.0</td>\n",
       "      <td>553882</td>\n",
       "      <td>An Acceptable Loss (2019)</td>\n",
       "      <td>['an acceptable loss']</td>\n",
       "      <td>['drama', 'thriller']</td>\n",
       "      <td>['tikasumpter', 'jamieleecurtis', 'bentavassoli']</td>\n",
       "      <td>['joechappelle']</td>\n",
       "      <td>former top u.s. security adviser elizabeth \"li...</td>\n",
       "      <td>['regret', 'politician', 'betrayal', 'threat',...</td>\n",
       "      <td>7.757</td>\n",
       "      <td>42.0</td>\n",
       "      <td>6.3</td>\n",
       "      <td>102.0</td>\n",
       "      <td>2018-10-13</td>\n",
       "    </tr>\n",
       "    <tr>\n",
       "      <th>23309</th>\n",
       "      <td>208863.0</td>\n",
       "      <td>31006</td>\n",
       "      <td>Homicide: The Movie (2000)</td>\n",
       "      <td>['homicide: the movie']</td>\n",
       "      <td>['crime', 'drama']</td>\n",
       "      <td>['danielbaldwin', 'nedbeatty', 'richardbelzer']</td>\n",
       "      <td>['jeandesegonzac']</td>\n",
       "      <td>retired police lieutenant al giardello is runn...</td>\n",
       "      <td>['usa', 'baltimore']</td>\n",
       "      <td>3.374</td>\n",
       "      <td>12.0</td>\n",
       "      <td>6.9</td>\n",
       "      <td>89.0</td>\n",
       "      <td>2000-02-13</td>\n",
       "    </tr>\n",
       "    <tr>\n",
       "      <th>23310</th>\n",
       "      <td>208915.0</td>\n",
       "      <td>639832</td>\n",
       "      <td>Undercover Brother 2 (2019)</td>\n",
       "      <td>['undercover brother 2']</td>\n",
       "      <td>['action', 'comedy']</td>\n",
       "      <td>['michaeljaiwhite', 'barrybostwick', 'jeffdani...</td>\n",
       "      <td>['lesliesmall']</td>\n",
       "      <td>sixteen years ago, undercover brother and his ...</td>\n",
       "      <td>['spy']</td>\n",
       "      <td>19.101</td>\n",
       "      <td>14.0</td>\n",
       "      <td>3.9</td>\n",
       "      <td>85.0</td>\n",
       "      <td>2019-11-05</td>\n",
       "    </tr>\n",
       "    <tr>\n",
       "      <th>23311</th>\n",
       "      <td>208917.0</td>\n",
       "      <td>186021</td>\n",
       "      <td>Caicedo (with Pole) (1894)</td>\n",
       "      <td>['caicedo (with pole)']</td>\n",
       "      <td>['documentary']</td>\n",
       "      <td>['juana.caicedo']</td>\n",
       "      <td>['williamk.l.dickson']</td>\n",
       "      <td>king of the slack wire. his daring feats of ba...</td>\n",
       "      <td>['silentfilm', 'vaudeville', 'acrobats']</td>\n",
       "      <td>1.591</td>\n",
       "      <td>21.0</td>\n",
       "      <td>5.8</td>\n",
       "      <td>1.0</td>\n",
       "      <td>1894-07-25</td>\n",
       "    </tr>\n",
       "    <tr>\n",
       "      <th>23312</th>\n",
       "      <td>208939.0</td>\n",
       "      <td>508965</td>\n",
       "      <td>Klaus (2019)</td>\n",
       "      <td>['klaus']</td>\n",
       "      <td>['adventure', 'animation', 'children', 'comedy']</td>\n",
       "      <td>['jasonschwartzman', 'j.k.simmons', 'rashidajo...</td>\n",
       "      <td>['sergiopablos']</td>\n",
       "      <td>when jesper distinguishes himself as the posta...</td>\n",
       "      <td>['santaclaus', 'island', 'postman', 'friendshi...</td>\n",
       "      <td>77.986</td>\n",
       "      <td>1933.0</td>\n",
       "      <td>8.3</td>\n",
       "      <td>96.0</td>\n",
       "      <td>2019-11-08</td>\n",
       "    </tr>\n",
       "  </tbody>\n",
       "</table>\n",
       "<p>23308 rows × 14 columns</p>\n",
       "</div>"
      ],
      "text/plain": [
       "        movieId  tmdbId                               title  \\\n",
       "0           1.0     862                    Toy Story (1995)   \n",
       "1           2.0    8844                      Jumanji (1995)   \n",
       "2           3.0   15602             Grumpier Old Men (1995)   \n",
       "3           4.0   31357            Waiting to Exhale (1995)   \n",
       "4           5.0   11862  Father of the Bride Part II (1995)   \n",
       "...         ...     ...                                 ...   \n",
       "23308  208843.0  553882           An Acceptable Loss (2019)   \n",
       "23309  208863.0   31006          Homicide: The Movie (2000)   \n",
       "23310  208915.0  639832         Undercover Brother 2 (2019)   \n",
       "23311  208917.0  186021          Caicedo (with Pole) (1894)   \n",
       "23312  208939.0  508965                        Klaus (2019)   \n",
       "\n",
       "                           title_clean  \\\n",
       "0                        ['toy story']   \n",
       "1                          ['jumanji']   \n",
       "2                 ['grumpier old men']   \n",
       "3                ['waiting to exhale']   \n",
       "4      ['father of the bride part ii']   \n",
       "...                                ...   \n",
       "23308           ['an acceptable loss']   \n",
       "23309          ['homicide: the movie']   \n",
       "23310         ['undercover brother 2']   \n",
       "23311          ['caicedo (with pole)']   \n",
       "23312                        ['klaus']   \n",
       "\n",
       "                                                  genres  \\\n",
       "0      ['adventure', 'animation', 'children', 'comedy...   \n",
       "1                   ['adventure', 'children', 'fantasy']   \n",
       "2                                  ['comedy', 'romance']   \n",
       "3                         ['comedy', 'drama', 'romance']   \n",
       "4                                             ['comedy']   \n",
       "...                                                  ...   \n",
       "23308                              ['drama', 'thriller']   \n",
       "23309                                 ['crime', 'drama']   \n",
       "23310                               ['action', 'comedy']   \n",
       "23311                                    ['documentary']   \n",
       "23312   ['adventure', 'animation', 'children', 'comedy']   \n",
       "\n",
       "                                                  actors  \\\n",
       "0                 ['tomhanks', 'timallen', 'donrickles']   \n",
       "1      ['robinwilliams', 'jonathanhyde', 'kirstendunst']   \n",
       "2         ['waltermatthau', 'jacklemmon', 'ann-margret']   \n",
       "3      ['whitneyhouston', 'angelabassett', 'lorettade...   \n",
       "4          ['stevemartin', 'dianekeaton', 'martinshort']   \n",
       "...                                                  ...   \n",
       "23308  ['tikasumpter', 'jamieleecurtis', 'bentavassoli']   \n",
       "23309    ['danielbaldwin', 'nedbeatty', 'richardbelzer']   \n",
       "23310  ['michaeljaiwhite', 'barrybostwick', 'jeffdani...   \n",
       "23311                                  ['juana.caicedo']   \n",
       "23312  ['jasonschwartzman', 'j.k.simmons', 'rashidajo...   \n",
       "\n",
       "                    directors  \\\n",
       "0            ['johnlasseter']   \n",
       "1             ['joejohnston']   \n",
       "2            ['howarddeutch']   \n",
       "3          ['forestwhitaker']   \n",
       "4            ['charlesshyer']   \n",
       "...                       ...   \n",
       "23308        ['joechappelle']   \n",
       "23309      ['jeandesegonzac']   \n",
       "23310         ['lesliesmall']   \n",
       "23311  ['williamk.l.dickson']   \n",
       "23312        ['sergiopablos']   \n",
       "\n",
       "                                                overview  \\\n",
       "0      led by woody, andy's toys live happily in his ...   \n",
       "1      when siblings judy and peter discover an encha...   \n",
       "2      a family wedding reignites the ancient feud be...   \n",
       "3      cheated on, mistreated and stepped on, the wom...   \n",
       "4      just when george banks has recovered from his ...   \n",
       "...                                                  ...   \n",
       "23308  former top u.s. security adviser elizabeth \"li...   \n",
       "23309  retired police lieutenant al giardello is runn...   \n",
       "23310  sixteen years ago, undercover brother and his ...   \n",
       "23311  king of the slack wire. his daring feats of ba...   \n",
       "23312  when jesper distinguishes himself as the posta...   \n",
       "\n",
       "                                                keywords  popularity  \\\n",
       "0      ['martialarts', 'jealousy', 'toy', 'friendship...      70.910   \n",
       "1      ['giantinsect', 'boardgame', 'jungle', 'disapp...      11.919   \n",
       "2      ['fishing', 'oldman', 'bestfriend', 'duringcre...      13.122   \n",
       "3      ['basedonnovelorbook', 'interracialrelationshi...       5.123   \n",
       "4      ['parentchildrelationship', 'baby', 'midlifecr...      15.142   \n",
       "...                                                  ...         ...   \n",
       "23308  ['regret', 'politician', 'betrayal', 'threat',...       7.757   \n",
       "23309                               ['usa', 'baltimore']       3.374   \n",
       "23310                                            ['spy']      19.101   \n",
       "23311           ['silentfilm', 'vaudeville', 'acrobats']       1.591   \n",
       "23312  ['santaclaus', 'island', 'postman', 'friendshi...      77.986   \n",
       "\n",
       "       vote_count  vote_average  runtime     release  \n",
       "0         13173.0           7.9     81.0  1995-10-30  \n",
       "1          7711.0           7.2    104.0  1995-12-15  \n",
       "2           217.0           6.6    101.0  1995-12-22  \n",
       "3            79.0           6.2    127.0  1995-12-22  \n",
       "4           446.0           6.2    106.0  1995-12-08  \n",
       "...           ...           ...      ...         ...  \n",
       "23308        42.0           6.3    102.0  2018-10-13  \n",
       "23309        12.0           6.9     89.0  2000-02-13  \n",
       "23310        14.0           3.9     85.0  2019-11-05  \n",
       "23311        21.0           5.8      1.0  1894-07-25  \n",
       "23312      1933.0           8.3     96.0  2019-11-08  \n",
       "\n",
       "[23308 rows x 14 columns]"
      ]
     },
     "execution_count": 5,
     "metadata": {},
     "output_type": "execute_result"
    }
   ],
   "source": [
    "data"
   ]
  },
  {
   "cell_type": "markdown",
   "metadata": {},
   "source": [
    "## Database setup"
   ]
  },
  {
   "cell_type": "code",
   "execution_count": 6,
   "metadata": {
    "ExecuteTime": {
     "end_time": "2020-11-25T20:30:33.516671Z",
     "start_time": "2020-11-25T20:30:33.512683Z"
    },
    "execution": {
     "iopub.execute_input": "2020-11-25T21:29:44.721153Z",
     "iopub.status.busy": "2020-11-25T21:29:44.720867Z",
     "iopub.status.idle": "2020-11-25T21:29:44.726057Z",
     "shell.execute_reply": "2020-11-25T21:29:44.724605Z",
     "shell.execute_reply.started": "2020-11-25T21:29:44.721117Z"
    }
   },
   "outputs": [],
   "source": [
    "import ast\n",
    "def api_to_dict(x):\n",
    "    return ast.literal_eval(x)"
   ]
  },
  {
   "cell_type": "code",
   "execution_count": 7,
   "metadata": {
    "ExecuteTime": {
     "end_time": "2020-11-25T20:30:33.524649Z",
     "start_time": "2020-11-25T20:30:33.518667Z"
    },
    "execution": {
     "iopub.execute_input": "2020-11-25T21:29:44.727498Z",
     "iopub.status.busy": "2020-11-25T21:29:44.727227Z",
     "iopub.status.idle": "2020-11-25T21:29:44.738339Z",
     "shell.execute_reply": "2020-11-25T21:29:44.737611Z",
     "shell.execute_reply.started": "2020-11-25T21:29:44.727462Z"
    }
   },
   "outputs": [],
   "source": [
    "df = data.copy()"
   ]
  },
  {
   "cell_type": "code",
   "execution_count": 8,
   "metadata": {
    "ExecuteTime": {
     "end_time": "2020-11-25T20:30:33.538613Z",
     "start_time": "2020-11-25T20:30:33.525680Z"
    },
    "execution": {
     "iopub.execute_input": "2020-11-25T21:29:44.742920Z",
     "iopub.status.busy": "2020-11-25T21:29:44.742630Z",
     "iopub.status.idle": "2020-11-25T21:29:44.789369Z",
     "shell.execute_reply": "2020-11-25T21:29:44.788580Z",
     "shell.execute_reply.started": "2020-11-25T21:29:44.742896Z"
    }
   },
   "outputs": [
    {
     "data": {
      "text/html": [
       "<div>\n",
       "<style scoped>\n",
       "    .dataframe tbody tr th:only-of-type {\n",
       "        vertical-align: middle;\n",
       "    }\n",
       "\n",
       "    .dataframe tbody tr th {\n",
       "        vertical-align: top;\n",
       "    }\n",
       "\n",
       "    .dataframe thead th {\n",
       "        text-align: right;\n",
       "    }\n",
       "</style>\n",
       "<table border=\"1\" class=\"dataframe\">\n",
       "  <thead>\n",
       "    <tr style=\"text-align: right;\">\n",
       "      <th></th>\n",
       "      <th>movieId</th>\n",
       "      <th>tmdbId</th>\n",
       "      <th>title</th>\n",
       "      <th>title_clean</th>\n",
       "      <th>genres</th>\n",
       "      <th>actors</th>\n",
       "      <th>directors</th>\n",
       "      <th>overview</th>\n",
       "      <th>keywords</th>\n",
       "      <th>popularity</th>\n",
       "      <th>vote_count</th>\n",
       "      <th>vote_average</th>\n",
       "      <th>runtime</th>\n",
       "      <th>release</th>\n",
       "    </tr>\n",
       "  </thead>\n",
       "  <tbody>\n",
       "    <tr>\n",
       "      <th>0</th>\n",
       "      <td>1.0</td>\n",
       "      <td>862</td>\n",
       "      <td>Toy Story (1995)</td>\n",
       "      <td>['toy story']</td>\n",
       "      <td>['adventure', 'animation', 'children', 'comedy...</td>\n",
       "      <td>['tomhanks', 'timallen', 'donrickles']</td>\n",
       "      <td>['johnlasseter']</td>\n",
       "      <td>led by woody, andy's toys live happily in his ...</td>\n",
       "      <td>['martialarts', 'jealousy', 'toy', 'friendship...</td>\n",
       "      <td>70.91</td>\n",
       "      <td>13173.0</td>\n",
       "      <td>7.9</td>\n",
       "      <td>81.0</td>\n",
       "      <td>1995-10-30</td>\n",
       "    </tr>\n",
       "  </tbody>\n",
       "</table>\n",
       "</div>"
      ],
      "text/plain": [
       "   movieId  tmdbId             title    title_clean  \\\n",
       "0      1.0     862  Toy Story (1995)  ['toy story']   \n",
       "\n",
       "                                              genres  \\\n",
       "0  ['adventure', 'animation', 'children', 'comedy...   \n",
       "\n",
       "                                   actors         directors  \\\n",
       "0  ['tomhanks', 'timallen', 'donrickles']  ['johnlasseter']   \n",
       "\n",
       "                                            overview  \\\n",
       "0  led by woody, andy's toys live happily in his ...   \n",
       "\n",
       "                                            keywords  popularity  vote_count  \\\n",
       "0  ['martialarts', 'jealousy', 'toy', 'friendship...       70.91     13173.0   \n",
       "\n",
       "   vote_average  runtime     release  \n",
       "0           7.9     81.0  1995-10-30  "
      ]
     },
     "execution_count": 8,
     "metadata": {},
     "output_type": "execute_result"
    }
   ],
   "source": [
    "df.head(1)"
   ]
  },
  {
   "cell_type": "code",
   "execution_count": 9,
   "metadata": {
    "ExecuteTime": {
     "end_time": "2020-11-25T20:30:34.277637Z",
     "start_time": "2020-11-25T20:30:33.539610Z"
    },
    "execution": {
     "iopub.execute_input": "2020-11-25T21:29:44.796213Z",
     "iopub.status.busy": "2020-11-25T21:29:44.795894Z",
     "iopub.status.idle": "2020-11-25T21:29:45.795871Z",
     "shell.execute_reply": "2020-11-25T21:29:45.795152Z",
     "shell.execute_reply.started": "2020-11-25T21:29:44.796189Z"
    }
   },
   "outputs": [
    {
     "data": {
      "text/html": [
       "<div>\n",
       "<style scoped>\n",
       "    .dataframe tbody tr th:only-of-type {\n",
       "        vertical-align: middle;\n",
       "    }\n",
       "\n",
       "    .dataframe tbody tr th {\n",
       "        vertical-align: top;\n",
       "    }\n",
       "\n",
       "    .dataframe thead th {\n",
       "        text-align: right;\n",
       "    }\n",
       "</style>\n",
       "<table border=\"1\" class=\"dataframe\">\n",
       "  <thead>\n",
       "    <tr style=\"text-align: right;\">\n",
       "      <th></th>\n",
       "      <th>tmdbId</th>\n",
       "      <th>title</th>\n",
       "      <th>title_clean</th>\n",
       "      <th>genres</th>\n",
       "      <th>actors</th>\n",
       "      <th>directors</th>\n",
       "      <th>overview</th>\n",
       "      <th>keywords</th>\n",
       "    </tr>\n",
       "  </thead>\n",
       "  <tbody>\n",
       "    <tr>\n",
       "      <th>0</th>\n",
       "      <td>862</td>\n",
       "      <td>Toy Story (1995)</td>\n",
       "      <td>['toy story']</td>\n",
       "      <td>[adventure, animation, children, comedy, fantasy]</td>\n",
       "      <td>[tomhanks, timallen, donrickles]</td>\n",
       "      <td>['johnlasseter']</td>\n",
       "      <td>led by woody, andy's toys live happily in his ...</td>\n",
       "      <td>[martialarts, jealousy, toy, friendship, bully...</td>\n",
       "    </tr>\n",
       "  </tbody>\n",
       "</table>\n",
       "</div>"
      ],
      "text/plain": [
       "   tmdbId             title    title_clean  \\\n",
       "0     862  Toy Story (1995)  ['toy story']   \n",
       "\n",
       "                                              genres  \\\n",
       "0  [adventure, animation, children, comedy, fantasy]   \n",
       "\n",
       "                             actors         directors  \\\n",
       "0  [tomhanks, timallen, donrickles]  ['johnlasseter']   \n",
       "\n",
       "                                            overview  \\\n",
       "0  led by woody, andy's toys live happily in his ...   \n",
       "\n",
       "                                            keywords  \n",
       "0  [martialarts, jealousy, toy, friendship, bully...  "
      ]
     },
     "execution_count": 9,
     "metadata": {},
     "output_type": "execute_result"
    }
   ],
   "source": [
    "import ast\n",
    "df = data.copy()\n",
    "df.drop(columns=['popularity','movieId','vote_count','vote_average','runtime','release'],inplace = True)\n",
    "\n",
    "df['actors'] = df['actors'].apply(api_to_dict)\n",
    "df['keywords'] = df['keywords'].apply(api_to_dict)\n",
    "df['genres'] = df['genres'].apply(api_to_dict)\n",
    "\n",
    "df.head(1)"
   ]
  },
  {
   "cell_type": "markdown",
   "metadata": {},
   "source": [
    "### Overview setup"
   ]
  },
  {
   "cell_type": "markdown",
   "metadata": {},
   "source": [
    "#### Remove ponctuation and stopwords"
   ]
  },
  {
   "cell_type": "code",
   "execution_count": 12,
   "metadata": {
    "ExecuteTime": {
     "end_time": "2020-11-25T20:30:35.078557Z",
     "start_time": "2020-11-25T20:30:34.278635Z"
    },
    "execution": {
     "iopub.execute_input": "2020-11-26T13:51:43.988807Z",
     "iopub.status.busy": "2020-11-26T13:51:43.981790Z",
     "iopub.status.idle": "2020-11-26T13:51:45.971158Z",
     "shell.execute_reply": "2020-11-26T13:51:45.970136Z",
     "shell.execute_reply.started": "2020-11-26T13:51:43.988146Z"
    }
   },
   "outputs": [],
   "source": [
    "import nltk\n",
    "import string \n",
    "from nltk.corpus import stopwords\n",
    "from nltk.tokenize import word_tokenize"
   ]
  },
  {
   "cell_type": "code",
   "execution_count": 13,
   "metadata": {
    "ExecuteTime": {
     "end_time": "2020-11-25T20:30:35.082518Z",
     "start_time": "2020-11-25T20:30:35.079524Z"
    },
    "execution": {
     "iopub.execute_input": "2020-11-26T13:51:48.251672Z",
     "iopub.status.busy": "2020-11-26T13:51:48.251407Z",
     "iopub.status.idle": "2020-11-26T13:51:48.257636Z",
     "shell.execute_reply": "2020-11-26T13:51:48.256189Z",
     "shell.execute_reply.started": "2020-11-26T13:51:48.251643Z"
    }
   },
   "outputs": [],
   "source": [
    "def remove_punctuation(x):\n",
    "    for i in string.punctuation:\n",
    "        x = x.replace(i, '')\n",
    "    return x"
   ]
  },
  {
   "cell_type": "code",
   "execution_count": 14,
   "metadata": {
    "ExecuteTime": {
     "end_time": "2020-11-25T20:36:07.060823Z",
     "start_time": "2020-11-25T20:36:07.056834Z"
    },
    "execution": {
     "iopub.execute_input": "2020-11-26T13:51:49.221069Z",
     "iopub.status.busy": "2020-11-26T13:51:49.220810Z",
     "iopub.status.idle": "2020-11-26T13:51:49.226554Z",
     "shell.execute_reply": "2020-11-26T13:51:49.224945Z",
     "shell.execute_reply.started": "2020-11-26T13:51:49.221041Z"
    }
   },
   "outputs": [],
   "source": [
    "def stop_words(x):\n",
    "    stop_words = set(stopwords.words('english'))\n",
    "    word_tokens = word_tokenize(x)\n",
    "    x = [w for w in word_tokens if not w in stop_words] \n",
    "  \n",
    "    return x"
   ]
  },
  {
   "cell_type": "code",
   "execution_count": 15,
   "metadata": {
    "ExecuteTime": {
     "end_time": "2020-11-25T20:44:06.064120Z",
     "start_time": "2020-11-25T20:43:59.105678Z"
    },
    "execution": {
     "iopub.execute_input": "2020-11-26T13:51:51.036089Z",
     "iopub.status.busy": "2020-11-26T13:51:51.035672Z",
     "iopub.status.idle": "2020-11-26T13:52:13.301767Z",
     "shell.execute_reply": "2020-11-26T13:52:13.301093Z",
     "shell.execute_reply.started": "2020-11-26T13:51:51.036033Z"
    }
   },
   "outputs": [],
   "source": [
    "df['title_clean'] = df['title_clean'].apply(remove_punctuation)\n",
    "df['title_clean'] = df['title_clean'].apply(stop_words)\n",
    "df['overview'] = df['overview'].apply(remove_punctuation)\n",
    "df['overview'] = df['overview'].apply(stop_words)\n",
    "df['directors'] = df['directors'].apply(remove_punctuation)\n",
    "df['directors'] = df['directors'].apply(stop_words)"
   ]
  },
  {
   "cell_type": "code",
   "execution_count": 16,
   "metadata": {
    "ExecuteTime": {
     "end_time": "2020-11-25T20:47:06.981421Z",
     "start_time": "2020-11-25T20:47:06.977431Z"
    },
    "execution": {
     "iopub.execute_input": "2020-11-26T14:20:12.330812Z",
     "iopub.status.busy": "2020-11-26T14:20:12.330509Z",
     "iopub.status.idle": "2020-11-26T14:20:12.337846Z",
     "shell.execute_reply": "2020-11-26T14:20:12.336822Z",
     "shell.execute_reply.started": "2020-11-26T14:20:12.330785Z"
    }
   },
   "outputs": [],
   "source": [
    "def to_string(x):\n",
    "    x = ' '.join(x)\n",
    "    return x"
   ]
  },
  {
   "cell_type": "code",
   "execution_count": 17,
   "metadata": {
    "ExecuteTime": {
     "end_time": "2020-11-25T21:04:52.362117Z",
     "start_time": "2020-11-25T21:04:50.911912Z"
    },
    "execution": {
     "iopub.execute_input": "2020-11-26T14:23:27.837577Z",
     "iopub.status.busy": "2020-11-26T14:23:27.837271Z",
     "iopub.status.idle": "2020-11-26T14:23:28.962571Z",
     "shell.execute_reply": "2020-11-26T14:23:28.961505Z",
     "shell.execute_reply.started": "2020-11-26T14:23:27.837545Z"
    }
   },
   "outputs": [],
   "source": [
    "#Tudão Bolado\n",
    "df['soup_1'] = (df['genres'] + df['actors'] + df['keywords'] + df['overview'] + df['directors'] + df['title_clean']).map(to_string)\n",
    "\n",
    "#Sem title\n",
    "df['soup_2'] = (df['genres'] + df['actors'] + df['keywords'] + df['overview'] + df['directors']).map(to_string)\n",
    "\n",
    "#Sem overview e title\n",
    "df['soup_3'] = (df['genres'] + df['actors'] + df['keywords'] + df['directors']).map(to_string)\n",
    "\n",
    "#Sem Key words e overview\n",
    "df['soup_4'] = (df['genres'] + df['actors'] + df['directors'] + df['title_clean']).map(to_string)\n",
    "\n",
    "#Sem Key words, Title e overview\n",
    "df['soup_5'] = (df['genres'] + df['actors']  + df['directors']).map(to_string)\n",
    "\n",
    "#sem Directors e overview\n",
    "df['soup_6'] = (df['genres'] + df['keywords'] + df['actors']).map(to_string)\n",
    "\n",
    "#Genres e KW\n",
    "df['soup_7'] = (df['genres'] + df['keywords']).map(to_string)\n",
    "\n",
    "#Genres e Overview\n",
    "df['soup_8'] = (df['genres'] + df['overview']).map(to_string)"
   ]
  },
  {
   "cell_type": "code",
   "execution_count": 18,
   "metadata": {
    "ExecuteTime": {
     "end_time": "2020-11-25T20:44:39.237374Z",
     "start_time": "2020-11-25T20:44:39.217428Z"
    },
    "execution": {
     "iopub.execute_input": "2020-11-26T14:23:37.077495Z",
     "iopub.status.busy": "2020-11-26T14:23:37.077252Z",
     "iopub.status.idle": "2020-11-26T14:23:37.186123Z",
     "shell.execute_reply": "2020-11-26T14:23:37.170571Z",
     "shell.execute_reply.started": "2020-11-26T14:23:37.077471Z"
    }
   },
   "outputs": [
    {
     "data": {
      "text/html": [
       "<div>\n",
       "<style scoped>\n",
       "    .dataframe tbody tr th:only-of-type {\n",
       "        vertical-align: middle;\n",
       "    }\n",
       "\n",
       "    .dataframe tbody tr th {\n",
       "        vertical-align: top;\n",
       "    }\n",
       "\n",
       "    .dataframe thead th {\n",
       "        text-align: right;\n",
       "    }\n",
       "</style>\n",
       "<table border=\"1\" class=\"dataframe\">\n",
       "  <thead>\n",
       "    <tr style=\"text-align: right;\">\n",
       "      <th></th>\n",
       "      <th>tmdbId</th>\n",
       "      <th>title</th>\n",
       "      <th>title_clean</th>\n",
       "      <th>genres</th>\n",
       "      <th>actors</th>\n",
       "      <th>directors</th>\n",
       "      <th>overview</th>\n",
       "      <th>keywords</th>\n",
       "      <th>soup_1</th>\n",
       "      <th>soup_2</th>\n",
       "      <th>soup_3</th>\n",
       "      <th>soup_4</th>\n",
       "      <th>soup_5</th>\n",
       "      <th>soup_6</th>\n",
       "      <th>soup_7</th>\n",
       "      <th>soup_8</th>\n",
       "    </tr>\n",
       "  </thead>\n",
       "  <tbody>\n",
       "    <tr>\n",
       "      <th>0</th>\n",
       "      <td>862</td>\n",
       "      <td>Toy Story (1995)</td>\n",
       "      <td>[toy, story]</td>\n",
       "      <td>[adventure, animation, children, comedy, fantasy]</td>\n",
       "      <td>[tomhanks, timallen, donrickles]</td>\n",
       "      <td>[johnlasseter]</td>\n",
       "      <td>[led, woody, andys, toys, live, happily, room,...</td>\n",
       "      <td>[martialarts, jealousy, toy, friendship, bully...</td>\n",
       "      <td>adventure animation children comedy fantasy to...</td>\n",
       "      <td>adventure animation children comedy fantasy to...</td>\n",
       "      <td>adventure animation children comedy fantasy to...</td>\n",
       "      <td>adventure animation children comedy fantasy to...</td>\n",
       "      <td>adventure animation children comedy fantasy to...</td>\n",
       "      <td>adventure animation children comedy fantasy ma...</td>\n",
       "      <td>adventure animation children comedy fantasy ma...</td>\n",
       "      <td>adventure animation children comedy fantasy le...</td>\n",
       "    </tr>\n",
       "    <tr>\n",
       "      <th>1</th>\n",
       "      <td>8844</td>\n",
       "      <td>Jumanji (1995)</td>\n",
       "      <td>[jumanji]</td>\n",
       "      <td>[adventure, children, fantasy]</td>\n",
       "      <td>[robinwilliams, jonathanhyde, kirstendunst]</td>\n",
       "      <td>[joejohnston]</td>\n",
       "      <td>[siblings, judy, peter, discover, enchanted, b...</td>\n",
       "      <td>[giantinsect, boardgame, jungle, disappearance...</td>\n",
       "      <td>adventure children fantasy robinwilliams jonat...</td>\n",
       "      <td>adventure children fantasy robinwilliams jonat...</td>\n",
       "      <td>adventure children fantasy robinwilliams jonat...</td>\n",
       "      <td>adventure children fantasy robinwilliams jonat...</td>\n",
       "      <td>adventure children fantasy robinwilliams jonat...</td>\n",
       "      <td>adventure children fantasy giantinsect boardga...</td>\n",
       "      <td>adventure children fantasy giantinsect boardga...</td>\n",
       "      <td>adventure children fantasy siblings judy peter...</td>\n",
       "    </tr>\n",
       "  </tbody>\n",
       "</table>\n",
       "</div>"
      ],
      "text/plain": [
       "   tmdbId             title   title_clean  \\\n",
       "0     862  Toy Story (1995)  [toy, story]   \n",
       "1    8844    Jumanji (1995)     [jumanji]   \n",
       "\n",
       "                                              genres  \\\n",
       "0  [adventure, animation, children, comedy, fantasy]   \n",
       "1                     [adventure, children, fantasy]   \n",
       "\n",
       "                                        actors       directors  \\\n",
       "0             [tomhanks, timallen, donrickles]  [johnlasseter]   \n",
       "1  [robinwilliams, jonathanhyde, kirstendunst]   [joejohnston]   \n",
       "\n",
       "                                            overview  \\\n",
       "0  [led, woody, andys, toys, live, happily, room,...   \n",
       "1  [siblings, judy, peter, discover, enchanted, b...   \n",
       "\n",
       "                                            keywords  \\\n",
       "0  [martialarts, jealousy, toy, friendship, bully...   \n",
       "1  [giantinsect, boardgame, jungle, disappearance...   \n",
       "\n",
       "                                              soup_1  \\\n",
       "0  adventure animation children comedy fantasy to...   \n",
       "1  adventure children fantasy robinwilliams jonat...   \n",
       "\n",
       "                                              soup_2  \\\n",
       "0  adventure animation children comedy fantasy to...   \n",
       "1  adventure children fantasy robinwilliams jonat...   \n",
       "\n",
       "                                              soup_3  \\\n",
       "0  adventure animation children comedy fantasy to...   \n",
       "1  adventure children fantasy robinwilliams jonat...   \n",
       "\n",
       "                                              soup_4  \\\n",
       "0  adventure animation children comedy fantasy to...   \n",
       "1  adventure children fantasy robinwilliams jonat...   \n",
       "\n",
       "                                              soup_5  \\\n",
       "0  adventure animation children comedy fantasy to...   \n",
       "1  adventure children fantasy robinwilliams jonat...   \n",
       "\n",
       "                                              soup_6  \\\n",
       "0  adventure animation children comedy fantasy ma...   \n",
       "1  adventure children fantasy giantinsect boardga...   \n",
       "\n",
       "                                              soup_7  \\\n",
       "0  adventure animation children comedy fantasy ma...   \n",
       "1  adventure children fantasy giantinsect boardga...   \n",
       "\n",
       "                                              soup_8  \n",
       "0  adventure animation children comedy fantasy le...  \n",
       "1  adventure children fantasy siblings judy peter...  "
      ]
     },
     "execution_count": 18,
     "metadata": {},
     "output_type": "execute_result"
    }
   ],
   "source": [
    "df.head(2)"
   ]
  },
  {
   "cell_type": "code",
   "execution_count": 19,
   "metadata": {
    "ExecuteTime": {
     "end_time": "2020-11-25T21:20:48.402646Z",
     "start_time": "2020-11-25T21:20:42.439500Z"
    },
    "execution": {
     "iopub.execute_input": "2020-11-26T14:24:03.471854Z",
     "iopub.status.busy": "2020-11-26T14:24:03.471581Z",
     "iopub.status.idle": "2020-11-26T14:24:08.308713Z",
     "shell.execute_reply": "2020-11-26T14:24:08.307777Z",
     "shell.execute_reply.started": "2020-11-26T14:24:03.471822Z"
    }
   },
   "outputs": [],
   "source": [
    "# Import CountVectorizer and create the count matrix\n",
    "from sklearn.feature_extraction.text import CountVectorizer\n",
    "\n",
    "count1 = CountVectorizer()\n",
    "count_matrix1 = count1.fit_transform(df['soup_1'])\n",
    "\n",
    "count2 = CountVectorizer()\n",
    "count_matrix2 = count2.fit_transform(df['soup_2'])\n",
    "\n",
    "count3 = CountVectorizer()\n",
    "count_matrix3 = count3.fit_transform(df['soup_3'])\n",
    "\n",
    "count4 = CountVectorizer()\n",
    "count_matrix4 = count4.fit_transform(df['soup_4'])\n",
    "\n",
    "count5 = CountVectorizer()\n",
    "count_matrix5 = count5.fit_transform(df['soup_5'])\n",
    "\n",
    "count6 = CountVectorizer()\n",
    "count_matrix6 = count6.fit_transform(df['soup_6'])\n",
    "\n",
    "count7 = CountVectorizer()\n",
    "count_matrix7 = count7.fit_transform(df['soup_7'])\n",
    "\n",
    "count8 = CountVectorizer()\n",
    "count_matrix8 = count8.fit_transform(df['soup_8'])"
   ]
  },
  {
   "cell_type": "code",
   "execution_count": 20,
   "metadata": {
    "ExecuteTime": {
     "end_time": "2020-11-25T21:24:35.608105Z",
     "start_time": "2020-11-25T21:24:30.683273Z"
    },
    "execution": {
     "iopub.execute_input": "2020-11-26T14:25:27.108609Z",
     "iopub.status.busy": "2020-11-26T14:25:27.108336Z",
     "iopub.status.idle": "2020-11-26T14:27:48.508197Z",
     "shell.execute_reply": "2020-11-26T14:27:48.493240Z",
     "shell.execute_reply.started": "2020-11-26T14:25:27.108579Z"
    }
   },
   "outputs": [],
   "source": [
    "# Compute the Cosine Similarity matrix based on the count_matrix\n",
    "from sklearn.metrics.pairwise import cosine_similarity\n",
    "\n",
    "cosine_sim1 = cosine_similarity(count_matrix1, count_matrix1)\n",
    "cosine_sim2 = cosine_similarity(count_matrix2, count_matrix2)\n",
    "cosine_sim3 = cosine_similarity(count_matrix3, count_matrix3)\n",
    "cosine_sim4 = cosine_similarity(count_matrix4, count_matrix4)\n",
    "cosine_sim5 = cosine_similarity(count_matrix5, count_matrix5)\n",
    "cosine_sim6 = cosine_similarity(count_matrix6, count_matrix6)\n",
    "cosine_sim7 = cosine_similarity(count_matrix7, count_matrix7)\n",
    "cosine_sim8 = cosine_similarity(count_matrix8, count_matrix8)"
   ]
  },
  {
   "cell_type": "code",
   "execution_count": null,
   "metadata": {
    "ExecuteTime": {
     "end_time": "2020-11-25T20:51:41.798929Z",
     "start_time": "2020-11-25T20:51:41.761993Z"
    },
    "execution": {
     "iopub.status.busy": "2020-11-25T21:29:46.145303Z",
     "iopub.status.idle": "2020-11-25T21:29:46.146708Z",
     "shell.execute_reply": "2020-11-25T21:29:46.146312Z"
    }
   },
   "outputs": [],
   "source": [
    "df2 = df.copy()"
   ]
  },
  {
   "cell_type": "code",
   "execution_count": null,
   "metadata": {
    "ExecuteTime": {
     "end_time": "2020-11-25T20:51:49.197113Z",
     "start_time": "2020-11-25T20:51:49.183150Z"
    },
    "execution": {
     "iopub.status.busy": "2020-11-25T21:29:46.156036Z",
     "iopub.status.idle": "2020-11-25T21:29:46.177796Z",
     "shell.execute_reply": "2020-11-25T21:29:46.159920Z"
    }
   },
   "outputs": [],
   "source": [
    "# Reset index of our main DataFrame and construct reverse mapping as before\n",
    "df2 = df2.reset_index()\n",
    "indices = pd.Series(df2.index, index=df2['title'])"
   ]
  },
  {
   "cell_type": "code",
   "execution_count": null,
   "metadata": {
    "ExecuteTime": {
     "end_time": "2020-11-25T20:53:06.750781Z",
     "start_time": "2020-11-25T20:53:06.694900Z"
    },
    "execution": {
     "iopub.status.busy": "2020-11-25T21:29:46.180442Z",
     "iopub.status.idle": "2020-11-25T21:29:46.181804Z",
     "shell.execute_reply": "2020-11-25T21:29:46.181027Z"
    }
   },
   "outputs": [],
   "source": [
    "df2"
   ]
  },
  {
   "cell_type": "code",
   "execution_count": null,
   "metadata": {
    "execution": {
     "iopub.status.busy": "2020-11-25T21:29:46.183843Z",
     "iopub.status.idle": "2020-11-25T21:29:46.184744Z",
     "shell.execute_reply": "2020-11-25T21:29:46.184506Z"
    }
   },
   "outputs": [],
   "source": [
    "sdfgadfgadfg"
   ]
  },
  {
   "cell_type": "code",
   "execution_count": null,
   "metadata": {
    "ExecuteTime": {
     "end_time": "2020-11-25T20:52:29.035593Z",
     "start_time": "2020-11-25T20:52:29.026617Z"
    },
    "execution": {
     "iopub.status.busy": "2020-11-25T21:29:46.187735Z",
     "iopub.status.idle": "2020-11-25T21:29:46.188497Z",
     "shell.execute_reply": "2020-11-25T21:29:46.188163Z"
    }
   },
   "outputs": [],
   "source": [
    "# Function that takes in movie title as input and outputs most similar movies\n",
    "def get_recommendations(title, cosine_sim=cosine_sim):\n",
    "    # Get the index of the movie that matches the title\n",
    "    idx = indices[title]\n",
    "\n",
    "    # Get the pairwsie similarity scores of all movies with that movie\n",
    "    sim_scores = list(enumerate(cosine_sim[idx]))\n",
    "\n",
    "    # Sort the movies based on the similarity scores\n",
    "    sim_scores = sorted(sim_scores, key=lambda x: x[1], reverse=True)\n",
    "\n",
    "    # Get the scores of the 10 most similar movies\n",
    "    sim_scores = sim_scores[1:11]\n",
    "\n",
    "    # Get the movie indices\n",
    "    movie_indices = [i[0] for i in sim_scores]\n",
    "\n",
    "    # Return the top 10 most similar movies\n",
    "    return df2['title'].iloc[movie_indices]"
   ]
  },
  {
   "cell_type": "code",
   "execution_count": null,
   "metadata": {
    "ExecuteTime": {
     "end_time": "2020-11-25T20:55:25.113772Z",
     "start_time": "2020-11-25T20:55:25.089836Z"
    },
    "execution": {
     "iopub.status.busy": "2020-11-25T21:29:46.190712Z",
     "iopub.status.idle": "2020-11-25T21:29:46.191644Z",
     "shell.execute_reply": "2020-11-25T21:29:46.191158Z"
    }
   },
   "outputs": [],
   "source": [
    "get_recommendations('Dark Knight Rises, The (2012)', cosine_sim)"
   ]
  }
 ],
 "metadata": {
  "kernelspec": {
   "display_name": "Python 3",
   "language": "python",
   "name": "python3"
  },
  "language_info": {
   "codemirror_mode": {
    "name": "ipython",
    "version": 3
   },
   "file_extension": ".py",
   "mimetype": "text/x-python",
   "name": "python",
   "nbconvert_exporter": "python",
   "pygments_lexer": "ipython3",
   "version": "3.7.7"
  },
  "toc": {
   "base_numbering": 1,
   "nav_menu": {},
   "number_sections": true,
   "sideBar": true,
   "skip_h1_title": false,
   "title_cell": "Table of Contents",
   "title_sidebar": "Contents",
   "toc_cell": false,
   "toc_position": {},
   "toc_section_display": true,
   "toc_window_display": false
  },
  "varInspector": {
   "cols": {
    "lenName": 16,
    "lenType": 16,
    "lenVar": 40
   },
   "kernels_config": {
    "python": {
     "delete_cmd_postfix": "",
     "delete_cmd_prefix": "del ",
     "library": "var_list.py",
     "varRefreshCmd": "print(var_dic_list())"
    },
    "r": {
     "delete_cmd_postfix": ") ",
     "delete_cmd_prefix": "rm(",
     "library": "var_list.r",
     "varRefreshCmd": "cat(var_dic_list()) "
    }
   },
   "types_to_exclude": [
    "module",
    "function",
    "builtin_function_or_method",
    "instance",
    "_Feature"
   ],
   "window_display": false
  }
 },
 "nbformat": 4,
 "nbformat_minor": 4
}
