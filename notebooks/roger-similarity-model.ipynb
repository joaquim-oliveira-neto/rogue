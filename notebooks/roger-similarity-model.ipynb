{
 "cells": [
  {
   "cell_type": "markdown",
   "metadata": {},
   "source": [
    "## Imports"
   ]
  },
  {
   "cell_type": "code",
   "execution_count": 2,
   "metadata": {
    "execution": {
     "iopub.execute_input": "2020-11-25T20:28:00.082647Z",
     "iopub.status.busy": "2020-11-25T20:28:00.082374Z",
     "iopub.status.idle": "2020-11-25T20:28:00.088115Z",
     "shell.execute_reply": "2020-11-25T20:28:00.086037Z",
     "shell.execute_reply.started": "2020-11-25T20:28:00.082618Z"
    }
   },
   "outputs": [],
   "source": [
    "import pandas as pd\n",
    "import numpy as np\n",
    "import ast"
   ]
  },
  {
   "cell_type": "markdown",
   "metadata": {},
   "source": [
    "## Import data"
   ]
  },
  {
   "cell_type": "code",
   "execution_count": 3,
   "metadata": {
    "execution": {
     "iopub.execute_input": "2020-11-25T20:28:02.192251Z",
     "iopub.status.busy": "2020-11-25T20:28:02.191978Z",
     "iopub.status.idle": "2020-11-25T20:28:02.408807Z",
     "shell.execute_reply": "2020-11-25T20:28:02.407777Z",
     "shell.execute_reply.started": "2020-11-25T20:28:02.192221Z"
    }
   },
   "outputs": [],
   "source": [
    "data = pd.read_csv('../raw_data/treated-db/data.csv')"
   ]
  },
  {
   "cell_type": "code",
   "execution_count": 4,
   "metadata": {
    "execution": {
     "iopub.execute_input": "2020-11-25T20:28:08.261357Z",
     "iopub.status.busy": "2020-11-25T20:28:08.260979Z",
     "iopub.status.idle": "2020-11-25T20:28:08.285537Z",
     "shell.execute_reply": "2020-11-25T20:28:08.284323Z",
     "shell.execute_reply.started": "2020-11-25T20:28:08.261322Z"
    }
   },
   "outputs": [
    {
     "data": {
      "text/html": [
       "<div>\n",
       "<style scoped>\n",
       "    .dataframe tbody tr th:only-of-type {\n",
       "        vertical-align: middle;\n",
       "    }\n",
       "\n",
       "    .dataframe tbody tr th {\n",
       "        vertical-align: top;\n",
       "    }\n",
       "\n",
       "    .dataframe thead th {\n",
       "        text-align: right;\n",
       "    }\n",
       "</style>\n",
       "<table border=\"1\" class=\"dataframe\">\n",
       "  <thead>\n",
       "    <tr style=\"text-align: right;\">\n",
       "      <th></th>\n",
       "      <th>movieId</th>\n",
       "      <th>tmdbId</th>\n",
       "      <th>title</th>\n",
       "      <th>title_clean</th>\n",
       "      <th>genres</th>\n",
       "      <th>actors</th>\n",
       "      <th>directors</th>\n",
       "      <th>overview</th>\n",
       "      <th>keywords</th>\n",
       "      <th>popularity</th>\n",
       "      <th>vote_count</th>\n",
       "      <th>vote_average</th>\n",
       "      <th>runtime</th>\n",
       "      <th>release</th>\n",
       "    </tr>\n",
       "  </thead>\n",
       "  <tbody>\n",
       "    <tr>\n",
       "      <th>0</th>\n",
       "      <td>1.0</td>\n",
       "      <td>862</td>\n",
       "      <td>Toy Story (1995)</td>\n",
       "      <td>['toy story']</td>\n",
       "      <td>['adventure', 'animation', 'children', 'comedy...</td>\n",
       "      <td>['tomhanks', 'timallen', 'donrickles']</td>\n",
       "      <td>['johnlasseter']</td>\n",
       "      <td>led by woody, andy's toys live happily in his ...</td>\n",
       "      <td>['martialarts', 'jealousy', 'toy', 'friendship...</td>\n",
       "      <td>70.910</td>\n",
       "      <td>13173.0</td>\n",
       "      <td>7.9</td>\n",
       "      <td>81.0</td>\n",
       "      <td>1995-10-30</td>\n",
       "    </tr>\n",
       "    <tr>\n",
       "      <th>1</th>\n",
       "      <td>2.0</td>\n",
       "      <td>8844</td>\n",
       "      <td>Jumanji (1995)</td>\n",
       "      <td>['jumanji']</td>\n",
       "      <td>['adventure', 'children', 'fantasy']</td>\n",
       "      <td>['robinwilliams', 'jonathanhyde', 'kirstendunst']</td>\n",
       "      <td>['joejohnston']</td>\n",
       "      <td>when siblings judy and peter discover an encha...</td>\n",
       "      <td>['giantinsect', 'boardgame', 'jungle', 'disapp...</td>\n",
       "      <td>11.919</td>\n",
       "      <td>7711.0</td>\n",
       "      <td>7.2</td>\n",
       "      <td>104.0</td>\n",
       "      <td>1995-12-15</td>\n",
       "    </tr>\n",
       "    <tr>\n",
       "      <th>2</th>\n",
       "      <td>3.0</td>\n",
       "      <td>15602</td>\n",
       "      <td>Grumpier Old Men (1995)</td>\n",
       "      <td>['grumpier old men']</td>\n",
       "      <td>['comedy', 'romance']</td>\n",
       "      <td>['waltermatthau', 'jacklemmon', 'ann-margret']</td>\n",
       "      <td>['howarddeutch']</td>\n",
       "      <td>a family wedding reignites the ancient feud be...</td>\n",
       "      <td>['fishing', 'oldman', 'bestfriend', 'duringcre...</td>\n",
       "      <td>13.122</td>\n",
       "      <td>217.0</td>\n",
       "      <td>6.6</td>\n",
       "      <td>101.0</td>\n",
       "      <td>1995-12-22</td>\n",
       "    </tr>\n",
       "    <tr>\n",
       "      <th>3</th>\n",
       "      <td>4.0</td>\n",
       "      <td>31357</td>\n",
       "      <td>Waiting to Exhale (1995)</td>\n",
       "      <td>['waiting to exhale']</td>\n",
       "      <td>['comedy', 'drama', 'romance']</td>\n",
       "      <td>['whitneyhouston', 'angelabassett', 'lorettade...</td>\n",
       "      <td>['forestwhitaker']</td>\n",
       "      <td>cheated on, mistreated and stepped on, the wom...</td>\n",
       "      <td>['basedonnovelorbook', 'interracialrelationshi...</td>\n",
       "      <td>5.123</td>\n",
       "      <td>79.0</td>\n",
       "      <td>6.2</td>\n",
       "      <td>127.0</td>\n",
       "      <td>1995-12-22</td>\n",
       "    </tr>\n",
       "    <tr>\n",
       "      <th>4</th>\n",
       "      <td>5.0</td>\n",
       "      <td>11862</td>\n",
       "      <td>Father of the Bride Part II (1995)</td>\n",
       "      <td>['father of the bride part ii']</td>\n",
       "      <td>['comedy']</td>\n",
       "      <td>['stevemartin', 'dianekeaton', 'martinshort']</td>\n",
       "      <td>['charlesshyer']</td>\n",
       "      <td>just when george banks has recovered from his ...</td>\n",
       "      <td>['parentchildrelationship', 'baby', 'midlifecr...</td>\n",
       "      <td>15.142</td>\n",
       "      <td>446.0</td>\n",
       "      <td>6.2</td>\n",
       "      <td>106.0</td>\n",
       "      <td>1995-12-08</td>\n",
       "    </tr>\n",
       "  </tbody>\n",
       "</table>\n",
       "</div>"
      ],
      "text/plain": [
       "   movieId  tmdbId                               title  \\\n",
       "0      1.0     862                    Toy Story (1995)   \n",
       "1      2.0    8844                      Jumanji (1995)   \n",
       "2      3.0   15602             Grumpier Old Men (1995)   \n",
       "3      4.0   31357            Waiting to Exhale (1995)   \n",
       "4      5.0   11862  Father of the Bride Part II (1995)   \n",
       "\n",
       "                       title_clean  \\\n",
       "0                    ['toy story']   \n",
       "1                      ['jumanji']   \n",
       "2             ['grumpier old men']   \n",
       "3            ['waiting to exhale']   \n",
       "4  ['father of the bride part ii']   \n",
       "\n",
       "                                              genres  \\\n",
       "0  ['adventure', 'animation', 'children', 'comedy...   \n",
       "1               ['adventure', 'children', 'fantasy']   \n",
       "2                              ['comedy', 'romance']   \n",
       "3                     ['comedy', 'drama', 'romance']   \n",
       "4                                         ['comedy']   \n",
       "\n",
       "                                              actors           directors  \\\n",
       "0             ['tomhanks', 'timallen', 'donrickles']    ['johnlasseter']   \n",
       "1  ['robinwilliams', 'jonathanhyde', 'kirstendunst']     ['joejohnston']   \n",
       "2     ['waltermatthau', 'jacklemmon', 'ann-margret']    ['howarddeutch']   \n",
       "3  ['whitneyhouston', 'angelabassett', 'lorettade...  ['forestwhitaker']   \n",
       "4      ['stevemartin', 'dianekeaton', 'martinshort']    ['charlesshyer']   \n",
       "\n",
       "                                            overview  \\\n",
       "0  led by woody, andy's toys live happily in his ...   \n",
       "1  when siblings judy and peter discover an encha...   \n",
       "2  a family wedding reignites the ancient feud be...   \n",
       "3  cheated on, mistreated and stepped on, the wom...   \n",
       "4  just when george banks has recovered from his ...   \n",
       "\n",
       "                                            keywords  popularity  vote_count  \\\n",
       "0  ['martialarts', 'jealousy', 'toy', 'friendship...      70.910     13173.0   \n",
       "1  ['giantinsect', 'boardgame', 'jungle', 'disapp...      11.919      7711.0   \n",
       "2  ['fishing', 'oldman', 'bestfriend', 'duringcre...      13.122       217.0   \n",
       "3  ['basedonnovelorbook', 'interracialrelationshi...       5.123        79.0   \n",
       "4  ['parentchildrelationship', 'baby', 'midlifecr...      15.142       446.0   \n",
       "\n",
       "   vote_average  runtime     release  \n",
       "0           7.9     81.0  1995-10-30  \n",
       "1           7.2    104.0  1995-12-15  \n",
       "2           6.6    101.0  1995-12-22  \n",
       "3           6.2    127.0  1995-12-22  \n",
       "4           6.2    106.0  1995-12-08  "
      ]
     },
     "execution_count": 4,
     "metadata": {},
     "output_type": "execute_result"
    }
   ],
   "source": [
    "data.head()"
   ]
  },
  {
   "cell_type": "code",
   "execution_count": null,
   "metadata": {},
   "outputs": [],
   "source": []
  },
  {
   "cell_type": "code",
   "execution_count": null,
   "metadata": {},
   "outputs": [],
   "source": [
    "from sklearn.feature_extraction.text import TfidfVectorizer\n",
    "\n",
    "#Define a TF-IDF Vectorizer Object. Remove all english stop words such as 'the', 'a'\n",
    "tfidf = TfidfVectorizer(stop_words='english')\n",
    "#Construct the required TF-IDF matrix by fitting and transforming the data\n",
    "tfidf_matrix = tfidf.fit_transform()\n",
    "\n",
    "#Output the shape of tfidf_matrix\n",
    "tfidf_matrix.shape"
   ]
  },
  {
   "cell_type": "code",
   "execution_count": 6,
   "metadata": {
    "execution": {
     "iopub.execute_input": "2020-11-25T20:29:54.102510Z",
     "iopub.status.busy": "2020-11-25T20:29:54.102200Z",
     "iopub.status.idle": "2020-11-25T20:29:55.149217Z",
     "shell.execute_reply": "2020-11-25T20:29:55.145342Z",
     "shell.execute_reply.started": "2020-11-25T20:29:54.102474Z"
    }
   },
   "outputs": [
    {
     "ename": "NameError",
     "evalue": "name 'tfidf_matrix' is not defined",
     "output_type": "error",
     "traceback": [
      "\u001b[0;31m---------------------------------------------------------------------------\u001b[0m",
      "\u001b[0;31mNameError\u001b[0m                                 Traceback (most recent call last)",
      "\u001b[0;32m<ipython-input-6-8d77745b0c8c>\u001b[0m in \u001b[0;36m<module>\u001b[0;34m\u001b[0m\n\u001b[1;32m      1\u001b[0m \u001b[0;32mfrom\u001b[0m \u001b[0msklearn\u001b[0m\u001b[0;34m.\u001b[0m\u001b[0mmetrics\u001b[0m\u001b[0;34m.\u001b[0m\u001b[0mpairwise\u001b[0m \u001b[0;32mimport\u001b[0m \u001b[0mlinear_kernel\u001b[0m\u001b[0;34m\u001b[0m\u001b[0;34m\u001b[0m\u001b[0m\n\u001b[0;32m----> 2\u001b[0;31m \u001b[0mcosine_sim\u001b[0m \u001b[0;34m=\u001b[0m \u001b[0mlinear_kernel\u001b[0m\u001b[0;34m(\u001b[0m\u001b[0mtfidf_matrix\u001b[0m\u001b[0;34m,\u001b[0m \u001b[0mtfidf_matrix\u001b[0m\u001b[0;34m)\u001b[0m\u001b[0;34m\u001b[0m\u001b[0;34m\u001b[0m\u001b[0m\n\u001b[0m",
      "\u001b[0;31mNameError\u001b[0m: name 'tfidf_matrix' is not defined"
     ]
    }
   ],
   "source": [
    "from sklearn.metrics.pairwise import linear_kernel\n",
    "cosine_sim = linear_kernel(tfidf_matrix, tfidf_matrix)"
   ]
  },
  {
   "cell_type": "code",
   "execution_count": 7,
   "metadata": {
    "execution": {
     "iopub.execute_input": "2020-11-25T20:29:55.345534Z",
     "iopub.status.busy": "2020-11-25T20:29:55.345231Z",
     "iopub.status.idle": "2020-11-25T20:29:55.366030Z",
     "shell.execute_reply": "2020-11-25T20:29:55.362220Z",
     "shell.execute_reply.started": "2020-11-25T20:29:55.345502Z"
    }
   },
   "outputs": [
    {
     "ename": "NameError",
     "evalue": "name 'cosine_sim' is not defined",
     "output_type": "error",
     "traceback": [
      "\u001b[0;31m---------------------------------------------------------------------------\u001b[0m",
      "\u001b[0;31mNameError\u001b[0m                                 Traceback (most recent call last)",
      "\u001b[0;32m<ipython-input-7-2bbd5113f387>\u001b[0m in \u001b[0;36m<module>\u001b[0;34m\u001b[0m\n\u001b[0;32m----> 1\u001b[0;31m \u001b[0;32mdef\u001b[0m \u001b[0mget_recommendations\u001b[0m\u001b[0;34m(\u001b[0m\u001b[0mtitle\u001b[0m\u001b[0;34m,\u001b[0m \u001b[0mcosine_sim\u001b[0m\u001b[0;34m=\u001b[0m\u001b[0mcosine_sim\u001b[0m\u001b[0;34m)\u001b[0m\u001b[0;34m:\u001b[0m\u001b[0;34m\u001b[0m\u001b[0;34m\u001b[0m\u001b[0m\n\u001b[0m\u001b[1;32m      2\u001b[0m     \u001b[0;31m# Get the index of the movie that matches the title\u001b[0m\u001b[0;34m\u001b[0m\u001b[0;34m\u001b[0m\u001b[0;34m\u001b[0m\u001b[0m\n\u001b[1;32m      3\u001b[0m     \u001b[0midx\u001b[0m \u001b[0;34m=\u001b[0m \u001b[0mindices\u001b[0m\u001b[0;34m[\u001b[0m\u001b[0mtitle\u001b[0m\u001b[0;34m]\u001b[0m\u001b[0;34m\u001b[0m\u001b[0;34m\u001b[0m\u001b[0m\n\u001b[1;32m      4\u001b[0m \u001b[0;34m\u001b[0m\u001b[0m\n\u001b[1;32m      5\u001b[0m     \u001b[0;31m# Get the pairwsie similarity scores of all movies with that movie\u001b[0m\u001b[0;34m\u001b[0m\u001b[0;34m\u001b[0m\u001b[0;34m\u001b[0m\u001b[0m\n",
      "\u001b[0;31mNameError\u001b[0m: name 'cosine_sim' is not defined"
     ]
    }
   ],
   "source": [
    "def get_recommendations(title, cosine_sim=cosine_sim):\n",
    "    # Get the index of the movie that matches the title\n",
    "    idx = indices[title]\n",
    "\n",
    "    # Get the pairwsie similarity scores of all movies with that movie\n",
    "    sim_scores = list(enumerate(cosine_sim[idx]))\n",
    "\n",
    "    # Sort the movies based on the similarity scores\n",
    "    sim_scores = sorted(sim_scores, key=lambda x: x[1], reverse=True)\n",
    "\n",
    "    # Get the scores of the 10 most similar movies\n",
    "    sim_scores = sim_scores[1:11]\n",
    "\n",
    "    # Get the movie indices\n",
    "    movie_indices = [i[0] for i in sim_scores]\n",
    "\n",
    "    # Return the top 10 most similar movies\n",
    "    return df2['title'].iloc[movie_indices]"
   ]
  },
  {
   "cell_type": "code",
   "execution_count": null,
   "metadata": {},
   "outputs": [],
   "source": [
    "from ast import literal_eval\n",
    "\n",
    "features = ['cast', 'crew', 'keywords', 'genres']\n",
    "for feature in features:\n",
    "    df2[feature] = df2[feature].apply(literal_eval)"
   ]
  }
 ],
 "metadata": {
  "kernelspec": {
   "display_name": "Python 3",
   "language": "python",
   "name": "python3"
  },
  "language_info": {
   "codemirror_mode": {
    "name": "ipython",
    "version": 3
   },
   "file_extension": ".py",
   "mimetype": "text/x-python",
   "name": "python",
   "nbconvert_exporter": "python",
   "pygments_lexer": "ipython3",
   "version": "3.7.7"
  }
 },
 "nbformat": 4,
 "nbformat_minor": 4
}
