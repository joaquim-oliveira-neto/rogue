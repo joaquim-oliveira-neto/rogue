{
 "cells": [
  {
   "cell_type": "code",
   "execution_count": 1,
   "metadata": {},
   "outputs": [
    {
     "name": "stdout",
     "output_type": "stream",
     "text": [
      "Edward Norton\n"
     ]
    }
   ],
   "source": [
    "import requests\n",
    "import numpy as np\n",
    "import pandas as pd\n",
    "\n",
    "movie_id = '550'\n",
    "key = '01b23ac90628a022b13a52888ba8419e'\n",
    "\n",
    "response = requests.get(f'https://api.themoviedb.org/3/movie/{movie_id}/credits?api_key={key}&language=en-US').json()\n",
    "\n",
    "print(response['cast'][0]['name'])"
   ]
  },
  {
   "cell_type": "markdown",
   "metadata": {},
   "source": [
    "access actor photo = https://image.tmdb.org/t/p/original/a5ax2ICLrV6l0T74OSFvzssCQyQ.jpg"
   ]
  },
  {
   "cell_type": "code",
   "execution_count": 2,
   "metadata": {},
   "outputs": [],
   "source": [
    "key = '01b23ac90628a022b13a52888ba8419e'\n",
    "\n",
    "def get_movie_credits(movie_id):\n",
    "    cast_list = []\n",
    "    try:\n",
    "        response = requests.get(f'https://api.themoviedb.org/3/movie/{movie_id}/credits?api_key={key}&language=en-US').json()\n",
    "        i = len(response['cast'])\n",
    "        for member in response['cast']:\n",
    "            cast_list.append(member['name'])\n",
    "        return cast_list\n",
    "    except:\n",
    "        return cast_list\n",
    "    "
   ]
  },
  {
   "cell_type": "code",
   "execution_count": 3,
   "metadata": {},
   "outputs": [
    {
     "name": "stdout",
     "output_type": "stream",
     "text": [
      "['Guy Madison', 'Michèle Mercier', 'Federica Ranchi', 'Marisa Belli', 'Paul Müller', 'Tullio Altamura', 'Antonella Della Porta', 'Gisella Arden', 'Fernando Piazza', 'Margaret Rose Keil', 'Claudine Damon', 'Vera Besusso', 'Carlo Hintermann']\n"
     ]
    }
   ],
   "source": [
    "result = get_movie_credits(79513)\n",
    "print(result)"
   ]
  },
  {
   "cell_type": "code",
   "execution_count": 4,
   "metadata": {},
   "outputs": [],
   "source": [
    "def get_actor_photo(movie_id):\n",
    "    cast_list = []\n",
    "    base_url = 'https://image.tmdb.org/t/p/original'\n",
    "    try:\n",
    "        response = requests.get(f'https://api.themoviedb.org/3/movie/{movie_id}/credits?api_key={key}&language=en-US').json()\n",
    "        i = len(response['cast'])\n",
    "        for member in response['cast']:\n",
    "            cast_list.append(base_url + member['profile_path'])\n",
    "        return cast_list\n",
    "    except:\n",
    "        return cast_list    "
   ]
  },
  {
   "cell_type": "code",
   "execution_count": 5,
   "metadata": {},
   "outputs": [
    {
     "name": "stdout",
     "output_type": "stream",
     "text": [
      "['https://image.tmdb.org/t/p/original/5XBzD5WuTyVQZeS4VI25z2moMeY.jpg', 'https://image.tmdb.org/t/p/original/cckcYc2v0yh1tc9QjRelptcOBko.jpg', 'https://image.tmdb.org/t/p/original/mW1NolxQmPE16Zg6zuWyZlFgOwL.jpg', 'https://image.tmdb.org/t/p/original/k9tJGdMkzOe17YH2ZCQjNnX5YLz.jpg', 'https://image.tmdb.org/t/p/original/ca3x0OfIKbJppZh8S1Alx3GfUZO.jpg', 'https://image.tmdb.org/t/p/original/fSyQKZO39sUsqY283GXiScOg3Hi.jpg', 'https://image.tmdb.org/t/p/original/a5ax2ICLrV6l0T74OSFvzssCQyQ.jpg', 'https://image.tmdb.org/t/p/original/hKqfGq1sPhZdQOlto0bS3igFZdP.jpg', 'https://image.tmdb.org/t/p/original/qpKZQn71Fwk6Gm1WZHL9IpVmcyO.jpg', 'https://image.tmdb.org/t/p/original/36LEerIIN7gpG52mM3Ier7YWDbh.jpg', 'https://image.tmdb.org/t/p/original/h1vwbOfITSvDvDq8E9MVvWqMYSr.jpg', 'https://image.tmdb.org/t/p/original/AmY8QpXyWUCOX4SewTVytjqD8rz.jpg', 'https://image.tmdb.org/t/p/original/j3kJRKgQdHAMXvJUtPHXJsGGW5X.jpg', 'https://image.tmdb.org/t/p/original/AczLnt4baxBT4gqSroSjCqD7S9D.jpg', 'https://image.tmdb.org/t/p/original/hktppGThiKu30lcGW9CicNuinhc.jpg', 'https://image.tmdb.org/t/p/original/yADROfK7uJkmd8p3GyjxH8WZqRL.jpg']\n"
     ]
    }
   ],
   "source": [
    "result_photo = get_actor_photo(550)\n",
    "print(result_photo)"
   ]
  },
  {
   "cell_type": "code",
   "execution_count": 6,
   "metadata": {},
   "outputs": [
    {
     "data": {
      "text/plain": [
       "0      862\n",
       "1     8844\n",
       "2    15602\n",
       "3    31357\n",
       "4    11862\n",
       "Name: tmdbId, dtype: int32"
      ]
     },
     "execution_count": 6,
     "metadata": {},
     "output_type": "execute_result"
    }
   ],
   "source": [
    "links = pd.read_csv('../raw_data/ml-25m/links.csv')\n",
    "links = links.dropna(subset=['tmdbId'])\n",
    "links['tmdbId'] = links['tmdbId'].astype(np.int32)\n",
    "links['tmdbId'].head()"
   ]
  },
  {
   "cell_type": "code",
   "execution_count": 7,
   "metadata": {
    "scrolled": true
   },
   "outputs": [
    {
     "data": {
      "text/plain": [
       "numpy.int32"
      ]
     },
     "execution_count": 7,
     "metadata": {},
     "output_type": "execute_result"
    }
   ],
   "source": [
    "type(links['tmdbId'][0])"
   ]
  },
  {
   "cell_type": "code",
   "execution_count": null,
   "metadata": {},
   "outputs": [],
   "source": [
    "all_results_name = []\n",
    "for i in links['tmdbId']:\n",
    "    result = get_movie_credits(i)\n",
    "    all_results_name.append(result)"
   ]
  },
  {
   "cell_type": "code",
   "execution_count": null,
   "metadata": {},
   "outputs": [],
   "source": [
    "pd.DataFrame(data=all_results_name)"
   ]
  }
 ],
 "metadata": {
  "kernelspec": {
   "display_name": "Python 3",
   "language": "python",
   "name": "python3"
  },
  "language_info": {
   "codemirror_mode": {
    "name": "ipython",
    "version": 3
   },
   "file_extension": ".py",
   "mimetype": "text/x-python",
   "name": "python",
   "nbconvert_exporter": "python",
   "pygments_lexer": "ipython3",
   "version": "3.7.7"
  }
 },
 "nbformat": 4,
 "nbformat_minor": 4
}
