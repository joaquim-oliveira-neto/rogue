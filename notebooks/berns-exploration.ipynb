{
 "cells": [
  {
   "cell_type": "code",
   "execution_count": null,
   "metadata": {},
   "outputs": [],
   "source": [
    "import requests\n",
    "import numpy as np\n",
    "import pandas as pd\n",
    "\n",
    "movie_id = '550'\n",
    "key = '01b23ac90628a022b13a52888ba8419e'\n",
    "\n",
    "response = requests.get(f'https://api.themoviedb.org/3/movie/{movie_id}/credits?api_key={key}&language=en-US').json()\n",
    "\n",
    "print(response['cast'][0]['name'])"
   ]
  },
  {
   "cell_type": "markdown",
   "metadata": {},
   "source": [
    "access actor photo = https://image.tmdb.org/t/p/original/a5ax2ICLrV6l0T74OSFvzssCQyQ.jpg"
   ]
  },
  {
   "cell_type": "code",
   "execution_count": null,
   "metadata": {},
   "outputs": [],
   "source": [
    "key = '01b23ac90628a022b13a52888ba8419e'\n",
    "\n",
    "def get_movie_credits(movie_id):\n",
    "    cast_list = []\n",
    "    try:\n",
    "        response = requests.get(f'https://api.themoviedb.org/3/movie/{movie_id}/credits?api_key={key}&language=en-US').json()\n",
    "        i = len(response['cast'])\n",
    "        for member in response['cast']:\n",
    "            cast_list.append(member['name'])\n",
    "        return cast_list\n",
    "    except:\n",
    "        return cast_list\n",
    "    "
   ]
  },
  {
   "cell_type": "code",
   "execution_count": null,
   "metadata": {},
   "outputs": [],
   "source": [
    "result = get_movie_credits(79513)\n",
    "print(result)"
   ]
  },
  {
   "cell_type": "code",
   "execution_count": null,
   "metadata": {},
   "outputs": [],
   "source": [
    "def get_actor_photo(movie_id):\n",
    "    cast_list = []\n",
    "    base_url = 'https://image.tmdb.org/t/p/original'\n",
    "    try:\n",
    "        response = requests.get(f'https://api.themoviedb.org/3/movie/{movie_id}/credits?api_key={key}&language=en-US').json()\n",
    "        i = len(response['cast'])\n",
    "        for member in response['cast']:\n",
    "            cast_list.append(base_url + member['profile_path'])\n",
    "        return cast_list\n",
    "    except:\n",
    "        return cast_list    "
   ]
  },
  {
   "cell_type": "code",
   "execution_count": null,
   "metadata": {},
   "outputs": [],
   "source": [
    "result_photo = get_actor_photo(550)\n",
    "print(result_photo)"
   ]
  },
  {
   "cell_type": "code",
   "execution_count": null,
   "metadata": {},
   "outputs": [],
   "source": [
    "links = pd.read_csv('../raw_data/ml-25m/links.csv')\n",
    "links = links.dropna(subset=['tmdbId'])\n",
    "links['tmdbId'] = links['tmdbId'].astype(np.int32)\n",
    "links['tmdbId'].head()"
   ]
  },
  {
   "cell_type": "code",
   "execution_count": null,
   "metadata": {
    "scrolled": true
   },
   "outputs": [],
   "source": [
    "type(links['tmdbId'][0])"
   ]
  },
  {
   "cell_type": "code",
   "execution_count": null,
   "metadata": {},
   "outputs": [],
   "source": [
    "all_results_name = []\n",
    "for i in links['tmdbId']:\n",
    "    result = get_movie_credits(i)\n",
    "    all_results_name.append(result)"
   ]
  },
  {
   "cell_type": "code",
   "execution_count": null,
   "metadata": {},
   "outputs": [],
   "source": [
    "pd.DataFrame(data=all_results_name)"
   ]
  }
 ],
 "metadata": {
  "kernelspec": {
   "display_name": "Python 3",
   "language": "python",
   "name": "python3"
  },
  "language_info": {
   "codemirror_mode": {
    "name": "ipython",
    "version": 3
   },
   "file_extension": ".py",
   "mimetype": "text/x-python",
   "name": "python",
   "nbconvert_exporter": "python",
   "pygments_lexer": "ipython3",
   "version": "3.7.7"
  }
 },
 "nbformat": 4,
 "nbformat_minor": 4
}
