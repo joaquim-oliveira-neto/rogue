{
 "cells": [
  {
   "cell_type": "code",
   "execution_count": 1,
   "metadata": {},
   "outputs": [
    {
     "name": "stdout",
     "output_type": "stream",
     "text": [
      "Edward Norton\n"
     ]
    }
   ],
   "source": [
    "import requests\n",
    "import numpy as np\n",
    "import pandas as pd\n",
    "\n",
    "movie_id = '550'\n",
    "key = '01b23ac90628a022b13a52888ba8419e'\n",
    "\n",
    "response = requests.get(f'https://api.themoviedb.org/3/movie/{movie_id}/credits?api_key={key}&language=en-US').json()\n",
    "\n",
    "print(response['cast'][0]['name'])"
   ]
  },
  {
   "cell_type": "markdown",
   "metadata": {},
   "source": [
    "access actor photo = https://image.tmdb.org/t/p/original/a5ax2ICLrV6l0T74OSFvzssCQyQ.jpg"
   ]
  },
  {
   "cell_type": "code",
   "execution_count": 2,
   "metadata": {},
   "outputs": [],
   "source": [
    "key = '01b23ac90628a022b13a52888ba8419e'\n",
    "\n",
    "def get_movie_credits(movie_id):\n",
    "    cast_list = []\n",
    "    try:\n",
    "        response = requests.get(f'https://api.themoviedb.org/3/movie/{movie_id}/credits?api_key={key}&language=en-US').json()\n",
    "        i = len(response['cast'])\n",
    "        for member in response['cast']:\n",
    "            cast_list.append(member)\n",
    "        return cast_list\n",
    "    except:\n",
    "        return cast_list\n",
    "    "
   ]
  },
  {
   "cell_type": "code",
   "execution_count": 3,
   "metadata": {},
   "outputs": [
    {
     "name": "stdout",
     "output_type": "stream",
     "text": [
      "[{'adult': False, 'gender': 2, 'id': 40201, 'known_for_department': 'Acting', 'name': 'Guy Madison', 'original_name': 'Guy Madison', 'popularity': 1.67, 'profile_path': '/4jyeTk80pk6r0Ma02HMIDpT7TTV.jpg', 'cast_id': 2, 'character': 'Henri Vallière', 'credit_id': '52fe49d6c3a368484e142bd7', 'order': 0}, {'adult': False, 'gender': 1, 'id': 19270, 'known_for_department': 'Acting', 'name': 'Michèle Mercier', 'original_name': 'Michèle Mercier', 'popularity': 5.756, 'profile_path': '/zMU4YCtUB4sxDJAJv8PQ0lXW5uK.jpg', 'cast_id': 3, 'character': 'Martine Foucher', 'credit_id': '52fe49d6c3a368484e142bdb', 'order': 1}, {'adult': False, 'gender': 0, 'id': 1188398, 'known_for_department': 'Acting', 'name': 'Federica Ranchi', 'original_name': 'Federica Ranchi', 'popularity': 0.6, 'profile_path': None, 'cast_id': 4, 'character': 'Jeanette', 'credit_id': '55cda272c3a3681bfc0017c1', 'order': 2}, {'adult': False, 'gender': 1, 'id': 50827, 'known_for_department': 'Acting', 'name': 'Marisa Belli', 'original_name': 'Marisa Belli', 'popularity': 0.828, 'profile_path': None, 'cast_id': 5, 'character': 'Melina', 'credit_id': '55cda27f92514131980016a6', 'order': 3}, {'adult': False, 'gender': 2, 'id': 101549, 'known_for_department': 'Acting', 'name': 'Paul Müller', 'original_name': 'Paul Müller', 'popularity': 3.092, 'profile_path': '/sOtKH3ouYaWH6EzNdfxNqCT6zUY.jpg', 'cast_id': 6, 'character': 'Lefèvre', 'credit_id': '55cda2909251413193001685', 'order': 4}, {'adult': False, 'gender': 2, 'id': 1046561, 'known_for_department': 'Acting', 'name': 'Tullio Altamura', 'original_name': 'Tullio Altamura', 'popularity': 0.6, 'profile_path': '/1Fmof8OeWWR0pXqAc1MwQlpXpn0.jpg', 'cast_id': 7, 'character': 'Dubois', 'credit_id': '55cda2a0c3a3681bf900180b', 'order': 5}, {'adult': False, 'gender': 0, 'id': 50006, 'known_for_department': 'Acting', 'name': 'Antonella Della Porta', 'original_name': 'Antonella Della Porta', 'popularity': 0.98, 'profile_path': None, 'cast_id': 8, 'character': 'Louise', 'credit_id': '55cda2b4925141319f001847', 'order': 6}, {'adult': False, 'gender': 1, 'id': 1063534, 'known_for_department': 'Acting', 'name': 'Gisella Arden', 'original_name': 'Gisella Arden', 'popularity': 0.6, 'profile_path': '/x8VJquCQ1ME6lKeMlRpgO0K9cb5.jpg', 'cast_id': 10, 'character': 'Maeva', 'credit_id': '55cda2ebc3a3681bff00186c', 'order': 8}, {'adult': False, 'gender': 0, 'id': 1496792, 'known_for_department': 'Acting', 'name': 'Fernando Piazza', 'original_name': 'Fernando Piazza', 'popularity': 0.6, 'profile_path': None, 'cast_id': 11, 'character': 'Michael', 'credit_id': '55cda2f9c3a3681bee001700', 'order': 9}, {'adult': False, 'gender': 1, 'id': 37783, 'known_for_department': 'Acting', 'name': 'Margaret Rose Keil', 'original_name': 'Margaret Rose Keil', 'popularity': 0.98, 'profile_path': '/miLiW3V6Aq8GC1kMEtEQdSChJdC.jpg', 'cast_id': 12, 'character': 'Rosy', 'credit_id': '55cda31092514131a20016e2', 'order': 10}, {'adult': False, 'gender': 0, 'id': 1496793, 'known_for_department': 'Acting', 'name': 'Claudine Damon', 'original_name': 'Claudine Damon', 'popularity': 0.6, 'profile_path': None, 'cast_id': 13, 'character': 'Pauline', 'credit_id': '55cda31bc3a3681bf50017de', 'order': 11}, {'adult': False, 'gender': 0, 'id': 1263759, 'known_for_department': 'Acting', 'name': 'Vera Besusso', 'original_name': 'Vera Besusso', 'popularity': 0.6, 'profile_path': None, 'cast_id': 14, 'character': 'Francoise', 'credit_id': '55cda32fc3a3681bf00014c8', 'order': 12}, {'adult': False, 'gender': 2, 'id': 50829, 'known_for_department': 'Acting', 'name': 'Carlo Hintermann', 'original_name': 'Carlo Hintermann', 'popularity': 0.6, 'profile_path': None, 'cast_id': 19, 'character': 'Captain Duval', 'credit_id': '56f931349251414c1d002eef', 'order': 13}]\n"
     ]
    }
   ],
   "source": [
    "result = get_movie_credits(79513)\n",
    "print(result)"
   ]
  },
  {
   "cell_type": "code",
   "execution_count": 4,
   "metadata": {},
   "outputs": [],
   "source": [
    "def get_actor_photo(movie_id):\n",
    "    cast_list = []\n",
    "    base_url = 'https://image.tmdb.org/t/p/original'\n",
    "    try:\n",
    "        response = requests.get(f'https://api.themoviedb.org/3/movie/{movie_id}/credits?api_key={key}&language=en-US').json()\n",
    "        i = len(response['cast'])\n",
    "        for member in response['cast']:\n",
    "            cast_list.append(base_url + member['profile_path'])\n",
    "        return cast_list\n",
    "    except:\n",
    "        return cast_list    "
   ]
  },
  {
   "cell_type": "code",
   "execution_count": 5,
   "metadata": {
    "scrolled": true
   },
   "outputs": [
    {
     "name": "stdout",
     "output_type": "stream",
     "text": [
      "['https://image.tmdb.org/t/p/original/5XBzD5WuTyVQZeS4VI25z2moMeY.jpg', 'https://image.tmdb.org/t/p/original/cckcYc2v0yh1tc9QjRelptcOBko.jpg', 'https://image.tmdb.org/t/p/original/mW1NolxQmPE16Zg6zuWyZlFgOwL.jpg', 'https://image.tmdb.org/t/p/original/k9tJGdMkzOe17YH2ZCQjNnX5YLz.jpg', 'https://image.tmdb.org/t/p/original/ca3x0OfIKbJppZh8S1Alx3GfUZO.jpg', 'https://image.tmdb.org/t/p/original/fSyQKZO39sUsqY283GXiScOg3Hi.jpg', 'https://image.tmdb.org/t/p/original/a5ax2ICLrV6l0T74OSFvzssCQyQ.jpg', 'https://image.tmdb.org/t/p/original/hKqfGq1sPhZdQOlto0bS3igFZdP.jpg', 'https://image.tmdb.org/t/p/original/qpKZQn71Fwk6Gm1WZHL9IpVmcyO.jpg', 'https://image.tmdb.org/t/p/original/36LEerIIN7gpG52mM3Ier7YWDbh.jpg', 'https://image.tmdb.org/t/p/original/h1vwbOfITSvDvDq8E9MVvWqMYSr.jpg', 'https://image.tmdb.org/t/p/original/AmY8QpXyWUCOX4SewTVytjqD8rz.jpg', 'https://image.tmdb.org/t/p/original/j3kJRKgQdHAMXvJUtPHXJsGGW5X.jpg', 'https://image.tmdb.org/t/p/original/AczLnt4baxBT4gqSroSjCqD7S9D.jpg', 'https://image.tmdb.org/t/p/original/hktppGThiKu30lcGW9CicNuinhc.jpg', 'https://image.tmdb.org/t/p/original/yADROfK7uJkmd8p3GyjxH8WZqRL.jpg']\n"
     ]
    }
   ],
   "source": [
    "result_photo = get_actor_photo(550)\n",
    "print(result_photo)"
   ]
  },
  {
   "cell_type": "code",
   "execution_count": 18,
   "metadata": {},
   "outputs": [],
   "source": [
    "def get_movie_crew(movie_id):\n",
    "    cast_list = []\n",
    "    try:\n",
    "        response = requests.get(f'https://api.themoviedb.org/3/movie/{movie_id}/credits?api_key={key}&language=en-US').json()\n",
    "        i = len(response['crew'])\n",
    "        for member in response['crew']:\n",
    "            cast_list.append(member)\n",
    "        return cast_list\n",
    "    except:\n",
    "        return cast_list"
   ]
  },
  {
   "cell_type": "code",
   "execution_count": 6,
   "metadata": {
    "scrolled": true
   },
   "outputs": [
    {
     "data": {
      "text/html": [
       "<div>\n",
       "<style scoped>\n",
       "    .dataframe tbody tr th:only-of-type {\n",
       "        vertical-align: middle;\n",
       "    }\n",
       "\n",
       "    .dataframe tbody tr th {\n",
       "        vertical-align: top;\n",
       "    }\n",
       "\n",
       "    .dataframe thead th {\n",
       "        text-align: right;\n",
       "    }\n",
       "</style>\n",
       "<table border=\"1\" class=\"dataframe\">\n",
       "  <thead>\n",
       "    <tr style=\"text-align: right;\">\n",
       "      <th></th>\n",
       "      <th>movieId</th>\n",
       "      <th>imdbId</th>\n",
       "      <th>tmdbId</th>\n",
       "    </tr>\n",
       "  </thead>\n",
       "  <tbody>\n",
       "    <tr>\n",
       "      <th>0</th>\n",
       "      <td>1</td>\n",
       "      <td>114709</td>\n",
       "      <td>862</td>\n",
       "    </tr>\n",
       "    <tr>\n",
       "      <th>1</th>\n",
       "      <td>2</td>\n",
       "      <td>113497</td>\n",
       "      <td>8844</td>\n",
       "    </tr>\n",
       "    <tr>\n",
       "      <th>2</th>\n",
       "      <td>3</td>\n",
       "      <td>113228</td>\n",
       "      <td>15602</td>\n",
       "    </tr>\n",
       "    <tr>\n",
       "      <th>3</th>\n",
       "      <td>4</td>\n",
       "      <td>114885</td>\n",
       "      <td>31357</td>\n",
       "    </tr>\n",
       "    <tr>\n",
       "      <th>4</th>\n",
       "      <td>5</td>\n",
       "      <td>113041</td>\n",
       "      <td>11862</td>\n",
       "    </tr>\n",
       "  </tbody>\n",
       "</table>\n",
       "</div>"
      ],
      "text/plain": [
       "   movieId  imdbId  tmdbId\n",
       "0        1  114709     862\n",
       "1        2  113497    8844\n",
       "2        3  113228   15602\n",
       "3        4  114885   31357\n",
       "4        5  113041   11862"
      ]
     },
     "execution_count": 6,
     "metadata": {},
     "output_type": "execute_result"
    }
   ],
   "source": [
    "links = pd.read_csv('../raw_data/ml-25m/links.csv')\n",
    "links = links.dropna(subset=['tmdbId'])\n",
    "links['tmdbId'] = links['tmdbId'].astype(np.int32)\n",
    "links.head()"
   ]
  },
  {
   "cell_type": "code",
   "execution_count": 7,
   "metadata": {
    "scrolled": false
   },
   "outputs": [
    {
     "data": {
      "text/plain": [
       "numpy.int32"
      ]
     },
     "execution_count": 7,
     "metadata": {},
     "output_type": "execute_result"
    }
   ],
   "source": [
    "type(links['tmdbId'][0])"
   ]
  },
  {
   "cell_type": "code",
   "execution_count": 8,
   "metadata": {
    "scrolled": true
   },
   "outputs": [
    {
     "name": "stdout",
     "output_type": "stream",
     "text": [
      "(23353, 1)\n"
     ]
    },
    {
     "data": {
      "text/html": [
       "<div>\n",
       "<style scoped>\n",
       "    .dataframe tbody tr th:only-of-type {\n",
       "        vertical-align: middle;\n",
       "    }\n",
       "\n",
       "    .dataframe tbody tr th {\n",
       "        vertical-align: top;\n",
       "    }\n",
       "\n",
       "    .dataframe thead th {\n",
       "        text-align: right;\n",
       "    }\n",
       "</style>\n",
       "<table border=\"1\" class=\"dataframe\">\n",
       "  <thead>\n",
       "    <tr style=\"text-align: right;\">\n",
       "      <th></th>\n",
       "      <th>movieId</th>\n",
       "    </tr>\n",
       "  </thead>\n",
       "  <tbody>\n",
       "    <tr>\n",
       "      <th>0</th>\n",
       "      <td>1</td>\n",
       "    </tr>\n",
       "    <tr>\n",
       "      <th>1</th>\n",
       "      <td>2</td>\n",
       "    </tr>\n",
       "    <tr>\n",
       "      <th>2</th>\n",
       "      <td>3</td>\n",
       "    </tr>\n",
       "    <tr>\n",
       "      <th>3</th>\n",
       "      <td>4</td>\n",
       "    </tr>\n",
       "    <tr>\n",
       "      <th>4</th>\n",
       "      <td>5</td>\n",
       "    </tr>\n",
       "  </tbody>\n",
       "</table>\n",
       "</div>"
      ],
      "text/plain": [
       "   movieId\n",
       "0        1\n",
       "1        2\n",
       "2        3\n",
       "3        4\n",
       "4        5"
      ]
     },
     "execution_count": 8,
     "metadata": {},
     "output_type": "execute_result"
    }
   ],
   "source": [
    "data = pd.read_csv('../raw_data/treated-db/data.csv')\n",
    "data.drop(columns=['title', 'genres', 'actors', 'overview', 'popularity',\n",
    "       'vote_count', 'vote_average', 'runtime', 'release'], inplace=True)\n",
    "print(data.shape)\n",
    "data.head()"
   ]
  },
  {
   "cell_type": "code",
   "execution_count": 9,
   "metadata": {},
   "outputs": [
    {
     "name": "stdout",
     "output_type": "stream",
     "text": [
      "(23353, 3)\n"
     ]
    },
    {
     "data": {
      "text/html": [
       "<div>\n",
       "<style scoped>\n",
       "    .dataframe tbody tr th:only-of-type {\n",
       "        vertical-align: middle;\n",
       "    }\n",
       "\n",
       "    .dataframe tbody tr th {\n",
       "        vertical-align: top;\n",
       "    }\n",
       "\n",
       "    .dataframe thead th {\n",
       "        text-align: right;\n",
       "    }\n",
       "</style>\n",
       "<table border=\"1\" class=\"dataframe\">\n",
       "  <thead>\n",
       "    <tr style=\"text-align: right;\">\n",
       "      <th></th>\n",
       "      <th>movieId</th>\n",
       "      <th>imdbId</th>\n",
       "      <th>tmdbId</th>\n",
       "    </tr>\n",
       "  </thead>\n",
       "  <tbody>\n",
       "    <tr>\n",
       "      <th>0</th>\n",
       "      <td>1</td>\n",
       "      <td>114709</td>\n",
       "      <td>862</td>\n",
       "    </tr>\n",
       "    <tr>\n",
       "      <th>1</th>\n",
       "      <td>2</td>\n",
       "      <td>113497</td>\n",
       "      <td>8844</td>\n",
       "    </tr>\n",
       "    <tr>\n",
       "      <th>2</th>\n",
       "      <td>3</td>\n",
       "      <td>113228</td>\n",
       "      <td>15602</td>\n",
       "    </tr>\n",
       "    <tr>\n",
       "      <th>3</th>\n",
       "      <td>4</td>\n",
       "      <td>114885</td>\n",
       "      <td>31357</td>\n",
       "    </tr>\n",
       "    <tr>\n",
       "      <th>4</th>\n",
       "      <td>5</td>\n",
       "      <td>113041</td>\n",
       "      <td>11862</td>\n",
       "    </tr>\n",
       "  </tbody>\n",
       "</table>\n",
       "</div>"
      ],
      "text/plain": [
       "   movieId  imdbId  tmdbId\n",
       "0        1  114709     862\n",
       "1        2  113497    8844\n",
       "2        3  113228   15602\n",
       "3        4  114885   31357\n",
       "4        5  113041   11862"
      ]
     },
     "execution_count": 9,
     "metadata": {},
     "output_type": "execute_result"
    }
   ],
   "source": [
    "data = pd.merge(data, links, on='movieId', how='inner')\n",
    "print(data.shape)\n",
    "data.head()"
   ]
  },
  {
   "cell_type": "markdown",
   "metadata": {},
   "source": [
    "## Don't run code below unless you want a new .csv file"
   ]
  },
  {
   "cell_type": "code",
   "execution_count": 19,
   "metadata": {},
   "outputs": [],
   "source": [
    "import csv\n",
    "with open('credits.csv', 'w', newline='') as csvfile:\n",
    "    spamwriter = csv.writer(csvfile, delimiter=',')\n",
    "    spamwriter.writerow(['tmdbId','movie_crew'])\n",
    "    for i in data['tmdbId']:\n",
    "        result = get_movie_crew(i)\n",
    "        spamwriter.writerow([i,result])"
   ]
  },
  {
   "cell_type": "code",
   "execution_count": 21,
   "metadata": {},
   "outputs": [
    {
     "ename": "KeyError",
     "evalue": "0",
     "output_type": "error",
     "traceback": [
      "\u001b[0;31m---------------------------------------------------------------------------\u001b[0m",
      "\u001b[0;31mKeyError\u001b[0m                                  Traceback (most recent call last)",
      "\u001b[0;32m~/.pyenv/versions/3.7.7/envs/lewagon/lib/python3.7/site-packages/pandas/core/indexes/base.py\u001b[0m in \u001b[0;36mget_loc\u001b[0;34m(self, key, method, tolerance)\u001b[0m\n\u001b[1;32m   2894\u001b[0m             \u001b[0;32mtry\u001b[0m\u001b[0;34m:\u001b[0m\u001b[0;34m\u001b[0m\u001b[0;34m\u001b[0m\u001b[0m\n\u001b[0;32m-> 2895\u001b[0;31m                 \u001b[0;32mreturn\u001b[0m \u001b[0mself\u001b[0m\u001b[0;34m.\u001b[0m\u001b[0m_engine\u001b[0m\u001b[0;34m.\u001b[0m\u001b[0mget_loc\u001b[0m\u001b[0;34m(\u001b[0m\u001b[0mcasted_key\u001b[0m\u001b[0;34m)\u001b[0m\u001b[0;34m\u001b[0m\u001b[0;34m\u001b[0m\u001b[0m\n\u001b[0m\u001b[1;32m   2896\u001b[0m             \u001b[0;32mexcept\u001b[0m \u001b[0mKeyError\u001b[0m \u001b[0;32mas\u001b[0m \u001b[0merr\u001b[0m\u001b[0;34m:\u001b[0m\u001b[0;34m\u001b[0m\u001b[0;34m\u001b[0m\u001b[0m\n",
      "\u001b[0;32mpandas/_libs/index.pyx\u001b[0m in \u001b[0;36mpandas._libs.index.IndexEngine.get_loc\u001b[0;34m()\u001b[0m\n",
      "\u001b[0;32mpandas/_libs/index.pyx\u001b[0m in \u001b[0;36mpandas._libs.index.IndexEngine.get_loc\u001b[0;34m()\u001b[0m\n",
      "\u001b[0;32mpandas/_libs/hashtable_class_helper.pxi\u001b[0m in \u001b[0;36mpandas._libs.hashtable.PyObjectHashTable.get_item\u001b[0;34m()\u001b[0m\n",
      "\u001b[0;32mpandas/_libs/hashtable_class_helper.pxi\u001b[0m in \u001b[0;36mpandas._libs.hashtable.PyObjectHashTable.get_item\u001b[0;34m()\u001b[0m\n",
      "\u001b[0;31mKeyError\u001b[0m: 0",
      "\nThe above exception was the direct cause of the following exception:\n",
      "\u001b[0;31mKeyError\u001b[0m                                  Traceback (most recent call last)",
      "\u001b[0;32m<ipython-input-21-04fe2bee7f95>\u001b[0m in \u001b[0;36m<module>\u001b[0;34m\u001b[0m\n\u001b[1;32m      1\u001b[0m \u001b[0mdt\u001b[0m \u001b[0;34m=\u001b[0m \u001b[0mpd\u001b[0m\u001b[0;34m.\u001b[0m\u001b[0mread_csv\u001b[0m\u001b[0;34m(\u001b[0m\u001b[0;34m'../raw_data/tmdb-api/movies_crew.csv'\u001b[0m\u001b[0;34m)\u001b[0m\u001b[0;34m\u001b[0m\u001b[0;34m\u001b[0m\u001b[0m\n\u001b[0;32m----> 2\u001b[0;31m \u001b[0mdt\u001b[0m\u001b[0;34m[\u001b[0m\u001b[0;36m0\u001b[0m\u001b[0;34m]\u001b[0m\u001b[0;34m\u001b[0m\u001b[0;34m\u001b[0m\u001b[0m\n\u001b[0m",
      "\u001b[0;32m~/.pyenv/versions/3.7.7/envs/lewagon/lib/python3.7/site-packages/pandas/core/frame.py\u001b[0m in \u001b[0;36m__getitem__\u001b[0;34m(self, key)\u001b[0m\n\u001b[1;32m   2904\u001b[0m             \u001b[0;32mif\u001b[0m \u001b[0mself\u001b[0m\u001b[0;34m.\u001b[0m\u001b[0mcolumns\u001b[0m\u001b[0;34m.\u001b[0m\u001b[0mnlevels\u001b[0m \u001b[0;34m>\u001b[0m \u001b[0;36m1\u001b[0m\u001b[0;34m:\u001b[0m\u001b[0;34m\u001b[0m\u001b[0;34m\u001b[0m\u001b[0m\n\u001b[1;32m   2905\u001b[0m                 \u001b[0;32mreturn\u001b[0m \u001b[0mself\u001b[0m\u001b[0;34m.\u001b[0m\u001b[0m_getitem_multilevel\u001b[0m\u001b[0;34m(\u001b[0m\u001b[0mkey\u001b[0m\u001b[0;34m)\u001b[0m\u001b[0;34m\u001b[0m\u001b[0;34m\u001b[0m\u001b[0m\n\u001b[0;32m-> 2906\u001b[0;31m             \u001b[0mindexer\u001b[0m \u001b[0;34m=\u001b[0m \u001b[0mself\u001b[0m\u001b[0;34m.\u001b[0m\u001b[0mcolumns\u001b[0m\u001b[0;34m.\u001b[0m\u001b[0mget_loc\u001b[0m\u001b[0;34m(\u001b[0m\u001b[0mkey\u001b[0m\u001b[0;34m)\u001b[0m\u001b[0;34m\u001b[0m\u001b[0;34m\u001b[0m\u001b[0m\n\u001b[0m\u001b[1;32m   2907\u001b[0m             \u001b[0;32mif\u001b[0m \u001b[0mis_integer\u001b[0m\u001b[0;34m(\u001b[0m\u001b[0mindexer\u001b[0m\u001b[0;34m)\u001b[0m\u001b[0;34m:\u001b[0m\u001b[0;34m\u001b[0m\u001b[0;34m\u001b[0m\u001b[0m\n\u001b[1;32m   2908\u001b[0m                 \u001b[0mindexer\u001b[0m \u001b[0;34m=\u001b[0m \u001b[0;34m[\u001b[0m\u001b[0mindexer\u001b[0m\u001b[0;34m]\u001b[0m\u001b[0;34m\u001b[0m\u001b[0;34m\u001b[0m\u001b[0m\n",
      "\u001b[0;32m~/.pyenv/versions/3.7.7/envs/lewagon/lib/python3.7/site-packages/pandas/core/indexes/base.py\u001b[0m in \u001b[0;36mget_loc\u001b[0;34m(self, key, method, tolerance)\u001b[0m\n\u001b[1;32m   2895\u001b[0m                 \u001b[0;32mreturn\u001b[0m \u001b[0mself\u001b[0m\u001b[0;34m.\u001b[0m\u001b[0m_engine\u001b[0m\u001b[0;34m.\u001b[0m\u001b[0mget_loc\u001b[0m\u001b[0;34m(\u001b[0m\u001b[0mcasted_key\u001b[0m\u001b[0;34m)\u001b[0m\u001b[0;34m\u001b[0m\u001b[0;34m\u001b[0m\u001b[0m\n\u001b[1;32m   2896\u001b[0m             \u001b[0;32mexcept\u001b[0m \u001b[0mKeyError\u001b[0m \u001b[0;32mas\u001b[0m \u001b[0merr\u001b[0m\u001b[0;34m:\u001b[0m\u001b[0;34m\u001b[0m\u001b[0;34m\u001b[0m\u001b[0m\n\u001b[0;32m-> 2897\u001b[0;31m                 \u001b[0;32mraise\u001b[0m \u001b[0mKeyError\u001b[0m\u001b[0;34m(\u001b[0m\u001b[0mkey\u001b[0m\u001b[0;34m)\u001b[0m \u001b[0;32mfrom\u001b[0m \u001b[0merr\u001b[0m\u001b[0;34m\u001b[0m\u001b[0;34m\u001b[0m\u001b[0m\n\u001b[0m\u001b[1;32m   2898\u001b[0m \u001b[0;34m\u001b[0m\u001b[0m\n\u001b[1;32m   2899\u001b[0m         \u001b[0;32mif\u001b[0m \u001b[0mtolerance\u001b[0m \u001b[0;32mis\u001b[0m \u001b[0;32mnot\u001b[0m \u001b[0;32mNone\u001b[0m\u001b[0;34m:\u001b[0m\u001b[0;34m\u001b[0m\u001b[0;34m\u001b[0m\u001b[0m\n",
      "\u001b[0;31mKeyError\u001b[0m: 0"
     ]
    }
   ],
   "source": [
    "dt = pd.read_csv('../raw_data/tmdb-api/movies_crew.csv')\n",
    "dt."
   ]
  },
  {
   "cell_type": "code",
   "execution_count": null,
   "metadata": {},
   "outputs": [],
   "source": []
  }
 ],
 "metadata": {
  "kernelspec": {
   "display_name": "Python 3",
   "language": "python",
   "name": "python3"
  },
  "language_info": {
   "codemirror_mode": {
    "name": "ipython",
    "version": 3
   },
   "file_extension": ".py",
   "mimetype": "text/x-python",
   "name": "python",
   "nbconvert_exporter": "python",
   "pygments_lexer": "ipython3",
   "version": "3.7.7"
  }
 },
 "nbformat": 4,
 "nbformat_minor": 4
}
