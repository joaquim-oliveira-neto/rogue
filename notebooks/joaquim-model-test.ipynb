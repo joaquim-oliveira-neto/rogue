{
 "cells": [
  {
   "cell_type": "markdown",
   "metadata": {},
   "source": [
    "### Setup"
   ]
  },
  {
   "cell_type": "code",
   "execution_count": 1,
   "metadata": {
    "ExecuteTime": {
     "end_time": "2020-12-02T13:58:21.491475Z",
     "start_time": "2020-12-02T13:58:19.674396Z"
    }
   },
   "outputs": [],
   "source": [
    "import pandas as pd\n",
    "import numpy as np\n",
    "import matplotlib.pyplot as plt\n",
    "import seaborn as sns"
   ]
  },
  {
   "cell_type": "code",
   "execution_count": 2,
   "metadata": {
    "ExecuteTime": {
     "end_time": "2020-12-02T13:58:21.513778Z",
     "start_time": "2020-12-02T13:58:21.494349Z"
    }
   },
   "outputs": [],
   "source": [
    "def find_movie_title(id):\n",
    "    row = movies.loc[movies['movieId'] == id]\n",
    "    return row['title']"
   ]
  },
  {
   "cell_type": "code",
   "execution_count": 3,
   "metadata": {
    "ExecuteTime": {
     "end_time": "2020-12-02T13:58:29.490831Z",
     "start_time": "2020-12-02T13:58:21.522350Z"
    }
   },
   "outputs": [],
   "source": [
    "data_path = '../raw_data/ml-25m/'\n",
    "movies = pd.read_csv(data_path + 'movies.csv')\n",
    "ratings = pd.read_csv(data_path + 'ratings.csv')"
   ]
  },
  {
   "cell_type": "code",
   "execution_count": 4,
   "metadata": {
    "ExecuteTime": {
     "end_time": "2020-12-02T13:58:38.923199Z",
     "start_time": "2020-12-02T13:58:29.496360Z"
    }
   },
   "outputs": [],
   "source": [
    "ratings = ratings.merge(movies[['movieId', 'title']], on='movieId')"
   ]
  },
  {
   "cell_type": "code",
   "execution_count": 5,
   "metadata": {
    "ExecuteTime": {
     "end_time": "2020-12-02T13:58:38.984459Z",
     "start_time": "2020-12-02T13:58:38.925552Z"
    }
   },
   "outputs": [
    {
     "data": {
      "text/html": [
       "<div>\n",
       "<style scoped>\n",
       "    .dataframe tbody tr th:only-of-type {\n",
       "        vertical-align: middle;\n",
       "    }\n",
       "\n",
       "    .dataframe tbody tr th {\n",
       "        vertical-align: top;\n",
       "    }\n",
       "\n",
       "    .dataframe thead th {\n",
       "        text-align: right;\n",
       "    }\n",
       "</style>\n",
       "<table border=\"1\" class=\"dataframe\">\n",
       "  <thead>\n",
       "    <tr style=\"text-align: right;\">\n",
       "      <th></th>\n",
       "      <th>userId</th>\n",
       "      <th>movieId</th>\n",
       "      <th>rating</th>\n",
       "      <th>timestamp</th>\n",
       "      <th>title</th>\n",
       "    </tr>\n",
       "  </thead>\n",
       "  <tbody>\n",
       "    <tr>\n",
       "      <th>0</th>\n",
       "      <td>1</td>\n",
       "      <td>296</td>\n",
       "      <td>5.0</td>\n",
       "      <td>1147880044</td>\n",
       "      <td>Pulp Fiction (1994)</td>\n",
       "    </tr>\n",
       "    <tr>\n",
       "      <th>1</th>\n",
       "      <td>3</td>\n",
       "      <td>296</td>\n",
       "      <td>5.0</td>\n",
       "      <td>1439474476</td>\n",
       "      <td>Pulp Fiction (1994)</td>\n",
       "    </tr>\n",
       "    <tr>\n",
       "      <th>2</th>\n",
       "      <td>4</td>\n",
       "      <td>296</td>\n",
       "      <td>4.0</td>\n",
       "      <td>1573938898</td>\n",
       "      <td>Pulp Fiction (1994)</td>\n",
       "    </tr>\n",
       "    <tr>\n",
       "      <th>3</th>\n",
       "      <td>5</td>\n",
       "      <td>296</td>\n",
       "      <td>4.0</td>\n",
       "      <td>830786155</td>\n",
       "      <td>Pulp Fiction (1994)</td>\n",
       "    </tr>\n",
       "    <tr>\n",
       "      <th>4</th>\n",
       "      <td>7</td>\n",
       "      <td>296</td>\n",
       "      <td>4.0</td>\n",
       "      <td>835444730</td>\n",
       "      <td>Pulp Fiction (1994)</td>\n",
       "    </tr>\n",
       "    <tr>\n",
       "      <th>...</th>\n",
       "      <td>...</td>\n",
       "      <td>...</td>\n",
       "      <td>...</td>\n",
       "      <td>...</td>\n",
       "      <td>...</td>\n",
       "    </tr>\n",
       "    <tr>\n",
       "      <th>25000090</th>\n",
       "      <td>162358</td>\n",
       "      <td>200192</td>\n",
       "      <td>2.0</td>\n",
       "      <td>1553453039</td>\n",
       "      <td>Den frusna leoparden (1986)</td>\n",
       "    </tr>\n",
       "    <tr>\n",
       "      <th>25000091</th>\n",
       "      <td>162358</td>\n",
       "      <td>200194</td>\n",
       "      <td>2.0</td>\n",
       "      <td>1553453843</td>\n",
       "      <td>Tough Luck (2004)</td>\n",
       "    </tr>\n",
       "    <tr>\n",
       "      <th>25000092</th>\n",
       "      <td>162386</td>\n",
       "      <td>139970</td>\n",
       "      <td>3.5</td>\n",
       "      <td>1549215965</td>\n",
       "      <td>I Don't Speak English (1995)</td>\n",
       "    </tr>\n",
       "    <tr>\n",
       "      <th>25000093</th>\n",
       "      <td>162386</td>\n",
       "      <td>200726</td>\n",
       "      <td>4.0</td>\n",
       "      <td>1554651417</td>\n",
       "      <td>The Graduates (1995)</td>\n",
       "    </tr>\n",
       "    <tr>\n",
       "      <th>25000094</th>\n",
       "      <td>162386</td>\n",
       "      <td>200728</td>\n",
       "      <td>4.0</td>\n",
       "      <td>1554651472</td>\n",
       "      <td>Il pesce innamorato (1999)</td>\n",
       "    </tr>\n",
       "  </tbody>\n",
       "</table>\n",
       "<p>25000095 rows × 5 columns</p>\n",
       "</div>"
      ],
      "text/plain": [
       "          userId  movieId  rating   timestamp                         title\n",
       "0              1      296     5.0  1147880044           Pulp Fiction (1994)\n",
       "1              3      296     5.0  1439474476           Pulp Fiction (1994)\n",
       "2              4      296     4.0  1573938898           Pulp Fiction (1994)\n",
       "3              5      296     4.0   830786155           Pulp Fiction (1994)\n",
       "4              7      296     4.0   835444730           Pulp Fiction (1994)\n",
       "...          ...      ...     ...         ...                           ...\n",
       "25000090  162358   200192     2.0  1553453039   Den frusna leoparden (1986)\n",
       "25000091  162358   200194     2.0  1553453843             Tough Luck (2004)\n",
       "25000092  162386   139970     3.5  1549215965  I Don't Speak English (1995)\n",
       "25000093  162386   200726     4.0  1554651417          The Graduates (1995)\n",
       "25000094  162386   200728     4.0  1554651472    Il pesce innamorato (1999)\n",
       "\n",
       "[25000095 rows x 5 columns]"
      ]
     },
     "execution_count": 5,
     "metadata": {},
     "output_type": "execute_result"
    }
   ],
   "source": [
    "ratings"
   ]
  },
  {
   "cell_type": "code",
   "execution_count": 6,
   "metadata": {
    "ExecuteTime": {
     "end_time": "2020-12-02T13:58:39.782784Z",
     "start_time": "2020-12-02T13:58:38.990191Z"
    }
   },
   "outputs": [
    {
     "data": {
      "text/plain": [
       "162541"
      ]
     },
     "execution_count": 6,
     "metadata": {},
     "output_type": "execute_result"
    }
   ],
   "source": [
    "ratings.userId.nunique()"
   ]
  },
  {
   "cell_type": "code",
   "execution_count": 7,
   "metadata": {
    "ExecuteTime": {
     "end_time": "2020-12-02T13:58:40.137609Z",
     "start_time": "2020-12-02T13:58:39.785942Z"
    }
   },
   "outputs": [
    {
     "data": {
      "text/plain": [
       "59047"
      ]
     },
     "execution_count": 7,
     "metadata": {},
     "output_type": "execute_result"
    }
   ],
   "source": [
    "ratings.movieId.nunique()"
   ]
  },
  {
   "cell_type": "code",
   "execution_count": 8,
   "metadata": {
    "ExecuteTime": {
     "end_time": "2020-12-02T13:58:40.378320Z",
     "start_time": "2020-12-02T13:58:40.149266Z"
    }
   },
   "outputs": [
    {
     "data": {
      "text/plain": [
       "array([0.5, 1. , 1.5, 2. , 2.5, 3. , 3.5, 4. , 4.5, 5. ])"
      ]
     },
     "execution_count": 8,
     "metadata": {},
     "output_type": "execute_result"
    }
   ],
   "source": [
    "possible_rates = ratings.rating.unique()\n",
    "np.sort(possible_rates, axis=0)"
   ]
  },
  {
   "cell_type": "code",
   "execution_count": 9,
   "metadata": {
    "ExecuteTime": {
     "end_time": "2020-12-02T13:58:40.694519Z",
     "start_time": "2020-12-02T13:58:40.384211Z"
    }
   },
   "outputs": [
    {
     "data": {
      "text/plain": [
       "356     81491\n",
       "318     81482\n",
       "296     79672\n",
       "593     74127\n",
       "2571    72674\n",
       "260     68717\n",
       "480     64144\n",
       "527     60411\n",
       "110     59184\n",
       "2959    58773\n",
       "Name: movieId, dtype: int64"
      ]
     },
     "execution_count": 9,
     "metadata": {},
     "output_type": "execute_result"
    }
   ],
   "source": [
    "ratings.movieId.value_counts().head(10)"
   ]
  },
  {
   "cell_type": "code",
   "execution_count": 10,
   "metadata": {
    "ExecuteTime": {
     "end_time": "2020-12-02T13:58:40.704679Z",
     "start_time": "2020-12-02T13:58:40.697216Z"
    }
   },
   "outputs": [],
   "source": [
    "def get_most_rated_movies_df(ratings_df, top_number):\n",
    "    most_rated_movies = ratings_df.movieId.value_counts().head(top_number).index\n",
    "    return ratings_df[ratings_df.movieId.isin(most_rated_movies)].copy()"
   ]
  },
  {
   "cell_type": "code",
   "execution_count": 11,
   "metadata": {
    "ExecuteTime": {
     "end_time": "2020-12-02T13:58:43.203800Z",
     "start_time": "2020-12-02T13:58:40.709022Z"
    }
   },
   "outputs": [
    {
     "data": {
      "text/html": [
       "<div>\n",
       "<style scoped>\n",
       "    .dataframe tbody tr th:only-of-type {\n",
       "        vertical-align: middle;\n",
       "    }\n",
       "\n",
       "    .dataframe tbody tr th {\n",
       "        vertical-align: top;\n",
       "    }\n",
       "\n",
       "    .dataframe thead th {\n",
       "        text-align: right;\n",
       "    }\n",
       "</style>\n",
       "<table border=\"1\" class=\"dataframe\">\n",
       "  <thead>\n",
       "    <tr style=\"text-align: right;\">\n",
       "      <th></th>\n",
       "      <th>userId</th>\n",
       "      <th>movieId</th>\n",
       "      <th>rating</th>\n",
       "      <th>timestamp</th>\n",
       "      <th>title</th>\n",
       "    </tr>\n",
       "  </thead>\n",
       "  <tbody>\n",
       "    <tr>\n",
       "      <th>0</th>\n",
       "      <td>1</td>\n",
       "      <td>296</td>\n",
       "      <td>5.0</td>\n",
       "      <td>1147880044</td>\n",
       "      <td>Pulp Fiction (1994)</td>\n",
       "    </tr>\n",
       "    <tr>\n",
       "      <th>1</th>\n",
       "      <td>3</td>\n",
       "      <td>296</td>\n",
       "      <td>5.0</td>\n",
       "      <td>1439474476</td>\n",
       "      <td>Pulp Fiction (1994)</td>\n",
       "    </tr>\n",
       "    <tr>\n",
       "      <th>2</th>\n",
       "      <td>4</td>\n",
       "      <td>296</td>\n",
       "      <td>4.0</td>\n",
       "      <td>1573938898</td>\n",
       "      <td>Pulp Fiction (1994)</td>\n",
       "    </tr>\n",
       "    <tr>\n",
       "      <th>3</th>\n",
       "      <td>5</td>\n",
       "      <td>296</td>\n",
       "      <td>4.0</td>\n",
       "      <td>830786155</td>\n",
       "      <td>Pulp Fiction (1994)</td>\n",
       "    </tr>\n",
       "    <tr>\n",
       "      <th>4</th>\n",
       "      <td>7</td>\n",
       "      <td>296</td>\n",
       "      <td>4.0</td>\n",
       "      <td>835444730</td>\n",
       "      <td>Pulp Fiction (1994)</td>\n",
       "    </tr>\n",
       "    <tr>\n",
       "      <th>...</th>\n",
       "      <td>...</td>\n",
       "      <td>...</td>\n",
       "      <td>...</td>\n",
       "      <td>...</td>\n",
       "      <td>...</td>\n",
       "    </tr>\n",
       "    <tr>\n",
       "      <th>12008057</th>\n",
       "      <td>162533</td>\n",
       "      <td>1721</td>\n",
       "      <td>2.5</td>\n",
       "      <td>1281406171</td>\n",
       "      <td>Titanic (1997)</td>\n",
       "    </tr>\n",
       "    <tr>\n",
       "      <th>12008058</th>\n",
       "      <td>162534</td>\n",
       "      <td>1721</td>\n",
       "      <td>3.5</td>\n",
       "      <td>1526713829</td>\n",
       "      <td>Titanic (1997)</td>\n",
       "    </tr>\n",
       "    <tr>\n",
       "      <th>12008059</th>\n",
       "      <td>162538</td>\n",
       "      <td>1721</td>\n",
       "      <td>4.0</td>\n",
       "      <td>1438781404</td>\n",
       "      <td>Titanic (1997)</td>\n",
       "    </tr>\n",
       "    <tr>\n",
       "      <th>12008060</th>\n",
       "      <td>162539</td>\n",
       "      <td>1721</td>\n",
       "      <td>5.0</td>\n",
       "      <td>995149720</td>\n",
       "      <td>Titanic (1997)</td>\n",
       "    </tr>\n",
       "    <tr>\n",
       "      <th>12008061</th>\n",
       "      <td>162540</td>\n",
       "      <td>1721</td>\n",
       "      <td>5.0</td>\n",
       "      <td>1248860843</td>\n",
       "      <td>Titanic (1997)</td>\n",
       "    </tr>\n",
       "  </tbody>\n",
       "</table>\n",
       "<p>2544549 rows × 5 columns</p>\n",
       "</div>"
      ],
      "text/plain": [
       "          userId  movieId  rating   timestamp                title\n",
       "0              1      296     5.0  1147880044  Pulp Fiction (1994)\n",
       "1              3      296     5.0  1439474476  Pulp Fiction (1994)\n",
       "2              4      296     4.0  1573938898  Pulp Fiction (1994)\n",
       "3              5      296     4.0   830786155  Pulp Fiction (1994)\n",
       "4              7      296     4.0   835444730  Pulp Fiction (1994)\n",
       "...          ...      ...     ...         ...                  ...\n",
       "12008057  162533     1721     2.5  1281406171       Titanic (1997)\n",
       "12008058  162534     1721     3.5  1526713829       Titanic (1997)\n",
       "12008059  162538     1721     4.0  1438781404       Titanic (1997)\n",
       "12008060  162539     1721     5.0   995149720       Titanic (1997)\n",
       "12008061  162540     1721     5.0  1248860843       Titanic (1997)\n",
       "\n",
       "[2544549 rows x 5 columns]"
      ]
     },
     "execution_count": 11,
     "metadata": {},
     "output_type": "execute_result"
    }
   ],
   "source": [
    "ratings_top = get_most_rated_movies_df(ratings, 50)\n",
    "ratings_top"
   ]
  },
  {
   "cell_type": "code",
   "execution_count": 12,
   "metadata": {
    "ExecuteTime": {
     "end_time": "2020-12-02T13:58:43.414353Z",
     "start_time": "2020-12-02T13:58:43.208494Z"
    }
   },
   "outputs": [
    {
     "data": {
      "text/plain": [
       "58402     50\n",
       "22386     50\n",
       "10361     50\n",
       "112101    50\n",
       "30112     50\n",
       "          ..\n",
       "84339      1\n",
       "106770     1\n",
       "122676     1\n",
       "80340      1\n",
       "88727      1\n",
       "Name: userId, Length: 157481, dtype: int64"
      ]
     },
     "execution_count": 12,
     "metadata": {},
     "output_type": "execute_result"
    }
   ],
   "source": [
    "rates_per_user = ratings_top.userId.value_counts()\n",
    "rates_per_user"
   ]
  },
  {
   "cell_type": "code",
   "execution_count": 13,
   "metadata": {
    "ExecuteTime": {
     "end_time": "2020-12-02T13:58:43.446302Z",
     "start_time": "2020-12-02T13:58:43.431660Z"
    }
   },
   "outputs": [
    {
     "data": {
      "text/plain": [
       "58402          50\n",
       "22386         100\n",
       "10361         150\n",
       "112101        200\n",
       "30112         250\n",
       "           ...   \n",
       "84339     2544545\n",
       "106770    2544546\n",
       "122676    2544547\n",
       "80340     2544548\n",
       "88727     2544549\n",
       "Name: userId, Length: 157481, dtype: int64"
      ]
     },
     "execution_count": 13,
     "metadata": {},
     "output_type": "execute_result"
    }
   ],
   "source": [
    "cumulative_rates_per_user = rates_per_user.cumsum()\n",
    "cumulative_rates_per_user"
   ]
  },
  {
   "cell_type": "code",
   "execution_count": 14,
   "metadata": {
    "ExecuteTime": {
     "end_time": "2020-12-02T13:58:51.976149Z",
     "start_time": "2020-12-02T13:58:43.450814Z"
    }
   },
   "outputs": [
    {
     "data": {
      "text/plain": [
       "<AxesSubplot:ylabel='userId'>"
      ]
     },
     "execution_count": 14,
     "metadata": {},
     "output_type": "execute_result"
    },
    {
     "data": {
      "image/png": "[encoded data removed]",
      "text/plain": [
       "<Figure size 432x288 with 1 Axes>"
      ]
     },
     "metadata": {
      "needs_background": "light"
     },
     "output_type": "display_data"
    }
   ],
   "source": [
    "x_axis = list(range(1,len(rates_per_user)+1))\n",
    "sns.lineplot(x=x_axis, y=rates_per_user)"
   ]
  },
  {
   "cell_type": "code",
   "execution_count": 15,
   "metadata": {
    "ExecuteTime": {
     "end_time": "2020-12-02T13:59:00.602924Z",
     "start_time": "2020-12-02T13:58:51.978474Z"
    }
   },
   "outputs": [
    {
     "data": {
      "text/plain": [
       "<AxesSubplot:ylabel='userId'>"
      ]
     },
     "execution_count": 15,
     "metadata": {},
     "output_type": "execute_result"
    },
    {
     "data": {
      "image/png": "[encoded data removed]",
      "text/plain": [
       "<Figure size 432x288 with 1 Axes>"
      ]
     },
     "metadata": {
      "needs_background": "light"
     },
     "output_type": "display_data"
    }
   ],
   "source": [
    "sns.lineplot(x=x_axis, y=cumulative_rates_per_user)"
   ]
  },
  {
   "cell_type": "code",
   "execution_count": 35,
   "metadata": {
    "ExecuteTime": {
     "end_time": "2020-12-02T14:44:03.542328Z",
     "start_time": "2020-12-02T14:44:03.529011Z"
    }
   },
   "outputs": [],
   "source": [
    "def get_users_with_min_max_num_of_ratings_df(ratings_df, min_num_of_ratings, max_num_of_ratings):\n",
    "    rates_per_user = ratings_df.userId.value_counts()\n",
    "    bolean_users_with_min_num_of_ratings = ratings_df.userId.value_counts() >= min_num_of_ratings\n",
    "    bolean_users_with_max_num_of_ratings = ratings_df.userId.value_counts() <= max_num_of_ratings\n",
    "    users_with_min_max_num_of_ratings = rates_per_user[ \n",
    "        bolean_users_with_min_num_of_ratings &\n",
    "        bolean_users_with_max_num_of_ratings].index\n",
    "    return ratings_df[ratings_df.userId.isin(users_with_min_max_num_of_ratings)].copy()"
   ]
  },
  {
   "cell_type": "code",
   "execution_count": 16,
   "metadata": {
    "ExecuteTime": {
     "end_time": "2020-12-02T13:59:00.615990Z",
     "start_time": "2020-12-02T13:59:00.607789Z"
    }
   },
   "outputs": [],
   "source": [
    "def get_users_with_min_num_of_ratings_df(ratings_df, min_num_of_ratings):\n",
    "    rates_per_user = ratings_df.userId.value_counts()\n",
    "    bolean_users_with_min_num_of_ratings = ratings_df.userId.value_counts() >= min_num_of_ratings\n",
    "    users_with_min_num_of_ratings = rates_per_user[bolean_users_with_min_num_of_ratings].index\n",
    "    return ratings_df[ratings_df.userId.isin(users_with_min_num_of_ratings)].copy()"
   ]
  },
  {
   "cell_type": "code",
   "execution_count": 17,
   "metadata": {
    "ExecuteTime": {
     "end_time": "2020-12-02T13:59:00.626490Z",
     "start_time": "2020-12-02T13:59:00.619725Z"
    }
   },
   "outputs": [],
   "source": [
    "def get_users_with_num_of_ratings_df(ratings_df, num_of_ratings):\n",
    "    rates_per_user = ratings_df.userId.value_counts()\n",
    "    bolean_users_with_num_of_ratings = ratings_df.userId.value_counts() == num_of_ratings\n",
    "    users_with_num_of_ratings = rates_per_user[bolean_users_with_num_of_ratings].index\n",
    "    return ratings_df[ratings_df.userId.isin(users_with_num_of_ratings)].copy()"
   ]
  },
  {
   "cell_type": "code",
   "execution_count": 18,
   "metadata": {
    "ExecuteTime": {
     "end_time": "2020-12-02T13:59:01.265320Z",
     "start_time": "2020-12-02T13:59:00.630687Z"
    }
   },
   "outputs": [
    {
     "data": {
      "text/html": [
       "<div>\n",
       "<style scoped>\n",
       "    .dataframe tbody tr th:only-of-type {\n",
       "        vertical-align: middle;\n",
       "    }\n",
       "\n",
       "    .dataframe tbody tr th {\n",
       "        vertical-align: top;\n",
       "    }\n",
       "\n",
       "    .dataframe thead th {\n",
       "        text-align: right;\n",
       "    }\n",
       "</style>\n",
       "<table border=\"1\" class=\"dataframe\">\n",
       "  <thead>\n",
       "    <tr style=\"text-align: right;\">\n",
       "      <th></th>\n",
       "      <th>userId</th>\n",
       "      <th>movieId</th>\n",
       "      <th>rating</th>\n",
       "      <th>timestamp</th>\n",
       "      <th>title</th>\n",
       "    </tr>\n",
       "  </thead>\n",
       "  <tbody>\n",
       "    <tr>\n",
       "      <th>6</th>\n",
       "      <td>10</td>\n",
       "      <td>296</td>\n",
       "      <td>4.5</td>\n",
       "      <td>1227571308</td>\n",
       "      <td>Pulp Fiction (1994)</td>\n",
       "    </tr>\n",
       "    <tr>\n",
       "      <th>30</th>\n",
       "      <td>62</td>\n",
       "      <td>296</td>\n",
       "      <td>4.5</td>\n",
       "      <td>1148504842</td>\n",
       "      <td>Pulp Fiction (1994)</td>\n",
       "    </tr>\n",
       "    <tr>\n",
       "      <th>40</th>\n",
       "      <td>82</td>\n",
       "      <td>296</td>\n",
       "      <td>2.5</td>\n",
       "      <td>1437237189</td>\n",
       "      <td>Pulp Fiction (1994)</td>\n",
       "    </tr>\n",
       "    <tr>\n",
       "      <th>47</th>\n",
       "      <td>101</td>\n",
       "      <td>296</td>\n",
       "      <td>3.5</td>\n",
       "      <td>1457357502</td>\n",
       "      <td>Pulp Fiction (1994)</td>\n",
       "    </tr>\n",
       "    <tr>\n",
       "      <th>76</th>\n",
       "      <td>158</td>\n",
       "      <td>296</td>\n",
       "      <td>5.0</td>\n",
       "      <td>835484979</td>\n",
       "      <td>Pulp Fiction (1994)</td>\n",
       "    </tr>\n",
       "    <tr>\n",
       "      <th>...</th>\n",
       "      <td>...</td>\n",
       "      <td>...</td>\n",
       "      <td>...</td>\n",
       "      <td>...</td>\n",
       "      <td>...</td>\n",
       "    </tr>\n",
       "    <tr>\n",
       "      <th>12007931</th>\n",
       "      <td>162052</td>\n",
       "      <td>1721</td>\n",
       "      <td>4.0</td>\n",
       "      <td>1451167846</td>\n",
       "      <td>Titanic (1997)</td>\n",
       "    </tr>\n",
       "    <tr>\n",
       "      <th>12007944</th>\n",
       "      <td>162119</td>\n",
       "      <td>1721</td>\n",
       "      <td>4.0</td>\n",
       "      <td>997307617</td>\n",
       "      <td>Titanic (1997)</td>\n",
       "    </tr>\n",
       "    <tr>\n",
       "      <th>12007982</th>\n",
       "      <td>162269</td>\n",
       "      <td>1721</td>\n",
       "      <td>4.5</td>\n",
       "      <td>1105577406</td>\n",
       "      <td>Titanic (1997)</td>\n",
       "    </tr>\n",
       "    <tr>\n",
       "      <th>12008003</th>\n",
       "      <td>162347</td>\n",
       "      <td>1721</td>\n",
       "      <td>3.5</td>\n",
       "      <td>1237072843</td>\n",
       "      <td>Titanic (1997)</td>\n",
       "    </tr>\n",
       "    <tr>\n",
       "      <th>12008023</th>\n",
       "      <td>162426</td>\n",
       "      <td>1721</td>\n",
       "      <td>2.5</td>\n",
       "      <td>1487010070</td>\n",
       "      <td>Titanic (1997)</td>\n",
       "    </tr>\n",
       "  </tbody>\n",
       "</table>\n",
       "<p>75920 rows × 5 columns</p>\n",
       "</div>"
      ],
      "text/plain": [
       "          userId  movieId  rating   timestamp                title\n",
       "6             10      296     4.5  1227571308  Pulp Fiction (1994)\n",
       "30            62      296     4.5  1148504842  Pulp Fiction (1994)\n",
       "40            82      296     2.5  1437237189  Pulp Fiction (1994)\n",
       "47           101      296     3.5  1457357502  Pulp Fiction (1994)\n",
       "76           158      296     5.0   835484979  Pulp Fiction (1994)\n",
       "...          ...      ...     ...         ...                  ...\n",
       "12007931  162052     1721     4.0  1451167846       Titanic (1997)\n",
       "12007944  162119     1721     4.0   997307617       Titanic (1997)\n",
       "12007982  162269     1721     4.5  1105577406       Titanic (1997)\n",
       "12008003  162347     1721     3.5  1237072843       Titanic (1997)\n",
       "12008023  162426     1721     2.5  1487010070       Titanic (1997)\n",
       "\n",
       "[75920 rows x 5 columns]"
      ]
     },
     "execution_count": 18,
     "metadata": {},
     "output_type": "execute_result"
    }
   ],
   "source": [
    "ratings_top_users_top = get_users_with_num_of_ratings_df(ratings_top, 20)\n",
    "ratings_top_users_top"
   ]
  },
  {
   "cell_type": "code",
   "execution_count": 19,
   "metadata": {
    "ExecuteTime": {
     "end_time": "2020-12-02T13:59:01.365927Z",
     "start_time": "2020-12-02T13:59:01.270468Z"
    }
   },
   "outputs": [
    {
     "data": {
      "text/html": [
       "<div>\n",
       "<style scoped>\n",
       "    .dataframe tbody tr th:only-of-type {\n",
       "        vertical-align: middle;\n",
       "    }\n",
       "\n",
       "    .dataframe tbody tr th {\n",
       "        vertical-align: top;\n",
       "    }\n",
       "\n",
       "    .dataframe thead th {\n",
       "        text-align: right;\n",
       "    }\n",
       "</style>\n",
       "<table border=\"1\" class=\"dataframe\">\n",
       "  <thead>\n",
       "    <tr style=\"text-align: right;\">\n",
       "      <th>title</th>\n",
       "      <th>Ace Ventura: Pet Detective (1994)</th>\n",
       "      <th>Aladdin (1992)</th>\n",
       "      <th>American Beauty (1999)</th>\n",
       "      <th>Apollo 13 (1995)</th>\n",
       "      <th>Back to the Future (1985)</th>\n",
       "      <th>Batman (1989)</th>\n",
       "      <th>Braveheart (1995)</th>\n",
       "      <th>Dances with Wolves (1990)</th>\n",
       "      <th>Dark Knight, The (2008)</th>\n",
       "      <th>Fargo (1996)</th>\n",
       "      <th>...</th>\n",
       "      <th>Star Wars: Episode IV - A New Hope (1977)</th>\n",
       "      <th>Star Wars: Episode V - The Empire Strikes Back (1980)</th>\n",
       "      <th>Star Wars: Episode VI - Return of the Jedi (1983)</th>\n",
       "      <th>Terminator 2: Judgment Day (1991)</th>\n",
       "      <th>Terminator, The (1984)</th>\n",
       "      <th>Titanic (1997)</th>\n",
       "      <th>Toy Story (1995)</th>\n",
       "      <th>True Lies (1994)</th>\n",
       "      <th>Twelve Monkeys (a.k.a. 12 Monkeys) (1995)</th>\n",
       "      <th>Usual Suspects, The (1995)</th>\n",
       "    </tr>\n",
       "    <tr>\n",
       "      <th>userId</th>\n",
       "      <th></th>\n",
       "      <th></th>\n",
       "      <th></th>\n",
       "      <th></th>\n",
       "      <th></th>\n",
       "      <th></th>\n",
       "      <th></th>\n",
       "      <th></th>\n",
       "      <th></th>\n",
       "      <th></th>\n",
       "      <th></th>\n",
       "      <th></th>\n",
       "      <th></th>\n",
       "      <th></th>\n",
       "      <th></th>\n",
       "      <th></th>\n",
       "      <th></th>\n",
       "      <th></th>\n",
       "      <th></th>\n",
       "      <th></th>\n",
       "      <th></th>\n",
       "    </tr>\n",
       "  </thead>\n",
       "  <tbody>\n",
       "    <tr>\n",
       "      <th>10</th>\n",
       "      <td>NaN</td>\n",
       "      <td>3.0</td>\n",
       "      <td>NaN</td>\n",
       "      <td>4.0</td>\n",
       "      <td>NaN</td>\n",
       "      <td>3.0</td>\n",
       "      <td>4.0</td>\n",
       "      <td>NaN</td>\n",
       "      <td>NaN</td>\n",
       "      <td>3.5</td>\n",
       "      <td>...</td>\n",
       "      <td>5.0</td>\n",
       "      <td>5.0</td>\n",
       "      <td>5.0</td>\n",
       "      <td>4.0</td>\n",
       "      <td>NaN</td>\n",
       "      <td>NaN</td>\n",
       "      <td>3.5</td>\n",
       "      <td>3.5</td>\n",
       "      <td>4.0</td>\n",
       "      <td>5.0</td>\n",
       "    </tr>\n",
       "    <tr>\n",
       "      <th>62</th>\n",
       "      <td>NaN</td>\n",
       "      <td>NaN</td>\n",
       "      <td>5.0</td>\n",
       "      <td>NaN</td>\n",
       "      <td>NaN</td>\n",
       "      <td>NaN</td>\n",
       "      <td>4.5</td>\n",
       "      <td>NaN</td>\n",
       "      <td>4.0</td>\n",
       "      <td>NaN</td>\n",
       "      <td>...</td>\n",
       "      <td>NaN</td>\n",
       "      <td>NaN</td>\n",
       "      <td>NaN</td>\n",
       "      <td>NaN</td>\n",
       "      <td>NaN</td>\n",
       "      <td>NaN</td>\n",
       "      <td>NaN</td>\n",
       "      <td>NaN</td>\n",
       "      <td>NaN</td>\n",
       "      <td>4.5</td>\n",
       "    </tr>\n",
       "    <tr>\n",
       "      <th>64</th>\n",
       "      <td>NaN</td>\n",
       "      <td>NaN</td>\n",
       "      <td>NaN</td>\n",
       "      <td>NaN</td>\n",
       "      <td>3.0</td>\n",
       "      <td>NaN</td>\n",
       "      <td>NaN</td>\n",
       "      <td>NaN</td>\n",
       "      <td>5.0</td>\n",
       "      <td>NaN</td>\n",
       "      <td>...</td>\n",
       "      <td>5.0</td>\n",
       "      <td>5.0</td>\n",
       "      <td>5.0</td>\n",
       "      <td>NaN</td>\n",
       "      <td>NaN</td>\n",
       "      <td>NaN</td>\n",
       "      <td>4.0</td>\n",
       "      <td>NaN</td>\n",
       "      <td>NaN</td>\n",
       "      <td>NaN</td>\n",
       "    </tr>\n",
       "    <tr>\n",
       "      <th>82</th>\n",
       "      <td>NaN</td>\n",
       "      <td>NaN</td>\n",
       "      <td>3.5</td>\n",
       "      <td>NaN</td>\n",
       "      <td>NaN</td>\n",
       "      <td>NaN</td>\n",
       "      <td>3.5</td>\n",
       "      <td>NaN</td>\n",
       "      <td>NaN</td>\n",
       "      <td>3.5</td>\n",
       "      <td>...</td>\n",
       "      <td>NaN</td>\n",
       "      <td>NaN</td>\n",
       "      <td>NaN</td>\n",
       "      <td>1.5</td>\n",
       "      <td>NaN</td>\n",
       "      <td>NaN</td>\n",
       "      <td>4.0</td>\n",
       "      <td>NaN</td>\n",
       "      <td>NaN</td>\n",
       "      <td>NaN</td>\n",
       "    </tr>\n",
       "    <tr>\n",
       "      <th>92</th>\n",
       "      <td>NaN</td>\n",
       "      <td>NaN</td>\n",
       "      <td>NaN</td>\n",
       "      <td>NaN</td>\n",
       "      <td>4.0</td>\n",
       "      <td>NaN</td>\n",
       "      <td>5.0</td>\n",
       "      <td>NaN</td>\n",
       "      <td>NaN</td>\n",
       "      <td>NaN</td>\n",
       "      <td>...</td>\n",
       "      <td>5.0</td>\n",
       "      <td>5.0</td>\n",
       "      <td>NaN</td>\n",
       "      <td>4.0</td>\n",
       "      <td>5.0</td>\n",
       "      <td>NaN</td>\n",
       "      <td>NaN</td>\n",
       "      <td>NaN</td>\n",
       "      <td>NaN</td>\n",
       "      <td>5.0</td>\n",
       "    </tr>\n",
       "    <tr>\n",
       "      <th>...</th>\n",
       "      <td>...</td>\n",
       "      <td>...</td>\n",
       "      <td>...</td>\n",
       "      <td>...</td>\n",
       "      <td>...</td>\n",
       "      <td>...</td>\n",
       "      <td>...</td>\n",
       "      <td>...</td>\n",
       "      <td>...</td>\n",
       "      <td>...</td>\n",
       "      <td>...</td>\n",
       "      <td>...</td>\n",
       "      <td>...</td>\n",
       "      <td>...</td>\n",
       "      <td>...</td>\n",
       "      <td>...</td>\n",
       "      <td>...</td>\n",
       "      <td>...</td>\n",
       "      <td>...</td>\n",
       "      <td>...</td>\n",
       "      <td>...</td>\n",
       "    </tr>\n",
       "    <tr>\n",
       "      <th>162344</th>\n",
       "      <td>NaN</td>\n",
       "      <td>3.5</td>\n",
       "      <td>NaN</td>\n",
       "      <td>3.5</td>\n",
       "      <td>4.0</td>\n",
       "      <td>4.0</td>\n",
       "      <td>3.5</td>\n",
       "      <td>NaN</td>\n",
       "      <td>NaN</td>\n",
       "      <td>NaN</td>\n",
       "      <td>...</td>\n",
       "      <td>NaN</td>\n",
       "      <td>NaN</td>\n",
       "      <td>4.0</td>\n",
       "      <td>4.5</td>\n",
       "      <td>NaN</td>\n",
       "      <td>NaN</td>\n",
       "      <td>3.5</td>\n",
       "      <td>3.0</td>\n",
       "      <td>NaN</td>\n",
       "      <td>NaN</td>\n",
       "    </tr>\n",
       "    <tr>\n",
       "      <th>162347</th>\n",
       "      <td>4.0</td>\n",
       "      <td>3.5</td>\n",
       "      <td>NaN</td>\n",
       "      <td>NaN</td>\n",
       "      <td>NaN</td>\n",
       "      <td>NaN</td>\n",
       "      <td>5.0</td>\n",
       "      <td>NaN</td>\n",
       "      <td>4.5</td>\n",
       "      <td>NaN</td>\n",
       "      <td>...</td>\n",
       "      <td>4.5</td>\n",
       "      <td>4.5</td>\n",
       "      <td>NaN</td>\n",
       "      <td>NaN</td>\n",
       "      <td>4.5</td>\n",
       "      <td>3.5</td>\n",
       "      <td>NaN</td>\n",
       "      <td>NaN</td>\n",
       "      <td>5.0</td>\n",
       "      <td>NaN</td>\n",
       "    </tr>\n",
       "    <tr>\n",
       "      <th>162418</th>\n",
       "      <td>4.0</td>\n",
       "      <td>4.0</td>\n",
       "      <td>NaN</td>\n",
       "      <td>2.0</td>\n",
       "      <td>NaN</td>\n",
       "      <td>3.0</td>\n",
       "      <td>3.0</td>\n",
       "      <td>4.0</td>\n",
       "      <td>NaN</td>\n",
       "      <td>NaN</td>\n",
       "      <td>...</td>\n",
       "      <td>NaN</td>\n",
       "      <td>NaN</td>\n",
       "      <td>NaN</td>\n",
       "      <td>3.0</td>\n",
       "      <td>NaN</td>\n",
       "      <td>NaN</td>\n",
       "      <td>4.0</td>\n",
       "      <td>4.0</td>\n",
       "      <td>NaN</td>\n",
       "      <td>4.0</td>\n",
       "    </tr>\n",
       "    <tr>\n",
       "      <th>162426</th>\n",
       "      <td>NaN</td>\n",
       "      <td>NaN</td>\n",
       "      <td>2.0</td>\n",
       "      <td>NaN</td>\n",
       "      <td>2.5</td>\n",
       "      <td>NaN</td>\n",
       "      <td>4.0</td>\n",
       "      <td>NaN</td>\n",
       "      <td>4.0</td>\n",
       "      <td>NaN</td>\n",
       "      <td>...</td>\n",
       "      <td>NaN</td>\n",
       "      <td>NaN</td>\n",
       "      <td>NaN</td>\n",
       "      <td>NaN</td>\n",
       "      <td>NaN</td>\n",
       "      <td>2.5</td>\n",
       "      <td>NaN</td>\n",
       "      <td>NaN</td>\n",
       "      <td>NaN</td>\n",
       "      <td>NaN</td>\n",
       "    </tr>\n",
       "    <tr>\n",
       "      <th>162532</th>\n",
       "      <td>NaN</td>\n",
       "      <td>NaN</td>\n",
       "      <td>NaN</td>\n",
       "      <td>NaN</td>\n",
       "      <td>4.0</td>\n",
       "      <td>NaN</td>\n",
       "      <td>NaN</td>\n",
       "      <td>NaN</td>\n",
       "      <td>5.0</td>\n",
       "      <td>NaN</td>\n",
       "      <td>...</td>\n",
       "      <td>4.5</td>\n",
       "      <td>4.5</td>\n",
       "      <td>4.5</td>\n",
       "      <td>NaN</td>\n",
       "      <td>NaN</td>\n",
       "      <td>NaN</td>\n",
       "      <td>NaN</td>\n",
       "      <td>NaN</td>\n",
       "      <td>NaN</td>\n",
       "      <td>NaN</td>\n",
       "    </tr>\n",
       "  </tbody>\n",
       "</table>\n",
       "<p>3796 rows × 50 columns</p>\n",
       "</div>"
      ],
      "text/plain": [
       "title   Ace Ventura: Pet Detective (1994)  Aladdin (1992)  \\\n",
       "userId                                                      \n",
       "10                                    NaN             3.0   \n",
       "62                                    NaN             NaN   \n",
       "64                                    NaN             NaN   \n",
       "82                                    NaN             NaN   \n",
       "92                                    NaN             NaN   \n",
       "...                                   ...             ...   \n",
       "162344                                NaN             3.5   \n",
       "162347                                4.0             3.5   \n",
       "162418                                4.0             4.0   \n",
       "162426                                NaN             NaN   \n",
       "162532                                NaN             NaN   \n",
       "\n",
       "title   American Beauty (1999)  Apollo 13 (1995)  Back to the Future (1985)  \\\n",
       "userId                                                                        \n",
       "10                         NaN               4.0                        NaN   \n",
       "62                         5.0               NaN                        NaN   \n",
       "64                         NaN               NaN                        3.0   \n",
       "82                         3.5               NaN                        NaN   \n",
       "92                         NaN               NaN                        4.0   \n",
       "...                        ...               ...                        ...   \n",
       "162344                     NaN               3.5                        4.0   \n",
       "162347                     NaN               NaN                        NaN   \n",
       "162418                     NaN               2.0                        NaN   \n",
       "162426                     2.0               NaN                        2.5   \n",
       "162532                     NaN               NaN                        4.0   \n",
       "\n",
       "title   Batman (1989)  Braveheart (1995)  Dances with Wolves (1990)  \\\n",
       "userId                                                                \n",
       "10                3.0                4.0                        NaN   \n",
       "62                NaN                4.5                        NaN   \n",
       "64                NaN                NaN                        NaN   \n",
       "82                NaN                3.5                        NaN   \n",
       "92                NaN                5.0                        NaN   \n",
       "...               ...                ...                        ...   \n",
       "162344            4.0                3.5                        NaN   \n",
       "162347            NaN                5.0                        NaN   \n",
       "162418            3.0                3.0                        4.0   \n",
       "162426            NaN                4.0                        NaN   \n",
       "162532            NaN                NaN                        NaN   \n",
       "\n",
       "title   Dark Knight, The (2008)  Fargo (1996)  ...  \\\n",
       "userId                                         ...   \n",
       "10                          NaN           3.5  ...   \n",
       "62                          4.0           NaN  ...   \n",
       "64                          5.0           NaN  ...   \n",
       "82                          NaN           3.5  ...   \n",
       "92                          NaN           NaN  ...   \n",
       "...                         ...           ...  ...   \n",
       "162344                      NaN           NaN  ...   \n",
       "162347                      4.5           NaN  ...   \n",
       "162418                      NaN           NaN  ...   \n",
       "162426                      4.0           NaN  ...   \n",
       "162532                      5.0           NaN  ...   \n",
       "\n",
       "title   Star Wars: Episode IV - A New Hope (1977)  \\\n",
       "userId                                              \n",
       "10                                            5.0   \n",
       "62                                            NaN   \n",
       "64                                            5.0   \n",
       "82                                            NaN   \n",
       "92                                            5.0   \n",
       "...                                           ...   \n",
       "162344                                        NaN   \n",
       "162347                                        4.5   \n",
       "162418                                        NaN   \n",
       "162426                                        NaN   \n",
       "162532                                        4.5   \n",
       "\n",
       "title   Star Wars: Episode V - The Empire Strikes Back (1980)  \\\n",
       "userId                                                          \n",
       "10                                                    5.0       \n",
       "62                                                    NaN       \n",
       "64                                                    5.0       \n",
       "82                                                    NaN       \n",
       "92                                                    5.0       \n",
       "...                                                   ...       \n",
       "162344                                                NaN       \n",
       "162347                                                4.5       \n",
       "162418                                                NaN       \n",
       "162426                                                NaN       \n",
       "162532                                                4.5       \n",
       "\n",
       "title   Star Wars: Episode VI - Return of the Jedi (1983)  \\\n",
       "userId                                                      \n",
       "10                                                    5.0   \n",
       "62                                                    NaN   \n",
       "64                                                    5.0   \n",
       "82                                                    NaN   \n",
       "92                                                    NaN   \n",
       "...                                                   ...   \n",
       "162344                                                4.0   \n",
       "162347                                                NaN   \n",
       "162418                                                NaN   \n",
       "162426                                                NaN   \n",
       "162532                                                4.5   \n",
       "\n",
       "title   Terminator 2: Judgment Day (1991)  Terminator, The (1984)  \\\n",
       "userId                                                              \n",
       "10                                    4.0                     NaN   \n",
       "62                                    NaN                     NaN   \n",
       "64                                    NaN                     NaN   \n",
       "82                                    1.5                     NaN   \n",
       "92                                    4.0                     5.0   \n",
       "...                                   ...                     ...   \n",
       "162344                                4.5                     NaN   \n",
       "162347                                NaN                     4.5   \n",
       "162418                                3.0                     NaN   \n",
       "162426                                NaN                     NaN   \n",
       "162532                                NaN                     NaN   \n",
       "\n",
       "title   Titanic (1997)  Toy Story (1995)  True Lies (1994)  \\\n",
       "userId                                                       \n",
       "10                 NaN               3.5               3.5   \n",
       "62                 NaN               NaN               NaN   \n",
       "64                 NaN               4.0               NaN   \n",
       "82                 NaN               4.0               NaN   \n",
       "92                 NaN               NaN               NaN   \n",
       "...                ...               ...               ...   \n",
       "162344             NaN               3.5               3.0   \n",
       "162347             3.5               NaN               NaN   \n",
       "162418             NaN               4.0               4.0   \n",
       "162426             2.5               NaN               NaN   \n",
       "162532             NaN               NaN               NaN   \n",
       "\n",
       "title   Twelve Monkeys (a.k.a. 12 Monkeys) (1995)  Usual Suspects, The (1995)  \n",
       "userId                                                                         \n",
       "10                                            4.0                         5.0  \n",
       "62                                            NaN                         4.5  \n",
       "64                                            NaN                         NaN  \n",
       "82                                            NaN                         NaN  \n",
       "92                                            NaN                         5.0  \n",
       "...                                           ...                         ...  \n",
       "162344                                        NaN                         NaN  \n",
       "162347                                        5.0                         NaN  \n",
       "162418                                        NaN                         4.0  \n",
       "162426                                        NaN                         NaN  \n",
       "162532                                        NaN                         NaN  \n",
       "\n",
       "[3796 rows x 50 columns]"
      ]
     },
     "execution_count": 19,
     "metadata": {},
     "output_type": "execute_result"
    }
   ],
   "source": [
    "df = ratings_top_users_top.pivot(index='userId', columns='title', values='rating')\n",
    "df"
   ]
  },
  {
   "cell_type": "code",
   "execution_count": 20,
   "metadata": {
    "ExecuteTime": {
     "end_time": "2020-12-02T13:59:01.672821Z",
     "start_time": "2020-12-02T13:59:01.391272Z"
    }
   },
   "outputs": [],
   "source": [
    "df.to_csv('../raw_data/streamlit-data/ratings_top_users_top.csv', columns=df.columns, index=True)"
   ]
  },
  {
   "cell_type": "markdown",
   "metadata": {},
   "source": [
    "### Lite base "
   ]
  },
  {
   "cell_type": "code",
   "execution_count": 21,
   "metadata": {
    "ExecuteTime": {
     "end_time": "2020-12-02T13:59:02.105938Z",
     "start_time": "2020-12-02T13:59:01.676721Z"
    }
   },
   "outputs": [
    {
     "data": {
      "text/html": [
       "<div>\n",
       "<style scoped>\n",
       "    .dataframe tbody tr th:only-of-type {\n",
       "        vertical-align: middle;\n",
       "    }\n",
       "\n",
       "    .dataframe tbody tr th {\n",
       "        vertical-align: top;\n",
       "    }\n",
       "\n",
       "    .dataframe thead th {\n",
       "        text-align: right;\n",
       "    }\n",
       "</style>\n",
       "<table border=\"1\" class=\"dataframe\">\n",
       "  <thead>\n",
       "    <tr style=\"text-align: right;\">\n",
       "      <th></th>\n",
       "      <th>movieId</th>\n",
       "      <th>tmdbId</th>\n",
       "      <th>title</th>\n",
       "      <th>genres</th>\n",
       "      <th>actors</th>\n",
       "      <th>director</th>\n",
       "      <th>overview</th>\n",
       "      <th>keywords</th>\n",
       "      <th>language</th>\n",
       "      <th>popularity</th>\n",
       "      <th>poster_path</th>\n",
       "      <th>release</th>\n",
       "      <th>runtime</th>\n",
       "      <th>vote_average</th>\n",
       "      <th>vote_count</th>\n",
       "    </tr>\n",
       "  </thead>\n",
       "  <tbody>\n",
       "    <tr>\n",
       "      <th>0</th>\n",
       "      <td>1</td>\n",
       "      <td>862.0</td>\n",
       "      <td>Toy Story (1995)</td>\n",
       "      <td>['Adventure', 'Animation', 'Children', 'Comedy...</td>\n",
       "      <td>['Tom Hanks', 'Tim Allen', 'Don Rickles']</td>\n",
       "      <td>['John Lasseter']</td>\n",
       "      <td>Led by Woody, Andy's toys live happily in his ...</td>\n",
       "      <td>['martial arts', 'jealousy', 'toy', 'friendshi...</td>\n",
       "      <td>en</td>\n",
       "      <td>58.282</td>\n",
       "      <td>/uXDfjJbdP4ijW5hWSBrPrlKpxab.jpg</td>\n",
       "      <td>1995-10-30</td>\n",
       "      <td>81.0</td>\n",
       "      <td>7.9</td>\n",
       "      <td>13191</td>\n",
       "    </tr>\n",
       "    <tr>\n",
       "      <th>1</th>\n",
       "      <td>2</td>\n",
       "      <td>8844.0</td>\n",
       "      <td>Jumanji (1995)</td>\n",
       "      <td>['Adventure', 'Children', 'Fantasy']</td>\n",
       "      <td>['Robin Williams', 'Jonathan Hyde', 'Kirsten D...</td>\n",
       "      <td>['Joe Johnston']</td>\n",
       "      <td>When siblings Judy and Peter discover an encha...</td>\n",
       "      <td>['giant insect', 'board game', 'jungle', 'disa...</td>\n",
       "      <td>en</td>\n",
       "      <td>11.157</td>\n",
       "      <td>/vgpXmVaVyUL7GGiDeiK1mKEKzcX.jpg</td>\n",
       "      <td>1995-12-15</td>\n",
       "      <td>104.0</td>\n",
       "      <td>7.2</td>\n",
       "      <td>7722</td>\n",
       "    </tr>\n",
       "    <tr>\n",
       "      <th>2</th>\n",
       "      <td>3</td>\n",
       "      <td>15602.0</td>\n",
       "      <td>Grumpier Old Men (1995)</td>\n",
       "      <td>['Comedy', 'Romance']</td>\n",
       "      <td>['Walter Matthau', 'Jack Lemmon', 'Ann-Margret']</td>\n",
       "      <td>['Howard Deutch']</td>\n",
       "      <td>A family wedding reignites the ancient feud be...</td>\n",
       "      <td>['fishing', 'old man', 'best friend', 'duringc...</td>\n",
       "      <td>en</td>\n",
       "      <td>11.458</td>\n",
       "      <td>/1FSXpj5e8l4KH6nVFO5SPUeraOt.jpg</td>\n",
       "      <td>1995-12-22</td>\n",
       "      <td>101.0</td>\n",
       "      <td>6.6</td>\n",
       "      <td>219</td>\n",
       "    </tr>\n",
       "    <tr>\n",
       "      <th>3</th>\n",
       "      <td>5</td>\n",
       "      <td>11862.0</td>\n",
       "      <td>Father of the Bride Part II (1995)</td>\n",
       "      <td>['Comedy']</td>\n",
       "      <td>['Steve Martin', 'Diane Keaton', 'Martin Short']</td>\n",
       "      <td>['Charles Shyer']</td>\n",
       "      <td>Just when George Banks has recovered from his ...</td>\n",
       "      <td>['parent child relationship', 'baby', 'midlife...</td>\n",
       "      <td>en</td>\n",
       "      <td>11.431</td>\n",
       "      <td>/lf9RTErt8BSLQy98aSFblElvsCQ.jpg</td>\n",
       "      <td>1995-12-08</td>\n",
       "      <td>106.0</td>\n",
       "      <td>6.2</td>\n",
       "      <td>446</td>\n",
       "    </tr>\n",
       "    <tr>\n",
       "      <th>4</th>\n",
       "      <td>6</td>\n",
       "      <td>949.0</td>\n",
       "      <td>Heat (1995)</td>\n",
       "      <td>['Action', 'Crime', 'Thriller']</td>\n",
       "      <td>['Al Pacino', 'Robert De Niro', 'Val Kilmer']</td>\n",
       "      <td>['Michael Mann']</td>\n",
       "      <td>Obsessive master thief, Neil McCauley leads a ...</td>\n",
       "      <td>['robbery', 'detective', 'obsession', 'chase',...</td>\n",
       "      <td>en</td>\n",
       "      <td>20.386</td>\n",
       "      <td>/rrBuGu0Pjq7Y2BWSI6teGfZzviY.jpg</td>\n",
       "      <td>1995-12-15</td>\n",
       "      <td>170.0</td>\n",
       "      <td>7.9</td>\n",
       "      <td>4374</td>\n",
       "    </tr>\n",
       "    <tr>\n",
       "      <th>...</th>\n",
       "      <td>...</td>\n",
       "      <td>...</td>\n",
       "      <td>...</td>\n",
       "      <td>...</td>\n",
       "      <td>...</td>\n",
       "      <td>...</td>\n",
       "      <td>...</td>\n",
       "      <td>...</td>\n",
       "      <td>...</td>\n",
       "      <td>...</td>\n",
       "      <td>...</td>\n",
       "      <td>...</td>\n",
       "      <td>...</td>\n",
       "      <td>...</td>\n",
       "      <td>...</td>\n",
       "    </tr>\n",
       "    <tr>\n",
       "      <th>9560</th>\n",
       "      <td>208773</td>\n",
       "      <td>586940.0</td>\n",
       "      <td>I Lost My Body (2019)</td>\n",
       "      <td>['Animation', 'Drama']</td>\n",
       "      <td>['Hakim Faris', 'Victoire Du Bois', \"Patrick d...</td>\n",
       "      <td>['Jérémy Clapin']</td>\n",
       "      <td>A story of Naoufel, a young man who is in love...</td>\n",
       "      <td>['based on novel or book', 'cartoon', 'flashba...</td>\n",
       "      <td>fr</td>\n",
       "      <td>8.869</td>\n",
       "      <td>/z5dXCywyo8zEPNDkeQY7nbvkrz8.jpg</td>\n",
       "      <td>2019-11-06</td>\n",
       "      <td>81.0</td>\n",
       "      <td>7.6</td>\n",
       "      <td>763</td>\n",
       "    </tr>\n",
       "    <tr>\n",
       "      <th>9561</th>\n",
       "      <td>208800</td>\n",
       "      <td>512895.0</td>\n",
       "      <td>Lady and the Tramp (2019)</td>\n",
       "      <td>['Comedy', 'Romance']</td>\n",
       "      <td>['Tessa Thompson', 'Justin Theroux', 'Kiersey ...</td>\n",
       "      <td>['Charlie Bean']</td>\n",
       "      <td>The love story between a pampered Cocker Spani...</td>\n",
       "      <td>['freedom', 'family', 'streetwise', 'lady and ...</td>\n",
       "      <td>en</td>\n",
       "      <td>225.738</td>\n",
       "      <td>/8wBEye516IKul9sW7JKGcFXVGfV.jpg</td>\n",
       "      <td>2019-11-12</td>\n",
       "      <td>104.0</td>\n",
       "      <td>7.3</td>\n",
       "      <td>916</td>\n",
       "    </tr>\n",
       "    <tr>\n",
       "      <th>9562</th>\n",
       "      <td>208813</td>\n",
       "      <td>454467.0</td>\n",
       "      <td>Noelle (2019)</td>\n",
       "      <td>['Children']</td>\n",
       "      <td>['Anna Kendrick', 'Bill Hader', 'Shirley MacLa...</td>\n",
       "      <td>['Marc Lawrence']</td>\n",
       "      <td>Kris Kringle's daughter, Noelle, sets off on a...</td>\n",
       "      <td>['holiday', 'santa claus', 'family relationshi...</td>\n",
       "      <td>en</td>\n",
       "      <td>75.333</td>\n",
       "      <td>/ljxeeVQJra8O4slFsmmnf5NgFx4.jpg</td>\n",
       "      <td>2019-11-12</td>\n",
       "      <td>100.0</td>\n",
       "      <td>6.8</td>\n",
       "      <td>221</td>\n",
       "    </tr>\n",
       "    <tr>\n",
       "      <th>9563</th>\n",
       "      <td>208907</td>\n",
       "      <td>228177.0</td>\n",
       "      <td>Till Luck Do Us Part 2 (2013)</td>\n",
       "      <td>['Comedy']</td>\n",
       "      <td>['Leandro Hassum', 'Camila Morgado', 'Kiko Mas...</td>\n",
       "      <td>['Roberto Santucci']</td>\n",
       "      <td>After all the trouble in the first film, Tino ...</td>\n",
       "      <td>['brazilian']</td>\n",
       "      <td>pt</td>\n",
       "      <td>4.977</td>\n",
       "      <td>/DOmK1UXPulQWLj3xdArcHKGQ9C.jpg</td>\n",
       "      <td>2013-12-27</td>\n",
       "      <td>102.0</td>\n",
       "      <td>5.7</td>\n",
       "      <td>192</td>\n",
       "    </tr>\n",
       "    <tr>\n",
       "      <th>9564</th>\n",
       "      <td>208939</td>\n",
       "      <td>508965.0</td>\n",
       "      <td>Klaus (2019)</td>\n",
       "      <td>['Adventure', 'Animation', 'Children', 'Comedy']</td>\n",
       "      <td>['Jason Schwartzman', 'J.K. Simmons', 'Rashida...</td>\n",
       "      <td>['Sergio Pablos']</td>\n",
       "      <td>When Jesper distinguishes himself as the Posta...</td>\n",
       "      <td>['small town', 'santa claus', 'island', 'postm...</td>\n",
       "      <td>en</td>\n",
       "      <td>66.318</td>\n",
       "      <td>/q125RHUDgR4gjwh1QkfYuJLYkL.jpg</td>\n",
       "      <td>2019-11-08</td>\n",
       "      <td>96.0</td>\n",
       "      <td>8.3</td>\n",
       "      <td>1942</td>\n",
       "    </tr>\n",
       "  </tbody>\n",
       "</table>\n",
       "<p>9565 rows × 15 columns</p>\n",
       "</div>"
      ],
      "text/plain": [
       "      movieId    tmdbId                               title  \\\n",
       "0           1     862.0                    Toy Story (1995)   \n",
       "1           2    8844.0                      Jumanji (1995)   \n",
       "2           3   15602.0             Grumpier Old Men (1995)   \n",
       "3           5   11862.0  Father of the Bride Part II (1995)   \n",
       "4           6     949.0                         Heat (1995)   \n",
       "...       ...       ...                                 ...   \n",
       "9560   208773  586940.0               I Lost My Body (2019)   \n",
       "9561   208800  512895.0           Lady and the Tramp (2019)   \n",
       "9562   208813  454467.0                       Noelle (2019)   \n",
       "9563   208907  228177.0       Till Luck Do Us Part 2 (2013)   \n",
       "9564   208939  508965.0                        Klaus (2019)   \n",
       "\n",
       "                                                 genres  \\\n",
       "0     ['Adventure', 'Animation', 'Children', 'Comedy...   \n",
       "1                  ['Adventure', 'Children', 'Fantasy']   \n",
       "2                                 ['Comedy', 'Romance']   \n",
       "3                                            ['Comedy']   \n",
       "4                       ['Action', 'Crime', 'Thriller']   \n",
       "...                                                 ...   \n",
       "9560                             ['Animation', 'Drama']   \n",
       "9561                              ['Comedy', 'Romance']   \n",
       "9562                                       ['Children']   \n",
       "9563                                         ['Comedy']   \n",
       "9564   ['Adventure', 'Animation', 'Children', 'Comedy']   \n",
       "\n",
       "                                                 actors              director  \\\n",
       "0             ['Tom Hanks', 'Tim Allen', 'Don Rickles']     ['John Lasseter']   \n",
       "1     ['Robin Williams', 'Jonathan Hyde', 'Kirsten D...      ['Joe Johnston']   \n",
       "2      ['Walter Matthau', 'Jack Lemmon', 'Ann-Margret']     ['Howard Deutch']   \n",
       "3      ['Steve Martin', 'Diane Keaton', 'Martin Short']     ['Charles Shyer']   \n",
       "4         ['Al Pacino', 'Robert De Niro', 'Val Kilmer']      ['Michael Mann']   \n",
       "...                                                 ...                   ...   \n",
       "9560  ['Hakim Faris', 'Victoire Du Bois', \"Patrick d...     ['Jérémy Clapin']   \n",
       "9561  ['Tessa Thompson', 'Justin Theroux', 'Kiersey ...      ['Charlie Bean']   \n",
       "9562  ['Anna Kendrick', 'Bill Hader', 'Shirley MacLa...     ['Marc Lawrence']   \n",
       "9563  ['Leandro Hassum', 'Camila Morgado', 'Kiko Mas...  ['Roberto Santucci']   \n",
       "9564  ['Jason Schwartzman', 'J.K. Simmons', 'Rashida...     ['Sergio Pablos']   \n",
       "\n",
       "                                               overview  \\\n",
       "0     Led by Woody, Andy's toys live happily in his ...   \n",
       "1     When siblings Judy and Peter discover an encha...   \n",
       "2     A family wedding reignites the ancient feud be...   \n",
       "3     Just when George Banks has recovered from his ...   \n",
       "4     Obsessive master thief, Neil McCauley leads a ...   \n",
       "...                                                 ...   \n",
       "9560  A story of Naoufel, a young man who is in love...   \n",
       "9561  The love story between a pampered Cocker Spani...   \n",
       "9562  Kris Kringle's daughter, Noelle, sets off on a...   \n",
       "9563  After all the trouble in the first film, Tino ...   \n",
       "9564  When Jesper distinguishes himself as the Posta...   \n",
       "\n",
       "                                               keywords language  popularity  \\\n",
       "0     ['martial arts', 'jealousy', 'toy', 'friendshi...       en      58.282   \n",
       "1     ['giant insect', 'board game', 'jungle', 'disa...       en      11.157   \n",
       "2     ['fishing', 'old man', 'best friend', 'duringc...       en      11.458   \n",
       "3     ['parent child relationship', 'baby', 'midlife...       en      11.431   \n",
       "4     ['robbery', 'detective', 'obsession', 'chase',...       en      20.386   \n",
       "...                                                 ...      ...         ...   \n",
       "9560  ['based on novel or book', 'cartoon', 'flashba...       fr       8.869   \n",
       "9561  ['freedom', 'family', 'streetwise', 'lady and ...       en     225.738   \n",
       "9562  ['holiday', 'santa claus', 'family relationshi...       en      75.333   \n",
       "9563                                      ['brazilian']       pt       4.977   \n",
       "9564  ['small town', 'santa claus', 'island', 'postm...       en      66.318   \n",
       "\n",
       "                           poster_path     release  runtime  vote_average  \\\n",
       "0     /uXDfjJbdP4ijW5hWSBrPrlKpxab.jpg  1995-10-30     81.0           7.9   \n",
       "1     /vgpXmVaVyUL7GGiDeiK1mKEKzcX.jpg  1995-12-15    104.0           7.2   \n",
       "2     /1FSXpj5e8l4KH6nVFO5SPUeraOt.jpg  1995-12-22    101.0           6.6   \n",
       "3     /lf9RTErt8BSLQy98aSFblElvsCQ.jpg  1995-12-08    106.0           6.2   \n",
       "4     /rrBuGu0Pjq7Y2BWSI6teGfZzviY.jpg  1995-12-15    170.0           7.9   \n",
       "...                                ...         ...      ...           ...   \n",
       "9560  /z5dXCywyo8zEPNDkeQY7nbvkrz8.jpg  2019-11-06     81.0           7.6   \n",
       "9561  /8wBEye516IKul9sW7JKGcFXVGfV.jpg  2019-11-12    104.0           7.3   \n",
       "9562  /ljxeeVQJra8O4slFsmmnf5NgFx4.jpg  2019-11-12    100.0           6.8   \n",
       "9563   /DOmK1UXPulQWLj3xdArcHKGQ9C.jpg  2013-12-27    102.0           5.7   \n",
       "9564   /q125RHUDgR4gjwh1QkfYuJLYkL.jpg  2019-11-08     96.0           8.3   \n",
       "\n",
       "      vote_count  \n",
       "0          13191  \n",
       "1           7722  \n",
       "2            219  \n",
       "3            446  \n",
       "4           4374  \n",
       "...          ...  \n",
       "9560         763  \n",
       "9561         916  \n",
       "9562         221  \n",
       "9563         192  \n",
       "9564        1942  \n",
       "\n",
       "[9565 rows x 15 columns]"
      ]
     },
     "execution_count": 21,
     "metadata": {},
     "output_type": "execute_result"
    }
   ],
   "source": [
    "data_lite = pd.read_csv('../raw_data/treated-db/data.csv')\n",
    "data_lite = data_lite[data_lite['vote_count']>=100].reset_index(drop=True)\n",
    "data_lite"
   ]
  },
  {
   "cell_type": "code",
   "execution_count": 22,
   "metadata": {
    "ExecuteTime": {
     "end_time": "2020-12-02T13:59:06.565994Z",
     "start_time": "2020-12-02T13:59:02.108553Z"
    }
   },
   "outputs": [
    {
     "data": {
      "text/html": [
       "<div>\n",
       "<style scoped>\n",
       "    .dataframe tbody tr th:only-of-type {\n",
       "        vertical-align: middle;\n",
       "    }\n",
       "\n",
       "    .dataframe tbody tr th {\n",
       "        vertical-align: top;\n",
       "    }\n",
       "\n",
       "    .dataframe thead th {\n",
       "        text-align: right;\n",
       "    }\n",
       "</style>\n",
       "<table border=\"1\" class=\"dataframe\">\n",
       "  <thead>\n",
       "    <tr style=\"text-align: right;\">\n",
       "      <th></th>\n",
       "      <th>userId</th>\n",
       "      <th>movieId</th>\n",
       "      <th>rating</th>\n",
       "      <th>title</th>\n",
       "    </tr>\n",
       "  </thead>\n",
       "  <tbody>\n",
       "    <tr>\n",
       "      <th>0</th>\n",
       "      <td>1</td>\n",
       "      <td>296</td>\n",
       "      <td>5.0</td>\n",
       "      <td>Pulp Fiction (1994)</td>\n",
       "    </tr>\n",
       "    <tr>\n",
       "      <th>1</th>\n",
       "      <td>3</td>\n",
       "      <td>296</td>\n",
       "      <td>5.0</td>\n",
       "      <td>Pulp Fiction (1994)</td>\n",
       "    </tr>\n",
       "    <tr>\n",
       "      <th>2</th>\n",
       "      <td>4</td>\n",
       "      <td>296</td>\n",
       "      <td>4.0</td>\n",
       "      <td>Pulp Fiction (1994)</td>\n",
       "    </tr>\n",
       "    <tr>\n",
       "      <th>3</th>\n",
       "      <td>5</td>\n",
       "      <td>296</td>\n",
       "      <td>4.0</td>\n",
       "      <td>Pulp Fiction (1994)</td>\n",
       "    </tr>\n",
       "    <tr>\n",
       "      <th>4</th>\n",
       "      <td>7</td>\n",
       "      <td>296</td>\n",
       "      <td>4.0</td>\n",
       "      <td>Pulp Fiction (1994)</td>\n",
       "    </tr>\n",
       "    <tr>\n",
       "      <th>...</th>\n",
       "      <td>...</td>\n",
       "      <td>...</td>\n",
       "      <td>...</td>\n",
       "      <td>...</td>\n",
       "    </tr>\n",
       "    <tr>\n",
       "      <th>22890801</th>\n",
       "      <td>146726</td>\n",
       "      <td>152862</td>\n",
       "      <td>3.0</td>\n",
       "      <td>L'abbiamo fatta grossa (2016)</td>\n",
       "    </tr>\n",
       "    <tr>\n",
       "      <th>22890802</th>\n",
       "      <td>148457</td>\n",
       "      <td>70920</td>\n",
       "      <td>3.5</td>\n",
       "      <td>Questo piccolo grande amore (2009)</td>\n",
       "    </tr>\n",
       "    <tr>\n",
       "      <th>22890803</th>\n",
       "      <td>155163</td>\n",
       "      <td>181299</td>\n",
       "      <td>3.0</td>\n",
       "      <td>Jacquou the Rebel (2007)</td>\n",
       "    </tr>\n",
       "    <tr>\n",
       "      <th>22890804</th>\n",
       "      <td>160007</td>\n",
       "      <td>204214</td>\n",
       "      <td>4.5</td>\n",
       "      <td>Burn Out (2017)</td>\n",
       "    </tr>\n",
       "    <tr>\n",
       "      <th>22890805</th>\n",
       "      <td>160243</td>\n",
       "      <td>200370</td>\n",
       "      <td>2.5</td>\n",
       "      <td>Amateur (2018)</td>\n",
       "    </tr>\n",
       "  </tbody>\n",
       "</table>\n",
       "<p>22890806 rows × 4 columns</p>\n",
       "</div>"
      ],
      "text/plain": [
       "          userId  movieId  rating                               title\n",
       "0              1      296     5.0                 Pulp Fiction (1994)\n",
       "1              3      296     5.0                 Pulp Fiction (1994)\n",
       "2              4      296     4.0                 Pulp Fiction (1994)\n",
       "3              5      296     4.0                 Pulp Fiction (1994)\n",
       "4              7      296     4.0                 Pulp Fiction (1994)\n",
       "...          ...      ...     ...                                 ...\n",
       "22890801  146726   152862     3.0       L'abbiamo fatta grossa (2016)\n",
       "22890802  148457    70920     3.5  Questo piccolo grande amore (2009)\n",
       "22890803  155163   181299     3.0            Jacquou the Rebel (2007)\n",
       "22890804  160007   204214     4.5                     Burn Out (2017)\n",
       "22890805  160243   200370     2.5                      Amateur (2018)\n",
       "\n",
       "[22890806 rows x 4 columns]"
      ]
     },
     "execution_count": 22,
     "metadata": {},
     "output_type": "execute_result"
    }
   ],
   "source": [
    "ratings_lite = ratings[['userId','movieId','rating']].merge(data_lite[['movieId', 'title']], on='movieId', how='inner')\n",
    "ratings_lite"
   ]
  },
  {
   "cell_type": "code",
   "execution_count": 31,
   "metadata": {
    "ExecuteTime": {
     "end_time": "2020-12-02T14:19:43.726980Z",
     "start_time": "2020-12-02T14:19:39.731244Z"
    }
   },
   "outputs": [
    {
     "data": {
      "text/html": [
       "<div>\n",
       "<style scoped>\n",
       "    .dataframe tbody tr th:only-of-type {\n",
       "        vertical-align: middle;\n",
       "    }\n",
       "\n",
       "    .dataframe tbody tr th {\n",
       "        vertical-align: top;\n",
       "    }\n",
       "\n",
       "    .dataframe thead th {\n",
       "        text-align: right;\n",
       "    }\n",
       "</style>\n",
       "<table border=\"1\" class=\"dataframe\">\n",
       "  <thead>\n",
       "    <tr style=\"text-align: right;\">\n",
       "      <th></th>\n",
       "      <th>userId</th>\n",
       "      <th>movieId</th>\n",
       "      <th>rating</th>\n",
       "      <th>title</th>\n",
       "    </tr>\n",
       "  </thead>\n",
       "  <tbody>\n",
       "    <tr>\n",
       "      <th>0</th>\n",
       "      <td>1</td>\n",
       "      <td>296</td>\n",
       "      <td>5.0</td>\n",
       "      <td>Pulp Fiction (1994)</td>\n",
       "    </tr>\n",
       "    <tr>\n",
       "      <th>1</th>\n",
       "      <td>3</td>\n",
       "      <td>296</td>\n",
       "      <td>5.0</td>\n",
       "      <td>Pulp Fiction (1994)</td>\n",
       "    </tr>\n",
       "    <tr>\n",
       "      <th>2</th>\n",
       "      <td>4</td>\n",
       "      <td>296</td>\n",
       "      <td>4.0</td>\n",
       "      <td>Pulp Fiction (1994)</td>\n",
       "    </tr>\n",
       "    <tr>\n",
       "      <th>3</th>\n",
       "      <td>5</td>\n",
       "      <td>296</td>\n",
       "      <td>4.0</td>\n",
       "      <td>Pulp Fiction (1994)</td>\n",
       "    </tr>\n",
       "    <tr>\n",
       "      <th>4</th>\n",
       "      <td>7</td>\n",
       "      <td>296</td>\n",
       "      <td>4.0</td>\n",
       "      <td>Pulp Fiction (1994)</td>\n",
       "    </tr>\n",
       "    <tr>\n",
       "      <th>...</th>\n",
       "      <td>...</td>\n",
       "      <td>...</td>\n",
       "      <td>...</td>\n",
       "      <td>...</td>\n",
       "    </tr>\n",
       "    <tr>\n",
       "      <th>20957020</th>\n",
       "      <td>162394</td>\n",
       "      <td>128360</td>\n",
       "      <td>4.0</td>\n",
       "      <td>The Hateful Eight (2015)</td>\n",
       "    </tr>\n",
       "    <tr>\n",
       "      <th>20957021</th>\n",
       "      <td>162424</td>\n",
       "      <td>128360</td>\n",
       "      <td>5.0</td>\n",
       "      <td>The Hateful Eight (2015)</td>\n",
       "    </tr>\n",
       "    <tr>\n",
       "      <th>20957022</th>\n",
       "      <td>162501</td>\n",
       "      <td>128360</td>\n",
       "      <td>4.5</td>\n",
       "      <td>The Hateful Eight (2015)</td>\n",
       "    </tr>\n",
       "    <tr>\n",
       "      <th>20957023</th>\n",
       "      <td>162516</td>\n",
       "      <td>128360</td>\n",
       "      <td>4.5</td>\n",
       "      <td>The Hateful Eight (2015)</td>\n",
       "    </tr>\n",
       "    <tr>\n",
       "      <th>20957024</th>\n",
       "      <td>162534</td>\n",
       "      <td>128360</td>\n",
       "      <td>2.0</td>\n",
       "      <td>The Hateful Eight (2015)</td>\n",
       "    </tr>\n",
       "  </tbody>\n",
       "</table>\n",
       "<p>15023959 rows × 4 columns</p>\n",
       "</div>"
      ],
      "text/plain": [
       "          userId  movieId  rating                     title\n",
       "0              1      296     5.0       Pulp Fiction (1994)\n",
       "1              3      296     5.0       Pulp Fiction (1994)\n",
       "2              4      296     4.0       Pulp Fiction (1994)\n",
       "3              5      296     4.0       Pulp Fiction (1994)\n",
       "4              7      296     4.0       Pulp Fiction (1994)\n",
       "...          ...      ...     ...                       ...\n",
       "20957020  162394   128360     4.0  The Hateful Eight (2015)\n",
       "20957021  162424   128360     5.0  The Hateful Eight (2015)\n",
       "20957022  162501   128360     4.5  The Hateful Eight (2015)\n",
       "20957023  162516   128360     4.5  The Hateful Eight (2015)\n",
       "20957024  162534   128360     2.0  The Hateful Eight (2015)\n",
       "\n",
       "[15023959 rows x 4 columns]"
      ]
     },
     "execution_count": 31,
     "metadata": {},
     "output_type": "execute_result"
    }
   ],
   "source": [
    "ratings_lite_top = get_most_rated_movies_df(ratings_lite, 1000)\n",
    "ratings_lite_top"
   ]
  },
  {
   "cell_type": "code",
   "execution_count": 40,
   "metadata": {
    "ExecuteTime": {
     "end_time": "2020-12-02T15:08:49.292805Z",
     "start_time": "2020-12-02T15:08:43.879035Z"
    }
   },
   "outputs": [
    {
     "data": {
      "text/html": [
       "<div>\n",
       "<style scoped>\n",
       "    .dataframe tbody tr th:only-of-type {\n",
       "        vertical-align: middle;\n",
       "    }\n",
       "\n",
       "    .dataframe tbody tr th {\n",
       "        vertical-align: top;\n",
       "    }\n",
       "\n",
       "    .dataframe thead th {\n",
       "        text-align: right;\n",
       "    }\n",
       "</style>\n",
       "<table border=\"1\" class=\"dataframe\">\n",
       "  <thead>\n",
       "    <tr style=\"text-align: right;\">\n",
       "      <th></th>\n",
       "      <th>userId</th>\n",
       "      <th>movieId</th>\n",
       "      <th>rating</th>\n",
       "      <th>title</th>\n",
       "    </tr>\n",
       "  </thead>\n",
       "  <tbody>\n",
       "    <tr>\n",
       "      <th>1</th>\n",
       "      <td>3</td>\n",
       "      <td>296</td>\n",
       "      <td>5.0</td>\n",
       "      <td>Pulp Fiction (1994)</td>\n",
       "    </tr>\n",
       "    <tr>\n",
       "      <th>7</th>\n",
       "      <td>12</td>\n",
       "      <td>296</td>\n",
       "      <td>5.0</td>\n",
       "      <td>Pulp Fiction (1994)</td>\n",
       "    </tr>\n",
       "    <tr>\n",
       "      <th>24</th>\n",
       "      <td>43</td>\n",
       "      <td>296</td>\n",
       "      <td>5.0</td>\n",
       "      <td>Pulp Fiction (1994)</td>\n",
       "    </tr>\n",
       "    <tr>\n",
       "      <th>34</th>\n",
       "      <td>72</td>\n",
       "      <td>296</td>\n",
       "      <td>5.0</td>\n",
       "      <td>Pulp Fiction (1994)</td>\n",
       "    </tr>\n",
       "    <tr>\n",
       "      <th>36</th>\n",
       "      <td>75</td>\n",
       "      <td>296</td>\n",
       "      <td>3.0</td>\n",
       "      <td>Pulp Fiction (1994)</td>\n",
       "    </tr>\n",
       "    <tr>\n",
       "      <th>...</th>\n",
       "      <td>...</td>\n",
       "      <td>...</td>\n",
       "      <td>...</td>\n",
       "      <td>...</td>\n",
       "    </tr>\n",
       "    <tr>\n",
       "      <th>20957018</th>\n",
       "      <td>162349</td>\n",
       "      <td>128360</td>\n",
       "      <td>5.0</td>\n",
       "      <td>The Hateful Eight (2015)</td>\n",
       "    </tr>\n",
       "    <tr>\n",
       "      <th>20957019</th>\n",
       "      <td>162386</td>\n",
       "      <td>128360</td>\n",
       "      <td>4.5</td>\n",
       "      <td>The Hateful Eight (2015)</td>\n",
       "    </tr>\n",
       "    <tr>\n",
       "      <th>20957020</th>\n",
       "      <td>162394</td>\n",
       "      <td>128360</td>\n",
       "      <td>4.0</td>\n",
       "      <td>The Hateful Eight (2015)</td>\n",
       "    </tr>\n",
       "    <tr>\n",
       "      <th>20957021</th>\n",
       "      <td>162424</td>\n",
       "      <td>128360</td>\n",
       "      <td>5.0</td>\n",
       "      <td>The Hateful Eight (2015)</td>\n",
       "    </tr>\n",
       "    <tr>\n",
       "      <th>20957023</th>\n",
       "      <td>162516</td>\n",
       "      <td>128360</td>\n",
       "      <td>4.5</td>\n",
       "      <td>The Hateful Eight (2015)</td>\n",
       "    </tr>\n",
       "  </tbody>\n",
       "</table>\n",
       "<p>3857003 rows × 4 columns</p>\n",
       "</div>"
      ],
      "text/plain": [
       "          userId  movieId  rating                     title\n",
       "1              3      296     5.0       Pulp Fiction (1994)\n",
       "7             12      296     5.0       Pulp Fiction (1994)\n",
       "24            43      296     5.0       Pulp Fiction (1994)\n",
       "34            72      296     5.0       Pulp Fiction (1994)\n",
       "36            75      296     3.0       Pulp Fiction (1994)\n",
       "...          ...      ...     ...                       ...\n",
       "20957018  162349   128360     5.0  The Hateful Eight (2015)\n",
       "20957019  162386   128360     4.5  The Hateful Eight (2015)\n",
       "20957020  162394   128360     4.0  The Hateful Eight (2015)\n",
       "20957021  162424   128360     5.0  The Hateful Eight (2015)\n",
       "20957023  162516   128360     4.5  The Hateful Eight (2015)\n",
       "\n",
       "[3857003 rows x 4 columns]"
      ]
     },
     "execution_count": 40,
     "metadata": {},
     "output_type": "execute_result"
    }
   ],
   "source": [
    "ratings_lite_top_2 = get_users_with_min_max_num_of_ratings_df(ratings_lite_top, 300, 1000)\n",
    "ratings_lite_top_2"
   ]
  },
  {
   "cell_type": "code",
   "execution_count": 41,
   "metadata": {
    "ExecuteTime": {
     "end_time": "2020-12-02T15:09:08.609737Z",
     "start_time": "2020-12-02T15:08:53.230642Z"
    }
   },
   "outputs": [
    {
     "name": "stdout",
     "output_type": "stream",
     "text": [
      "CPU times: user 14 s, sys: 344 ms, total: 14.4 s\n",
      "Wall time: 15.4 s\n"
     ]
    }
   ],
   "source": [
    "%%time\n",
    "ratings_lite_top_2.to_csv('../raw_data/streamlit-data/ratings_lite.csv', index=True)"
   ]
  },
  {
   "cell_type": "code",
   "execution_count": 42,
   "metadata": {
    "ExecuteTime": {
     "end_time": "2020-12-02T15:09:12.904875Z",
     "start_time": "2020-12-02T15:09:10.122458Z"
    },
    "scrolled": false
   },
   "outputs": [
    {
     "name": "stdout",
     "output_type": "stream",
     "text": [
      "CPU times: user 2.19 s, sys: 393 ms, total: 2.58 s\n",
      "Wall time: 2.72 s\n"
     ]
    },
    {
     "data": {
      "text/html": [
       "<div>\n",
       "<style scoped>\n",
       "    .dataframe tbody tr th:only-of-type {\n",
       "        vertical-align: middle;\n",
       "    }\n",
       "\n",
       "    .dataframe tbody tr th {\n",
       "        vertical-align: top;\n",
       "    }\n",
       "\n",
       "    .dataframe thead th {\n",
       "        text-align: right;\n",
       "    }\n",
       "</style>\n",
       "<table border=\"1\" class=\"dataframe\">\n",
       "  <thead>\n",
       "    <tr style=\"text-align: right;\">\n",
       "      <th>title</th>\n",
       "      <th>(500) Days of Summer (2009)</th>\n",
       "      <th>10 Things I Hate About You (1999)</th>\n",
       "      <th>101 Dalmatians (1996)</th>\n",
       "      <th>101 Dalmatians (One Hundred and One Dalmatians) (1961)</th>\n",
       "      <th>12 Angry Men (1957)</th>\n",
       "      <th>127 Hours (2010)</th>\n",
       "      <th>13th Warrior, The (1999)</th>\n",
       "      <th>2001: A Space Odyssey (1968)</th>\n",
       "      <th>21 Grams (2003)</th>\n",
       "      <th>21 Jump Street (2012)</th>\n",
       "      <th>...</th>\n",
       "      <th>X-Men: The Last Stand (2006)</th>\n",
       "      <th>X2: X-Men United (2003)</th>\n",
       "      <th>You've Got Mail (1998)</th>\n",
       "      <th>Young Frankenstein (1974)</th>\n",
       "      <th>Young Guns (1988)</th>\n",
       "      <th>Zodiac (2007)</th>\n",
       "      <th>Zombieland (2009)</th>\n",
       "      <th>Zoolander (2001)</th>\n",
       "      <th>Zootopia (2016)</th>\n",
       "      <th>¡Three Amigos! (1986)</th>\n",
       "    </tr>\n",
       "    <tr>\n",
       "      <th>userId</th>\n",
       "      <th></th>\n",
       "      <th></th>\n",
       "      <th></th>\n",
       "      <th></th>\n",
       "      <th></th>\n",
       "      <th></th>\n",
       "      <th></th>\n",
       "      <th></th>\n",
       "      <th></th>\n",
       "      <th></th>\n",
       "      <th></th>\n",
       "      <th></th>\n",
       "      <th></th>\n",
       "      <th></th>\n",
       "      <th></th>\n",
       "      <th></th>\n",
       "      <th></th>\n",
       "      <th></th>\n",
       "      <th></th>\n",
       "      <th></th>\n",
       "      <th></th>\n",
       "    </tr>\n",
       "  </thead>\n",
       "  <tbody>\n",
       "    <tr>\n",
       "      <th>3</th>\n",
       "      <td>NaN</td>\n",
       "      <td>NaN</td>\n",
       "      <td>NaN</td>\n",
       "      <td>NaN</td>\n",
       "      <td>NaN</td>\n",
       "      <td>NaN</td>\n",
       "      <td>NaN</td>\n",
       "      <td>5.0</td>\n",
       "      <td>NaN</td>\n",
       "      <td>NaN</td>\n",
       "      <td>...</td>\n",
       "      <td>4.0</td>\n",
       "      <td>4.0</td>\n",
       "      <td>NaN</td>\n",
       "      <td>NaN</td>\n",
       "      <td>NaN</td>\n",
       "      <td>NaN</td>\n",
       "      <td>4.0</td>\n",
       "      <td>3.5</td>\n",
       "      <td>NaN</td>\n",
       "      <td>NaN</td>\n",
       "    </tr>\n",
       "    <tr>\n",
       "      <th>12</th>\n",
       "      <td>3.0</td>\n",
       "      <td>3.0</td>\n",
       "      <td>1.0</td>\n",
       "      <td>NaN</td>\n",
       "      <td>NaN</td>\n",
       "      <td>NaN</td>\n",
       "      <td>NaN</td>\n",
       "      <td>NaN</td>\n",
       "      <td>NaN</td>\n",
       "      <td>NaN</td>\n",
       "      <td>...</td>\n",
       "      <td>NaN</td>\n",
       "      <td>NaN</td>\n",
       "      <td>2.0</td>\n",
       "      <td>NaN</td>\n",
       "      <td>4.0</td>\n",
       "      <td>NaN</td>\n",
       "      <td>NaN</td>\n",
       "      <td>NaN</td>\n",
       "      <td>NaN</td>\n",
       "      <td>3.5</td>\n",
       "    </tr>\n",
       "    <tr>\n",
       "      <th>43</th>\n",
       "      <td>NaN</td>\n",
       "      <td>NaN</td>\n",
       "      <td>NaN</td>\n",
       "      <td>NaN</td>\n",
       "      <td>NaN</td>\n",
       "      <td>NaN</td>\n",
       "      <td>NaN</td>\n",
       "      <td>3.5</td>\n",
       "      <td>NaN</td>\n",
       "      <td>NaN</td>\n",
       "      <td>...</td>\n",
       "      <td>3.5</td>\n",
       "      <td>3.5</td>\n",
       "      <td>NaN</td>\n",
       "      <td>NaN</td>\n",
       "      <td>NaN</td>\n",
       "      <td>NaN</td>\n",
       "      <td>NaN</td>\n",
       "      <td>NaN</td>\n",
       "      <td>NaN</td>\n",
       "      <td>NaN</td>\n",
       "    </tr>\n",
       "    <tr>\n",
       "      <th>72</th>\n",
       "      <td>NaN</td>\n",
       "      <td>5.0</td>\n",
       "      <td>NaN</td>\n",
       "      <td>3.0</td>\n",
       "      <td>5.0</td>\n",
       "      <td>NaN</td>\n",
       "      <td>NaN</td>\n",
       "      <td>3.0</td>\n",
       "      <td>NaN</td>\n",
       "      <td>NaN</td>\n",
       "      <td>...</td>\n",
       "      <td>NaN</td>\n",
       "      <td>NaN</td>\n",
       "      <td>2.0</td>\n",
       "      <td>4.0</td>\n",
       "      <td>NaN</td>\n",
       "      <td>NaN</td>\n",
       "      <td>NaN</td>\n",
       "      <td>NaN</td>\n",
       "      <td>NaN</td>\n",
       "      <td>2.0</td>\n",
       "    </tr>\n",
       "    <tr>\n",
       "      <th>75</th>\n",
       "      <td>3.5</td>\n",
       "      <td>3.0</td>\n",
       "      <td>4.0</td>\n",
       "      <td>NaN</td>\n",
       "      <td>NaN</td>\n",
       "      <td>NaN</td>\n",
       "      <td>NaN</td>\n",
       "      <td>NaN</td>\n",
       "      <td>NaN</td>\n",
       "      <td>NaN</td>\n",
       "      <td>...</td>\n",
       "      <td>NaN</td>\n",
       "      <td>NaN</td>\n",
       "      <td>2.0</td>\n",
       "      <td>NaN</td>\n",
       "      <td>NaN</td>\n",
       "      <td>NaN</td>\n",
       "      <td>3.0</td>\n",
       "      <td>NaN</td>\n",
       "      <td>NaN</td>\n",
       "      <td>NaN</td>\n",
       "    </tr>\n",
       "    <tr>\n",
       "      <th>...</th>\n",
       "      <td>...</td>\n",
       "      <td>...</td>\n",
       "      <td>...</td>\n",
       "      <td>...</td>\n",
       "      <td>...</td>\n",
       "      <td>...</td>\n",
       "      <td>...</td>\n",
       "      <td>...</td>\n",
       "      <td>...</td>\n",
       "      <td>...</td>\n",
       "      <td>...</td>\n",
       "      <td>...</td>\n",
       "      <td>...</td>\n",
       "      <td>...</td>\n",
       "      <td>...</td>\n",
       "      <td>...</td>\n",
       "      <td>...</td>\n",
       "      <td>...</td>\n",
       "      <td>...</td>\n",
       "      <td>...</td>\n",
       "      <td>...</td>\n",
       "    </tr>\n",
       "    <tr>\n",
       "      <th>162508</th>\n",
       "      <td>2.5</td>\n",
       "      <td>3.0</td>\n",
       "      <td>NaN</td>\n",
       "      <td>NaN</td>\n",
       "      <td>NaN</td>\n",
       "      <td>NaN</td>\n",
       "      <td>NaN</td>\n",
       "      <td>NaN</td>\n",
       "      <td>2.0</td>\n",
       "      <td>NaN</td>\n",
       "      <td>...</td>\n",
       "      <td>NaN</td>\n",
       "      <td>NaN</td>\n",
       "      <td>NaN</td>\n",
       "      <td>NaN</td>\n",
       "      <td>NaN</td>\n",
       "      <td>5.0</td>\n",
       "      <td>3.0</td>\n",
       "      <td>NaN</td>\n",
       "      <td>NaN</td>\n",
       "      <td>NaN</td>\n",
       "    </tr>\n",
       "    <tr>\n",
       "      <th>162512</th>\n",
       "      <td>NaN</td>\n",
       "      <td>5.0</td>\n",
       "      <td>NaN</td>\n",
       "      <td>3.0</td>\n",
       "      <td>NaN</td>\n",
       "      <td>NaN</td>\n",
       "      <td>2.5</td>\n",
       "      <td>4.0</td>\n",
       "      <td>NaN</td>\n",
       "      <td>NaN</td>\n",
       "      <td>...</td>\n",
       "      <td>3.0</td>\n",
       "      <td>3.0</td>\n",
       "      <td>NaN</td>\n",
       "      <td>NaN</td>\n",
       "      <td>NaN</td>\n",
       "      <td>NaN</td>\n",
       "      <td>3.0</td>\n",
       "      <td>3.0</td>\n",
       "      <td>NaN</td>\n",
       "      <td>NaN</td>\n",
       "    </tr>\n",
       "    <tr>\n",
       "      <th>162516</th>\n",
       "      <td>4.0</td>\n",
       "      <td>3.5</td>\n",
       "      <td>3.5</td>\n",
       "      <td>4.0</td>\n",
       "      <td>4.5</td>\n",
       "      <td>4.0</td>\n",
       "      <td>1.5</td>\n",
       "      <td>4.5</td>\n",
       "      <td>4.0</td>\n",
       "      <td>3.5</td>\n",
       "      <td>...</td>\n",
       "      <td>4.0</td>\n",
       "      <td>4.5</td>\n",
       "      <td>2.5</td>\n",
       "      <td>4.0</td>\n",
       "      <td>2.5</td>\n",
       "      <td>4.0</td>\n",
       "      <td>3.0</td>\n",
       "      <td>3.0</td>\n",
       "      <td>4.0</td>\n",
       "      <td>2.0</td>\n",
       "    </tr>\n",
       "    <tr>\n",
       "      <th>162519</th>\n",
       "      <td>NaN</td>\n",
       "      <td>NaN</td>\n",
       "      <td>NaN</td>\n",
       "      <td>3.0</td>\n",
       "      <td>NaN</td>\n",
       "      <td>NaN</td>\n",
       "      <td>2.0</td>\n",
       "      <td>5.0</td>\n",
       "      <td>NaN</td>\n",
       "      <td>NaN</td>\n",
       "      <td>...</td>\n",
       "      <td>NaN</td>\n",
       "      <td>NaN</td>\n",
       "      <td>NaN</td>\n",
       "      <td>3.0</td>\n",
       "      <td>NaN</td>\n",
       "      <td>NaN</td>\n",
       "      <td>NaN</td>\n",
       "      <td>NaN</td>\n",
       "      <td>NaN</td>\n",
       "      <td>NaN</td>\n",
       "    </tr>\n",
       "    <tr>\n",
       "      <th>162533</th>\n",
       "      <td>NaN</td>\n",
       "      <td>2.5</td>\n",
       "      <td>NaN</td>\n",
       "      <td>NaN</td>\n",
       "      <td>NaN</td>\n",
       "      <td>3.5</td>\n",
       "      <td>NaN</td>\n",
       "      <td>NaN</td>\n",
       "      <td>3.5</td>\n",
       "      <td>NaN</td>\n",
       "      <td>...</td>\n",
       "      <td>NaN</td>\n",
       "      <td>3.5</td>\n",
       "      <td>NaN</td>\n",
       "      <td>NaN</td>\n",
       "      <td>NaN</td>\n",
       "      <td>3.5</td>\n",
       "      <td>3.5</td>\n",
       "      <td>NaN</td>\n",
       "      <td>NaN</td>\n",
       "      <td>NaN</td>\n",
       "    </tr>\n",
       "  </tbody>\n",
       "</table>\n",
       "<p>9014 rows × 1000 columns</p>\n",
       "</div>"
      ],
      "text/plain": [
       "title   (500) Days of Summer (2009)  10 Things I Hate About You (1999)  \\\n",
       "userId                                                                   \n",
       "3                               NaN                                NaN   \n",
       "12                              3.0                                3.0   \n",
       "43                              NaN                                NaN   \n",
       "72                              NaN                                5.0   \n",
       "75                              3.5                                3.0   \n",
       "...                             ...                                ...   \n",
       "162508                          2.5                                3.0   \n",
       "162512                          NaN                                5.0   \n",
       "162516                          4.0                                3.5   \n",
       "162519                          NaN                                NaN   \n",
       "162533                          NaN                                2.5   \n",
       "\n",
       "title   101 Dalmatians (1996)  \\\n",
       "userId                          \n",
       "3                         NaN   \n",
       "12                        1.0   \n",
       "43                        NaN   \n",
       "72                        NaN   \n",
       "75                        4.0   \n",
       "...                       ...   \n",
       "162508                    NaN   \n",
       "162512                    NaN   \n",
       "162516                    3.5   \n",
       "162519                    NaN   \n",
       "162533                    NaN   \n",
       "\n",
       "title   101 Dalmatians (One Hundred and One Dalmatians) (1961)  \\\n",
       "userId                                                           \n",
       "3                                                     NaN        \n",
       "12                                                    NaN        \n",
       "43                                                    NaN        \n",
       "72                                                    3.0        \n",
       "75                                                    NaN        \n",
       "...                                                   ...        \n",
       "162508                                                NaN        \n",
       "162512                                                3.0        \n",
       "162516                                                4.0        \n",
       "162519                                                3.0        \n",
       "162533                                                NaN        \n",
       "\n",
       "title   12 Angry Men (1957)  127 Hours (2010)  13th Warrior, The (1999)  \\\n",
       "userId                                                                    \n",
       "3                       NaN               NaN                       NaN   \n",
       "12                      NaN               NaN                       NaN   \n",
       "43                      NaN               NaN                       NaN   \n",
       "72                      5.0               NaN                       NaN   \n",
       "75                      NaN               NaN                       NaN   \n",
       "...                     ...               ...                       ...   \n",
       "162508                  NaN               NaN                       NaN   \n",
       "162512                  NaN               NaN                       2.5   \n",
       "162516                  4.5               4.0                       1.5   \n",
       "162519                  NaN               NaN                       2.0   \n",
       "162533                  NaN               3.5                       NaN   \n",
       "\n",
       "title   2001: A Space Odyssey (1968)  21 Grams (2003)  21 Jump Street (2012)  \\\n",
       "userId                                                                         \n",
       "3                                5.0              NaN                    NaN   \n",
       "12                               NaN              NaN                    NaN   \n",
       "43                               3.5              NaN                    NaN   \n",
       "72                               3.0              NaN                    NaN   \n",
       "75                               NaN              NaN                    NaN   \n",
       "...                              ...              ...                    ...   \n",
       "162508                           NaN              2.0                    NaN   \n",
       "162512                           4.0              NaN                    NaN   \n",
       "162516                           4.5              4.0                    3.5   \n",
       "162519                           5.0              NaN                    NaN   \n",
       "162533                           NaN              3.5                    NaN   \n",
       "\n",
       "title   ...  X-Men: The Last Stand (2006)  X2: X-Men United (2003)  \\\n",
       "userId  ...                                                          \n",
       "3       ...                           4.0                      4.0   \n",
       "12      ...                           NaN                      NaN   \n",
       "43      ...                           3.5                      3.5   \n",
       "72      ...                           NaN                      NaN   \n",
       "75      ...                           NaN                      NaN   \n",
       "...     ...                           ...                      ...   \n",
       "162508  ...                           NaN                      NaN   \n",
       "162512  ...                           3.0                      3.0   \n",
       "162516  ...                           4.0                      4.5   \n",
       "162519  ...                           NaN                      NaN   \n",
       "162533  ...                           NaN                      3.5   \n",
       "\n",
       "title   You've Got Mail (1998)  Young Frankenstein (1974)  Young Guns (1988)  \\\n",
       "userId                                                                         \n",
       "3                          NaN                        NaN                NaN   \n",
       "12                         2.0                        NaN                4.0   \n",
       "43                         NaN                        NaN                NaN   \n",
       "72                         2.0                        4.0                NaN   \n",
       "75                         2.0                        NaN                NaN   \n",
       "...                        ...                        ...                ...   \n",
       "162508                     NaN                        NaN                NaN   \n",
       "162512                     NaN                        NaN                NaN   \n",
       "162516                     2.5                        4.0                2.5   \n",
       "162519                     NaN                        3.0                NaN   \n",
       "162533                     NaN                        NaN                NaN   \n",
       "\n",
       "title   Zodiac (2007)  Zombieland (2009)  Zoolander (2001)  Zootopia (2016)  \\\n",
       "userId                                                                        \n",
       "3                 NaN                4.0               3.5              NaN   \n",
       "12                NaN                NaN               NaN              NaN   \n",
       "43                NaN                NaN               NaN              NaN   \n",
       "72                NaN                NaN               NaN              NaN   \n",
       "75                NaN                3.0               NaN              NaN   \n",
       "...               ...                ...               ...              ...   \n",
       "162508            5.0                3.0               NaN              NaN   \n",
       "162512            NaN                3.0               3.0              NaN   \n",
       "162516            4.0                3.0               3.0              4.0   \n",
       "162519            NaN                NaN               NaN              NaN   \n",
       "162533            3.5                3.5               NaN              NaN   \n",
       "\n",
       "title   ¡Three Amigos! (1986)  \n",
       "userId                         \n",
       "3                         NaN  \n",
       "12                        3.5  \n",
       "43                        NaN  \n",
       "72                        2.0  \n",
       "75                        NaN  \n",
       "...                       ...  \n",
       "162508                    NaN  \n",
       "162512                    NaN  \n",
       "162516                    2.0  \n",
       "162519                    NaN  \n",
       "162533                    NaN  \n",
       "\n",
       "[9014 rows x 1000 columns]"
      ]
     },
     "execution_count": 42,
     "metadata": {},
     "output_type": "execute_result"
    }
   ],
   "source": [
    "%%time\n",
    "df_lite = ratings_lite_top_2.pivot(index='userId', columns='title', values='rating')\n",
    "df_lite"
   ]
  },
  {
   "cell_type": "code",
   "execution_count": null,
   "metadata": {
    "ExecuteTime": {
     "end_time": "2020-12-02T13:20:32.371617Z",
     "start_time": "2020-12-02T12:58:39.087674Z"
    }
   },
   "outputs": [],
   "source": [
    "# df_lite.to_csv('../raw_data/streamlit-data/ratings_lite.csv', index=True)"
   ]
  },
  {
   "cell_type": "markdown",
   "metadata": {},
   "source": [
    "### Item Based colaborative filter"
   ]
  },
  {
   "cell_type": "code",
   "execution_count": null,
   "metadata": {
    "ExecuteTime": {
     "end_time": "2020-11-30T19:39:02.666856Z",
     "start_time": "2020-11-30T19:39:02.657345Z"
    }
   },
   "outputs": [],
   "source": [
    "def standardize(series):\n",
    "    new_series = (series - series.mean(skipna=True))\n",
    "    return new_series"
   ]
  },
  {
   "cell_type": "code",
   "execution_count": null,
   "metadata": {
    "ExecuteTime": {
     "end_time": "2020-11-30T19:39:02.800413Z",
     "start_time": "2020-11-30T19:39:02.674061Z"
    }
   },
   "outputs": [],
   "source": [
    "ratings_std_by_column = df.apply(standardize, axis=0)\n",
    "ratings_std_by_column"
   ]
  },
  {
   "cell_type": "code",
   "execution_count": null,
   "metadata": {
    "ExecuteTime": {
     "end_time": "2020-11-30T19:39:02.819984Z",
     "start_time": "2020-11-30T19:39:02.806545Z"
    }
   },
   "outputs": [],
   "source": [
    "ratings_std_by_col_fill = ratings_std_by_column.fillna(0)"
   ]
  },
  {
   "cell_type": "markdown",
   "metadata": {},
   "source": [
    "#### Cossine similarity"
   ]
  },
  {
   "cell_type": "code",
   "execution_count": null,
   "metadata": {
    "ExecuteTime": {
     "end_time": "2020-11-30T19:39:02.832130Z",
     "start_time": "2020-11-30T19:39:02.826219Z"
    }
   },
   "outputs": [],
   "source": [
    "from sklearn.metrics.pairwise import cosine_similarity"
   ]
  },
  {
   "cell_type": "code",
   "execution_count": null,
   "metadata": {
    "ExecuteTime": {
     "end_time": "2020-11-30T19:39:02.860095Z",
     "start_time": "2020-11-30T19:39:02.838572Z"
    }
   },
   "outputs": [],
   "source": [
    "item_similarity = cosine_similarity(ratings_std_by_col_fill.T)\n",
    "item_similarity.shape"
   ]
  },
  {
   "cell_type": "code",
   "execution_count": null,
   "metadata": {
    "ExecuteTime": {
     "end_time": "2020-11-30T19:39:03.188979Z",
     "start_time": "2020-11-30T19:39:02.886353Z"
    }
   },
   "outputs": [],
   "source": [
    "item_similarity_df = pd.DataFrame(item_similarity, index=df.columns, columns=df.columns)\n",
    "item_similarity_df"
   ]
  },
  {
   "cell_type": "code",
   "execution_count": null,
   "metadata": {
    "ExecuteTime": {
     "end_time": "2020-11-30T19:39:03.236791Z",
     "start_time": "2020-11-30T19:39:03.198270Z"
    }
   },
   "outputs": [],
   "source": [
    "def get_similar_movies(movie_name,user_rating):\n",
    "    similar_score = item_similarity_df[movie_name]*(user_rating-2.5)\n",
    "    similar_score = similar_score.sort_values(ascending=False)\n",
    "    \n",
    "    \n",
    "    return similar_score\n",
    "\n",
    "print(get_similar_movies(\"Seven (a.k.a. Se7en) (1995)\",5))"
   ]
  },
  {
   "cell_type": "code",
   "execution_count": null,
   "metadata": {
    "ExecuteTime": {
     "end_time": "2020-11-30T19:39:03.389517Z",
     "start_time": "2020-11-30T19:39:03.247922Z"
    }
   },
   "outputs": [],
   "source": [
    "movies_ratings = [(\"Ace Ventura: Pet Detective (1994)\",5),(\"Gladiator (2000)\",1),(\"Jurassic Park (1993)\",1),(\"Lord of the Rings: The Return of the King, The (2003)\",5)]\n",
    "\n",
    "similar_movies = pd.DataFrame()\n",
    "\n",
    "for movie,rating in movies_ratings:\n",
    "    similar_movies = similar_movies.append(get_similar_movies(movie,rating),ignore_index=True)\n",
    "    \n",
    "similar_movies.head()\n",
    "# similar_movies.sum().sort_values(ascending=False)\n"
   ]
  },
  {
   "cell_type": "markdown",
   "metadata": {},
   "source": [
    "### User Based colaborative filter"
   ]
  },
  {
   "cell_type": "code",
   "execution_count": null,
   "metadata": {
    "ExecuteTime": {
     "end_time": "2020-11-30T19:39:07.177571Z",
     "start_time": "2020-11-30T19:39:03.396840Z"
    }
   },
   "outputs": [],
   "source": [
    "ratings_std_by_row = df.apply(standardize, axis=1)\n",
    "ratings_std_by_row"
   ]
  },
  {
   "cell_type": "code",
   "execution_count": null,
   "metadata": {
    "ExecuteTime": {
     "end_time": "2020-11-30T21:40:41.815850Z",
     "start_time": "2020-11-30T21:40:41.810105Z"
    }
   },
   "outputs": [],
   "source": [
    "def make_user_ratings(movie_titles, ratings, df, zeros=True, std=True):\n",
    "    number_of_movies = df.shape[1]\n",
    "    if std:\n",
    "        ratings_ = ratings - np.mean(ratings)\n",
    "    else:\n",
    "        ratings_ = ratings\n",
    "    if zeros:\n",
    "        new_user = pd.DataFrame([np.zeros(number_of_movies)], columns=df.columns)\n",
    "    else:\n",
    "        new_user = pd.DataFrame(np.nan, index=[0], columns=ratings_std_by_row_fill.columns)\n",
    "    for movie_title, rating in zip(movie_titles, ratings_):\n",
    "        new_user[movie_title] = rating\n",
    "    return new_user"
   ]
  },
  {
   "cell_type": "code",
   "execution_count": null,
   "metadata": {
    "ExecuteTime": {
     "end_time": "2020-12-01T13:16:44.129707Z",
     "start_time": "2020-12-01T13:16:44.089643Z"
    }
   },
   "outputs": [],
   "source": [
    "user_rated_movies = [\n",
    "        'Batman (1989)',\n",
    "        'Memento (2000)',\n",
    "        'Matrix, The (1999)',\n",
    "        'Titanic (1997)',\n",
    "        'Inception (2010)',\n",
    "        'American Beauty (1999)',\n",
    "        'Twelve Monkeys (a.k.a. 12 Monkeys) (1995)',\n",
    "        'Lord of the Rings: The Fellowship of the Ring, The (2001)',\n",
    "        'Monty Python and the Holy Grail (1975)'\n",
    "    ]\n",
    "\n",
    "user_ratings = [1,4,3,1,4,1,1,5,1]\n",
    "\n",
    "user_ratings_df = make_user_ratings(\n",
    "    user_rated_movies,\n",
    "    user_ratings,\n",
    "    ratings_std_by_row_fill\n",
    ")\n",
    "user_ratings_df"
   ]
  },
  {
   "cell_type": "markdown",
   "metadata": {},
   "source": [
    "#### Cossine similarity"
   ]
  },
  {
   "cell_type": "code",
   "execution_count": null,
   "metadata": {
    "ExecuteTime": {
     "end_time": "2020-12-01T13:16:45.531937Z",
     "start_time": "2020-12-01T13:16:45.461036Z"
    }
   },
   "outputs": [],
   "source": [
    "from sklearn.metrics.pairwise import cosine_similarity\n",
    "user_similarities = cosine_similarity(ratings_std_by_row_fill, user_ratings_df)\n",
    "user_similarities.shape"
   ]
  },
  {
   "cell_type": "code",
   "execution_count": null,
   "metadata": {
    "ExecuteTime": {
     "end_time": "2020-12-01T13:16:46.921045Z",
     "start_time": "2020-12-01T13:16:46.908715Z"
    },
    "scrolled": true
   },
   "outputs": [],
   "source": [
    "user_similarities_df = pd.DataFrame(user_similarities, index = ratings_std_by_row_fill.index, columns=['similarity'])\n",
    "user_similarities_df"
   ]
  },
  {
   "cell_type": "code",
   "execution_count": null,
   "metadata": {
    "ExecuteTime": {
     "end_time": "2020-12-01T13:16:48.178995Z",
     "start_time": "2020-12-01T13:16:48.167865Z"
    }
   },
   "outputs": [],
   "source": [
    "def get_similar_users(user_similarities_df, number_of_similar_users):\n",
    "    return user_similarities_df.sort_values(by='similarity', ascending=False).head(number_of_similar_users).index\n",
    "    \n",
    "similar_users = get_similar_users(user_similarities_df, 10)\n",
    "similar_users"
   ]
  },
  {
   "cell_type": "code",
   "execution_count": null,
   "metadata": {
    "ExecuteTime": {
     "end_time": "2020-12-01T13:20:47.730871Z",
     "start_time": "2020-12-01T13:20:47.488331Z"
    }
   },
   "outputs": [],
   "source": [
    "def get_movies_not_seen(users_movies_ratings, similar_users, user_rated_movies):\n",
    "#     return users_movies_ratings.loc[similar_users].drop(columns=user_rated_movies)\n",
    "        return users_movies_ratings.loc[similar_users]\n",
    "\n",
    "movies_not_seen = get_movies_not_seen(ratings_std_by_row, similar_users, user_rated_movies)\n",
    "movies_not_seen"
   ]
  },
  {
   "cell_type": "code",
   "execution_count": null,
   "metadata": {
    "ExecuteTime": {
     "end_time": "2020-12-01T13:20:53.080235Z",
     "start_time": "2020-12-01T13:20:53.064238Z"
    }
   },
   "outputs": [],
   "source": [
    "def get_recommended_movies(movies_not_seen_df):\n",
    "    return movies_not_seen_df.mean(axis=0, skipna=True).sort_values(ascending=False)\n",
    "\n",
    "get_recommended_movies(movies_not_seen)"
   ]
  },
  {
   "cell_type": "markdown",
   "metadata": {},
   "source": [
    "#### Person similarity"
   ]
  },
  {
   "cell_type": "code",
   "execution_count": null,
   "metadata": {
    "ExecuteTime": {
     "end_time": "2020-12-01T13:20:55.030764Z",
     "start_time": "2020-12-01T13:20:55.001896Z"
    }
   },
   "outputs": [],
   "source": [
    "pearson_user_ratings_df_std = make_user_ratings(\n",
    "    user_rated_movies,\n",
    "    user_ratings,\n",
    "    ratings_std_by_row,\n",
    "    zeros=False,\n",
    "    std=True\n",
    ")\n",
    "\n",
    "pearson_user_ratings_df = make_user_ratings(\n",
    "    user_rated_movies,\n",
    "    user_ratings,\n",
    "    ratings_std_by_row,\n",
    "    zeros=False,\n",
    "    std=False\n",
    ")\n",
    "pearson_user_ratings_df_std"
   ]
  },
  {
   "cell_type": "code",
   "execution_count": null,
   "metadata": {
    "ExecuteTime": {
     "end_time": "2020-12-01T19:25:47.497836Z",
     "start_time": "2020-12-01T19:25:44.681669Z"
    },
    "scrolled": true
   },
   "outputs": [],
   "source": [
    "user_pearson_similarities_std = ratings_std_by_row.corrwith(pearson_user_ratings_df_std.iloc[0], axis=1, drop=False, method='pearson')\n",
    "print(user_pearson_similarities_std)\n",
    "user_pearson_similarities = df.corrwith(pearson_user_ratings_df.iloc[0], axis=1, drop=False, method='pearson')\n",
    "print(user_pearson_similarities)"
   ]
  },
  {
   "cell_type": "code",
   "execution_count": null,
   "metadata": {
    "ExecuteTime": {
     "end_time": "2020-12-01T13:21:00.340197Z",
     "start_time": "2020-12-01T13:21:00.328529Z"
    },
    "scrolled": true
   },
   "outputs": [],
   "source": [
    "user_pearson_similarities_df = pd.DataFrame(user_pearson_similarities, index = df.index, columns=['similarity'])\n",
    "user_pearson_similarities_df"
   ]
  },
  {
   "cell_type": "code",
   "execution_count": null,
   "metadata": {
    "ExecuteTime": {
     "end_time": "2020-12-01T13:21:01.658305Z",
     "start_time": "2020-12-01T13:21:01.647332Z"
    },
    "scrolled": true
   },
   "outputs": [],
   "source": [
    "pearson_similar_users = get_similar_users(user_pearson_similarities_df, 10)\n",
    "pearson_similar_users"
   ]
  },
  {
   "cell_type": "code",
   "execution_count": null,
   "metadata": {
    "ExecuteTime": {
     "end_time": "2020-12-01T13:21:03.533803Z",
     "start_time": "2020-12-01T13:21:03.493750Z"
    },
    "scrolled": false
   },
   "outputs": [],
   "source": [
    "pearson_movies_not_seen = get_movies_not_seen(df, pearson_similar_users, user_rated_movies)\n",
    "pearson_movies_not_seen"
   ]
  },
  {
   "cell_type": "code",
   "execution_count": null,
   "metadata": {
    "ExecuteTime": {
     "end_time": "2020-12-01T20:05:39.850243Z",
     "start_time": "2020-12-01T20:05:39.833440Z"
    }
   },
   "outputs": [],
   "source": [
    "pd.DataFrame(get_recommended_movies(pearson_movies_not_seen), columns=['Rating'])"
   ]
  },
  {
   "cell_type": "markdown",
   "metadata": {},
   "source": [
    "### Using Surprise"
   ]
  },
  {
   "cell_type": "code",
   "execution_count": null,
   "metadata": {
    "ExecuteTime": {
     "end_time": "2020-12-01T17:31:28.553151Z",
     "start_time": "2020-12-01T17:31:28.546907Z"
    }
   },
   "outputs": [],
   "source": [
    "from surprise import Dataset, Reader, KNNWithMeans, SVD"
   ]
  },
  {
   "cell_type": "code",
   "execution_count": null,
   "metadata": {
    "ExecuteTime": {
     "end_time": "2020-12-01T17:15:26.765296Z",
     "start_time": "2020-12-01T17:15:26.745245Z"
    }
   },
   "outputs": [],
   "source": [
    "user_rated_movies = [\n",
    "        'Batman (1989)',\n",
    "        'Memento (2000)',\n",
    "        'Matrix, The (1999)',\n",
    "        'Titanic (1997)',\n",
    "        'Inception (2010)',\n",
    "        'American Beauty (1999)',\n",
    "        'Twelve Monkeys (a.k.a. 12 Monkeys) (1995)',\n",
    "        'Lord of the Rings: The Fellowship of the Ring, The (2001)',\n",
    "        'Monty Python and the Holy Grail (1975)'\n",
    "    ]\n",
    "\n",
    "user_ratings = [1,4,3,1,4,1,1,5,1]\n",
    "user_id = [0,0,0,0,0,0,0,0,0]\n",
    "ratings_dict = {\n",
    "    'title': user_rated_movies,\n",
    "    'rating': user_ratings,\n",
    "    'userId': user_id\n",
    "}\n",
    "\n",
    "user_surprise_ratings = pd.DataFrame(ratings_dict)\n",
    "user_surprise_ratings"
   ]
  },
  {
   "cell_type": "code",
   "execution_count": null,
   "metadata": {
    "ExecuteTime": {
     "end_time": "2020-12-01T17:15:31.931756Z",
     "start_time": "2020-12-01T17:15:31.894790Z"
    }
   },
   "outputs": [],
   "source": [
    "ratings_surprise_df = pd.concat([ratings_top_users_top, user_surprise_ratings])\n",
    "ratings_surprise_df"
   ]
  },
  {
   "cell_type": "code",
   "execution_count": null,
   "metadata": {
    "ExecuteTime": {
     "end_time": "2020-12-01T17:15:37.406219Z",
     "start_time": "2020-12-01T17:15:37.279619Z"
    }
   },
   "outputs": [],
   "source": [
    "reader = Reader(rating_scale=(0.5, 5))\n",
    "data = Dataset.load_from_df(ratings_surprise_df[[\"userId\", \"title\", \"rating\"]], reader)"
   ]
  },
  {
   "cell_type": "code",
   "execution_count": null,
   "metadata": {
    "ExecuteTime": {
     "end_time": "2020-12-01T17:34:25.572193Z",
     "start_time": "2020-12-01T17:34:25.561507Z"
    }
   },
   "outputs": [],
   "source": [
    "sim_options = {\n",
    "    \"name\": \"pearson\",\n",
    "    \"user_based\": False,\n",
    "}\n",
    "algo = KNNWithMeans(sim_options=sim_options)"
   ]
  },
  {
   "cell_type": "code",
   "execution_count": null,
   "metadata": {
    "ExecuteTime": {
     "end_time": "2020-12-01T17:34:31.142751Z",
     "start_time": "2020-12-01T17:34:30.835611Z"
    }
   },
   "outputs": [],
   "source": [
    "trainingSet = data.build_full_trainset()\n",
    "\n",
    "algo.fit(trainingSet)"
   ]
  },
  {
   "cell_type": "code",
   "execution_count": null,
   "metadata": {
    "ExecuteTime": {
     "end_time": "2020-12-01T17:34:37.012995Z",
     "start_time": "2020-12-01T17:34:37.006986Z"
    }
   },
   "outputs": [],
   "source": [
    "def get_predicted_ratings_from_surprise(model, movies):\n",
    "    return [(title, model.predict(0, title).est) for title in movies]"
   ]
  },
  {
   "cell_type": "code",
   "execution_count": null,
   "metadata": {
    "ExecuteTime": {
     "end_time": "2020-12-01T17:44:17.228547Z",
     "start_time": "2020-12-01T17:44:17.218744Z"
    }
   },
   "outputs": [],
   "source": [
    "def get_recommended_movies_surprise(movie_list):\n",
    "    movie_list.sort(key=lambda e: -e[1])\n",
    "    return movie_list"
   ]
  },
  {
   "cell_type": "code",
   "execution_count": null,
   "metadata": {
    "ExecuteTime": {
     "end_time": "2020-12-01T17:47:27.669472Z",
     "start_time": "2020-12-01T17:47:27.652199Z"
    }
   },
   "outputs": [],
   "source": [
    "prediction = get_predicted_ratings_from_surprise(algo, ratings_surprise_df.title.unique())\n",
    "get_recommended_movies_surprise(prediction)[:15]"
   ]
  },
  {
   "cell_type": "code",
   "execution_count": null,
   "metadata": {
    "ExecuteTime": {
     "end_time": "2020-12-01T17:34:48.626719Z",
     "start_time": "2020-12-01T17:34:48.620027Z"
    }
   },
   "outputs": [],
   "source": [
    "svd = SVD()"
   ]
  },
  {
   "cell_type": "code",
   "execution_count": null,
   "metadata": {
    "ExecuteTime": {
     "end_time": "2020-12-01T17:34:58.325548Z",
     "start_time": "2020-12-01T17:34:52.952187Z"
    }
   },
   "outputs": [],
   "source": [
    "trainingSet_SVD = data.build_full_trainset()\n",
    "\n",
    "svd.fit(trainingSet_SVD)"
   ]
  },
  {
   "cell_type": "code",
   "execution_count": null,
   "metadata": {
    "ExecuteTime": {
     "end_time": "2020-12-01T17:47:08.870710Z",
     "start_time": "2020-12-01T17:47:08.854912Z"
    }
   },
   "outputs": [],
   "source": [
    "prediction_SVD = get_predicted_ratings_from_surprise(svd,ratings_surprise_df.title.unique())\n",
    "get_recommended_movies_surprise(prediction_SVD)[:15]"
   ]
  },
  {
   "cell_type": "code",
   "execution_count": null,
   "metadata": {},
   "outputs": [],
   "source": []
  },
  {
   "cell_type": "code",
   "execution_count": null,
   "metadata": {},
   "outputs": [],
   "source": []
  },
  {
   "cell_type": "code",
   "execution_count": null,
   "metadata": {},
   "outputs": [],
   "source": []
  },
  {
   "cell_type": "code",
   "execution_count": null,
   "metadata": {
    "ExecuteTime": {
     "end_time": "2020-11-30T17:31:46.379897Z",
     "start_time": "2020-11-30T17:31:01.400Z"
    }
   },
   "outputs": [],
   "source": [
    "user_that_want_recommendation = 101"
   ]
  },
  {
   "cell_type": "code",
   "execution_count": null,
   "metadata": {
    "ExecuteTime": {
     "end_time": "2020-11-30T17:31:46.386710Z",
     "start_time": "2020-11-30T17:31:01.403Z"
    }
   },
   "outputs": [],
   "source": [
    "def get_similar_users(user_similarity_df, user_id, number_of_similar_users):\n",
    "    return user_similarity_df[user_id].copy().sort_values(ascending=False).head(number_of_similar_users)\n",
    "\n",
    "get_similar_users(user_similarity_df, user_that_want_recommendation, 10)"
   ]
  },
  {
   "cell_type": "code",
   "execution_count": null,
   "metadata": {
    "ExecuteTime": {
     "end_time": "2020-11-27T18:55:25.866807Z",
     "start_time": "2020-11-27T18:55:25.851985Z"
    }
   },
   "outputs": [],
   "source": [
    "def get_movies_to_predict_rate():\n",
    "    pass\n",
    "\n",
    "def get_movies_already_watched_by_user(users_movies_df, user_id):\n",
    "    return users_movies_df.loc[user_id,:].dropna().copy()\n",
    "    \n",
    "\n",
    "get_movies_already_watched_by_user(df, user_that_want_recommendation)"
   ]
  },
  {
   "cell_type": "markdown",
   "metadata": {},
   "source": [
    "### Using KMeans to search for similaries clusters"
   ]
  },
  {
   "cell_type": "code",
   "execution_count": null,
   "metadata": {
    "ExecuteTime": {
     "end_time": "2020-11-27T17:21:00.981350Z",
     "start_time": "2020-11-27T17:21:00.452112Z"
    }
   },
   "outputs": [],
   "source": [
    "average_score_per_user = np.sort(ratings_std_filled.mean(axis=1),axis=0)\n",
    "x_axis = list(range(1,ratings_std_filled.shape[0]+1))\n",
    "sns.lineplot(x=x_axis, y=average_score_per_user)"
   ]
  },
  {
   "cell_type": "code",
   "execution_count": null,
   "metadata": {
    "ExecuteTime": {
     "end_time": "2020-11-27T17:24:01.967366Z",
     "start_time": "2020-11-27T17:24:01.273079Z"
    }
   },
   "outputs": [],
   "source": [
    "from sklearn.cluster import MiniBatchKMeans, KMeans\n",
    "\n",
    "mbkm = KMeans(n_clusters=10)\n",
    "mbkm.fit(ratings_std_filled)"
   ]
  },
  {
   "cell_type": "code",
   "execution_count": null,
   "metadata": {
    "ExecuteTime": {
     "end_time": "2020-11-27T17:24:03.537301Z",
     "start_time": "2020-11-27T17:24:03.527931Z"
    }
   },
   "outputs": [],
   "source": [
    "clusters = pd.Series(mbkm.labels_).value_counts()\n",
    "clusters"
   ]
  },
  {
   "cell_type": "code",
   "execution_count": null,
   "metadata": {
    "ExecuteTime": {
     "end_time": "2020-11-27T17:24:05.892886Z",
     "start_time": "2020-11-27T17:24:05.649104Z"
    }
   },
   "outputs": [],
   "source": [
    "x_axis = list(range(1,len(clusters)+1))\n",
    "sns.lineplot(x=x_axis, y=clusters)"
   ]
  },
  {
   "cell_type": "code",
   "execution_count": null,
   "metadata": {
    "ExecuteTime": {
     "end_time": "2020-11-27T17:26:45.889967Z",
     "start_time": "2020-11-27T17:26:45.884029Z"
    }
   },
   "outputs": [],
   "source": [
    "def make_user_ratings(movie_ids, ratings, df):\n",
    "    number_of_movies = df.shape[1]\n",
    "    new_user = pd.DataFrame([np.zeros(number_of_movies)], columns=df.columns).replace(0,3)\n",
    "    for movie_id, rating in zip(movie_ids,ratings):\n",
    "        new_user[movie_id] = rating\n",
    "    new_user_std = new_user.apply(standardize, axis=1)\n",
    "    return new_user_std"
   ]
  },
  {
   "cell_type": "code",
   "execution_count": null,
   "metadata": {
    "ExecuteTime": {
     "end_time": "2020-11-27T17:28:22.376198Z",
     "start_time": "2020-11-27T17:28:22.328452Z"
    }
   },
   "outputs": [],
   "source": [
    "import random\n",
    "\n",
    "movie_names = list(df.columns)\n",
    "new_user_ratings_2 = make_user_ratings(\n",
    "    random.sample(movie_names, 20),\n",
    "    [5 for i in range(20)],\n",
    "    df\n",
    ")\n",
    "\n",
    "new_user_ratings_2"
   ]
  },
  {
   "cell_type": "code",
   "execution_count": null,
   "metadata": {
    "ExecuteTime": {
     "end_time": "2020-11-27T17:28:24.764616Z",
     "start_time": "2020-11-27T17:28:24.751478Z"
    }
   },
   "outputs": [],
   "source": [
    "mbkm.predict(new_user_ratings_2)"
   ]
  }
 ],
 "metadata": {
  "kernelspec": {
   "display_name": "Python 3",
   "language": "python",
   "name": "python3"
  },
  "language_info": {
   "codemirror_mode": {
    "name": "ipython",
    "version": 3
   },
   "file_extension": ".py",
   "mimetype": "text/x-python",
   "name": "python",
   "nbconvert_exporter": "python",
   "pygments_lexer": "ipython3",
   "version": "3.7.7"
  },
  "toc": {
   "base_numbering": 1,
   "nav_menu": {},
   "number_sections": true,
   "sideBar": true,
   "skip_h1_title": false,
   "title_cell": "Table of Contents",
   "title_sidebar": "Contents",
   "toc_cell": false,
   "toc_position": {},
   "toc_section_display": true,
   "toc_window_display": true
  },
  "varInspector": {
   "cols": {
    "lenName": 16,
    "lenType": 16,
    "lenVar": 40
   },
   "kernels_config": {
    "python": {
     "delete_cmd_postfix": "",
     "delete_cmd_prefix": "del ",
     "library": "var_list.py",
     "varRefreshCmd": "print(var_dic_list())"
    },
    "r": {
     "delete_cmd_postfix": ") ",
     "delete_cmd_prefix": "rm(",
     "library": "var_list.r",
     "varRefreshCmd": "cat(var_dic_list()) "
    }
   },
   "types_to_exclude": [
    "module",
    "function",
    "builtin_function_or_method",
    "instance",
    "_Feature"
   ],
   "window_display": false
  }
 },
 "nbformat": 4,
 "nbformat_minor": 4
}
