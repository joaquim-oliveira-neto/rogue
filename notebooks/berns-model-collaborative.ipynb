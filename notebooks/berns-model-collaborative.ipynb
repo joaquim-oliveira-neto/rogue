{
 "cells": [
  {
   "cell_type": "markdown",
   "metadata": {},
   "source": [
    "# Exploratory data analysis"
   ]
  },
  {
   "cell_type": "code",
   "execution_count": 1,
   "metadata": {
    "ExecuteTime": {
     "end_time": "2020-11-25T14:16:17.594073Z",
     "start_time": "2020-11-25T14:16:16.946530Z"
    }
   },
   "outputs": [],
   "source": [
    "import pandas as pd\n",
    "import numpy as np"
   ]
  },
  {
   "cell_type": "markdown",
   "metadata": {},
   "source": [
    "## Import Movie Lens Data Base"
   ]
  },
  {
   "cell_type": "code",
   "execution_count": 2,
   "metadata": {
    "ExecuteTime": {
     "end_time": "2020-11-25T14:16:32.919494Z",
     "start_time": "2020-11-25T14:16:17.629820Z"
    }
   },
   "outputs": [],
   "source": [
    "#importar databasese Movie Lens e checar tamanhos\n",
    "data_path = '../raw_data/ml-25m/'\n",
    "g_scores = pd.read_csv(data_path + 'genome-scores.csv')#, nrows = 1000000)\n",
    "g_tags = pd.read_csv(data_path +'genome-tags.csv')#, nrows = 1000000)\n",
    "links = pd.read_csv(data_path + 'links.csv')\n",
    "movies = pd.read_csv(data_path + 'movies.csv')\n",
    "ratings = pd.read_csv(data_path + 'ratings.csv') #nrows = 1000000)\n",
    "tags = pd.read_csv(data_path + 'tags.csv')"
   ]
  },
  {
   "cell_type": "code",
   "execution_count": 3,
   "metadata": {
    "ExecuteTime": {
     "end_time": "2020-11-25T14:16:32.928282Z",
     "start_time": "2020-11-25T14:16:32.922610Z"
    }
   },
   "outputs": [
    {
     "name": "stdout",
     "output_type": "stream",
     "text": [
      "Formato da base g_scores: (15584448, 3)\n",
      "Formato da base g_tags: (1128, 2)\n",
      "Formato da base links: (62423, 3)\n",
      "Formato da base movies: (62423, 3)\n",
      "Formato da base ratings: (25000095, 4)\n",
      "Formato da base tags: (1093360, 4)\n"
     ]
    }
   ],
   "source": [
    "print(f'Formato da base g_scores:',(g_scores.shape))\n",
    "print(f'Formato da base g_tags:',(g_tags.shape))\n",
    "print(f'Formato da base links:',(links.shape))\n",
    "print(f'Formato da base movies:',(movies.shape))\n",
    "print(f'Formato da base ratings:',(ratings.shape))\n",
    "print(f'Formato da base tags:',(tags.shape))"
   ]
  },
  {
   "cell_type": "markdown",
   "metadata": {},
   "source": [
    "## Análise exploratória Movie Lens Data Base"
   ]
  },
  {
   "cell_type": "markdown",
   "metadata": {
    "heading_collapsed": true
   },
   "source": [
    "### Genome-scores:\n"
   ]
  },
  {
   "cell_type": "code",
   "execution_count": 4,
   "metadata": {
    "ExecuteTime": {
     "end_time": "2020-11-25T14:16:32.982552Z",
     "start_time": "2020-11-25T14:16:32.934325Z"
    },
    "hidden": true
   },
   "outputs": [
    {
     "data": {
      "text/html": [
       "<div>\n",
       "<style scoped>\n",
       "    .dataframe tbody tr th:only-of-type {\n",
       "        vertical-align: middle;\n",
       "    }\n",
       "\n",
       "    .dataframe tbody tr th {\n",
       "        vertical-align: top;\n",
       "    }\n",
       "\n",
       "    .dataframe thead th {\n",
       "        text-align: right;\n",
       "    }\n",
       "</style>\n",
       "<table border=\"1\" class=\"dataframe\">\n",
       "  <thead>\n",
       "    <tr style=\"text-align: right;\">\n",
       "      <th></th>\n",
       "      <th>movieId</th>\n",
       "      <th>tagId</th>\n",
       "      <th>relevance</th>\n",
       "    </tr>\n",
       "  </thead>\n",
       "  <tbody>\n",
       "    <tr>\n",
       "      <th>0</th>\n",
       "      <td>1</td>\n",
       "      <td>1</td>\n",
       "      <td>0.02875</td>\n",
       "    </tr>\n",
       "    <tr>\n",
       "      <th>1</th>\n",
       "      <td>1</td>\n",
       "      <td>2</td>\n",
       "      <td>0.02375</td>\n",
       "    </tr>\n",
       "    <tr>\n",
       "      <th>2</th>\n",
       "      <td>1</td>\n",
       "      <td>3</td>\n",
       "      <td>0.06250</td>\n",
       "    </tr>\n",
       "    <tr>\n",
       "      <th>3</th>\n",
       "      <td>1</td>\n",
       "      <td>4</td>\n",
       "      <td>0.07575</td>\n",
       "    </tr>\n",
       "  </tbody>\n",
       "</table>\n",
       "</div>"
      ],
      "text/plain": [
       "   movieId  tagId  relevance\n",
       "0        1      1    0.02875\n",
       "1        1      2    0.02375\n",
       "2        1      3    0.06250\n",
       "3        1      4    0.07575"
      ]
     },
     "execution_count": 4,
     "metadata": {},
     "output_type": "execute_result"
    }
   ],
   "source": [
    "g_scores.head(4)"
   ]
  },
  {
   "cell_type": "code",
   "execution_count": 5,
   "metadata": {
    "ExecuteTime": {
     "end_time": "2020-11-25T14:16:33.348745Z",
     "start_time": "2020-11-25T14:16:32.992798Z"
    },
    "hidden": true
   },
   "outputs": [
    {
     "name": "stdout",
     "output_type": "stream",
     "text": [
      "movieId      0\n",
      "tagId        0\n",
      "relevance    0\n",
      "dtype: int64\n",
      "<class 'pandas.core.frame.DataFrame'>\n",
      "RangeIndex: 15584448 entries, 0 to 15584447\n",
      "Data columns (total 3 columns):\n",
      " #   Column     Dtype  \n",
      "---  ------     -----  \n",
      " 0   movieId    int64  \n",
      " 1   tagId      int64  \n",
      " 2   relevance  float64\n",
      "dtypes: float64(1), int64(2)\n",
      "memory usage: 356.7 MB\n"
     ]
    }
   ],
   "source": [
    "print(g_scores.isnull().sum())\n",
    "g_scores.info()"
   ]
  },
  {
   "cell_type": "markdown",
   "metadata": {
    "heading_collapsed": true
   },
   "source": [
    "### Genome-tags:"
   ]
  },
  {
   "cell_type": "code",
   "execution_count": 6,
   "metadata": {
    "ExecuteTime": {
     "end_time": "2020-11-25T14:16:33.366787Z",
     "start_time": "2020-11-25T14:16:33.352615Z"
    },
    "hidden": true
   },
   "outputs": [
    {
     "data": {
      "text/html": [
       "<div>\n",
       "<style scoped>\n",
       "    .dataframe tbody tr th:only-of-type {\n",
       "        vertical-align: middle;\n",
       "    }\n",
       "\n",
       "    .dataframe tbody tr th {\n",
       "        vertical-align: top;\n",
       "    }\n",
       "\n",
       "    .dataframe thead th {\n",
       "        text-align: right;\n",
       "    }\n",
       "</style>\n",
       "<table border=\"1\" class=\"dataframe\">\n",
       "  <thead>\n",
       "    <tr style=\"text-align: right;\">\n",
       "      <th></th>\n",
       "      <th>tagId</th>\n",
       "      <th>tag</th>\n",
       "    </tr>\n",
       "  </thead>\n",
       "  <tbody>\n",
       "    <tr>\n",
       "      <th>0</th>\n",
       "      <td>1</td>\n",
       "      <td>007</td>\n",
       "    </tr>\n",
       "    <tr>\n",
       "      <th>1</th>\n",
       "      <td>2</td>\n",
       "      <td>007 (series)</td>\n",
       "    </tr>\n",
       "    <tr>\n",
       "      <th>2</th>\n",
       "      <td>3</td>\n",
       "      <td>18th century</td>\n",
       "    </tr>\n",
       "    <tr>\n",
       "      <th>3</th>\n",
       "      <td>4</td>\n",
       "      <td>1920s</td>\n",
       "    </tr>\n",
       "  </tbody>\n",
       "</table>\n",
       "</div>"
      ],
      "text/plain": [
       "   tagId           tag\n",
       "0      1           007\n",
       "1      2  007 (series)\n",
       "2      3  18th century\n",
       "3      4         1920s"
      ]
     },
     "execution_count": 6,
     "metadata": {},
     "output_type": "execute_result"
    }
   ],
   "source": [
    "g_tags.head(4)"
   ]
  },
  {
   "cell_type": "code",
   "execution_count": 7,
   "metadata": {
    "ExecuteTime": {
     "end_time": "2020-11-25T14:16:33.413324Z",
     "start_time": "2020-11-25T14:16:33.370238Z"
    },
    "hidden": true
   },
   "outputs": [
    {
     "name": "stdout",
     "output_type": "stream",
     "text": [
      "tagId    0\n",
      "tag      0\n",
      "dtype: int64\n",
      "<class 'pandas.core.frame.DataFrame'>\n",
      "RangeIndex: 1128 entries, 0 to 1127\n",
      "Data columns (total 2 columns):\n",
      " #   Column  Non-Null Count  Dtype \n",
      "---  ------  --------------  ----- \n",
      " 0   tagId   1128 non-null   int64 \n",
      " 1   tag     1128 non-null   object\n",
      "dtypes: int64(1), object(1)\n",
      "memory usage: 17.8+ KB\n"
     ]
    }
   ],
   "source": [
    "print(g_tags.isnull().sum())\n",
    "g_tags.info()"
   ]
  },
  {
   "cell_type": "markdown",
   "metadata": {
    "heading_collapsed": true
   },
   "source": [
    "### Links:"
   ]
  },
  {
   "cell_type": "code",
   "execution_count": 8,
   "metadata": {
    "ExecuteTime": {
     "end_time": "2020-11-25T14:16:33.437129Z",
     "start_time": "2020-11-25T14:16:33.422509Z"
    },
    "hidden": true
   },
   "outputs": [
    {
     "data": {
      "text/html": [
       "<div>\n",
       "<style scoped>\n",
       "    .dataframe tbody tr th:only-of-type {\n",
       "        vertical-align: middle;\n",
       "    }\n",
       "\n",
       "    .dataframe tbody tr th {\n",
       "        vertical-align: top;\n",
       "    }\n",
       "\n",
       "    .dataframe thead th {\n",
       "        text-align: right;\n",
       "    }\n",
       "</style>\n",
       "<table border=\"1\" class=\"dataframe\">\n",
       "  <thead>\n",
       "    <tr style=\"text-align: right;\">\n",
       "      <th></th>\n",
       "      <th>movieId</th>\n",
       "      <th>imdbId</th>\n",
       "      <th>tmdbId</th>\n",
       "    </tr>\n",
       "  </thead>\n",
       "  <tbody>\n",
       "    <tr>\n",
       "      <th>0</th>\n",
       "      <td>1</td>\n",
       "      <td>114709</td>\n",
       "      <td>862.0</td>\n",
       "    </tr>\n",
       "    <tr>\n",
       "      <th>1</th>\n",
       "      <td>2</td>\n",
       "      <td>113497</td>\n",
       "      <td>8844.0</td>\n",
       "    </tr>\n",
       "    <tr>\n",
       "      <th>2</th>\n",
       "      <td>3</td>\n",
       "      <td>113228</td>\n",
       "      <td>15602.0</td>\n",
       "    </tr>\n",
       "    <tr>\n",
       "      <th>3</th>\n",
       "      <td>4</td>\n",
       "      <td>114885</td>\n",
       "      <td>31357.0</td>\n",
       "    </tr>\n",
       "  </tbody>\n",
       "</table>\n",
       "</div>"
      ],
      "text/plain": [
       "   movieId  imdbId   tmdbId\n",
       "0        1  114709    862.0\n",
       "1        2  113497   8844.0\n",
       "2        3  113228  15602.0\n",
       "3        4  114885  31357.0"
      ]
     },
     "execution_count": 8,
     "metadata": {},
     "output_type": "execute_result"
    }
   ],
   "source": [
    "links.head(4)"
   ]
  },
  {
   "cell_type": "code",
   "execution_count": 9,
   "metadata": {
    "ExecuteTime": {
     "end_time": "2020-11-25T14:16:33.473327Z",
     "start_time": "2020-11-25T14:16:33.451358Z"
    },
    "hidden": true
   },
   "outputs": [
    {
     "name": "stdout",
     "output_type": "stream",
     "text": [
      "movieId      0\n",
      "imdbId       0\n",
      "tmdbId     107\n",
      "dtype: int64\n",
      "<class 'pandas.core.frame.DataFrame'>\n",
      "RangeIndex: 62423 entries, 0 to 62422\n",
      "Data columns (total 3 columns):\n",
      " #   Column   Non-Null Count  Dtype  \n",
      "---  ------   --------------  -----  \n",
      " 0   movieId  62423 non-null  int64  \n",
      " 1   imdbId   62423 non-null  int64  \n",
      " 2   tmdbId   62316 non-null  float64\n",
      "dtypes: float64(1), int64(2)\n",
      "memory usage: 1.4 MB\n"
     ]
    }
   ],
   "source": [
    "print(links.isnull().sum())\n",
    "links.info()"
   ]
  },
  {
   "cell_type": "markdown",
   "metadata": {},
   "source": [
    "### Movies:"
   ]
  },
  {
   "cell_type": "code",
   "execution_count": 10,
   "metadata": {
    "ExecuteTime": {
     "end_time": "2020-11-25T14:16:33.501147Z",
     "start_time": "2020-11-25T14:16:33.479238Z"
    }
   },
   "outputs": [
    {
     "data": {
      "text/html": [
       "<div>\n",
       "<style scoped>\n",
       "    .dataframe tbody tr th:only-of-type {\n",
       "        vertical-align: middle;\n",
       "    }\n",
       "\n",
       "    .dataframe tbody tr th {\n",
       "        vertical-align: top;\n",
       "    }\n",
       "\n",
       "    .dataframe thead th {\n",
       "        text-align: right;\n",
       "    }\n",
       "</style>\n",
       "<table border=\"1\" class=\"dataframe\">\n",
       "  <thead>\n",
       "    <tr style=\"text-align: right;\">\n",
       "      <th></th>\n",
       "      <th>movieId</th>\n",
       "      <th>title</th>\n",
       "      <th>genres</th>\n",
       "    </tr>\n",
       "  </thead>\n",
       "  <tbody>\n",
       "    <tr>\n",
       "      <th>0</th>\n",
       "      <td>1</td>\n",
       "      <td>Toy Story (1995)</td>\n",
       "      <td>Adventure|Animation|Children|Comedy|Fantasy</td>\n",
       "    </tr>\n",
       "    <tr>\n",
       "      <th>1</th>\n",
       "      <td>2</td>\n",
       "      <td>Jumanji (1995)</td>\n",
       "      <td>Adventure|Children|Fantasy</td>\n",
       "    </tr>\n",
       "    <tr>\n",
       "      <th>2</th>\n",
       "      <td>3</td>\n",
       "      <td>Grumpier Old Men (1995)</td>\n",
       "      <td>Comedy|Romance</td>\n",
       "    </tr>\n",
       "    <tr>\n",
       "      <th>3</th>\n",
       "      <td>4</td>\n",
       "      <td>Waiting to Exhale (1995)</td>\n",
       "      <td>Comedy|Drama|Romance</td>\n",
       "    </tr>\n",
       "  </tbody>\n",
       "</table>\n",
       "</div>"
      ],
      "text/plain": [
       "   movieId                     title  \\\n",
       "0        1          Toy Story (1995)   \n",
       "1        2            Jumanji (1995)   \n",
       "2        3   Grumpier Old Men (1995)   \n",
       "3        4  Waiting to Exhale (1995)   \n",
       "\n",
       "                                        genres  \n",
       "0  Adventure|Animation|Children|Comedy|Fantasy  \n",
       "1                   Adventure|Children|Fantasy  \n",
       "2                               Comedy|Romance  \n",
       "3                         Comedy|Drama|Romance  "
      ]
     },
     "execution_count": 10,
     "metadata": {},
     "output_type": "execute_result"
    }
   ],
   "source": [
    "movies.head(4)"
   ]
  },
  {
   "cell_type": "code",
   "execution_count": 11,
   "metadata": {
    "ExecuteTime": {
     "end_time": "2020-11-25T14:16:33.546575Z",
     "start_time": "2020-11-25T14:16:33.505173Z"
    }
   },
   "outputs": [
    {
     "name": "stdout",
     "output_type": "stream",
     "text": [
      "movieId    0\n",
      "title      0\n",
      "genres     0\n",
      "dtype: int64\n",
      "<class 'pandas.core.frame.DataFrame'>\n",
      "RangeIndex: 62423 entries, 0 to 62422\n",
      "Data columns (total 3 columns):\n",
      " #   Column   Non-Null Count  Dtype \n",
      "---  ------   --------------  ----- \n",
      " 0   movieId  62423 non-null  int64 \n",
      " 1   title    62423 non-null  object\n",
      " 2   genres   62423 non-null  object\n",
      "dtypes: int64(1), object(2)\n",
      "memory usage: 1.4+ MB\n"
     ]
    }
   ],
   "source": [
    "print(movies.isnull().sum())\n",
    "movies.info()"
   ]
  },
  {
   "cell_type": "markdown",
   "metadata": {},
   "source": [
    "### Ratings:"
   ]
  },
  {
   "cell_type": "code",
   "execution_count": 12,
   "metadata": {
    "ExecuteTime": {
     "end_time": "2020-11-25T14:16:33.572028Z",
     "start_time": "2020-11-25T14:16:33.553076Z"
    }
   },
   "outputs": [
    {
     "data": {
      "text/html": [
       "<div>\n",
       "<style scoped>\n",
       "    .dataframe tbody tr th:only-of-type {\n",
       "        vertical-align: middle;\n",
       "    }\n",
       "\n",
       "    .dataframe tbody tr th {\n",
       "        vertical-align: top;\n",
       "    }\n",
       "\n",
       "    .dataframe thead th {\n",
       "        text-align: right;\n",
       "    }\n",
       "</style>\n",
       "<table border=\"1\" class=\"dataframe\">\n",
       "  <thead>\n",
       "    <tr style=\"text-align: right;\">\n",
       "      <th></th>\n",
       "      <th>userId</th>\n",
       "      <th>movieId</th>\n",
       "      <th>rating</th>\n",
       "      <th>timestamp</th>\n",
       "    </tr>\n",
       "  </thead>\n",
       "  <tbody>\n",
       "    <tr>\n",
       "      <th>0</th>\n",
       "      <td>1</td>\n",
       "      <td>296</td>\n",
       "      <td>5.0</td>\n",
       "      <td>1147880044</td>\n",
       "    </tr>\n",
       "    <tr>\n",
       "      <th>1</th>\n",
       "      <td>1</td>\n",
       "      <td>306</td>\n",
       "      <td>3.5</td>\n",
       "      <td>1147868817</td>\n",
       "    </tr>\n",
       "    <tr>\n",
       "      <th>2</th>\n",
       "      <td>1</td>\n",
       "      <td>307</td>\n",
       "      <td>5.0</td>\n",
       "      <td>1147868828</td>\n",
       "    </tr>\n",
       "    <tr>\n",
       "      <th>3</th>\n",
       "      <td>1</td>\n",
       "      <td>665</td>\n",
       "      <td>5.0</td>\n",
       "      <td>1147878820</td>\n",
       "    </tr>\n",
       "  </tbody>\n",
       "</table>\n",
       "</div>"
      ],
      "text/plain": [
       "   userId  movieId  rating   timestamp\n",
       "0       1      296     5.0  1147880044\n",
       "1       1      306     3.5  1147868817\n",
       "2       1      307     5.0  1147868828\n",
       "3       1      665     5.0  1147878820"
      ]
     },
     "execution_count": 12,
     "metadata": {},
     "output_type": "execute_result"
    }
   ],
   "source": [
    "ratings.head(4)"
   ]
  },
  {
   "cell_type": "code",
   "execution_count": 13,
   "metadata": {
    "ExecuteTime": {
     "end_time": "2020-11-25T14:16:33.999525Z",
     "start_time": "2020-11-25T14:16:33.577785Z"
    }
   },
   "outputs": [
    {
     "name": "stdout",
     "output_type": "stream",
     "text": [
      "userId       0\n",
      "movieId      0\n",
      "rating       0\n",
      "timestamp    0\n",
      "dtype: int64\n",
      "<class 'pandas.core.frame.DataFrame'>\n",
      "RangeIndex: 25000095 entries, 0 to 25000094\n",
      "Data columns (total 4 columns):\n",
      " #   Column     Dtype  \n",
      "---  ------     -----  \n",
      " 0   userId     int64  \n",
      " 1   movieId    int64  \n",
      " 2   rating     float64\n",
      " 3   timestamp  int64  \n",
      "dtypes: float64(1), int64(3)\n",
      "memory usage: 762.9 MB\n"
     ]
    }
   ],
   "source": [
    "print(ratings.isnull().sum())\n",
    "ratings.info()"
   ]
  },
  {
   "cell_type": "markdown",
   "metadata": {
    "heading_collapsed": true
   },
   "source": [
    "### Tags:\n"
   ]
  },
  {
   "cell_type": "code",
   "execution_count": 14,
   "metadata": {
    "ExecuteTime": {
     "end_time": "2020-11-25T14:16:34.020277Z",
     "start_time": "2020-11-25T14:16:34.004232Z"
    },
    "hidden": true
   },
   "outputs": [
    {
     "data": {
      "text/html": [
       "<div>\n",
       "<style scoped>\n",
       "    .dataframe tbody tr th:only-of-type {\n",
       "        vertical-align: middle;\n",
       "    }\n",
       "\n",
       "    .dataframe tbody tr th {\n",
       "        vertical-align: top;\n",
       "    }\n",
       "\n",
       "    .dataframe thead th {\n",
       "        text-align: right;\n",
       "    }\n",
       "</style>\n",
       "<table border=\"1\" class=\"dataframe\">\n",
       "  <thead>\n",
       "    <tr style=\"text-align: right;\">\n",
       "      <th></th>\n",
       "      <th>userId</th>\n",
       "      <th>movieId</th>\n",
       "      <th>tag</th>\n",
       "      <th>timestamp</th>\n",
       "    </tr>\n",
       "  </thead>\n",
       "  <tbody>\n",
       "    <tr>\n",
       "      <th>0</th>\n",
       "      <td>3</td>\n",
       "      <td>260</td>\n",
       "      <td>classic</td>\n",
       "      <td>1439472355</td>\n",
       "    </tr>\n",
       "    <tr>\n",
       "      <th>1</th>\n",
       "      <td>3</td>\n",
       "      <td>260</td>\n",
       "      <td>sci-fi</td>\n",
       "      <td>1439472256</td>\n",
       "    </tr>\n",
       "    <tr>\n",
       "      <th>2</th>\n",
       "      <td>4</td>\n",
       "      <td>1732</td>\n",
       "      <td>dark comedy</td>\n",
       "      <td>1573943598</td>\n",
       "    </tr>\n",
       "    <tr>\n",
       "      <th>3</th>\n",
       "      <td>4</td>\n",
       "      <td>1732</td>\n",
       "      <td>great dialogue</td>\n",
       "      <td>1573943604</td>\n",
       "    </tr>\n",
       "    <tr>\n",
       "      <th>4</th>\n",
       "      <td>4</td>\n",
       "      <td>7569</td>\n",
       "      <td>so bad it's good</td>\n",
       "      <td>1573943455</td>\n",
       "    </tr>\n",
       "  </tbody>\n",
       "</table>\n",
       "</div>"
      ],
      "text/plain": [
       "   userId  movieId               tag   timestamp\n",
       "0       3      260           classic  1439472355\n",
       "1       3      260            sci-fi  1439472256\n",
       "2       4     1732       dark comedy  1573943598\n",
       "3       4     1732    great dialogue  1573943604\n",
       "4       4     7569  so bad it's good  1573943455"
      ]
     },
     "execution_count": 14,
     "metadata": {},
     "output_type": "execute_result"
    }
   ],
   "source": [
    "tags.head()"
   ]
  },
  {
   "cell_type": "code",
   "execution_count": 15,
   "metadata": {
    "ExecuteTime": {
     "end_time": "2020-11-25T14:16:34.237774Z",
     "start_time": "2020-11-25T14:16:34.023687Z"
    },
    "hidden": true
   },
   "outputs": [
    {
     "name": "stdout",
     "output_type": "stream",
     "text": [
      "userId        0\n",
      "movieId       0\n",
      "tag          16\n",
      "timestamp     0\n",
      "dtype: int64\n",
      "<class 'pandas.core.frame.DataFrame'>\n",
      "RangeIndex: 1093360 entries, 0 to 1093359\n",
      "Data columns (total 4 columns):\n",
      " #   Column     Non-Null Count    Dtype \n",
      "---  ------     --------------    ----- \n",
      " 0   userId     1093360 non-null  int64 \n",
      " 1   movieId    1093360 non-null  int64 \n",
      " 2   tag        1093344 non-null  object\n",
      " 3   timestamp  1093360 non-null  int64 \n",
      "dtypes: int64(3), object(1)\n",
      "memory usage: 33.4+ MB\n"
     ]
    }
   ],
   "source": [
    "print(tags.isnull().sum())\n",
    "tags.info()"
   ]
  },
  {
   "cell_type": "markdown",
   "metadata": {
    "hidden": true
   },
   "source": [
    "We can exclude 16 tags because we have 1093360 tags on the movies"
   ]
  },
  {
   "cell_type": "markdown",
   "metadata": {
    "hidden": true
   },
   "source": [
    "Which movies don't have tags?"
   ]
  },
  {
   "cell_type": "markdown",
   "metadata": {},
   "source": [
    "### Movies without TMDB ID"
   ]
  },
  {
   "cell_type": "code",
   "execution_count": 16,
   "metadata": {
    "ExecuteTime": {
     "end_time": "2020-11-25T14:16:34.333995Z",
     "start_time": "2020-11-25T14:16:34.242263Z"
    }
   },
   "outputs": [
    {
     "name": "stdout",
     "output_type": "stream",
     "text": [
      "True     62316\n",
      "False      107\n",
      "Name: empty, dtype: int64\n"
     ]
    },
    {
     "data": {
      "text/html": [
       "<div>\n",
       "<style scoped>\n",
       "    .dataframe tbody tr th:only-of-type {\n",
       "        vertical-align: middle;\n",
       "    }\n",
       "\n",
       "    .dataframe tbody tr th {\n",
       "        vertical-align: top;\n",
       "    }\n",
       "\n",
       "    .dataframe thead th {\n",
       "        text-align: right;\n",
       "    }\n",
       "</style>\n",
       "<table border=\"1\" class=\"dataframe\">\n",
       "  <thead>\n",
       "    <tr style=\"text-align: right;\">\n",
       "      <th></th>\n",
       "      <th>movieId</th>\n",
       "      <th>imdbId</th>\n",
       "      <th>tmdbId</th>\n",
       "      <th>empty</th>\n",
       "      <th>title</th>\n",
       "      <th>genres</th>\n",
       "    </tr>\n",
       "  </thead>\n",
       "  <tbody>\n",
       "    <tr>\n",
       "      <th>0</th>\n",
       "      <td>721</td>\n",
       "      <td>114103</td>\n",
       "      <td>NaN</td>\n",
       "      <td>False</td>\n",
       "      <td>Halfmoon (Paul Bowles - Halbmond) (1995)</td>\n",
       "      <td>Drama</td>\n",
       "    </tr>\n",
       "    <tr>\n",
       "      <th>1</th>\n",
       "      <td>730</td>\n",
       "      <td>125877</td>\n",
       "      <td>NaN</td>\n",
       "      <td>False</td>\n",
       "      <td>Low Life (1994)</td>\n",
       "      <td>Drama</td>\n",
       "    </tr>\n",
       "    <tr>\n",
       "      <th>2</th>\n",
       "      <td>770</td>\n",
       "      <td>38426</td>\n",
       "      <td>NaN</td>\n",
       "      <td>False</td>\n",
       "      <td>Costa Brava (1946)</td>\n",
       "      <td>Drama</td>\n",
       "    </tr>\n",
       "    <tr>\n",
       "      <th>3</th>\n",
       "      <td>791</td>\n",
       "      <td>113610</td>\n",
       "      <td>NaN</td>\n",
       "      <td>False</td>\n",
       "      <td>Last Klezmer: Leopold Kozlowski, His Life and ...</td>\n",
       "      <td>Documentary</td>\n",
       "    </tr>\n",
       "    <tr>\n",
       "      <th>4</th>\n",
       "      <td>1107</td>\n",
       "      <td>102336</td>\n",
       "      <td>NaN</td>\n",
       "      <td>False</td>\n",
       "      <td>Loser (1991)</td>\n",
       "      <td>Comedy</td>\n",
       "    </tr>\n",
       "  </tbody>\n",
       "</table>\n",
       "</div>"
      ],
      "text/plain": [
       "   movieId  imdbId  tmdbId  empty  \\\n",
       "0      721  114103     NaN  False   \n",
       "1      730  125877     NaN  False   \n",
       "2      770   38426     NaN  False   \n",
       "3      791  113610     NaN  False   \n",
       "4     1107  102336     NaN  False   \n",
       "\n",
       "                                               title       genres  \n",
       "0           Halfmoon (Paul Bowles - Halbmond) (1995)        Drama  \n",
       "1                                    Low Life (1994)        Drama  \n",
       "2                                 Costa Brava (1946)        Drama  \n",
       "3  Last Klezmer: Leopold Kozlowski, His Life and ...  Documentary  \n",
       "4                                       Loser (1991)       Comedy  "
      ]
     },
     "execution_count": 16,
     "metadata": {},
     "output_type": "execute_result"
    }
   ],
   "source": [
    "#criação de dataframe missing_movies\n",
    "missing_movies = links.copy()\n",
    "#criação de campo 'empty' no dataframe\n",
    "missing_movies['empty'] = missing_movies.tmdbId.notnull()\n",
    "#check a na quantidade de valores sem tmdbId\n",
    "print(missing_movies['empty'].value_counts())\n",
    "missing_movies = missing_movies[missing_movies['empty'] == False]\n",
    "missing_movies = missing_movies.merge(movies,on='movieId')\n",
    "missing_movies.head(5)"
   ]
  },
  {
   "cell_type": "markdown",
   "metadata": {},
   "source": [
    "We can exclude the 107 movies that don't have tmdbId!"
   ]
  },
  {
   "cell_type": "markdown",
   "metadata": {},
   "source": [
    "### Tags without movies"
   ]
  },
  {
   "cell_type": "code",
   "execution_count": 17,
   "metadata": {
    "ExecuteTime": {
     "end_time": "2020-11-25T14:16:34.434944Z",
     "start_time": "2020-11-25T14:16:34.337219Z"
    }
   },
   "outputs": [],
   "source": [
    "movie_ids_without_tags = tags[tags.tag.isnull()].movieId.count()"
   ]
  },
  {
   "cell_type": "code",
   "execution_count": 18,
   "metadata": {
    "ExecuteTime": {
     "end_time": "2020-11-25T14:16:34.458623Z",
     "start_time": "2020-11-25T14:16:34.439655Z"
    }
   },
   "outputs": [
    {
     "name": "stdout",
     "output_type": "stream",
     "text": [
      "Tags without movies: 16\n"
     ]
    }
   ],
   "source": [
    "print(f'Tags without movies: {movie_ids_without_tags}')"
   ]
  },
  {
   "cell_type": "markdown",
   "metadata": {},
   "source": [
    "We can exclude 16 entries from Tags as they are non significant"
   ]
  },
  {
   "cell_type": "markdown",
   "metadata": {},
   "source": [
    "### Standardizing movie genres:\n"
   ]
  },
  {
   "cell_type": "code",
   "execution_count": 19,
   "metadata": {
    "ExecuteTime": {
     "end_time": "2020-11-25T14:16:34.511995Z",
     "start_time": "2020-11-25T14:16:34.462614Z"
    }
   },
   "outputs": [],
   "source": [
    "movies = movies.copy()\n",
    "movies['genres'] = movies['genres'].str.replace(\"|\",\" \")"
   ]
  },
  {
   "cell_type": "code",
   "execution_count": 20,
   "metadata": {
    "ExecuteTime": {
     "end_time": "2020-11-25T14:16:34.521674Z",
     "start_time": "2020-11-25T14:16:34.515865Z"
    }
   },
   "outputs": [],
   "source": [
    "#função para transformar string em lista \n",
    "def movie_genres(x):\n",
    "    # remover (no genres listed) \n",
    "    if x == '(no genres listed)':\n",
    "        return \"\"\n",
    "    else:\n",
    "        return x.split()   "
   ]
  },
  {
   "cell_type": "code",
   "execution_count": 21,
   "metadata": {
    "ExecuteTime": {
     "end_time": "2020-11-25T14:16:34.664073Z",
     "start_time": "2020-11-25T14:16:34.524992Z"
    }
   },
   "outputs": [
    {
     "data": {
      "text/html": [
       "<div>\n",
       "<style scoped>\n",
       "    .dataframe tbody tr th:only-of-type {\n",
       "        vertical-align: middle;\n",
       "    }\n",
       "\n",
       "    .dataframe tbody tr th {\n",
       "        vertical-align: top;\n",
       "    }\n",
       "\n",
       "    .dataframe thead th {\n",
       "        text-align: right;\n",
       "    }\n",
       "</style>\n",
       "<table border=\"1\" class=\"dataframe\">\n",
       "  <thead>\n",
       "    <tr style=\"text-align: right;\">\n",
       "      <th></th>\n",
       "      <th>movieId</th>\n",
       "      <th>title</th>\n",
       "      <th>genres</th>\n",
       "    </tr>\n",
       "  </thead>\n",
       "  <tbody>\n",
       "    <tr>\n",
       "      <th>0</th>\n",
       "      <td>1</td>\n",
       "      <td>Toy Story (1995)</td>\n",
       "      <td>[Adventure, Animation, Children, Comedy, Fantasy]</td>\n",
       "    </tr>\n",
       "    <tr>\n",
       "      <th>1</th>\n",
       "      <td>2</td>\n",
       "      <td>Jumanji (1995)</td>\n",
       "      <td>[Adventure, Children, Fantasy]</td>\n",
       "    </tr>\n",
       "    <tr>\n",
       "      <th>2</th>\n",
       "      <td>3</td>\n",
       "      <td>Grumpier Old Men (1995)</td>\n",
       "      <td>[Comedy, Romance]</td>\n",
       "    </tr>\n",
       "  </tbody>\n",
       "</table>\n",
       "</div>"
      ],
      "text/plain": [
       "   movieId                    title  \\\n",
       "0        1         Toy Story (1995)   \n",
       "1        2           Jumanji (1995)   \n",
       "2        3  Grumpier Old Men (1995)   \n",
       "\n",
       "                                              genres  \n",
       "0  [Adventure, Animation, Children, Comedy, Fantasy]  \n",
       "1                     [Adventure, Children, Fantasy]  \n",
       "2                                  [Comedy, Romance]  "
      ]
     },
     "execution_count": 21,
     "metadata": {},
     "output_type": "execute_result"
    }
   ],
   "source": [
    "movies['genres'] = movies['genres'].apply(movie_genres)\n",
    "movies.head(3)"
   ]
  },
  {
   "cell_type": "code",
   "execution_count": 22,
   "metadata": {
    "ExecuteTime": {
     "end_time": "2020-11-25T14:16:34.684960Z",
     "start_time": "2020-11-25T14:16:34.668607Z"
    }
   },
   "outputs": [
    {
     "data": {
      "text/html": [
       "<div>\n",
       "<style scoped>\n",
       "    .dataframe tbody tr th:only-of-type {\n",
       "        vertical-align: middle;\n",
       "    }\n",
       "\n",
       "    .dataframe tbody tr th {\n",
       "        vertical-align: top;\n",
       "    }\n",
       "\n",
       "    .dataframe thead th {\n",
       "        text-align: right;\n",
       "    }\n",
       "</style>\n",
       "<table border=\"1\" class=\"dataframe\">\n",
       "  <thead>\n",
       "    <tr style=\"text-align: right;\">\n",
       "      <th></th>\n",
       "      <th>movieId</th>\n",
       "      <th>title</th>\n",
       "      <th>genres</th>\n",
       "    </tr>\n",
       "  </thead>\n",
       "  <tbody>\n",
       "    <tr>\n",
       "      <th>0</th>\n",
       "      <td>1</td>\n",
       "      <td>Toy Story (1995)</td>\n",
       "      <td>[Adventure, Animation, Children, Comedy, Fantasy]</td>\n",
       "    </tr>\n",
       "    <tr>\n",
       "      <th>1</th>\n",
       "      <td>2</td>\n",
       "      <td>Jumanji (1995)</td>\n",
       "      <td>[Adventure, Children, Fantasy]</td>\n",
       "    </tr>\n",
       "    <tr>\n",
       "      <th>2</th>\n",
       "      <td>3</td>\n",
       "      <td>Grumpier Old Men (1995)</td>\n",
       "      <td>[Comedy, Romance]</td>\n",
       "    </tr>\n",
       "    <tr>\n",
       "      <th>3</th>\n",
       "      <td>4</td>\n",
       "      <td>Waiting to Exhale (1995)</td>\n",
       "      <td>[Comedy, Drama, Romance]</td>\n",
       "    </tr>\n",
       "  </tbody>\n",
       "</table>\n",
       "</div>"
      ],
      "text/plain": [
       "   movieId                     title  \\\n",
       "0        1          Toy Story (1995)   \n",
       "1        2            Jumanji (1995)   \n",
       "2        3   Grumpier Old Men (1995)   \n",
       "3        4  Waiting to Exhale (1995)   \n",
       "\n",
       "                                              genres  \n",
       "0  [Adventure, Animation, Children, Comedy, Fantasy]  \n",
       "1                     [Adventure, Children, Fantasy]  \n",
       "2                                  [Comedy, Romance]  \n",
       "3                           [Comedy, Drama, Romance]  "
      ]
     },
     "execution_count": 22,
     "metadata": {},
     "output_type": "execute_result"
    }
   ],
   "source": [
    "movies.head(4)"
   ]
  },
  {
   "cell_type": "code",
   "execution_count": 23,
   "metadata": {
    "ExecuteTime": {
     "end_time": "2020-11-25T14:16:34.708208Z",
     "start_time": "2020-11-25T14:16:34.696425Z"
    }
   },
   "outputs": [
    {
     "data": {
      "text/plain": [
       "['action',\n",
       " 'adventure',\n",
       " 'animation',\n",
       " 'children',\n",
       " 'comedy',\n",
       " 'crime',\n",
       " 'documentary',\n",
       " 'drama',\n",
       " 'fantasy',\n",
       " 'film-noir',\n",
       " 'horror',\n",
       " 'imax',\n",
       " 'musical',\n",
       " 'mystery',\n",
       " 'romance',\n",
       " 'sci-fi',\n",
       " 'thriller',\n",
       " 'war',\n",
       " 'western']"
      ]
     },
     "execution_count": 23,
     "metadata": {},
     "output_type": "execute_result"
    }
   ],
   "source": [
    "test = ['Action', 'Adventure', 'Animation', 'Children', 'Comedy', 'Crime', 'Documentary', 'Drama', 'Fantasy', 'Film-Noir', 'Horror', 'IMAX', 'Musical', 'Mystery', 'Romance', 'Sci-Fi', 'Thriller', 'War', 'Western']\n",
    "test = [genre.lower() for genre in test]\n",
    "test"
   ]
  },
  {
   "cell_type": "code",
   "execution_count": 24,
   "metadata": {
    "ExecuteTime": {
     "end_time": "2020-11-25T14:16:35.878343Z",
     "start_time": "2020-11-25T14:16:34.731355Z"
    }
   },
   "outputs": [
    {
     "name": "stdout",
     "output_type": "stream",
     "text": [
      "['Action' 'Adventure' 'Animation' 'Children' 'Comedy' 'Crime'\n",
      " 'Documentary' 'Drama' 'Fantasy' 'Film-Noir' 'Horror' 'IMAX' 'Musical'\n",
      " 'Mystery' 'Romance' 'Sci-Fi' 'Thriller' 'War' 'Western']\n",
      "['action', 'adventure', 'animation', 'children', 'comedy', 'crime', 'documentary', 'drama', 'fantasy', 'film-noir', 'horror', 'imax', 'musical', 'mystery', 'romance', 'sci-fi', 'thriller', 'war', 'western']\n",
      "[[0 1 1 ... 0 0 0]\n",
      " [0 1 0 ... 0 0 0]\n",
      " [0 0 0 ... 0 0 0]\n",
      " ...\n",
      " [0 0 0 ... 0 0 0]\n",
      " [0 0 0 ... 0 0 0]\n",
      " [1 1 0 ... 0 0 0]]\n"
     ]
    }
   ],
   "source": [
    "from sklearn.preprocessing import MultiLabelBinarizer\n",
    "\n",
    "labels = movies['genres']\n",
    "mlb = MultiLabelBinarizer()\n",
    "results = mlb.fit_transform(labels)\n",
    "print(mlb.classes_)\n",
    "col = list(mlb.classes_)\n",
    "col = [genre.lower() for genre in col]\n",
    "print(col)\n",
    "print(results)\n",
    "\n",
    "movies = movies.join(pd.DataFrame(results, \n",
    "                     columns=col,\n",
    "                    index = movies.index))"
   ]
  },
  {
   "cell_type": "code",
   "execution_count": 25,
   "metadata": {
    "ExecuteTime": {
     "end_time": "2020-11-25T14:16:35.906603Z",
     "start_time": "2020-11-25T14:16:35.880836Z"
    }
   },
   "outputs": [
    {
     "data": {
      "text/html": [
       "<div>\n",
       "<style scoped>\n",
       "    .dataframe tbody tr th:only-of-type {\n",
       "        vertical-align: middle;\n",
       "    }\n",
       "\n",
       "    .dataframe tbody tr th {\n",
       "        vertical-align: top;\n",
       "    }\n",
       "\n",
       "    .dataframe thead th {\n",
       "        text-align: right;\n",
       "    }\n",
       "</style>\n",
       "<table border=\"1\" class=\"dataframe\">\n",
       "  <thead>\n",
       "    <tr style=\"text-align: right;\">\n",
       "      <th></th>\n",
       "      <th>movieId</th>\n",
       "      <th>title</th>\n",
       "      <th>genres</th>\n",
       "      <th>action</th>\n",
       "      <th>adventure</th>\n",
       "      <th>animation</th>\n",
       "      <th>children</th>\n",
       "      <th>comedy</th>\n",
       "      <th>crime</th>\n",
       "      <th>documentary</th>\n",
       "      <th>...</th>\n",
       "      <th>film-noir</th>\n",
       "      <th>horror</th>\n",
       "      <th>imax</th>\n",
       "      <th>musical</th>\n",
       "      <th>mystery</th>\n",
       "      <th>romance</th>\n",
       "      <th>sci-fi</th>\n",
       "      <th>thriller</th>\n",
       "      <th>war</th>\n",
       "      <th>western</th>\n",
       "    </tr>\n",
       "  </thead>\n",
       "  <tbody>\n",
       "    <tr>\n",
       "      <th>0</th>\n",
       "      <td>1</td>\n",
       "      <td>Toy Story (1995)</td>\n",
       "      <td>[Adventure, Animation, Children, Comedy, Fantasy]</td>\n",
       "      <td>0</td>\n",
       "      <td>1</td>\n",
       "      <td>1</td>\n",
       "      <td>1</td>\n",
       "      <td>1</td>\n",
       "      <td>0</td>\n",
       "      <td>0</td>\n",
       "      <td>...</td>\n",
       "      <td>0</td>\n",
       "      <td>0</td>\n",
       "      <td>0</td>\n",
       "      <td>0</td>\n",
       "      <td>0</td>\n",
       "      <td>0</td>\n",
       "      <td>0</td>\n",
       "      <td>0</td>\n",
       "      <td>0</td>\n",
       "      <td>0</td>\n",
       "    </tr>\n",
       "    <tr>\n",
       "      <th>1</th>\n",
       "      <td>2</td>\n",
       "      <td>Jumanji (1995)</td>\n",
       "      <td>[Adventure, Children, Fantasy]</td>\n",
       "      <td>0</td>\n",
       "      <td>1</td>\n",
       "      <td>0</td>\n",
       "      <td>1</td>\n",
       "      <td>0</td>\n",
       "      <td>0</td>\n",
       "      <td>0</td>\n",
       "      <td>...</td>\n",
       "      <td>0</td>\n",
       "      <td>0</td>\n",
       "      <td>0</td>\n",
       "      <td>0</td>\n",
       "      <td>0</td>\n",
       "      <td>0</td>\n",
       "      <td>0</td>\n",
       "      <td>0</td>\n",
       "      <td>0</td>\n",
       "      <td>0</td>\n",
       "    </tr>\n",
       "    <tr>\n",
       "      <th>2</th>\n",
       "      <td>3</td>\n",
       "      <td>Grumpier Old Men (1995)</td>\n",
       "      <td>[Comedy, Romance]</td>\n",
       "      <td>0</td>\n",
       "      <td>0</td>\n",
       "      <td>0</td>\n",
       "      <td>0</td>\n",
       "      <td>1</td>\n",
       "      <td>0</td>\n",
       "      <td>0</td>\n",
       "      <td>...</td>\n",
       "      <td>0</td>\n",
       "      <td>0</td>\n",
       "      <td>0</td>\n",
       "      <td>0</td>\n",
       "      <td>0</td>\n",
       "      <td>1</td>\n",
       "      <td>0</td>\n",
       "      <td>0</td>\n",
       "      <td>0</td>\n",
       "      <td>0</td>\n",
       "    </tr>\n",
       "    <tr>\n",
       "      <th>3</th>\n",
       "      <td>4</td>\n",
       "      <td>Waiting to Exhale (1995)</td>\n",
       "      <td>[Comedy, Drama, Romance]</td>\n",
       "      <td>0</td>\n",
       "      <td>0</td>\n",
       "      <td>0</td>\n",
       "      <td>0</td>\n",
       "      <td>1</td>\n",
       "      <td>0</td>\n",
       "      <td>0</td>\n",
       "      <td>...</td>\n",
       "      <td>0</td>\n",
       "      <td>0</td>\n",
       "      <td>0</td>\n",
       "      <td>0</td>\n",
       "      <td>0</td>\n",
       "      <td>1</td>\n",
       "      <td>0</td>\n",
       "      <td>0</td>\n",
       "      <td>0</td>\n",
       "      <td>0</td>\n",
       "    </tr>\n",
       "  </tbody>\n",
       "</table>\n",
       "<p>4 rows × 22 columns</p>\n",
       "</div>"
      ],
      "text/plain": [
       "   movieId                     title  \\\n",
       "0        1          Toy Story (1995)   \n",
       "1        2            Jumanji (1995)   \n",
       "2        3   Grumpier Old Men (1995)   \n",
       "3        4  Waiting to Exhale (1995)   \n",
       "\n",
       "                                              genres  action  adventure  \\\n",
       "0  [Adventure, Animation, Children, Comedy, Fantasy]       0          1   \n",
       "1                     [Adventure, Children, Fantasy]       0          1   \n",
       "2                                  [Comedy, Romance]       0          0   \n",
       "3                           [Comedy, Drama, Romance]       0          0   \n",
       "\n",
       "   animation  children  comedy  crime  documentary  ...  film-noir  horror  \\\n",
       "0          1         1       1      0            0  ...          0       0   \n",
       "1          0         1       0      0            0  ...          0       0   \n",
       "2          0         0       1      0            0  ...          0       0   \n",
       "3          0         0       1      0            0  ...          0       0   \n",
       "\n",
       "   imax  musical  mystery  romance  sci-fi  thriller  war  western  \n",
       "0     0        0        0        0       0         0    0        0  \n",
       "1     0        0        0        0       0         0    0        0  \n",
       "2     0        0        0        1       0         0    0        0  \n",
       "3     0        0        0        1       0         0    0        0  \n",
       "\n",
       "[4 rows x 22 columns]"
      ]
     },
     "execution_count": 25,
     "metadata": {},
     "output_type": "execute_result"
    }
   ],
   "source": [
    "movies.head(4)"
   ]
  },
  {
   "cell_type": "markdown",
   "metadata": {},
   "source": [
    "## Movie Lens - Data cleaning"
   ]
  },
  {
   "cell_type": "markdown",
   "metadata": {},
   "source": [
    "### Merging Movies and Link database and removing 107 movies without TMDB ID"
   ]
  },
  {
   "cell_type": "code",
   "execution_count": 26,
   "metadata": {
    "ExecuteTime": {
     "end_time": "2020-11-25T14:16:36.124913Z",
     "start_time": "2020-11-25T14:16:35.910220Z"
    }
   },
   "outputs": [
    {
     "name": "stdout",
     "output_type": "stream",
     "text": [
      "(62423, 24)\n"
     ]
    },
    {
     "data": {
      "text/html": [
       "<div>\n",
       "<style scoped>\n",
       "    .dataframe tbody tr th:only-of-type {\n",
       "        vertical-align: middle;\n",
       "    }\n",
       "\n",
       "    .dataframe tbody tr th {\n",
       "        vertical-align: top;\n",
       "    }\n",
       "\n",
       "    .dataframe thead th {\n",
       "        text-align: right;\n",
       "    }\n",
       "</style>\n",
       "<table border=\"1\" class=\"dataframe\">\n",
       "  <thead>\n",
       "    <tr style=\"text-align: right;\">\n",
       "      <th></th>\n",
       "      <th>movieId</th>\n",
       "      <th>imdbId</th>\n",
       "      <th>tmdbId</th>\n",
       "      <th>title</th>\n",
       "      <th>genres</th>\n",
       "      <th>action</th>\n",
       "      <th>adventure</th>\n",
       "      <th>animation</th>\n",
       "      <th>children</th>\n",
       "      <th>comedy</th>\n",
       "      <th>...</th>\n",
       "      <th>film-noir</th>\n",
       "      <th>horror</th>\n",
       "      <th>imax</th>\n",
       "      <th>musical</th>\n",
       "      <th>mystery</th>\n",
       "      <th>romance</th>\n",
       "      <th>sci-fi</th>\n",
       "      <th>thriller</th>\n",
       "      <th>war</th>\n",
       "      <th>western</th>\n",
       "    </tr>\n",
       "  </thead>\n",
       "  <tbody>\n",
       "    <tr>\n",
       "      <th>0</th>\n",
       "      <td>1</td>\n",
       "      <td>114709</td>\n",
       "      <td>862.0</td>\n",
       "      <td>Toy Story (1995)</td>\n",
       "      <td>[Adventure, Animation, Children, Comedy, Fantasy]</td>\n",
       "      <td>0</td>\n",
       "      <td>1</td>\n",
       "      <td>1</td>\n",
       "      <td>1</td>\n",
       "      <td>1</td>\n",
       "      <td>...</td>\n",
       "      <td>0</td>\n",
       "      <td>0</td>\n",
       "      <td>0</td>\n",
       "      <td>0</td>\n",
       "      <td>0</td>\n",
       "      <td>0</td>\n",
       "      <td>0</td>\n",
       "      <td>0</td>\n",
       "      <td>0</td>\n",
       "      <td>0</td>\n",
       "    </tr>\n",
       "  </tbody>\n",
       "</table>\n",
       "<p>1 rows × 24 columns</p>\n",
       "</div>"
      ],
      "text/plain": [
       "   movieId  imdbId  tmdbId             title  \\\n",
       "0        1  114709   862.0  Toy Story (1995)   \n",
       "\n",
       "                                              genres  action  adventure  \\\n",
       "0  [Adventure, Animation, Children, Comedy, Fantasy]       0          1   \n",
       "\n",
       "   animation  children  comedy  ...  film-noir  horror  imax  musical  \\\n",
       "0          1         1       1  ...          0       0     0        0   \n",
       "\n",
       "   mystery  romance  sci-fi  thriller  war  western  \n",
       "0        0        0       0         0    0        0  \n",
       "\n",
       "[1 rows x 24 columns]"
      ]
     },
     "execution_count": 26,
     "metadata": {},
     "output_type": "execute_result"
    }
   ],
   "source": [
    "movies = links.merge(movies, on='movieId', how='right')\n",
    "print(movies.shape)\n",
    "movies.head(1)"
   ]
  },
  {
   "cell_type": "code",
   "execution_count": 27,
   "metadata": {
    "ExecuteTime": {
     "end_time": "2020-11-25T14:16:36.183386Z",
     "start_time": "2020-11-25T14:16:36.140484Z"
    }
   },
   "outputs": [],
   "source": [
    "movies = movies.dropna(axis=0, subset=['tmdbId'])"
   ]
  },
  {
   "cell_type": "code",
   "execution_count": 28,
   "metadata": {
    "ExecuteTime": {
     "end_time": "2020-11-25T14:16:36.200324Z",
     "start_time": "2020-11-25T14:16:36.187979Z"
    },
    "scrolled": true
   },
   "outputs": [
    {
     "name": "stdout",
     "output_type": "stream",
     "text": [
      "209171\n",
      "11170942\n",
      "646282.0\n",
      "int16 max: 32.767\n",
      "int32 max: 2.147.483.647\n"
     ]
    }
   ],
   "source": [
    "print(links.movieId.max())\n",
    "print(links.imdbId.max())\n",
    "print(links.tmdbId.max())\n",
    "print(\"int16 max: 32.767\")\n",
    "print(\"int32 max: 2.147.483.647\")"
   ]
  },
  {
   "cell_type": "code",
   "execution_count": 29,
   "metadata": {
    "ExecuteTime": {
     "end_time": "2020-11-25T14:16:36.234994Z",
     "start_time": "2020-11-25T14:16:36.205169Z"
    }
   },
   "outputs": [],
   "source": [
    "movies.movieId = movies.movieId.astype(np.int32)\n",
    "movies.imdbId = movies.imdbId.astype(np.int32)\n",
    "movies.tmdbId = movies.tmdbId.astype(np.int32)"
   ]
  },
  {
   "cell_type": "code",
   "execution_count": 30,
   "metadata": {
    "ExecuteTime": {
     "end_time": "2020-11-25T14:16:36.288747Z",
     "start_time": "2020-11-25T14:16:36.258453Z"
    }
   },
   "outputs": [
    {
     "data": {
      "text/html": [
       "<div>\n",
       "<style scoped>\n",
       "    .dataframe tbody tr th:only-of-type {\n",
       "        vertical-align: middle;\n",
       "    }\n",
       "\n",
       "    .dataframe tbody tr th {\n",
       "        vertical-align: top;\n",
       "    }\n",
       "\n",
       "    .dataframe thead th {\n",
       "        text-align: right;\n",
       "    }\n",
       "</style>\n",
       "<table border=\"1\" class=\"dataframe\">\n",
       "  <thead>\n",
       "    <tr style=\"text-align: right;\">\n",
       "      <th></th>\n",
       "      <th>movieId</th>\n",
       "      <th>imdbId</th>\n",
       "      <th>tmdbId</th>\n",
       "      <th>title</th>\n",
       "      <th>genres</th>\n",
       "      <th>action</th>\n",
       "      <th>adventure</th>\n",
       "      <th>animation</th>\n",
       "      <th>children</th>\n",
       "      <th>comedy</th>\n",
       "      <th>...</th>\n",
       "      <th>film-noir</th>\n",
       "      <th>horror</th>\n",
       "      <th>imax</th>\n",
       "      <th>musical</th>\n",
       "      <th>mystery</th>\n",
       "      <th>romance</th>\n",
       "      <th>sci-fi</th>\n",
       "      <th>thriller</th>\n",
       "      <th>war</th>\n",
       "      <th>western</th>\n",
       "    </tr>\n",
       "  </thead>\n",
       "  <tbody>\n",
       "    <tr>\n",
       "      <th>0</th>\n",
       "      <td>1</td>\n",
       "      <td>114709</td>\n",
       "      <td>862</td>\n",
       "      <td>Toy Story (1995)</td>\n",
       "      <td>[Adventure, Animation, Children, Comedy, Fantasy]</td>\n",
       "      <td>0</td>\n",
       "      <td>1</td>\n",
       "      <td>1</td>\n",
       "      <td>1</td>\n",
       "      <td>1</td>\n",
       "      <td>...</td>\n",
       "      <td>0</td>\n",
       "      <td>0</td>\n",
       "      <td>0</td>\n",
       "      <td>0</td>\n",
       "      <td>0</td>\n",
       "      <td>0</td>\n",
       "      <td>0</td>\n",
       "      <td>0</td>\n",
       "      <td>0</td>\n",
       "      <td>0</td>\n",
       "    </tr>\n",
       "    <tr>\n",
       "      <th>1</th>\n",
       "      <td>2</td>\n",
       "      <td>113497</td>\n",
       "      <td>8844</td>\n",
       "      <td>Jumanji (1995)</td>\n",
       "      <td>[Adventure, Children, Fantasy]</td>\n",
       "      <td>0</td>\n",
       "      <td>1</td>\n",
       "      <td>0</td>\n",
       "      <td>1</td>\n",
       "      <td>0</td>\n",
       "      <td>...</td>\n",
       "      <td>0</td>\n",
       "      <td>0</td>\n",
       "      <td>0</td>\n",
       "      <td>0</td>\n",
       "      <td>0</td>\n",
       "      <td>0</td>\n",
       "      <td>0</td>\n",
       "      <td>0</td>\n",
       "      <td>0</td>\n",
       "      <td>0</td>\n",
       "    </tr>\n",
       "    <tr>\n",
       "      <th>2</th>\n",
       "      <td>3</td>\n",
       "      <td>113228</td>\n",
       "      <td>15602</td>\n",
       "      <td>Grumpier Old Men (1995)</td>\n",
       "      <td>[Comedy, Romance]</td>\n",
       "      <td>0</td>\n",
       "      <td>0</td>\n",
       "      <td>0</td>\n",
       "      <td>0</td>\n",
       "      <td>1</td>\n",
       "      <td>...</td>\n",
       "      <td>0</td>\n",
       "      <td>0</td>\n",
       "      <td>0</td>\n",
       "      <td>0</td>\n",
       "      <td>0</td>\n",
       "      <td>1</td>\n",
       "      <td>0</td>\n",
       "      <td>0</td>\n",
       "      <td>0</td>\n",
       "      <td>0</td>\n",
       "    </tr>\n",
       "    <tr>\n",
       "      <th>3</th>\n",
       "      <td>4</td>\n",
       "      <td>114885</td>\n",
       "      <td>31357</td>\n",
       "      <td>Waiting to Exhale (1995)</td>\n",
       "      <td>[Comedy, Drama, Romance]</td>\n",
       "      <td>0</td>\n",
       "      <td>0</td>\n",
       "      <td>0</td>\n",
       "      <td>0</td>\n",
       "      <td>1</td>\n",
       "      <td>...</td>\n",
       "      <td>0</td>\n",
       "      <td>0</td>\n",
       "      <td>0</td>\n",
       "      <td>0</td>\n",
       "      <td>0</td>\n",
       "      <td>1</td>\n",
       "      <td>0</td>\n",
       "      <td>0</td>\n",
       "      <td>0</td>\n",
       "      <td>0</td>\n",
       "    </tr>\n",
       "  </tbody>\n",
       "</table>\n",
       "<p>4 rows × 24 columns</p>\n",
       "</div>"
      ],
      "text/plain": [
       "   movieId  imdbId  tmdbId                     title  \\\n",
       "0        1  114709     862          Toy Story (1995)   \n",
       "1        2  113497    8844            Jumanji (1995)   \n",
       "2        3  113228   15602   Grumpier Old Men (1995)   \n",
       "3        4  114885   31357  Waiting to Exhale (1995)   \n",
       "\n",
       "                                              genres  action  adventure  \\\n",
       "0  [Adventure, Animation, Children, Comedy, Fantasy]       0          1   \n",
       "1                     [Adventure, Children, Fantasy]       0          1   \n",
       "2                                  [Comedy, Romance]       0          0   \n",
       "3                           [Comedy, Drama, Romance]       0          0   \n",
       "\n",
       "   animation  children  comedy  ...  film-noir  horror  imax  musical  \\\n",
       "0          1         1       1  ...          0       0     0        0   \n",
       "1          0         1       0  ...          0       0     0        0   \n",
       "2          0         0       1  ...          0       0     0        0   \n",
       "3          0         0       1  ...          0       0     0        0   \n",
       "\n",
       "   mystery  romance  sci-fi  thriller  war  western  \n",
       "0        0        0       0         0    0        0  \n",
       "1        0        0       0         0    0        0  \n",
       "2        0        1       0         0    0        0  \n",
       "3        0        1       0         0    0        0  \n",
       "\n",
       "[4 rows x 24 columns]"
      ]
     },
     "execution_count": 30,
     "metadata": {},
     "output_type": "execute_result"
    }
   ],
   "source": [
    "movies.head(4)"
   ]
  },
  {
   "cell_type": "markdown",
   "metadata": {},
   "source": [
    "### Removing NaN entries from tags"
   ]
  },
  {
   "cell_type": "code",
   "execution_count": 31,
   "metadata": {
    "ExecuteTime": {
     "end_time": "2020-11-25T14:16:36.590701Z",
     "start_time": "2020-11-25T14:16:36.292283Z"
    }
   },
   "outputs": [
    {
     "name": "stdout",
     "output_type": "stream",
     "text": [
      "<class 'pandas.core.frame.DataFrame'>\n",
      "Int64Index: 1093344 entries, 0 to 1093359\n",
      "Data columns (total 4 columns):\n",
      " #   Column     Non-Null Count    Dtype \n",
      "---  ------     --------------    ----- \n",
      " 0   userId     1093344 non-null  int64 \n",
      " 1   movieId    1093344 non-null  int64 \n",
      " 2   tag        1093344 non-null  object\n",
      " 3   timestamp  1093344 non-null  int64 \n",
      "dtypes: int64(3), object(1)\n",
      "memory usage: 41.7+ MB\n"
     ]
    }
   ],
   "source": [
    "tags = tags.dropna(axis=0, subset=['tag'])\n",
    "tags.info()"
   ]
  },
  {
   "cell_type": "markdown",
   "metadata": {},
   "source": [
    "## Data from API TMDB"
   ]
  },
  {
   "cell_type": "markdown",
   "metadata": {},
   "source": [
    "### Import data from API TMDB"
   ]
  },
  {
   "cell_type": "code",
   "execution_count": 32,
   "metadata": {
    "ExecuteTime": {
     "end_time": "2020-11-25T14:16:36.964379Z",
     "start_time": "2020-11-25T14:16:36.593562Z"
    },
    "scrolled": true
   },
   "outputs": [
    {
     "ename": "ParserError",
     "evalue": "Error tokenizing data. C error: Buffer overflow caught - possible malformed input file.\n",
     "output_type": "error",
     "traceback": [
      "\u001b[0;31m---------------------------------------------------------------------------\u001b[0m",
      "\u001b[0;31mParserError\u001b[0m                               Traceback (most recent call last)",
      "\u001b[0;32m<ipython-input-32-0bcb1ed18051>\u001b[0m in \u001b[0;36m<module>\u001b[0;34m\u001b[0m\n\u001b[0;32m----> 1\u001b[0;31m \u001b[0mmovies_details\u001b[0m \u001b[0;34m=\u001b[0m \u001b[0mpd\u001b[0m\u001b[0;34m.\u001b[0m\u001b[0mread_csv\u001b[0m\u001b[0;34m(\u001b[0m\u001b[0;34m\"../raw_data/tmdb-api/movies_details.csv\"\u001b[0m\u001b[0;34m)\u001b[0m\u001b[0;34m\u001b[0m\u001b[0;34m\u001b[0m\u001b[0m\n\u001b[0m\u001b[1;32m      2\u001b[0m \u001b[0mmovies_details\u001b[0m \u001b[0;34m=\u001b[0m \u001b[0mmovies_details\u001b[0m\u001b[0;34m.\u001b[0m\u001b[0mdrop\u001b[0m\u001b[0;34m(\u001b[0m\u001b[0mcolumns\u001b[0m\u001b[0;34m=\u001b[0m\u001b[0;34m[\u001b[0m\u001b[0;34m'Unnamed: 0'\u001b[0m\u001b[0;34m]\u001b[0m\u001b[0;34m)\u001b[0m\u001b[0;34m\u001b[0m\u001b[0;34m\u001b[0m\u001b[0m\n\u001b[1;32m      3\u001b[0m \u001b[0mmovies_details\u001b[0m\u001b[0;34m.\u001b[0m\u001b[0mhead\u001b[0m\u001b[0;34m(\u001b[0m\u001b[0;36m4\u001b[0m\u001b[0;34m)\u001b[0m\u001b[0;34m\u001b[0m\u001b[0;34m\u001b[0m\u001b[0m\n\u001b[1;32m      4\u001b[0m \u001b[0;34m\u001b[0m\u001b[0m\n\u001b[1;32m      5\u001b[0m \u001b[0mprint\u001b[0m\u001b[0;34m(\u001b[0m\u001b[0;34mf'Number of entries that the API brought us: {movies_details.shape[0]}'\u001b[0m\u001b[0;34m)\u001b[0m\u001b[0;34m\u001b[0m\u001b[0;34m\u001b[0m\u001b[0m\n",
      "\u001b[0;32m~/.pyenv/versions/3.7.7/envs/lewagon/lib/python3.7/site-packages/pandas/io/parsers.py\u001b[0m in \u001b[0;36mread_csv\u001b[0;34m(filepath_or_buffer, sep, delimiter, header, names, index_col, usecols, squeeze, prefix, mangle_dupe_cols, dtype, engine, converters, true_values, false_values, skipinitialspace, skiprows, skipfooter, nrows, na_values, keep_default_na, na_filter, verbose, skip_blank_lines, parse_dates, infer_datetime_format, keep_date_col, date_parser, dayfirst, cache_dates, iterator, chunksize, compression, thousands, decimal, lineterminator, quotechar, quoting, doublequote, escapechar, comment, encoding, dialect, error_bad_lines, warn_bad_lines, delim_whitespace, low_memory, memory_map, float_precision)\u001b[0m\n\u001b[1;32m    686\u001b[0m     )\n\u001b[1;32m    687\u001b[0m \u001b[0;34m\u001b[0m\u001b[0m\n\u001b[0;32m--> 688\u001b[0;31m     \u001b[0;32mreturn\u001b[0m \u001b[0m_read\u001b[0m\u001b[0;34m(\u001b[0m\u001b[0mfilepath_or_buffer\u001b[0m\u001b[0;34m,\u001b[0m \u001b[0mkwds\u001b[0m\u001b[0;34m)\u001b[0m\u001b[0;34m\u001b[0m\u001b[0;34m\u001b[0m\u001b[0m\n\u001b[0m\u001b[1;32m    689\u001b[0m \u001b[0;34m\u001b[0m\u001b[0m\n\u001b[1;32m    690\u001b[0m \u001b[0;34m\u001b[0m\u001b[0m\n",
      "\u001b[0;32m~/.pyenv/versions/3.7.7/envs/lewagon/lib/python3.7/site-packages/pandas/io/parsers.py\u001b[0m in \u001b[0;36m_read\u001b[0;34m(filepath_or_buffer, kwds)\u001b[0m\n\u001b[1;32m    458\u001b[0m \u001b[0;34m\u001b[0m\u001b[0m\n\u001b[1;32m    459\u001b[0m     \u001b[0;32mtry\u001b[0m\u001b[0;34m:\u001b[0m\u001b[0;34m\u001b[0m\u001b[0;34m\u001b[0m\u001b[0m\n\u001b[0;32m--> 460\u001b[0;31m         \u001b[0mdata\u001b[0m \u001b[0;34m=\u001b[0m \u001b[0mparser\u001b[0m\u001b[0;34m.\u001b[0m\u001b[0mread\u001b[0m\u001b[0;34m(\u001b[0m\u001b[0mnrows\u001b[0m\u001b[0;34m)\u001b[0m\u001b[0;34m\u001b[0m\u001b[0;34m\u001b[0m\u001b[0m\n\u001b[0m\u001b[1;32m    461\u001b[0m     \u001b[0;32mfinally\u001b[0m\u001b[0;34m:\u001b[0m\u001b[0;34m\u001b[0m\u001b[0;34m\u001b[0m\u001b[0m\n\u001b[1;32m    462\u001b[0m         \u001b[0mparser\u001b[0m\u001b[0;34m.\u001b[0m\u001b[0mclose\u001b[0m\u001b[0;34m(\u001b[0m\u001b[0;34m)\u001b[0m\u001b[0;34m\u001b[0m\u001b[0;34m\u001b[0m\u001b[0m\n",
      "\u001b[0;32m~/.pyenv/versions/3.7.7/envs/lewagon/lib/python3.7/site-packages/pandas/io/parsers.py\u001b[0m in \u001b[0;36mread\u001b[0;34m(self, nrows)\u001b[0m\n\u001b[1;32m   1196\u001b[0m     \u001b[0;32mdef\u001b[0m \u001b[0mread\u001b[0m\u001b[0;34m(\u001b[0m\u001b[0mself\u001b[0m\u001b[0;34m,\u001b[0m \u001b[0mnrows\u001b[0m\u001b[0;34m=\u001b[0m\u001b[0;32mNone\u001b[0m\u001b[0;34m)\u001b[0m\u001b[0;34m:\u001b[0m\u001b[0;34m\u001b[0m\u001b[0;34m\u001b[0m\u001b[0m\n\u001b[1;32m   1197\u001b[0m         \u001b[0mnrows\u001b[0m \u001b[0;34m=\u001b[0m \u001b[0m_validate_integer\u001b[0m\u001b[0;34m(\u001b[0m\u001b[0;34m\"nrows\"\u001b[0m\u001b[0;34m,\u001b[0m \u001b[0mnrows\u001b[0m\u001b[0;34m)\u001b[0m\u001b[0;34m\u001b[0m\u001b[0;34m\u001b[0m\u001b[0m\n\u001b[0;32m-> 1198\u001b[0;31m         \u001b[0mret\u001b[0m \u001b[0;34m=\u001b[0m \u001b[0mself\u001b[0m\u001b[0;34m.\u001b[0m\u001b[0m_engine\u001b[0m\u001b[0;34m.\u001b[0m\u001b[0mread\u001b[0m\u001b[0;34m(\u001b[0m\u001b[0mnrows\u001b[0m\u001b[0;34m)\u001b[0m\u001b[0;34m\u001b[0m\u001b[0;34m\u001b[0m\u001b[0m\n\u001b[0m\u001b[1;32m   1199\u001b[0m \u001b[0;34m\u001b[0m\u001b[0m\n\u001b[1;32m   1200\u001b[0m         \u001b[0;31m# May alter columns / col_dict\u001b[0m\u001b[0;34m\u001b[0m\u001b[0;34m\u001b[0m\u001b[0;34m\u001b[0m\u001b[0m\n",
      "\u001b[0;32m~/.pyenv/versions/3.7.7/envs/lewagon/lib/python3.7/site-packages/pandas/io/parsers.py\u001b[0m in \u001b[0;36mread\u001b[0;34m(self, nrows)\u001b[0m\n\u001b[1;32m   2155\u001b[0m     \u001b[0;32mdef\u001b[0m \u001b[0mread\u001b[0m\u001b[0;34m(\u001b[0m\u001b[0mself\u001b[0m\u001b[0;34m,\u001b[0m \u001b[0mnrows\u001b[0m\u001b[0;34m=\u001b[0m\u001b[0;32mNone\u001b[0m\u001b[0;34m)\u001b[0m\u001b[0;34m:\u001b[0m\u001b[0;34m\u001b[0m\u001b[0;34m\u001b[0m\u001b[0m\n\u001b[1;32m   2156\u001b[0m         \u001b[0;32mtry\u001b[0m\u001b[0;34m:\u001b[0m\u001b[0;34m\u001b[0m\u001b[0;34m\u001b[0m\u001b[0m\n\u001b[0;32m-> 2157\u001b[0;31m             \u001b[0mdata\u001b[0m \u001b[0;34m=\u001b[0m \u001b[0mself\u001b[0m\u001b[0;34m.\u001b[0m\u001b[0m_reader\u001b[0m\u001b[0;34m.\u001b[0m\u001b[0mread\u001b[0m\u001b[0;34m(\u001b[0m\u001b[0mnrows\u001b[0m\u001b[0;34m)\u001b[0m\u001b[0;34m\u001b[0m\u001b[0;34m\u001b[0m\u001b[0m\n\u001b[0m\u001b[1;32m   2158\u001b[0m         \u001b[0;32mexcept\u001b[0m \u001b[0mStopIteration\u001b[0m\u001b[0;34m:\u001b[0m\u001b[0;34m\u001b[0m\u001b[0;34m\u001b[0m\u001b[0m\n\u001b[1;32m   2159\u001b[0m             \u001b[0;32mif\u001b[0m \u001b[0mself\u001b[0m\u001b[0;34m.\u001b[0m\u001b[0m_first_chunk\u001b[0m\u001b[0;34m:\u001b[0m\u001b[0;34m\u001b[0m\u001b[0;34m\u001b[0m\u001b[0m\n",
      "\u001b[0;32mpandas/_libs/parsers.pyx\u001b[0m in \u001b[0;36mpandas._libs.parsers.TextReader.read\u001b[0;34m()\u001b[0m\n",
      "\u001b[0;32mpandas/_libs/parsers.pyx\u001b[0m in \u001b[0;36mpandas._libs.parsers.TextReader._read_low_memory\u001b[0;34m()\u001b[0m\n",
      "\u001b[0;32mpandas/_libs/parsers.pyx\u001b[0m in \u001b[0;36mpandas._libs.parsers.TextReader._read_rows\u001b[0;34m()\u001b[0m\n",
      "\u001b[0;32mpandas/_libs/parsers.pyx\u001b[0m in \u001b[0;36mpandas._libs.parsers.TextReader._tokenize_rows\u001b[0;34m()\u001b[0m\n",
      "\u001b[0;32mpandas/_libs/parsers.pyx\u001b[0m in \u001b[0;36mpandas._libs.parsers.raise_parser_error\u001b[0;34m()\u001b[0m\n",
      "\u001b[0;31mParserError\u001b[0m: Error tokenizing data. C error: Buffer overflow caught - possible malformed input file.\n"
     ]
    }
   ],
   "source": [
    "movies_details = pd.read_csv(\"../raw_data/tmdb-api/movies_details.csv\")\n",
    "movies_details = movies_details.drop(columns=['Unnamed: 0'])\n",
    "movies_details.head(4)\n",
    "\n",
    "print(f'Number of entries that the API brought us: {movies_details.shape[0]}')"
   ]
  },
  {
   "cell_type": "markdown",
   "metadata": {},
   "source": [
    "### Remove entries without detail"
   ]
  },
  {
   "cell_type": "code",
   "execution_count": null,
   "metadata": {
    "ExecuteTime": {
     "end_time": "2020-11-25T14:16:36.987636Z",
     "start_time": "2020-11-25T14:16:36.970844Z"
    }
   },
   "outputs": [],
   "source": [
    "movies_without_details = movies_details[movies_details.movie_details == '(None, None, None, None, None, None, None)'].copy()\n",
    "\n",
    "print(f'Number of entries without details: {movies_without_details.shape[0]}')"
   ]
  },
  {
   "cell_type": "code",
   "execution_count": null,
   "metadata": {
    "ExecuteTime": {
     "end_time": "2020-11-25T14:16:37.170310Z",
     "start_time": "2020-11-25T14:16:36.992399Z"
    }
   },
   "outputs": [],
   "source": [
    "movies_without_details = movies_without_details.merge(movies, on=['movieId'])\n",
    "movies_without_details[['title', 'tmdbId_x']].to_html(\"movies_without_details.html\")"
   ]
  },
  {
   "cell_type": "markdown",
   "metadata": {},
   "source": [
    "After analysing the movies that didn't had details we discovered that they were in fact TV Series, an thent we should have look for their details on another API. So we decidid to exclude theses TV series from our dataset."
   ]
  },
  {
   "cell_type": "code",
   "execution_count": null,
   "metadata": {
    "ExecuteTime": {
     "end_time": "2020-11-25T14:16:37.203615Z",
     "start_time": "2020-11-25T14:16:37.172932Z"
    }
   },
   "outputs": [],
   "source": [
    "movies_details = movies_details[movies_details.movie_details != '(None, None, None, None, None, None, None)'].copy()\n",
    "\n",
    "print(f'Number of entries with details: {movies_details.shape[0]}')"
   ]
  },
  {
   "cell_type": "code",
   "execution_count": null,
   "metadata": {
    "ExecuteTime": {
     "end_time": "2020-11-25T14:16:37.219625Z",
     "start_time": "2020-11-25T14:16:37.208135Z"
    }
   },
   "outputs": [],
   "source": [
    "movies_details.reset_index(drop=True, inplace=True)"
   ]
  },
  {
   "cell_type": "markdown",
   "metadata": {},
   "source": [
    "### Create columns for every key received from the API"
   ]
  },
  {
   "cell_type": "code",
   "execution_count": null,
   "metadata": {
    "ExecuteTime": {
     "end_time": "2020-11-25T14:16:37.236961Z",
     "start_time": "2020-11-25T14:16:37.224530Z"
    }
   },
   "outputs": [],
   "source": [
    "import ast\n",
    "\n",
    "detail = movies_details.iloc[0].movie_details\n",
    "columns = list(ast.literal_eval(detail).keys())\n",
    "columns"
   ]
  },
  {
   "cell_type": "code",
   "execution_count": null,
   "metadata": {
    "ExecuteTime": {
     "end_time": "2020-11-25T14:16:37.245012Z",
     "start_time": "2020-11-25T14:16:37.241042Z"
    }
   },
   "outputs": [],
   "source": [
    "def convert_to_dict(details):\n",
    "    dict_details = ast.literal_eval(details)\n",
    "    return dict_details"
   ]
  },
  {
   "cell_type": "code",
   "execution_count": null,
   "metadata": {
    "ExecuteTime": {
     "end_time": "2020-11-25T14:16:39.757153Z",
     "start_time": "2020-11-25T14:16:37.249245Z"
    }
   },
   "outputs": [],
   "source": [
    "movies_details.movie_details = movies_details.movie_details.apply(convert_to_dict)"
   ]
  },
  {
   "cell_type": "code",
   "execution_count": null,
   "metadata": {
    "ExecuteTime": {
     "end_time": "2020-11-25T14:16:39.896342Z",
     "start_time": "2020-11-25T14:16:39.759577Z"
    }
   },
   "outputs": [],
   "source": [
    "columns_of_details = pd.DataFrame.from_records(movies_details.movie_details.values, columns=columns)"
   ]
  },
  {
   "cell_type": "code",
   "execution_count": null,
   "metadata": {
    "ExecuteTime": {
     "end_time": "2020-11-25T14:16:39.917945Z",
     "start_time": "2020-11-25T14:16:39.899069Z"
    }
   },
   "outputs": [],
   "source": [
    "movies_details[columns] = columns_of_details"
   ]
  },
  {
   "cell_type": "code",
   "execution_count": null,
   "metadata": {
    "ExecuteTime": {
     "end_time": "2020-11-25T14:16:39.984064Z",
     "start_time": "2020-11-25T14:16:39.922724Z"
    }
   },
   "outputs": [],
   "source": [
    "movies_details_export = movies_details[['movieId', 'language', 'overview', 'popularity', 'release', 'runtime', 'vote_average', 'vote_count']].copy()"
   ]
  },
  {
   "cell_type": "code",
   "execution_count": null,
   "metadata": {
    "ExecuteTime": {
     "end_time": "2020-11-25T14:16:40.049129Z",
     "start_time": "2020-11-25T14:16:39.987325Z"
    }
   },
   "outputs": [],
   "source": [
    "movies_details_export"
   ]
  },
  {
   "cell_type": "markdown",
   "metadata": {},
   "source": [
    "### Export Api data to CSV"
   ]
  },
  {
   "cell_type": "code",
   "execution_count": null,
   "metadata": {
    "ExecuteTime": {
     "end_time": "2020-11-25T14:16:40.964131Z",
     "start_time": "2020-11-25T14:16:40.068025Z"
    }
   },
   "outputs": [],
   "source": [
    "movies_details_export.to_csv('../raw_data/tmdb-api/movies_details.csv', index=False)"
   ]
  },
  {
   "cell_type": "markdown",
   "metadata": {},
   "source": [
    "# Test with Collaborative filtering model"
   ]
  },
  {
   "cell_type": "markdown",
   "metadata": {},
   "source": [
    "Collaborative filtering based recommendation engine is a family of algorithms that tries to find similar users based on similar preferences, actions and activities . It then looks at the movies for one user and recommends it to a similar user. Let’s take for example user A who is similar to user B, we know they are both similar because they both like the same video games, comic books, etc., if user A has seen a movie that user B hasn’t, then this recommendation engine will recommend that movie to user B."
   ]
  },
  {
   "cell_type": "code",
   "execution_count": null,
   "metadata": {
    "ExecuteTime": {
     "end_time": "2020-11-25T14:16:41.005342Z",
     "start_time": "2020-11-25T14:16:40.966476Z"
    }
   },
   "outputs": [],
   "source": [
    "movies.head()"
   ]
  },
  {
   "cell_type": "code",
   "execution_count": null,
   "metadata": {
    "ExecuteTime": {
     "end_time": "2020-11-25T14:16:41.034251Z",
     "start_time": "2020-11-25T14:16:41.017961Z"
    }
   },
   "outputs": [],
   "source": [
    "ratings.head()"
   ]
  },
  {
   "cell_type": "markdown",
   "metadata": {},
   "source": [
    "## Create dataset crossing users, movies and ratings"
   ]
  },
  {
   "cell_type": "markdown",
   "metadata": {},
   "source": [
    "Check if all the movieIds are unique"
   ]
  },
  {
   "cell_type": "code",
   "execution_count": 33,
   "metadata": {
    "ExecuteTime": {
     "end_time": "2020-11-25T14:16:41.043627Z",
     "start_time": "2020-11-25T14:16:41.037525Z"
    }
   },
   "outputs": [
    {
     "data": {
      "text/plain": [
       "62316"
      ]
     },
     "execution_count": 33,
     "metadata": {},
     "output_type": "execute_result"
    }
   ],
   "source": [
    "len(movies.movieId)"
   ]
  },
  {
   "cell_type": "code",
   "execution_count": 34,
   "metadata": {
    "ExecuteTime": {
     "end_time": "2020-11-25T14:17:30.428689Z",
     "start_time": "2020-11-25T14:17:30.417015Z"
    }
   },
   "outputs": [
    {
     "data": {
      "text/plain": [
       "62316"
      ]
     },
     "execution_count": 34,
     "metadata": {},
     "output_type": "execute_result"
    }
   ],
   "source": [
    "len(movies.movieId.unique())"
   ]
  },
  {
   "cell_type": "code",
   "execution_count": 35,
   "metadata": {
    "ExecuteTime": {
     "end_time": "2020-11-25T14:17:46.885849Z",
     "start_time": "2020-11-25T14:17:42.612715Z"
    }
   },
   "outputs": [],
   "source": [
    "from scipy.sparse import csr_matrix\n",
    "from pandas.api.types import CategoricalDtype\n",
    "\n",
    "movie_c = CategoricalDtype(sorted(ratings.movieId.unique()), ordered=True)\n",
    "user_c = CategoricalDtype(sorted(ratings.userId.unique()), ordered=True)\n",
    "\n",
    "row = ratings.userId.astype(user_c).cat.codes\n",
    "col = ratings.movieId.astype(movie_c).cat.codes\n",
    "\n",
    "sparse_matrix = csr_matrix((ratings[\"rating\"], (row, col)), \\\n",
    "                           shape=(user_c.categories.size, movie_c.categories.size))\n",
    "\n",
    "df = pd.DataFrame.sparse.from_spmatrix(sparse_matrix, index=user_c.categories, columns=movie_c.categories)"
   ]
  },
  {
   "cell_type": "code",
   "execution_count": 36,
   "metadata": {
    "ExecuteTime": {
     "end_time": "2020-11-25T14:18:09.092137Z",
     "start_time": "2020-11-25T14:18:08.894782Z"
    },
    "scrolled": true
   },
   "outputs": [
    {
     "data": {
      "text/html": [
       "<div>\n",
       "<style scoped>\n",
       "    .dataframe tbody tr th:only-of-type {\n",
       "        vertical-align: middle;\n",
       "    }\n",
       "\n",
       "    .dataframe tbody tr th {\n",
       "        vertical-align: top;\n",
       "    }\n",
       "\n",
       "    .dataframe thead th {\n",
       "        text-align: right;\n",
       "    }\n",
       "</style>\n",
       "<table border=\"1\" class=\"dataframe\">\n",
       "  <thead>\n",
       "    <tr style=\"text-align: right;\">\n",
       "      <th></th>\n",
       "      <th>1</th>\n",
       "      <th>2</th>\n",
       "      <th>3</th>\n",
       "      <th>4</th>\n",
       "      <th>5</th>\n",
       "      <th>6</th>\n",
       "      <th>7</th>\n",
       "      <th>8</th>\n",
       "      <th>9</th>\n",
       "      <th>10</th>\n",
       "      <th>...</th>\n",
       "      <th>209145</th>\n",
       "      <th>209147</th>\n",
       "      <th>209151</th>\n",
       "      <th>209153</th>\n",
       "      <th>209155</th>\n",
       "      <th>209157</th>\n",
       "      <th>209159</th>\n",
       "      <th>209163</th>\n",
       "      <th>209169</th>\n",
       "      <th>209171</th>\n",
       "    </tr>\n",
       "  </thead>\n",
       "  <tbody>\n",
       "    <tr>\n",
       "      <th>1</th>\n",
       "      <td>0.0</td>\n",
       "      <td>0.0</td>\n",
       "      <td>0.0</td>\n",
       "      <td>0.0</td>\n",
       "      <td>0.0</td>\n",
       "      <td>0.0</td>\n",
       "      <td>0.0</td>\n",
       "      <td>0.0</td>\n",
       "      <td>0.0</td>\n",
       "      <td>0.0</td>\n",
       "      <td>...</td>\n",
       "      <td>0.0</td>\n",
       "      <td>0.0</td>\n",
       "      <td>0.0</td>\n",
       "      <td>0.0</td>\n",
       "      <td>0.0</td>\n",
       "      <td>0.0</td>\n",
       "      <td>0.0</td>\n",
       "      <td>0.0</td>\n",
       "      <td>0.0</td>\n",
       "      <td>0.0</td>\n",
       "    </tr>\n",
       "    <tr>\n",
       "      <th>2</th>\n",
       "      <td>3.5</td>\n",
       "      <td>0.0</td>\n",
       "      <td>0.0</td>\n",
       "      <td>0.0</td>\n",
       "      <td>0.0</td>\n",
       "      <td>0.0</td>\n",
       "      <td>0.0</td>\n",
       "      <td>0.0</td>\n",
       "      <td>0.0</td>\n",
       "      <td>0.0</td>\n",
       "      <td>...</td>\n",
       "      <td>0.0</td>\n",
       "      <td>0.0</td>\n",
       "      <td>0.0</td>\n",
       "      <td>0.0</td>\n",
       "      <td>0.0</td>\n",
       "      <td>0.0</td>\n",
       "      <td>0.0</td>\n",
       "      <td>0.0</td>\n",
       "      <td>0.0</td>\n",
       "      <td>0.0</td>\n",
       "    </tr>\n",
       "    <tr>\n",
       "      <th>3</th>\n",
       "      <td>4.0</td>\n",
       "      <td>0.0</td>\n",
       "      <td>0.0</td>\n",
       "      <td>0.0</td>\n",
       "      <td>0.0</td>\n",
       "      <td>0.0</td>\n",
       "      <td>0.0</td>\n",
       "      <td>0.0</td>\n",
       "      <td>0.0</td>\n",
       "      <td>0.0</td>\n",
       "      <td>...</td>\n",
       "      <td>0.0</td>\n",
       "      <td>0.0</td>\n",
       "      <td>0.0</td>\n",
       "      <td>0.0</td>\n",
       "      <td>0.0</td>\n",
       "      <td>0.0</td>\n",
       "      <td>0.0</td>\n",
       "      <td>0.0</td>\n",
       "      <td>0.0</td>\n",
       "      <td>0.0</td>\n",
       "    </tr>\n",
       "    <tr>\n",
       "      <th>4</th>\n",
       "      <td>3.0</td>\n",
       "      <td>0.0</td>\n",
       "      <td>0.0</td>\n",
       "      <td>0.0</td>\n",
       "      <td>0.0</td>\n",
       "      <td>0.0</td>\n",
       "      <td>0.0</td>\n",
       "      <td>0.0</td>\n",
       "      <td>0.0</td>\n",
       "      <td>0.0</td>\n",
       "      <td>...</td>\n",
       "      <td>0.0</td>\n",
       "      <td>0.0</td>\n",
       "      <td>0.0</td>\n",
       "      <td>0.0</td>\n",
       "      <td>0.0</td>\n",
       "      <td>0.0</td>\n",
       "      <td>0.0</td>\n",
       "      <td>0.0</td>\n",
       "      <td>0.0</td>\n",
       "      <td>0.0</td>\n",
       "    </tr>\n",
       "    <tr>\n",
       "      <th>5</th>\n",
       "      <td>4.0</td>\n",
       "      <td>0.0</td>\n",
       "      <td>0.0</td>\n",
       "      <td>0.0</td>\n",
       "      <td>0.0</td>\n",
       "      <td>0.0</td>\n",
       "      <td>0.0</td>\n",
       "      <td>0.0</td>\n",
       "      <td>0.0</td>\n",
       "      <td>0.0</td>\n",
       "      <td>...</td>\n",
       "      <td>0.0</td>\n",
       "      <td>0.0</td>\n",
       "      <td>0.0</td>\n",
       "      <td>0.0</td>\n",
       "      <td>0.0</td>\n",
       "      <td>0.0</td>\n",
       "      <td>0.0</td>\n",
       "      <td>0.0</td>\n",
       "      <td>0.0</td>\n",
       "      <td>0.0</td>\n",
       "    </tr>\n",
       "    <tr>\n",
       "      <th>...</th>\n",
       "      <td>...</td>\n",
       "      <td>...</td>\n",
       "      <td>...</td>\n",
       "      <td>...</td>\n",
       "      <td>...</td>\n",
       "      <td>...</td>\n",
       "      <td>...</td>\n",
       "      <td>...</td>\n",
       "      <td>...</td>\n",
       "      <td>...</td>\n",
       "      <td>...</td>\n",
       "      <td>...</td>\n",
       "      <td>...</td>\n",
       "      <td>...</td>\n",
       "      <td>...</td>\n",
       "      <td>...</td>\n",
       "      <td>...</td>\n",
       "      <td>...</td>\n",
       "      <td>...</td>\n",
       "      <td>...</td>\n",
       "      <td>...</td>\n",
       "    </tr>\n",
       "    <tr>\n",
       "      <th>162537</th>\n",
       "      <td>0.0</td>\n",
       "      <td>0.0</td>\n",
       "      <td>0.0</td>\n",
       "      <td>0.0</td>\n",
       "      <td>0.0</td>\n",
       "      <td>0.0</td>\n",
       "      <td>0.0</td>\n",
       "      <td>0.0</td>\n",
       "      <td>0.0</td>\n",
       "      <td>0.0</td>\n",
       "      <td>...</td>\n",
       "      <td>0.0</td>\n",
       "      <td>0.0</td>\n",
       "      <td>0.0</td>\n",
       "      <td>0.0</td>\n",
       "      <td>0.0</td>\n",
       "      <td>0.0</td>\n",
       "      <td>0.0</td>\n",
       "      <td>0.0</td>\n",
       "      <td>0.0</td>\n",
       "      <td>0.0</td>\n",
       "    </tr>\n",
       "    <tr>\n",
       "      <th>162538</th>\n",
       "      <td>2.0</td>\n",
       "      <td>0.0</td>\n",
       "      <td>0.0</td>\n",
       "      <td>0.0</td>\n",
       "      <td>0.0</td>\n",
       "      <td>0.0</td>\n",
       "      <td>0.0</td>\n",
       "      <td>0.0</td>\n",
       "      <td>0.0</td>\n",
       "      <td>0.0</td>\n",
       "      <td>...</td>\n",
       "      <td>0.0</td>\n",
       "      <td>0.0</td>\n",
       "      <td>0.0</td>\n",
       "      <td>0.0</td>\n",
       "      <td>0.0</td>\n",
       "      <td>0.0</td>\n",
       "      <td>0.0</td>\n",
       "      <td>0.0</td>\n",
       "      <td>0.0</td>\n",
       "      <td>0.0</td>\n",
       "    </tr>\n",
       "    <tr>\n",
       "      <th>162539</th>\n",
       "      <td>0.0</td>\n",
       "      <td>0.0</td>\n",
       "      <td>0.0</td>\n",
       "      <td>0.0</td>\n",
       "      <td>0.0</td>\n",
       "      <td>0.0</td>\n",
       "      <td>0.0</td>\n",
       "      <td>0.0</td>\n",
       "      <td>0.0</td>\n",
       "      <td>0.0</td>\n",
       "      <td>...</td>\n",
       "      <td>0.0</td>\n",
       "      <td>0.0</td>\n",
       "      <td>0.0</td>\n",
       "      <td>0.0</td>\n",
       "      <td>0.0</td>\n",
       "      <td>0.0</td>\n",
       "      <td>0.0</td>\n",
       "      <td>0.0</td>\n",
       "      <td>0.0</td>\n",
       "      <td>0.0</td>\n",
       "    </tr>\n",
       "    <tr>\n",
       "      <th>162540</th>\n",
       "      <td>0.0</td>\n",
       "      <td>0.0</td>\n",
       "      <td>0.0</td>\n",
       "      <td>0.0</td>\n",
       "      <td>0.0</td>\n",
       "      <td>0.0</td>\n",
       "      <td>0.0</td>\n",
       "      <td>0.0</td>\n",
       "      <td>0.0</td>\n",
       "      <td>0.0</td>\n",
       "      <td>...</td>\n",
       "      <td>0.0</td>\n",
       "      <td>0.0</td>\n",
       "      <td>0.0</td>\n",
       "      <td>0.0</td>\n",
       "      <td>0.0</td>\n",
       "      <td>0.0</td>\n",
       "      <td>0.0</td>\n",
       "      <td>0.0</td>\n",
       "      <td>0.0</td>\n",
       "      <td>0.0</td>\n",
       "    </tr>\n",
       "    <tr>\n",
       "      <th>162541</th>\n",
       "      <td>0.0</td>\n",
       "      <td>0.0</td>\n",
       "      <td>0.0</td>\n",
       "      <td>0.0</td>\n",
       "      <td>0.0</td>\n",
       "      <td>0.0</td>\n",
       "      <td>0.0</td>\n",
       "      <td>0.0</td>\n",
       "      <td>0.0</td>\n",
       "      <td>0.0</td>\n",
       "      <td>...</td>\n",
       "      <td>0.0</td>\n",
       "      <td>0.0</td>\n",
       "      <td>0.0</td>\n",
       "      <td>0.0</td>\n",
       "      <td>0.0</td>\n",
       "      <td>0.0</td>\n",
       "      <td>0.0</td>\n",
       "      <td>0.0</td>\n",
       "      <td>0.0</td>\n",
       "      <td>0.0</td>\n",
       "    </tr>\n",
       "  </tbody>\n",
       "</table>\n",
       "<p>162541 rows × 59047 columns</p>\n",
       "</div>"
      ],
      "text/plain": [
       "        1       2       3       4       5       6       7       8       \\\n",
       "1          0.0     0.0     0.0     0.0     0.0     0.0     0.0     0.0   \n",
       "2          3.5     0.0     0.0     0.0     0.0     0.0     0.0     0.0   \n",
       "3          4.0     0.0     0.0     0.0     0.0     0.0     0.0     0.0   \n",
       "4          3.0     0.0     0.0     0.0     0.0     0.0     0.0     0.0   \n",
       "5          4.0     0.0     0.0     0.0     0.0     0.0     0.0     0.0   \n",
       "...        ...     ...     ...     ...     ...     ...     ...     ...   \n",
       "162537     0.0     0.0     0.0     0.0     0.0     0.0     0.0     0.0   \n",
       "162538     2.0     0.0     0.0     0.0     0.0     0.0     0.0     0.0   \n",
       "162539     0.0     0.0     0.0     0.0     0.0     0.0     0.0     0.0   \n",
       "162540     0.0     0.0     0.0     0.0     0.0     0.0     0.0     0.0   \n",
       "162541     0.0     0.0     0.0     0.0     0.0     0.0     0.0     0.0   \n",
       "\n",
       "        9       10      ...  209145  209147  209151  209153  209155  209157  \\\n",
       "1          0.0     0.0  ...     0.0     0.0     0.0     0.0     0.0     0.0   \n",
       "2          0.0     0.0  ...     0.0     0.0     0.0     0.0     0.0     0.0   \n",
       "3          0.0     0.0  ...     0.0     0.0     0.0     0.0     0.0     0.0   \n",
       "4          0.0     0.0  ...     0.0     0.0     0.0     0.0     0.0     0.0   \n",
       "5          0.0     0.0  ...     0.0     0.0     0.0     0.0     0.0     0.0   \n",
       "...        ...     ...  ...     ...     ...     ...     ...     ...     ...   \n",
       "162537     0.0     0.0  ...     0.0     0.0     0.0     0.0     0.0     0.0   \n",
       "162538     0.0     0.0  ...     0.0     0.0     0.0     0.0     0.0     0.0   \n",
       "162539     0.0     0.0  ...     0.0     0.0     0.0     0.0     0.0     0.0   \n",
       "162540     0.0     0.0  ...     0.0     0.0     0.0     0.0     0.0     0.0   \n",
       "162541     0.0     0.0  ...     0.0     0.0     0.0     0.0     0.0     0.0   \n",
       "\n",
       "        209159  209163  209169  209171  \n",
       "1          0.0     0.0     0.0     0.0  \n",
       "2          0.0     0.0     0.0     0.0  \n",
       "3          0.0     0.0     0.0     0.0  \n",
       "4          0.0     0.0     0.0     0.0  \n",
       "5          0.0     0.0     0.0     0.0  \n",
       "...        ...     ...     ...     ...  \n",
       "162537     0.0     0.0     0.0     0.0  \n",
       "162538     0.0     0.0     0.0     0.0  \n",
       "162539     0.0     0.0     0.0     0.0  \n",
       "162540     0.0     0.0     0.0     0.0  \n",
       "162541     0.0     0.0     0.0     0.0  \n",
       "\n",
       "[162541 rows x 59047 columns]"
      ]
     },
     "execution_count": 36,
     "metadata": {},
     "output_type": "execute_result"
    }
   ],
   "source": [
    "df"
   ]
  },
  {
   "cell_type": "code",
   "execution_count": 37,
   "metadata": {
    "ExecuteTime": {
     "end_time": "2020-11-25T15:21:02.864241Z",
     "start_time": "2020-11-25T15:20:59.371761Z"
    },
    "scrolled": true
   },
   "outputs": [
    {
     "data": {
      "text/html": [
       "<div>\n",
       "<style scoped>\n",
       "    .dataframe tbody tr th:only-of-type {\n",
       "        vertical-align: middle;\n",
       "    }\n",
       "\n",
       "    .dataframe tbody tr th {\n",
       "        vertical-align: top;\n",
       "    }\n",
       "\n",
       "    .dataframe thead th {\n",
       "        text-align: right;\n",
       "    }\n",
       "</style>\n",
       "<table border=\"1\" class=\"dataframe\">\n",
       "  <thead>\n",
       "    <tr style=\"text-align: right;\">\n",
       "      <th></th>\n",
       "      <th>1</th>\n",
       "      <th>2</th>\n",
       "      <th>3</th>\n",
       "      <th>4</th>\n",
       "      <th>5</th>\n",
       "      <th>6</th>\n",
       "      <th>7</th>\n",
       "      <th>8</th>\n",
       "      <th>9</th>\n",
       "      <th>10</th>\n",
       "      <th>...</th>\n",
       "      <th>209145</th>\n",
       "      <th>209147</th>\n",
       "      <th>209151</th>\n",
       "      <th>209153</th>\n",
       "      <th>209155</th>\n",
       "      <th>209157</th>\n",
       "      <th>209159</th>\n",
       "      <th>209163</th>\n",
       "      <th>209169</th>\n",
       "      <th>209171</th>\n",
       "    </tr>\n",
       "  </thead>\n",
       "  <tbody>\n",
       "    <tr>\n",
       "      <th>0</th>\n",
       "      <td>4</td>\n",
       "      <td>0.0</td>\n",
       "      <td>0.0</td>\n",
       "      <td>0.0</td>\n",
       "      <td>0.0</td>\n",
       "      <td>0.0</td>\n",
       "      <td>0.0</td>\n",
       "      <td>0.0</td>\n",
       "      <td>0.0</td>\n",
       "      <td>0.0</td>\n",
       "      <td>...</td>\n",
       "      <td>0.0</td>\n",
       "      <td>0.0</td>\n",
       "      <td>0.0</td>\n",
       "      <td>0.0</td>\n",
       "      <td>0.0</td>\n",
       "      <td>0.0</td>\n",
       "      <td>0.0</td>\n",
       "      <td>0.0</td>\n",
       "      <td>0.0</td>\n",
       "      <td>0.0</td>\n",
       "    </tr>\n",
       "  </tbody>\n",
       "</table>\n",
       "<p>1 rows × 59047 columns</p>\n",
       "</div>"
      ],
      "text/plain": [
       "   1       2       3       4       5       6       7       8       9       \\\n",
       "0       4     0.0     0.0     0.0     0.0     0.0     0.0     0.0     0.0   \n",
       "\n",
       "   10      ...  209145  209147  209151  209153  209155  209157  209159  \\\n",
       "0     0.0  ...     0.0     0.0     0.0     0.0     0.0     0.0     0.0   \n",
       "\n",
       "   209163  209169  209171  \n",
       "0     0.0     0.0     0.0  \n",
       "\n",
       "[1 rows x 59047 columns]"
      ]
     },
     "execution_count": 37,
     "metadata": {},
     "output_type": "execute_result"
    }
   ],
   "source": [
    "new_user = pd.DataFrame([np.zeros(len(movie_c.categories))], columns=movie_c.categories)\n",
    "new_user[1] = 4\n",
    "new_user"
   ]
  },
  {
   "cell_type": "code",
   "execution_count": 38,
   "metadata": {},
   "outputs": [],
   "source": [
    "def make_user(movieId, rating):\n",
    "    acc = 0\n",
    "    new_user = pd.DataFrame([np.zeros(len(movie_c.categories))], columns=movie_c.categories)\n",
    "    for id in movieId:\n",
    "        new_user[id] = rating[acc]\n",
    "        acc += 1\n",
    "    return new_user"
   ]
  },
  {
   "cell_type": "code",
   "execution_count": 39,
   "metadata": {
    "ExecuteTime": {
     "end_time": "2020-11-25T14:43:56.698037Z",
     "start_time": "2020-11-25T14:43:56.678964Z"
    }
   },
   "outputs": [
    {
     "data": {
      "text/plain": [
       "162541"
      ]
     },
     "execution_count": 39,
     "metadata": {},
     "output_type": "execute_result"
    }
   ],
   "source": [
    "df.index.nunique()"
   ]
  },
  {
   "cell_type": "code",
   "execution_count": 40,
   "metadata": {
    "ExecuteTime": {
     "end_time": "2020-11-25T15:09:01.922475Z",
     "start_time": "2020-11-25T15:02:22.939914Z"
    },
    "scrolled": false
   },
   "outputs": [
    {
     "name": "stderr",
     "output_type": "stream",
     "text": [
      "/home/berns/.pyenv/versions/3.7.7/envs/lewagon/lib/python3.7/site-packages/sklearn/cluster/k_means_.py:1562: RuntimeWarning: init_size=300 should be larger than k=1000. Setting it to 3*k\n",
      "  init_size=init_size)\n",
      "/home/berns/.pyenv/versions/3.7.7/envs/lewagon/lib/python3.7/site-packages/sklearn/cluster/k_means_.py:1562: RuntimeWarning: init_size=300 should be larger than k=1000. Setting it to 3*k\n",
      "  init_size=init_size)\n",
      "/home/berns/.pyenv/versions/3.7.7/envs/lewagon/lib/python3.7/site-packages/sklearn/cluster/k_means_.py:1562: RuntimeWarning: init_size=300 should be larger than k=1000. Setting it to 3*k\n",
      "  init_size=init_size)\n"
     ]
    },
    {
     "data": {
      "text/plain": [
       "MiniBatchKMeans(batch_size=100, compute_labels=True, init='k-means++',\n",
       "        init_size=None, max_iter=100, max_no_improvement=10,\n",
       "        n_clusters=1000, n_init=3, random_state=None,\n",
       "        reassignment_ratio=0.01, tol=0.0, verbose=0)"
      ]
     },
     "execution_count": 40,
     "metadata": {},
     "output_type": "execute_result"
    }
   ],
   "source": [
    "from sklearn.cluster import MiniBatchKMeans, KMeans\n",
    "\n",
    "mbkm = MiniBatchKMeans(n_clusters=1000)\n",
    "mbkm.fit(sparse_matrix)"
   ]
  },
  {
   "cell_type": "code",
   "execution_count": 41,
   "metadata": {
    "ExecuteTime": {
     "end_time": "2020-11-25T15:09:34.862809Z",
     "start_time": "2020-11-25T15:09:34.852567Z"
    }
   },
   "outputs": [
    {
     "data": {
      "text/plain": [
       "array([ 61, 591, 769, ..., 858,  61, 745], dtype=int32)"
      ]
     },
     "execution_count": 41,
     "metadata": {},
     "output_type": "execute_result"
    }
   ],
   "source": [
    "mbkm.labels_"
   ]
  },
  {
   "cell_type": "code",
   "execution_count": 42,
   "metadata": {
    "ExecuteTime": {
     "end_time": "2020-11-25T15:21:23.566204Z",
     "start_time": "2020-11-25T15:21:22.396043Z"
    }
   },
   "outputs": [
    {
     "data": {
      "text/plain": [
       "array([61], dtype=int32)"
      ]
     },
     "execution_count": 42,
     "metadata": {},
     "output_type": "execute_result"
    }
   ],
   "source": [
    "mbkm.predict(new_user)"
   ]
  },
  {
   "cell_type": "code",
   "execution_count": 43,
   "metadata": {},
   "outputs": [
    {
     "data": {
      "text/html": [
       "<div>\n",
       "<style scoped>\n",
       "    .dataframe tbody tr th:only-of-type {\n",
       "        vertical-align: middle;\n",
       "    }\n",
       "\n",
       "    .dataframe tbody tr th {\n",
       "        vertical-align: top;\n",
       "    }\n",
       "\n",
       "    .dataframe thead th {\n",
       "        text-align: right;\n",
       "    }\n",
       "</style>\n",
       "<table border=\"1\" class=\"dataframe\">\n",
       "  <thead>\n",
       "    <tr style=\"text-align: right;\">\n",
       "      <th></th>\n",
       "      <th>1</th>\n",
       "      <th>2</th>\n",
       "      <th>3</th>\n",
       "      <th>4</th>\n",
       "      <th>5</th>\n",
       "      <th>6</th>\n",
       "      <th>7</th>\n",
       "      <th>8</th>\n",
       "      <th>9</th>\n",
       "      <th>10</th>\n",
       "      <th>...</th>\n",
       "      <th>209145</th>\n",
       "      <th>209147</th>\n",
       "      <th>209151</th>\n",
       "      <th>209153</th>\n",
       "      <th>209155</th>\n",
       "      <th>209157</th>\n",
       "      <th>209159</th>\n",
       "      <th>209163</th>\n",
       "      <th>209169</th>\n",
       "      <th>209171</th>\n",
       "    </tr>\n",
       "  </thead>\n",
       "  <tbody>\n",
       "    <tr>\n",
       "      <th>0</th>\n",
       "      <td>4</td>\n",
       "      <td>3</td>\n",
       "      <td>0.0</td>\n",
       "      <td>0.0</td>\n",
       "      <td>0.0</td>\n",
       "      <td>0.0</td>\n",
       "      <td>0.0</td>\n",
       "      <td>0.0</td>\n",
       "      <td>0.0</td>\n",
       "      <td>0.0</td>\n",
       "      <td>...</td>\n",
       "      <td>0.0</td>\n",
       "      <td>0.0</td>\n",
       "      <td>0.0</td>\n",
       "      <td>0.0</td>\n",
       "      <td>0.0</td>\n",
       "      <td>0.0</td>\n",
       "      <td>0.0</td>\n",
       "      <td>0.0</td>\n",
       "      <td>0.0</td>\n",
       "      <td>0.0</td>\n",
       "    </tr>\n",
       "  </tbody>\n",
       "</table>\n",
       "<p>1 rows × 59047 columns</p>\n",
       "</div>"
      ],
      "text/plain": [
       "   1       2       3       4       5       6       7       8       9       \\\n",
       "0       4       3     0.0     0.0     0.0     0.0     0.0     0.0     0.0   \n",
       "\n",
       "   10      ...  209145  209147  209151  209153  209155  209157  209159  \\\n",
       "0     0.0  ...     0.0     0.0     0.0     0.0     0.0     0.0     0.0   \n",
       "\n",
       "   209163  209169  209171  \n",
       "0     0.0     0.0     0.0  \n",
       "\n",
       "[1 rows x 59047 columns]"
      ]
     },
     "execution_count": 43,
     "metadata": {},
     "output_type": "execute_result"
    }
   ],
   "source": [
    "user = make_user([1,2],[4,3])\n",
    "user"
   ]
  },
  {
   "cell_type": "code",
   "execution_count": 44,
   "metadata": {},
   "outputs": [
    {
     "name": "stdout",
     "output_type": "stream",
     "text": [
      "[61]\n"
     ]
    }
   ],
   "source": [
    "print(mbkm.predict(user))"
   ]
  },
  {
   "cell_type": "code",
   "execution_count": 45,
   "metadata": {},
   "outputs": [],
   "source": [
    "def find_title(id):\n",
    "    row = movies.loc[movies['movieId'] == id]\n",
    "    return row['title']"
   ]
  },
  {
   "cell_type": "code",
   "execution_count": 46,
   "metadata": {},
   "outputs": [],
   "source": [
    "def find_id(title):\n",
    "    row = movies.loc[movies['title'] == title]\n",
    "    return row['movieId']"
   ]
  },
  {
   "cell_type": "code",
   "execution_count": 47,
   "metadata": {
    "scrolled": true
   },
   "outputs": [
    {
     "name": "stdout",
     "output_type": "stream",
     "text": [
      "297    Picture Bride (Bijo photo) (1994)\n",
      "Name: title, dtype: object\n"
     ]
    }
   ],
   "source": [
    "print(find_title(301))"
   ]
  },
  {
   "cell_type": "code",
   "execution_count": 48,
   "metadata": {},
   "outputs": [
    {
     "name": "stdout",
     "output_type": "stream",
     "text": [
      "297    301\n",
      "Name: movieId, dtype: int32\n"
     ]
    }
   ],
   "source": [
    "print(find_id('Picture Bride (Bijo photo) (1994)'))"
   ]
  },
  {
   "cell_type": "code",
   "execution_count": 49,
   "metadata": {},
   "outputs": [
    {
     "data": {
      "text/html": [
       "<div>\n",
       "<style scoped>\n",
       "    .dataframe tbody tr th:only-of-type {\n",
       "        vertical-align: middle;\n",
       "    }\n",
       "\n",
       "    .dataframe tbody tr th {\n",
       "        vertical-align: top;\n",
       "    }\n",
       "\n",
       "    .dataframe thead th {\n",
       "        text-align: right;\n",
       "    }\n",
       "</style>\n",
       "<table border=\"1\" class=\"dataframe\">\n",
       "  <thead>\n",
       "    <tr style=\"text-align: right;\">\n",
       "      <th></th>\n",
       "      <th>userId</th>\n",
       "      <th>movieId</th>\n",
       "      <th>rating</th>\n",
       "      <th>timestamp</th>\n",
       "    </tr>\n",
       "  </thead>\n",
       "  <tbody>\n",
       "    <tr>\n",
       "      <th>0</th>\n",
       "      <td>1</td>\n",
       "      <td>296</td>\n",
       "      <td>5.0</td>\n",
       "      <td>1147880044</td>\n",
       "    </tr>\n",
       "    <tr>\n",
       "      <th>1</th>\n",
       "      <td>1</td>\n",
       "      <td>306</td>\n",
       "      <td>3.5</td>\n",
       "      <td>1147868817</td>\n",
       "    </tr>\n",
       "    <tr>\n",
       "      <th>2</th>\n",
       "      <td>1</td>\n",
       "      <td>307</td>\n",
       "      <td>5.0</td>\n",
       "      <td>1147868828</td>\n",
       "    </tr>\n",
       "    <tr>\n",
       "      <th>3</th>\n",
       "      <td>1</td>\n",
       "      <td>665</td>\n",
       "      <td>5.0</td>\n",
       "      <td>1147878820</td>\n",
       "    </tr>\n",
       "    <tr>\n",
       "      <th>4</th>\n",
       "      <td>1</td>\n",
       "      <td>899</td>\n",
       "      <td>3.5</td>\n",
       "      <td>1147868510</td>\n",
       "    </tr>\n",
       "  </tbody>\n",
       "</table>\n",
       "</div>"
      ],
      "text/plain": [
       "   userId  movieId  rating   timestamp\n",
       "0       1      296     5.0  1147880044\n",
       "1       1      306     3.5  1147868817\n",
       "2       1      307     5.0  1147868828\n",
       "3       1      665     5.0  1147878820\n",
       "4       1      899     3.5  1147868510"
      ]
     },
     "execution_count": 49,
     "metadata": {},
     "output_type": "execute_result"
    }
   ],
   "source": [
    "ratings.head()"
   ]
  },
  {
   "cell_type": "code",
   "execution_count": 50,
   "metadata": {
    "scrolled": true
   },
   "outputs": [
    {
     "data": {
      "text/plain": [
       "(0.0, 200.0)"
      ]
     },
     "execution_count": 50,
     "metadata": {},
     "output_type": "execute_result"
    },
    {
     "data": {
      "image/png": "[encoded data removed]",
      "text/plain": [
       "<Figure size 432x288 with 1 Axes>"
      ]
     },
     "metadata": {
      "needs_background": "light"
     },
     "output_type": "display_data"
    }
   ],
   "source": [
    "import matplotlib.pyplot as plt\n",
    "import seaborn as sns\n",
    "\n",
    "sns.histplot(x=ratings.userId.value_counts())\n",
    "plt.xlim(0,200)"
   ]
  },
  {
   "cell_type": "code",
   "execution_count": 51,
   "metadata": {},
   "outputs": [
    {
     "data": {
      "text/plain": [
       "72315     32202\n",
       "80974      9178\n",
       "137293     8913\n",
       "33844      7919\n",
       "20055      7488\n",
       "          ...  \n",
       "52927        20\n",
       "43931        20\n",
       "27547        20\n",
       "27546        20\n",
       "39653        20\n",
       "Name: userId, Length: 162541, dtype: int64"
      ]
     },
     "execution_count": 51,
     "metadata": {},
     "output_type": "execute_result"
    }
   ],
   "source": [
    "ratings.userId.value_counts()"
   ]
  },
  {
   "cell_type": "code",
   "execution_count": 52,
   "metadata": {},
   "outputs": [
    {
     "data": {
      "text/html": [
       "<div>\n",
       "<style scoped>\n",
       "    .dataframe tbody tr th:only-of-type {\n",
       "        vertical-align: middle;\n",
       "    }\n",
       "\n",
       "    .dataframe tbody tr th {\n",
       "        vertical-align: top;\n",
       "    }\n",
       "\n",
       "    .dataframe thead th {\n",
       "        text-align: right;\n",
       "    }\n",
       "</style>\n",
       "<table border=\"1\" class=\"dataframe\">\n",
       "  <thead>\n",
       "    <tr style=\"text-align: right;\">\n",
       "      <th></th>\n",
       "      <th>userId</th>\n",
       "      <th>movieId</th>\n",
       "      <th>rating</th>\n",
       "      <th>timestamp</th>\n",
       "      <th>number_reviews</th>\n",
       "    </tr>\n",
       "  </thead>\n",
       "  <tbody>\n",
       "    <tr>\n",
       "      <th>1</th>\n",
       "      <td>1</td>\n",
       "      <td>306</td>\n",
       "      <td>3.5</td>\n",
       "      <td>1147868817</td>\n",
       "      <td>70.0</td>\n",
       "    </tr>\n",
       "    <tr>\n",
       "      <th>2</th>\n",
       "      <td>1</td>\n",
       "      <td>307</td>\n",
       "      <td>5.0</td>\n",
       "      <td>1147868828</td>\n",
       "      <td>184.0</td>\n",
       "    </tr>\n",
       "    <tr>\n",
       "      <th>3</th>\n",
       "      <td>1</td>\n",
       "      <td>665</td>\n",
       "      <td>5.0</td>\n",
       "      <td>1147878820</td>\n",
       "      <td>656.0</td>\n",
       "    </tr>\n",
       "    <tr>\n",
       "      <th>4</th>\n",
       "      <td>1</td>\n",
       "      <td>899</td>\n",
       "      <td>3.5</td>\n",
       "      <td>1147868510</td>\n",
       "      <td>242.0</td>\n",
       "    </tr>\n",
       "    <tr>\n",
       "      <th>5</th>\n",
       "      <td>1</td>\n",
       "      <td>1088</td>\n",
       "      <td>4.0</td>\n",
       "      <td>1147868495</td>\n",
       "      <td>101.0</td>\n",
       "    </tr>\n",
       "  </tbody>\n",
       "</table>\n",
       "</div>"
      ],
      "text/plain": [
       "   userId  movieId  rating   timestamp  number_reviews\n",
       "1       1      306     3.5  1147868817            70.0\n",
       "2       1      307     5.0  1147868828           184.0\n",
       "3       1      665     5.0  1147878820           656.0\n",
       "4       1      899     3.5  1147868510           242.0\n",
       "5       1     1088     4.0  1147868495           101.0"
      ]
     },
     "execution_count": 52,
     "metadata": {},
     "output_type": "execute_result"
    }
   ],
   "source": [
    "ratings['number_reviews'] = ratings.userId.value_counts()\n",
    "ratings = ratings.dropna(axis=0, subset=['number_reviews'])\n",
    "ratings.head()"
   ]
  },
  {
   "cell_type": "code",
   "execution_count": 53,
   "metadata": {},
   "outputs": [],
   "source": [
    "ratings_1 = ratings.loc[(ratings['number_reviews'] == 50)]"
   ]
  },
  {
   "cell_type": "code",
   "execution_count": 54,
   "metadata": {},
   "outputs": [
    {
     "data": {
      "text/plain": [
       "(1418, 5)"
      ]
     },
     "execution_count": 54,
     "metadata": {},
     "output_type": "execute_result"
    }
   ],
   "source": [
    "ratings_1.shape"
   ]
  },
  {
   "cell_type": "code",
   "execution_count": 55,
   "metadata": {
    "scrolled": true
   },
   "outputs": [
    {
     "data": {
      "text/plain": [
       "50.0"
      ]
     },
     "execution_count": 55,
     "metadata": {},
     "output_type": "execute_result"
    }
   ],
   "source": [
    "ratings_1['number_reviews'].max()"
   ]
  },
  {
   "cell_type": "code",
   "execution_count": 56,
   "metadata": {},
   "outputs": [],
   "source": [
    "from scipy.sparse import csr_matrix\n",
    "from pandas.api.types import CategoricalDtype\n",
    "\n",
    "movie_c = CategoricalDtype(sorted(ratings_1.movieId.unique()), ordered=True)\n",
    "user_c = CategoricalDtype(sorted(ratings_1.userId.unique()), ordered=True)\n",
    "\n",
    "row = ratings_1.userId.astype(user_c).cat.codes\n",
    "col = ratings_1.movieId.astype(movie_c).cat.codes\n",
    "\n",
    "sparse_matrix = csr_matrix((ratings_1[\"rating\"], (row, col)), \\\n",
    "                           shape=(user_c.categories.size, movie_c.categories.size))\n",
    "\n",
    "df = pd.DataFrame.sparse.from_spmatrix(sparse_matrix, index=user_c.categories, columns=movie_c.categories)"
   ]
  },
  {
   "cell_type": "code",
   "execution_count": 57,
   "metadata": {
    "scrolled": false
   },
   "outputs": [
    {
     "data": {
      "text/plain": [
       "KMeans(algorithm='auto', copy_x=True, init='k-means++', max_iter=300,\n",
       "    n_clusters=50, n_init=10, n_jobs=None, precompute_distances='auto',\n",
       "    random_state=None, tol=0.0001, verbose=0)"
      ]
     },
     "execution_count": 57,
     "metadata": {},
     "output_type": "execute_result"
    }
   ],
   "source": [
    "from sklearn.cluster import MiniBatchKMeans, KMeans\n",
    "\n",
    "mbkm = KMeans(n_clusters=50)\n",
    "mbkm.fit(sparse_matrix)"
   ]
  },
  {
   "cell_type": "code",
   "execution_count": 58,
   "metadata": {
    "scrolled": true
   },
   "outputs": [
    {
     "name": "stdout",
     "output_type": "stream",
     "text": [
      "Number of ones: 38\n"
     ]
    },
    {
     "data": {
      "text/plain": [
       "22    485\n",
       "28      8\n",
       "31      5\n",
       "32      5\n",
       "15      5\n",
       "43      4\n",
       "48      4\n",
       "7       4\n",
       "44      3\n",
       "40      3\n",
       "1       2\n",
       "27      2\n",
       "14      1\n",
       "13      1\n",
       "49      1\n",
       "17      1\n",
       "16      1\n",
       "10      1\n",
       "12      1\n",
       "11      1\n",
       "19      1\n",
       "9       1\n",
       "8       1\n",
       "6       1\n",
       "5       1\n",
       "4       1\n",
       "3       1\n",
       "2       1\n",
       "18      1\n",
       "24      1\n",
       "20      1\n",
       "21      1\n",
       "47      1\n",
       "46      1\n",
       "45      1\n",
       "42      1\n",
       "41      1\n",
       "39      1\n",
       "38      1\n",
       "37      1\n",
       "36      1\n",
       "35      1\n",
       "34      1\n",
       "33      1\n",
       "30      1\n",
       "29      1\n",
       "26      1\n",
       "25      1\n",
       "23      1\n",
       "0       1\n",
       "dtype: int64"
      ]
     },
     "execution_count": 58,
     "metadata": {},
     "output_type": "execute_result"
    }
   ],
   "source": [
    "print('Number of ones:',(pd.Series(mbkm.labels_).value_counts() == 1).sum())\n",
    "pd.Series(mbkm.labels_).value_counts()"
   ]
  },
  {
   "cell_type": "code",
   "execution_count": 63,
   "metadata": {},
   "outputs": [],
   "source": [
    "def make_user(movieId, rating):\n",
    "    acc = 0\n",
    "    new_user = pd.DataFrame([np.zeros(1050)], columns=movie_c.categories)\n",
    "    for id in movieId:\n",
    "        new_user[id] = rating[acc]\n",
    "        acc += 1\n",
    "    return new_user"
   ]
  },
  {
   "cell_type": "code",
   "execution_count": 64,
   "metadata": {},
   "outputs": [],
   "source": [
    "user = make_user([1,2,3],[1,1,1])"
   ]
  },
  {
   "cell_type": "code",
   "execution_count": 65,
   "metadata": {},
   "outputs": [
    {
     "ename": "ValueError",
     "evalue": "Incorrect number of features. Got 1052 features, expected 1050",
     "output_type": "error",
     "traceback": [
      "\u001b[0;31m---------------------------------------------------------------------------\u001b[0m",
      "\u001b[0;31mValueError\u001b[0m                                Traceback (most recent call last)",
      "\u001b[0;32m<ipython-input-65-2603e4e198d5>\u001b[0m in \u001b[0;36m<module>\u001b[0;34m\u001b[0m\n\u001b[0;32m----> 1\u001b[0;31m \u001b[0mmbkm\u001b[0m\u001b[0;34m.\u001b[0m\u001b[0mpredict\u001b[0m\u001b[0;34m(\u001b[0m\u001b[0muser\u001b[0m\u001b[0;34m)\u001b[0m\u001b[0;34m\u001b[0m\u001b[0;34m\u001b[0m\u001b[0m\n\u001b[0m",
      "\u001b[0;32m~/.pyenv/versions/3.7.7/envs/lewagon/lib/python3.7/site-packages/sklearn/cluster/k_means_.py\u001b[0m in \u001b[0;36mpredict\u001b[0;34m(self, X, sample_weight)\u001b[0m\n\u001b[1;32m   1077\u001b[0m         \u001b[0mcheck_is_fitted\u001b[0m\u001b[0;34m(\u001b[0m\u001b[0mself\u001b[0m\u001b[0;34m,\u001b[0m \u001b[0;34m'cluster_centers_'\u001b[0m\u001b[0;34m)\u001b[0m\u001b[0;34m\u001b[0m\u001b[0;34m\u001b[0m\u001b[0m\n\u001b[1;32m   1078\u001b[0m \u001b[0;34m\u001b[0m\u001b[0m\n\u001b[0;32m-> 1079\u001b[0;31m         \u001b[0mX\u001b[0m \u001b[0;34m=\u001b[0m \u001b[0mself\u001b[0m\u001b[0;34m.\u001b[0m\u001b[0m_check_test_data\u001b[0m\u001b[0;34m(\u001b[0m\u001b[0mX\u001b[0m\u001b[0;34m)\u001b[0m\u001b[0;34m\u001b[0m\u001b[0;34m\u001b[0m\u001b[0m\n\u001b[0m\u001b[1;32m   1080\u001b[0m         \u001b[0mx_squared_norms\u001b[0m \u001b[0;34m=\u001b[0m \u001b[0mrow_norms\u001b[0m\u001b[0;34m(\u001b[0m\u001b[0mX\u001b[0m\u001b[0;34m,\u001b[0m \u001b[0msquared\u001b[0m\u001b[0;34m=\u001b[0m\u001b[0;32mTrue\u001b[0m\u001b[0;34m)\u001b[0m\u001b[0;34m\u001b[0m\u001b[0;34m\u001b[0m\u001b[0m\n\u001b[1;32m   1081\u001b[0m         return _labels_inertia(X, sample_weight, x_squared_norms,\n",
      "\u001b[0;32m~/.pyenv/versions/3.7.7/envs/lewagon/lib/python3.7/site-packages/sklearn/cluster/k_means_.py\u001b[0m in \u001b[0;36m_check_test_data\u001b[0;34m(self, X)\u001b[0m\n\u001b[1;32m    940\u001b[0m             raise ValueError(\"Incorrect number of features. \"\n\u001b[1;32m    941\u001b[0m                              \"Got %d features, expected %d\" % (\n\u001b[0;32m--> 942\u001b[0;31m                                  n_features, expected_n_features))\n\u001b[0m\u001b[1;32m    943\u001b[0m \u001b[0;34m\u001b[0m\u001b[0m\n\u001b[1;32m    944\u001b[0m         \u001b[0;32mreturn\u001b[0m \u001b[0mX\u001b[0m\u001b[0;34m\u001b[0m\u001b[0;34m\u001b[0m\u001b[0m\n",
      "\u001b[0;31mValueError\u001b[0m: Incorrect number of features. Got 1052 features, expected 1050"
     ]
    }
   ],
   "source": [
    "mbkm.predict(user)"
   ]
  },
  {
   "cell_type": "code",
   "execution_count": null,
   "metadata": {},
   "outputs": [],
   "source": [
    "print(find_title(283))"
   ]
  },
  {
   "cell_type": "code",
   "execution_count": null,
   "metadata": {},
   "outputs": [],
   "source": [
    "from sklearn.decomposition import TruncatedSVD\n",
    "\n",
    "svd = TruncatedSVD(n_components=100)\n",
    "\n",
    "svd.fit(sparse_matrix)\n",
    "sparse_matrix_svd = svd.transform(sparse_matrix)"
   ]
  },
  {
   "cell_type": "code",
   "execution_count": null,
   "metadata": {},
   "outputs": [],
   "source": [
    "svd.components_"
   ]
  },
  {
   "cell_type": "code",
   "execution_count": null,
   "metadata": {},
   "outputs": [],
   "source": [
    "mbkm = KMeans(n_clusters=500)\n",
    "mbkm.fit(sparse_matrix_svd)"
   ]
  },
  {
   "cell_type": "code",
   "execution_count": null,
   "metadata": {
    "scrolled": true
   },
   "outputs": [],
   "source": [
    "pd.Series(mbkm.labels_).value_counts()"
   ]
  },
  {
   "cell_type": "code",
   "execution_count": null,
   "metadata": {},
   "outputs": [],
   "source": [
    "user_svd = svd.transform(user)\n",
    "\n",
    "mbkm.predict(user_svd)"
   ]
  },
  {
   "cell_type": "markdown",
   "metadata": {},
   "source": [
    "# Training on New Database"
   ]
  },
  {
   "cell_type": "code",
   "execution_count": 70,
   "metadata": {},
   "outputs": [
    {
     "data": {
      "text/html": [
       "<div>\n",
       "<style scoped>\n",
       "    .dataframe tbody tr th:only-of-type {\n",
       "        vertical-align: middle;\n",
       "    }\n",
       "\n",
       "    .dataframe tbody tr th {\n",
       "        vertical-align: top;\n",
       "    }\n",
       "\n",
       "    .dataframe thead th {\n",
       "        text-align: right;\n",
       "    }\n",
       "</style>\n",
       "<table border=\"1\" class=\"dataframe\">\n",
       "  <thead>\n",
       "    <tr style=\"text-align: right;\">\n",
       "      <th></th>\n",
       "      <th>userId</th>\n",
       "      <th>movieId</th>\n",
       "      <th>rating</th>\n",
       "      <th>timestamp</th>\n",
       "      <th>number_reviews</th>\n",
       "      <th>title</th>\n",
       "    </tr>\n",
       "  </thead>\n",
       "  <tbody>\n",
       "    <tr>\n",
       "      <th>0</th>\n",
       "      <td>1</td>\n",
       "      <td>306</td>\n",
       "      <td>3.5</td>\n",
       "      <td>1147868817</td>\n",
       "      <td>70.0</td>\n",
       "      <td>Three Colors: Red (Trois couleurs: Rouge) (1994)</td>\n",
       "    </tr>\n",
       "    <tr>\n",
       "      <th>1</th>\n",
       "      <td>7</td>\n",
       "      <td>306</td>\n",
       "      <td>5.0</td>\n",
       "      <td>835444970</td>\n",
       "      <td>27.0</td>\n",
       "      <td>Three Colors: Red (Trois couleurs: Rouge) (1994)</td>\n",
       "    </tr>\n",
       "    <tr>\n",
       "      <th>2</th>\n",
       "      <td>25</td>\n",
       "      <td>306</td>\n",
       "      <td>4.0</td>\n",
       "      <td>836217388</td>\n",
       "      <td>22.0</td>\n",
       "      <td>Three Colors: Red (Trois couleurs: Rouge) (1994)</td>\n",
       "    </tr>\n",
       "    <tr>\n",
       "      <th>3</th>\n",
       "      <td>47</td>\n",
       "      <td>306</td>\n",
       "      <td>4.0</td>\n",
       "      <td>855094660</td>\n",
       "      <td>25.0</td>\n",
       "      <td>Three Colors: Red (Trois couleurs: Rouge) (1994)</td>\n",
       "    </tr>\n",
       "    <tr>\n",
       "      <th>4</th>\n",
       "      <td>79</td>\n",
       "      <td>306</td>\n",
       "      <td>5.0</td>\n",
       "      <td>828708508</td>\n",
       "      <td>113.0</td>\n",
       "      <td>Three Colors: Red (Trois couleurs: Rouge) (1994)</td>\n",
       "    </tr>\n",
       "  </tbody>\n",
       "</table>\n",
       "</div>"
      ],
      "text/plain": [
       "   userId  movieId  rating   timestamp  number_reviews  \\\n",
       "0       1      306     3.5  1147868817            70.0   \n",
       "1       7      306     5.0   835444970            27.0   \n",
       "2      25      306     4.0   836217388            22.0   \n",
       "3      47      306     4.0   855094660            25.0   \n",
       "4      79      306     5.0   828708508           113.0   \n",
       "\n",
       "                                              title  \n",
       "0  Three Colors: Red (Trois couleurs: Rouge) (1994)  \n",
       "1  Three Colors: Red (Trois couleurs: Rouge) (1994)  \n",
       "2  Three Colors: Red (Trois couleurs: Rouge) (1994)  \n",
       "3  Three Colors: Red (Trois couleurs: Rouge) (1994)  \n",
       "4  Three Colors: Red (Trois couleurs: Rouge) (1994)  "
      ]
     },
     "execution_count": 70,
     "metadata": {},
     "output_type": "execute_result"
    }
   ],
   "source": [
    "ratings = ratings.merge(movies[['movieId','title']],on='movieId')\n",
    "ratings.head()"
   ]
  },
  {
   "cell_type": "code",
   "execution_count": 71,
   "metadata": {},
   "outputs": [],
   "source": [
    "def get_most_rated_movies_df(ratings_df, top_number):\n",
    "    most_rated_movies = ratings_df.movieId.value_counts().head(top_number).index\n",
    "    return ratings_df[ratings_df.movieId.isin(most_rated_movies)].copy()\n",
    "\n",
    "def get_users_with_min_num_of_ratings_df(ratings_df, min_num_of_ratings):\n",
    "    rates_per_user = ratings.userId.value_counts()\n",
    "    bolean_users_with_min_num_of_ratings = ratings_df.userId.value_counts() >= min_num_of_ratings\n",
    "    users_with_min_num_of_ratings = rates_per_user[bolean_users_with_min_num_of_ratings].index\n",
    "    return ratings_df[ratings_df.userId.isin(users_with_min_num_of_ratings)].copy()\n"
   ]
  },
  {
   "cell_type": "code",
   "execution_count": 72,
   "metadata": {
    "scrolled": true
   },
   "outputs": [
    {
     "data": {
      "text/html": [
       "<div>\n",
       "<style scoped>\n",
       "    .dataframe tbody tr th:only-of-type {\n",
       "        vertical-align: middle;\n",
       "    }\n",
       "\n",
       "    .dataframe tbody tr th {\n",
       "        vertical-align: top;\n",
       "    }\n",
       "\n",
       "    .dataframe thead th {\n",
       "        text-align: right;\n",
       "    }\n",
       "</style>\n",
       "<table border=\"1\" class=\"dataframe\">\n",
       "  <thead>\n",
       "    <tr style=\"text-align: right;\">\n",
       "      <th></th>\n",
       "      <th>userId</th>\n",
       "      <th>movieId</th>\n",
       "      <th>rating</th>\n",
       "      <th>timestamp</th>\n",
       "      <th>number_reviews</th>\n",
       "      <th>title</th>\n",
       "    </tr>\n",
       "  </thead>\n",
       "  <tbody>\n",
       "    <tr>\n",
       "      <th>0</th>\n",
       "      <td>1</td>\n",
       "      <td>306</td>\n",
       "      <td>3.5</td>\n",
       "      <td>1147868817</td>\n",
       "      <td>70.0</td>\n",
       "      <td>Three Colors: Red (Trois couleurs: Rouge) (1994)</td>\n",
       "    </tr>\n",
       "    <tr>\n",
       "      <th>1</th>\n",
       "      <td>7</td>\n",
       "      <td>306</td>\n",
       "      <td>5.0</td>\n",
       "      <td>835444970</td>\n",
       "      <td>27.0</td>\n",
       "      <td>Three Colors: Red (Trois couleurs: Rouge) (1994)</td>\n",
       "    </tr>\n",
       "    <tr>\n",
       "      <th>2</th>\n",
       "      <td>25</td>\n",
       "      <td>306</td>\n",
       "      <td>4.0</td>\n",
       "      <td>836217388</td>\n",
       "      <td>22.0</td>\n",
       "      <td>Three Colors: Red (Trois couleurs: Rouge) (1994)</td>\n",
       "    </tr>\n",
       "    <tr>\n",
       "      <th>3</th>\n",
       "      <td>47</td>\n",
       "      <td>306</td>\n",
       "      <td>4.0</td>\n",
       "      <td>855094660</td>\n",
       "      <td>25.0</td>\n",
       "      <td>Three Colors: Red (Trois couleurs: Rouge) (1994)</td>\n",
       "    </tr>\n",
       "    <tr>\n",
       "      <th>4</th>\n",
       "      <td>79</td>\n",
       "      <td>306</td>\n",
       "      <td>5.0</td>\n",
       "      <td>828708508</td>\n",
       "      <td>113.0</td>\n",
       "      <td>Three Colors: Red (Trois couleurs: Rouge) (1994)</td>\n",
       "    </tr>\n",
       "    <tr>\n",
       "      <th>...</th>\n",
       "      <td>...</td>\n",
       "      <td>...</td>\n",
       "      <td>...</td>\n",
       "      <td>...</td>\n",
       "      <td>...</td>\n",
       "      <td>...</td>\n",
       "    </tr>\n",
       "    <tr>\n",
       "      <th>143515</th>\n",
       "      <td>997</td>\n",
       "      <td>204</td>\n",
       "      <td>3.0</td>\n",
       "      <td>1529293256</td>\n",
       "      <td>54.0</td>\n",
       "      <td>Under Siege 2: Dark Territory (1995)</td>\n",
       "    </tr>\n",
       "    <tr>\n",
       "      <th>143516</th>\n",
       "      <td>1041</td>\n",
       "      <td>204</td>\n",
       "      <td>1.0</td>\n",
       "      <td>981000454</td>\n",
       "      <td>48.0</td>\n",
       "      <td>Under Siege 2: Dark Territory (1995)</td>\n",
       "    </tr>\n",
       "    <tr>\n",
       "      <th>143517</th>\n",
       "      <td>1052</td>\n",
       "      <td>204</td>\n",
       "      <td>3.0</td>\n",
       "      <td>966020116</td>\n",
       "      <td>224.0</td>\n",
       "      <td>Under Siege 2: Dark Territory (1995)</td>\n",
       "    </tr>\n",
       "    <tr>\n",
       "      <th>143518</th>\n",
       "      <td>1129</td>\n",
       "      <td>204</td>\n",
       "      <td>3.0</td>\n",
       "      <td>833843141</td>\n",
       "      <td>657.0</td>\n",
       "      <td>Under Siege 2: Dark Territory (1995)</td>\n",
       "    </tr>\n",
       "    <tr>\n",
       "      <th>143519</th>\n",
       "      <td>1137</td>\n",
       "      <td>204</td>\n",
       "      <td>2.0</td>\n",
       "      <td>1172181387</td>\n",
       "      <td>362.0</td>\n",
       "      <td>Under Siege 2: Dark Territory (1995)</td>\n",
       "    </tr>\n",
       "  </tbody>\n",
       "</table>\n",
       "<p>100340 rows × 6 columns</p>\n",
       "</div>"
      ],
      "text/plain": [
       "        userId  movieId  rating   timestamp  number_reviews  \\\n",
       "0            1      306     3.5  1147868817            70.0   \n",
       "1            7      306     5.0   835444970            27.0   \n",
       "2           25      306     4.0   836217388            22.0   \n",
       "3           47      306     4.0   855094660            25.0   \n",
       "4           79      306     5.0   828708508           113.0   \n",
       "...        ...      ...     ...         ...             ...   \n",
       "143515     997      204     3.0  1529293256            54.0   \n",
       "143516    1041      204     1.0   981000454            48.0   \n",
       "143517    1052      204     3.0   966020116           224.0   \n",
       "143518    1129      204     3.0   833843141           657.0   \n",
       "143519    1137      204     2.0  1172181387           362.0   \n",
       "\n",
       "                                                   title  \n",
       "0       Three Colors: Red (Trois couleurs: Rouge) (1994)  \n",
       "1       Three Colors: Red (Trois couleurs: Rouge) (1994)  \n",
       "2       Three Colors: Red (Trois couleurs: Rouge) (1994)  \n",
       "3       Three Colors: Red (Trois couleurs: Rouge) (1994)  \n",
       "4       Three Colors: Red (Trois couleurs: Rouge) (1994)  \n",
       "...                                                  ...  \n",
       "143515              Under Siege 2: Dark Territory (1995)  \n",
       "143516              Under Siege 2: Dark Territory (1995)  \n",
       "143517              Under Siege 2: Dark Territory (1995)  \n",
       "143518              Under Siege 2: Dark Territory (1995)  \n",
       "143519              Under Siege 2: Dark Territory (1995)  \n",
       "\n",
       "[100340 rows x 6 columns]"
      ]
     },
     "execution_count": 72,
     "metadata": {},
     "output_type": "execute_result"
    }
   ],
   "source": [
    "ratings_top = get_most_rated_movies_df(ratings, 1000)\n",
    "ratings_top"
   ]
  },
  {
   "cell_type": "code",
   "execution_count": 73,
   "metadata": {},
   "outputs": [
    {
     "data": {
      "text/html": [
       "<div>\n",
       "<style scoped>\n",
       "    .dataframe tbody tr th:only-of-type {\n",
       "        vertical-align: middle;\n",
       "    }\n",
       "\n",
       "    .dataframe tbody tr th {\n",
       "        vertical-align: top;\n",
       "    }\n",
       "\n",
       "    .dataframe thead th {\n",
       "        text-align: right;\n",
       "    }\n",
       "</style>\n",
       "<table border=\"1\" class=\"dataframe\">\n",
       "  <thead>\n",
       "    <tr style=\"text-align: right;\">\n",
       "      <th></th>\n",
       "      <th>userId</th>\n",
       "      <th>movieId</th>\n",
       "      <th>rating</th>\n",
       "      <th>timestamp</th>\n",
       "      <th>number_reviews</th>\n",
       "      <th>title</th>\n",
       "    </tr>\n",
       "  </thead>\n",
       "  <tbody>\n",
       "    <tr>\n",
       "      <th>9</th>\n",
       "      <td>171</td>\n",
       "      <td>306</td>\n",
       "      <td>4.5</td>\n",
       "      <td>1088192124</td>\n",
       "      <td>553.0</td>\n",
       "      <td>Three Colors: Red (Trois couleurs: Rouge) (1994)</td>\n",
       "    </tr>\n",
       "    <tr>\n",
       "      <th>16</th>\n",
       "      <td>357</td>\n",
       "      <td>306</td>\n",
       "      <td>4.0</td>\n",
       "      <td>1367156902</td>\n",
       "      <td>26.0</td>\n",
       "      <td>Three Colors: Red (Trois couleurs: Rouge) (1994)</td>\n",
       "    </tr>\n",
       "    <tr>\n",
       "      <th>27</th>\n",
       "      <td>541</td>\n",
       "      <td>306</td>\n",
       "      <td>4.0</td>\n",
       "      <td>1542827243</td>\n",
       "      <td>21.0</td>\n",
       "      <td>Three Colors: Red (Trois couleurs: Rouge) (1994)</td>\n",
       "    </tr>\n",
       "    <tr>\n",
       "      <th>30</th>\n",
       "      <td>649</td>\n",
       "      <td>306</td>\n",
       "      <td>5.0</td>\n",
       "      <td>996856660</td>\n",
       "      <td>20.0</td>\n",
       "      <td>Three Colors: Red (Trois couleurs: Rouge) (1994)</td>\n",
       "    </tr>\n",
       "    <tr>\n",
       "      <th>32</th>\n",
       "      <td>734</td>\n",
       "      <td>306</td>\n",
       "      <td>4.0</td>\n",
       "      <td>992789983</td>\n",
       "      <td>110.0</td>\n",
       "      <td>Three Colors: Red (Trois couleurs: Rouge) (1994)</td>\n",
       "    </tr>\n",
       "    <tr>\n",
       "      <th>...</th>\n",
       "      <td>...</td>\n",
       "      <td>...</td>\n",
       "      <td>...</td>\n",
       "      <td>...</td>\n",
       "      <td>...</td>\n",
       "      <td>...</td>\n",
       "    </tr>\n",
       "    <tr>\n",
       "      <th>143503</th>\n",
       "      <td>805</td>\n",
       "      <td>204</td>\n",
       "      <td>4.0</td>\n",
       "      <td>951091668</td>\n",
       "      <td>22.0</td>\n",
       "      <td>Under Siege 2: Dark Territory (1995)</td>\n",
       "    </tr>\n",
       "    <tr>\n",
       "      <th>143509</th>\n",
       "      <td>894</td>\n",
       "      <td>204</td>\n",
       "      <td>1.0</td>\n",
       "      <td>1112244008</td>\n",
       "      <td>86.0</td>\n",
       "      <td>Under Siege 2: Dark Territory (1995)</td>\n",
       "    </tr>\n",
       "    <tr>\n",
       "      <th>143515</th>\n",
       "      <td>997</td>\n",
       "      <td>204</td>\n",
       "      <td>3.0</td>\n",
       "      <td>1529293256</td>\n",
       "      <td>54.0</td>\n",
       "      <td>Under Siege 2: Dark Territory (1995)</td>\n",
       "    </tr>\n",
       "    <tr>\n",
       "      <th>143517</th>\n",
       "      <td>1052</td>\n",
       "      <td>204</td>\n",
       "      <td>3.0</td>\n",
       "      <td>966020116</td>\n",
       "      <td>224.0</td>\n",
       "      <td>Under Siege 2: Dark Territory (1995)</td>\n",
       "    </tr>\n",
       "    <tr>\n",
       "      <th>143519</th>\n",
       "      <td>1137</td>\n",
       "      <td>204</td>\n",
       "      <td>2.0</td>\n",
       "      <td>1172181387</td>\n",
       "      <td>362.0</td>\n",
       "      <td>Under Siege 2: Dark Territory (1995)</td>\n",
       "    </tr>\n",
       "  </tbody>\n",
       "</table>\n",
       "<p>37157 rows × 6 columns</p>\n",
       "</div>"
      ],
      "text/plain": [
       "        userId  movieId  rating   timestamp  number_reviews  \\\n",
       "9          171      306     4.5  1088192124           553.0   \n",
       "16         357      306     4.0  1367156902            26.0   \n",
       "27         541      306     4.0  1542827243            21.0   \n",
       "30         649      306     5.0   996856660            20.0   \n",
       "32         734      306     4.0   992789983           110.0   \n",
       "...        ...      ...     ...         ...             ...   \n",
       "143503     805      204     4.0   951091668            22.0   \n",
       "143509     894      204     1.0  1112244008            86.0   \n",
       "143515     997      204     3.0  1529293256            54.0   \n",
       "143517    1052      204     3.0   966020116           224.0   \n",
       "143519    1137      204     2.0  1172181387           362.0   \n",
       "\n",
       "                                                   title  \n",
       "9       Three Colors: Red (Trois couleurs: Rouge) (1994)  \n",
       "16      Three Colors: Red (Trois couleurs: Rouge) (1994)  \n",
       "27      Three Colors: Red (Trois couleurs: Rouge) (1994)  \n",
       "30      Three Colors: Red (Trois couleurs: Rouge) (1994)  \n",
       "32      Three Colors: Red (Trois couleurs: Rouge) (1994)  \n",
       "...                                                  ...  \n",
       "143503              Under Siege 2: Dark Territory (1995)  \n",
       "143509              Under Siege 2: Dark Territory (1995)  \n",
       "143515              Under Siege 2: Dark Territory (1995)  \n",
       "143517              Under Siege 2: Dark Territory (1995)  \n",
       "143519              Under Siege 2: Dark Territory (1995)  \n",
       "\n",
       "[37157 rows x 6 columns]"
      ]
     },
     "execution_count": 73,
     "metadata": {},
     "output_type": "execute_result"
    }
   ],
   "source": [
    "ratings_top_users_top = get_users_with_min_num_of_ratings_df(ratings_top, 200)\n",
    "ratings_top_users_top"
   ]
  },
  {
   "cell_type": "code",
   "execution_count": 74,
   "metadata": {
    "scrolled": true
   },
   "outputs": [
    {
     "data": {
      "text/html": [
       "<div>\n",
       "<style scoped>\n",
       "    .dataframe tbody tr th:only-of-type {\n",
       "        vertical-align: middle;\n",
       "    }\n",
       "\n",
       "    .dataframe tbody tr th {\n",
       "        vertical-align: top;\n",
       "    }\n",
       "\n",
       "    .dataframe thead th {\n",
       "        text-align: right;\n",
       "    }\n",
       "</style>\n",
       "<table border=\"1\" class=\"dataframe\">\n",
       "  <thead>\n",
       "    <tr style=\"text-align: right;\">\n",
       "      <th>title</th>\n",
       "      <th>(500) Days of Summer (2009)</th>\n",
       "      <th>10 Things I Hate About You (1999)</th>\n",
       "      <th>101 Dalmatians (1996)</th>\n",
       "      <th>101 Dalmatians (One Hundred and One Dalmatians) (1961)</th>\n",
       "      <th>12 Angry Men (1957)</th>\n",
       "      <th>13 Going on 30 (2004)</th>\n",
       "      <th>13th Warrior, The (1999)</th>\n",
       "      <th>2001: A Space Odyssey (1968)</th>\n",
       "      <th>21 Grams (2003)</th>\n",
       "      <th>21 Jump Street (2012)</th>\n",
       "      <th>...</th>\n",
       "      <th>X-Men: First Class (2011)</th>\n",
       "      <th>X-Men: The Last Stand (2006)</th>\n",
       "      <th>X2: X-Men United (2003)</th>\n",
       "      <th>You've Got Mail (1998)</th>\n",
       "      <th>Young Frankenstein (1974)</th>\n",
       "      <th>Young Guns (1988)</th>\n",
       "      <th>Zombieland (2009)</th>\n",
       "      <th>Zoolander (2001)</th>\n",
       "      <th>Zootopia (2016)</th>\n",
       "      <th>¡Three Amigos! (1986)</th>\n",
       "    </tr>\n",
       "    <tr>\n",
       "      <th>userId</th>\n",
       "      <th></th>\n",
       "      <th></th>\n",
       "      <th></th>\n",
       "      <th></th>\n",
       "      <th></th>\n",
       "      <th></th>\n",
       "      <th></th>\n",
       "      <th></th>\n",
       "      <th></th>\n",
       "      <th></th>\n",
       "      <th></th>\n",
       "      <th></th>\n",
       "      <th></th>\n",
       "      <th></th>\n",
       "      <th></th>\n",
       "      <th></th>\n",
       "      <th></th>\n",
       "      <th></th>\n",
       "      <th></th>\n",
       "      <th></th>\n",
       "      <th></th>\n",
       "    </tr>\n",
       "  </thead>\n",
       "  <tbody>\n",
       "    <tr>\n",
       "      <th>3</th>\n",
       "      <td>0.0</td>\n",
       "      <td>0.0</td>\n",
       "      <td>0.0</td>\n",
       "      <td>0.0</td>\n",
       "      <td>0.0</td>\n",
       "      <td>0.0</td>\n",
       "      <td>0.0</td>\n",
       "      <td>5.0</td>\n",
       "      <td>0.0</td>\n",
       "      <td>0.0</td>\n",
       "      <td>...</td>\n",
       "      <td>4.0</td>\n",
       "      <td>4.0</td>\n",
       "      <td>4.0</td>\n",
       "      <td>0.0</td>\n",
       "      <td>0.0</td>\n",
       "      <td>0.0</td>\n",
       "      <td>4.0</td>\n",
       "      <td>3.5</td>\n",
       "      <td>0.0</td>\n",
       "      <td>0.0</td>\n",
       "    </tr>\n",
       "    <tr>\n",
       "      <th>12</th>\n",
       "      <td>3.0</td>\n",
       "      <td>3.0</td>\n",
       "      <td>1.0</td>\n",
       "      <td>0.0</td>\n",
       "      <td>0.0</td>\n",
       "      <td>0.0</td>\n",
       "      <td>0.0</td>\n",
       "      <td>0.0</td>\n",
       "      <td>0.0</td>\n",
       "      <td>0.0</td>\n",
       "      <td>...</td>\n",
       "      <td>0.0</td>\n",
       "      <td>0.0</td>\n",
       "      <td>0.0</td>\n",
       "      <td>2.0</td>\n",
       "      <td>0.0</td>\n",
       "      <td>4.0</td>\n",
       "      <td>0.0</td>\n",
       "      <td>0.0</td>\n",
       "      <td>0.0</td>\n",
       "      <td>3.5</td>\n",
       "    </tr>\n",
       "    <tr>\n",
       "      <th>13</th>\n",
       "      <td>0.0</td>\n",
       "      <td>0.0</td>\n",
       "      <td>0.0</td>\n",
       "      <td>0.0</td>\n",
       "      <td>0.0</td>\n",
       "      <td>0.0</td>\n",
       "      <td>3.5</td>\n",
       "      <td>3.5</td>\n",
       "      <td>0.0</td>\n",
       "      <td>0.0</td>\n",
       "      <td>...</td>\n",
       "      <td>0.0</td>\n",
       "      <td>3.0</td>\n",
       "      <td>3.5</td>\n",
       "      <td>0.0</td>\n",
       "      <td>5.0</td>\n",
       "      <td>3.5</td>\n",
       "      <td>4.0</td>\n",
       "      <td>3.5</td>\n",
       "      <td>0.0</td>\n",
       "      <td>0.0</td>\n",
       "    </tr>\n",
       "    <tr>\n",
       "      <th>19</th>\n",
       "      <td>0.0</td>\n",
       "      <td>0.0</td>\n",
       "      <td>2.5</td>\n",
       "      <td>0.0</td>\n",
       "      <td>0.0</td>\n",
       "      <td>0.0</td>\n",
       "      <td>0.0</td>\n",
       "      <td>5.0</td>\n",
       "      <td>0.0</td>\n",
       "      <td>0.0</td>\n",
       "      <td>...</td>\n",
       "      <td>2.0</td>\n",
       "      <td>2.0</td>\n",
       "      <td>3.0</td>\n",
       "      <td>0.0</td>\n",
       "      <td>0.0</td>\n",
       "      <td>0.0</td>\n",
       "      <td>0.0</td>\n",
       "      <td>0.0</td>\n",
       "      <td>3.5</td>\n",
       "      <td>0.0</td>\n",
       "    </tr>\n",
       "    <tr>\n",
       "      <th>23</th>\n",
       "      <td>0.0</td>\n",
       "      <td>0.0</td>\n",
       "      <td>0.0</td>\n",
       "      <td>0.0</td>\n",
       "      <td>5.0</td>\n",
       "      <td>0.0</td>\n",
       "      <td>0.0</td>\n",
       "      <td>4.0</td>\n",
       "      <td>0.0</td>\n",
       "      <td>0.0</td>\n",
       "      <td>...</td>\n",
       "      <td>0.0</td>\n",
       "      <td>0.0</td>\n",
       "      <td>0.0</td>\n",
       "      <td>0.0</td>\n",
       "      <td>0.0</td>\n",
       "      <td>0.0</td>\n",
       "      <td>0.0</td>\n",
       "      <td>0.0</td>\n",
       "      <td>0.0</td>\n",
       "      <td>0.0</td>\n",
       "    </tr>\n",
       "  </tbody>\n",
       "</table>\n",
       "<p>5 rows × 1000 columns</p>\n",
       "</div>"
      ],
      "text/plain": [
       "title   (500) Days of Summer (2009)  10 Things I Hate About You (1999)  \\\n",
       "userId                                                                   \n",
       "3                               0.0                                0.0   \n",
       "12                              3.0                                3.0   \n",
       "13                              0.0                                0.0   \n",
       "19                              0.0                                0.0   \n",
       "23                              0.0                                0.0   \n",
       "\n",
       "title   101 Dalmatians (1996)  \\\n",
       "userId                          \n",
       "3                         0.0   \n",
       "12                        1.0   \n",
       "13                        0.0   \n",
       "19                        2.5   \n",
       "23                        0.0   \n",
       "\n",
       "title   101 Dalmatians (One Hundred and One Dalmatians) (1961)  \\\n",
       "userId                                                           \n",
       "3                                                     0.0        \n",
       "12                                                    0.0        \n",
       "13                                                    0.0        \n",
       "19                                                    0.0        \n",
       "23                                                    0.0        \n",
       "\n",
       "title   12 Angry Men (1957)  13 Going on 30 (2004)  13th Warrior, The (1999)  \\\n",
       "userId                                                                         \n",
       "3                       0.0                    0.0                       0.0   \n",
       "12                      0.0                    0.0                       0.0   \n",
       "13                      0.0                    0.0                       3.5   \n",
       "19                      0.0                    0.0                       0.0   \n",
       "23                      5.0                    0.0                       0.0   \n",
       "\n",
       "title   2001: A Space Odyssey (1968)  21 Grams (2003)  21 Jump Street (2012)  \\\n",
       "userId                                                                         \n",
       "3                                5.0              0.0                    0.0   \n",
       "12                               0.0              0.0                    0.0   \n",
       "13                               3.5              0.0                    0.0   \n",
       "19                               5.0              0.0                    0.0   \n",
       "23                               4.0              0.0                    0.0   \n",
       "\n",
       "title   ...  X-Men: First Class (2011)  X-Men: The Last Stand (2006)  \\\n",
       "userId  ...                                                            \n",
       "3       ...                        4.0                           4.0   \n",
       "12      ...                        0.0                           0.0   \n",
       "13      ...                        0.0                           3.0   \n",
       "19      ...                        2.0                           2.0   \n",
       "23      ...                        0.0                           0.0   \n",
       "\n",
       "title   X2: X-Men United (2003)  You've Got Mail (1998)  \\\n",
       "userId                                                    \n",
       "3                           4.0                     0.0   \n",
       "12                          0.0                     2.0   \n",
       "13                          3.5                     0.0   \n",
       "19                          3.0                     0.0   \n",
       "23                          0.0                     0.0   \n",
       "\n",
       "title   Young Frankenstein (1974)  Young Guns (1988)  Zombieland (2009)  \\\n",
       "userId                                                                    \n",
       "3                             0.0                0.0                4.0   \n",
       "12                            0.0                4.0                0.0   \n",
       "13                            5.0                3.5                4.0   \n",
       "19                            0.0                0.0                0.0   \n",
       "23                            0.0                0.0                0.0   \n",
       "\n",
       "title   Zoolander (2001)  Zootopia (2016)  ¡Three Amigos! (1986)  \n",
       "userId                                                            \n",
       "3                    3.5              0.0                    0.0  \n",
       "12                   0.0              0.0                    3.5  \n",
       "13                   3.5              0.0                    0.0  \n",
       "19                   0.0              3.5                    0.0  \n",
       "23                   0.0              0.0                    0.0  \n",
       "\n",
       "[5 rows x 1000 columns]"
      ]
     },
     "execution_count": 74,
     "metadata": {},
     "output_type": "execute_result"
    }
   ],
   "source": [
    "df = ratings_top_users_top.pivot(index='userId', columns='title', values='rating')\n",
    "df = df.fillna(0)\n",
    "df.head()"
   ]
  },
  {
   "cell_type": "markdown",
   "metadata": {},
   "source": [
    "ratings_pivot = ratings_top.pivot_table(index='userId', columns='title', values='rating', fill_value=0)\n",
    "ratings_pivot.head()"
   ]
  },
  {
   "cell_type": "code",
   "execution_count": 75,
   "metadata": {},
   "outputs": [
    {
     "data": {
      "text/html": [
       "<div>\n",
       "<style scoped>\n",
       "    .dataframe tbody tr th:only-of-type {\n",
       "        vertical-align: middle;\n",
       "    }\n",
       "\n",
       "    .dataframe tbody tr th {\n",
       "        vertical-align: top;\n",
       "    }\n",
       "\n",
       "    .dataframe thead th {\n",
       "        text-align: right;\n",
       "    }\n",
       "</style>\n",
       "<table border=\"1\" class=\"dataframe\">\n",
       "  <thead>\n",
       "    <tr style=\"text-align: right;\">\n",
       "      <th>title</th>\n",
       "      <th>(500) Days of Summer (2009)</th>\n",
       "      <th>10 Things I Hate About You (1999)</th>\n",
       "      <th>101 Dalmatians (1996)</th>\n",
       "      <th>101 Dalmatians (One Hundred and One Dalmatians) (1961)</th>\n",
       "      <th>12 Angry Men (1957)</th>\n",
       "      <th>13 Going on 30 (2004)</th>\n",
       "      <th>13th Warrior, The (1999)</th>\n",
       "      <th>2001: A Space Odyssey (1968)</th>\n",
       "      <th>21 Grams (2003)</th>\n",
       "      <th>21 Jump Street (2012)</th>\n",
       "      <th>...</th>\n",
       "      <th>X-Men: First Class (2011)</th>\n",
       "      <th>X-Men: The Last Stand (2006)</th>\n",
       "      <th>X2: X-Men United (2003)</th>\n",
       "      <th>You've Got Mail (1998)</th>\n",
       "      <th>Young Frankenstein (1974)</th>\n",
       "      <th>Young Guns (1988)</th>\n",
       "      <th>Zombieland (2009)</th>\n",
       "      <th>Zoolander (2001)</th>\n",
       "      <th>Zootopia (2016)</th>\n",
       "      <th>¡Three Amigos! (1986)</th>\n",
       "    </tr>\n",
       "    <tr>\n",
       "      <th>userId</th>\n",
       "      <th></th>\n",
       "      <th></th>\n",
       "      <th></th>\n",
       "      <th></th>\n",
       "      <th></th>\n",
       "      <th></th>\n",
       "      <th></th>\n",
       "      <th></th>\n",
       "      <th></th>\n",
       "      <th></th>\n",
       "      <th></th>\n",
       "      <th></th>\n",
       "      <th></th>\n",
       "      <th></th>\n",
       "      <th></th>\n",
       "      <th></th>\n",
       "      <th></th>\n",
       "      <th></th>\n",
       "      <th></th>\n",
       "      <th></th>\n",
       "      <th></th>\n",
       "    </tr>\n",
       "  </thead>\n",
       "  <tbody>\n",
       "    <tr>\n",
       "      <th>3</th>\n",
       "      <td>-0.111966</td>\n",
       "      <td>-0.187179</td>\n",
       "      <td>-0.115385</td>\n",
       "      <td>-0.149573</td>\n",
       "      <td>-0.252991</td>\n",
       "      <td>-0.084402</td>\n",
       "      <td>-0.114910</td>\n",
       "      <td>0.5</td>\n",
       "      <td>-0.187179</td>\n",
       "      <td>-0.092308</td>\n",
       "      <td>...</td>\n",
       "      <td>0.740741</td>\n",
       "      <td>0.605983</td>\n",
       "      <td>0.483381</td>\n",
       "      <td>-0.241026</td>\n",
       "      <td>-0.248718</td>\n",
       "      <td>-0.129915</td>\n",
       "      <td>0.657265</td>\n",
       "      <td>0.517094</td>\n",
       "      <td>-0.108547</td>\n",
       "      <td>-0.117094</td>\n",
       "    </tr>\n",
       "    <tr>\n",
       "      <th>12</th>\n",
       "      <td>0.488034</td>\n",
       "      <td>0.412821</td>\n",
       "      <td>0.084615</td>\n",
       "      <td>-0.149573</td>\n",
       "      <td>-0.252991</td>\n",
       "      <td>-0.084402</td>\n",
       "      <td>-0.114910</td>\n",
       "      <td>-0.5</td>\n",
       "      <td>-0.187179</td>\n",
       "      <td>-0.092308</td>\n",
       "      <td>...</td>\n",
       "      <td>-0.148148</td>\n",
       "      <td>-0.194017</td>\n",
       "      <td>-0.405508</td>\n",
       "      <td>0.158974</td>\n",
       "      <td>-0.248718</td>\n",
       "      <td>0.670085</td>\n",
       "      <td>-0.142735</td>\n",
       "      <td>-0.182906</td>\n",
       "      <td>-0.108547</td>\n",
       "      <td>0.582906</td>\n",
       "    </tr>\n",
       "    <tr>\n",
       "      <th>13</th>\n",
       "      <td>-0.111966</td>\n",
       "      <td>-0.187179</td>\n",
       "      <td>-0.115385</td>\n",
       "      <td>-0.149573</td>\n",
       "      <td>-0.252991</td>\n",
       "      <td>-0.084402</td>\n",
       "      <td>0.662868</td>\n",
       "      <td>0.2</td>\n",
       "      <td>-0.187179</td>\n",
       "      <td>-0.092308</td>\n",
       "      <td>...</td>\n",
       "      <td>-0.148148</td>\n",
       "      <td>0.405983</td>\n",
       "      <td>0.372270</td>\n",
       "      <td>-0.241026</td>\n",
       "      <td>0.751282</td>\n",
       "      <td>0.570085</td>\n",
       "      <td>0.657265</td>\n",
       "      <td>0.517094</td>\n",
       "      <td>-0.108547</td>\n",
       "      <td>-0.117094</td>\n",
       "    </tr>\n",
       "    <tr>\n",
       "      <th>19</th>\n",
       "      <td>-0.111966</td>\n",
       "      <td>-0.187179</td>\n",
       "      <td>0.384615</td>\n",
       "      <td>-0.149573</td>\n",
       "      <td>-0.252991</td>\n",
       "      <td>-0.084402</td>\n",
       "      <td>-0.114910</td>\n",
       "      <td>0.5</td>\n",
       "      <td>-0.187179</td>\n",
       "      <td>-0.092308</td>\n",
       "      <td>...</td>\n",
       "      <td>0.296296</td>\n",
       "      <td>0.205983</td>\n",
       "      <td>0.261159</td>\n",
       "      <td>-0.241026</td>\n",
       "      <td>-0.248718</td>\n",
       "      <td>-0.129915</td>\n",
       "      <td>-0.142735</td>\n",
       "      <td>-0.182906</td>\n",
       "      <td>0.591453</td>\n",
       "      <td>-0.117094</td>\n",
       "    </tr>\n",
       "    <tr>\n",
       "      <th>23</th>\n",
       "      <td>-0.111966</td>\n",
       "      <td>-0.187179</td>\n",
       "      <td>-0.115385</td>\n",
       "      <td>-0.149573</td>\n",
       "      <td>0.747009</td>\n",
       "      <td>-0.084402</td>\n",
       "      <td>-0.114910</td>\n",
       "      <td>0.3</td>\n",
       "      <td>-0.187179</td>\n",
       "      <td>-0.092308</td>\n",
       "      <td>...</td>\n",
       "      <td>-0.148148</td>\n",
       "      <td>-0.194017</td>\n",
       "      <td>-0.405508</td>\n",
       "      <td>-0.241026</td>\n",
       "      <td>-0.248718</td>\n",
       "      <td>-0.129915</td>\n",
       "      <td>-0.142735</td>\n",
       "      <td>-0.182906</td>\n",
       "      <td>-0.108547</td>\n",
       "      <td>-0.117094</td>\n",
       "    </tr>\n",
       "  </tbody>\n",
       "</table>\n",
       "<p>5 rows × 1000 columns</p>\n",
       "</div>"
      ],
      "text/plain": [
       "title   (500) Days of Summer (2009)  10 Things I Hate About You (1999)  \\\n",
       "userId                                                                   \n",
       "3                         -0.111966                          -0.187179   \n",
       "12                         0.488034                           0.412821   \n",
       "13                        -0.111966                          -0.187179   \n",
       "19                        -0.111966                          -0.187179   \n",
       "23                        -0.111966                          -0.187179   \n",
       "\n",
       "title   101 Dalmatians (1996)  \\\n",
       "userId                          \n",
       "3                   -0.115385   \n",
       "12                   0.084615   \n",
       "13                  -0.115385   \n",
       "19                   0.384615   \n",
       "23                  -0.115385   \n",
       "\n",
       "title   101 Dalmatians (One Hundred and One Dalmatians) (1961)  \\\n",
       "userId                                                           \n",
       "3                                               -0.149573        \n",
       "12                                              -0.149573        \n",
       "13                                              -0.149573        \n",
       "19                                              -0.149573        \n",
       "23                                              -0.149573        \n",
       "\n",
       "title   12 Angry Men (1957)  13 Going on 30 (2004)  13th Warrior, The (1999)  \\\n",
       "userId                                                                         \n",
       "3                 -0.252991              -0.084402                 -0.114910   \n",
       "12                -0.252991              -0.084402                 -0.114910   \n",
       "13                -0.252991              -0.084402                  0.662868   \n",
       "19                -0.252991              -0.084402                 -0.114910   \n",
       "23                 0.747009              -0.084402                 -0.114910   \n",
       "\n",
       "title   2001: A Space Odyssey (1968)  21 Grams (2003)  21 Jump Street (2012)  \\\n",
       "userId                                                                         \n",
       "3                                0.5        -0.187179              -0.092308   \n",
       "12                              -0.5        -0.187179              -0.092308   \n",
       "13                               0.2        -0.187179              -0.092308   \n",
       "19                               0.5        -0.187179              -0.092308   \n",
       "23                               0.3        -0.187179              -0.092308   \n",
       "\n",
       "title   ...  X-Men: First Class (2011)  X-Men: The Last Stand (2006)  \\\n",
       "userId  ...                                                            \n",
       "3       ...                   0.740741                      0.605983   \n",
       "12      ...                  -0.148148                     -0.194017   \n",
       "13      ...                  -0.148148                      0.405983   \n",
       "19      ...                   0.296296                      0.205983   \n",
       "23      ...                  -0.148148                     -0.194017   \n",
       "\n",
       "title   X2: X-Men United (2003)  You've Got Mail (1998)  \\\n",
       "userId                                                    \n",
       "3                      0.483381               -0.241026   \n",
       "12                    -0.405508                0.158974   \n",
       "13                     0.372270               -0.241026   \n",
       "19                     0.261159               -0.241026   \n",
       "23                    -0.405508               -0.241026   \n",
       "\n",
       "title   Young Frankenstein (1974)  Young Guns (1988)  Zombieland (2009)  \\\n",
       "userId                                                                    \n",
       "3                       -0.248718          -0.129915           0.657265   \n",
       "12                      -0.248718           0.670085          -0.142735   \n",
       "13                       0.751282           0.570085           0.657265   \n",
       "19                      -0.248718          -0.129915          -0.142735   \n",
       "23                      -0.248718          -0.129915          -0.142735   \n",
       "\n",
       "title   Zoolander (2001)  Zootopia (2016)  ¡Three Amigos! (1986)  \n",
       "userId                                                            \n",
       "3               0.517094        -0.108547              -0.117094  \n",
       "12             -0.182906        -0.108547               0.582906  \n",
       "13              0.517094        -0.108547              -0.117094  \n",
       "19             -0.182906         0.591453              -0.117094  \n",
       "23             -0.182906        -0.108547              -0.117094  \n",
       "\n",
       "[5 rows x 1000 columns]"
      ]
     },
     "execution_count": 75,
     "metadata": {},
     "output_type": "execute_result"
    }
   ],
   "source": [
    "def standardize(row):\n",
    "    new_row = (row - row.mean()) / (row.max() - row.min())\n",
    "    return new_row\n",
    "\n",
    "\n",
    "ratings_std = df.apply(standardize)\n",
    "ratings_std.head()"
   ]
  },
  {
   "cell_type": "code",
   "execution_count": 76,
   "metadata": {},
   "outputs": [
    {
     "name": "stdout",
     "output_type": "stream",
     "text": [
      "[[ 1.00000000e+00  9.74372145e-02  2.10389546e-02 ... -2.82175683e-02\n",
      "   1.80968968e-01 -1.36105401e-01]\n",
      " [ 9.74372145e-02  1.00000000e+00  2.46932859e-01 ...  2.25156732e-02\n",
      "   7.30419394e-02  1.05354856e-01]\n",
      " [ 2.10389546e-02  2.46932859e-01  1.00000000e+00 ... -9.65587492e-02\n",
      "   6.11956514e-02 -1.00985566e-04]\n",
      " ...\n",
      " [-2.82175683e-02  2.25156732e-02 -9.65587492e-02 ...  1.00000000e+00\n",
      "   1.57981908e-01 -1.15589546e-01]\n",
      " [ 1.80968968e-01  7.30419394e-02  6.11956514e-02 ...  1.57981908e-01\n",
      "   1.00000000e+00 -8.91968148e-02]\n",
      " [-1.36105401e-01  1.05354856e-01 -1.00985566e-04 ... -1.15589546e-01\n",
      "  -8.91968148e-02  1.00000000e+00]]\n"
     ]
    }
   ],
   "source": [
    "from sklearn.metrics.pairwise import cosine_similarity\n",
    "\n",
    "item_similarity = cosine_similarity(ratings_std.T)\n",
    "print(item_similarity)"
   ]
  },
  {
   "cell_type": "code",
   "execution_count": 77,
   "metadata": {},
   "outputs": [
    {
     "data": {
      "text/html": [
       "<div>\n",
       "<style scoped>\n",
       "    .dataframe tbody tr th:only-of-type {\n",
       "        vertical-align: middle;\n",
       "    }\n",
       "\n",
       "    .dataframe tbody tr th {\n",
       "        vertical-align: top;\n",
       "    }\n",
       "\n",
       "    .dataframe thead th {\n",
       "        text-align: right;\n",
       "    }\n",
       "</style>\n",
       "<table border=\"1\" class=\"dataframe\">\n",
       "  <thead>\n",
       "    <tr style=\"text-align: right;\">\n",
       "      <th>title</th>\n",
       "      <th>(500) Days of Summer (2009)</th>\n",
       "      <th>10 Things I Hate About You (1999)</th>\n",
       "      <th>101 Dalmatians (1996)</th>\n",
       "      <th>101 Dalmatians (One Hundred and One Dalmatians) (1961)</th>\n",
       "      <th>12 Angry Men (1957)</th>\n",
       "      <th>13 Going on 30 (2004)</th>\n",
       "      <th>13th Warrior, The (1999)</th>\n",
       "      <th>2001: A Space Odyssey (1968)</th>\n",
       "      <th>21 Grams (2003)</th>\n",
       "      <th>21 Jump Street (2012)</th>\n",
       "      <th>...</th>\n",
       "      <th>X-Men: First Class (2011)</th>\n",
       "      <th>X-Men: The Last Stand (2006)</th>\n",
       "      <th>X2: X-Men United (2003)</th>\n",
       "      <th>You've Got Mail (1998)</th>\n",
       "      <th>Young Frankenstein (1974)</th>\n",
       "      <th>Young Guns (1988)</th>\n",
       "      <th>Zombieland (2009)</th>\n",
       "      <th>Zoolander (2001)</th>\n",
       "      <th>Zootopia (2016)</th>\n",
       "      <th>¡Three Amigos! (1986)</th>\n",
       "    </tr>\n",
       "    <tr>\n",
       "      <th>title</th>\n",
       "      <th></th>\n",
       "      <th></th>\n",
       "      <th></th>\n",
       "      <th></th>\n",
       "      <th></th>\n",
       "      <th></th>\n",
       "      <th></th>\n",
       "      <th></th>\n",
       "      <th></th>\n",
       "      <th></th>\n",
       "      <th></th>\n",
       "      <th></th>\n",
       "      <th></th>\n",
       "      <th></th>\n",
       "      <th></th>\n",
       "      <th></th>\n",
       "      <th></th>\n",
       "      <th></th>\n",
       "      <th></th>\n",
       "      <th></th>\n",
       "      <th></th>\n",
       "    </tr>\n",
       "  </thead>\n",
       "  <tbody>\n",
       "    <tr>\n",
       "      <th>(500) Days of Summer (2009)</th>\n",
       "      <td>1.000000</td>\n",
       "      <td>0.097437</td>\n",
       "      <td>0.021039</td>\n",
       "      <td>0.004298</td>\n",
       "      <td>-0.005188</td>\n",
       "      <td>0.118833</td>\n",
       "      <td>-0.049803</td>\n",
       "      <td>-0.087192</td>\n",
       "      <td>0.185467</td>\n",
       "      <td>0.362173</td>\n",
       "      <td>...</td>\n",
       "      <td>0.148959</td>\n",
       "      <td>0.089830</td>\n",
       "      <td>-0.006146</td>\n",
       "      <td>0.109033</td>\n",
       "      <td>-0.093264</td>\n",
       "      <td>-0.001368</td>\n",
       "      <td>0.335870</td>\n",
       "      <td>-0.028218</td>\n",
       "      <td>0.180969</td>\n",
       "      <td>-0.136105</td>\n",
       "    </tr>\n",
       "    <tr>\n",
       "      <th>10 Things I Hate About You (1999)</th>\n",
       "      <td>0.097437</td>\n",
       "      <td>1.000000</td>\n",
       "      <td>0.246933</td>\n",
       "      <td>0.302018</td>\n",
       "      <td>0.037764</td>\n",
       "      <td>0.293404</td>\n",
       "      <td>0.142929</td>\n",
       "      <td>0.001313</td>\n",
       "      <td>-0.072044</td>\n",
       "      <td>0.131139</td>\n",
       "      <td>...</td>\n",
       "      <td>-0.021605</td>\n",
       "      <td>0.096864</td>\n",
       "      <td>-0.015948</td>\n",
       "      <td>0.432567</td>\n",
       "      <td>-0.033134</td>\n",
       "      <td>0.138112</td>\n",
       "      <td>0.082833</td>\n",
       "      <td>0.022516</td>\n",
       "      <td>0.073042</td>\n",
       "      <td>0.105355</td>\n",
       "    </tr>\n",
       "    <tr>\n",
       "      <th>101 Dalmatians (1996)</th>\n",
       "      <td>0.021039</td>\n",
       "      <td>0.246933</td>\n",
       "      <td>1.000000</td>\n",
       "      <td>0.437987</td>\n",
       "      <td>0.039481</td>\n",
       "      <td>0.128221</td>\n",
       "      <td>0.056161</td>\n",
       "      <td>0.066800</td>\n",
       "      <td>0.026023</td>\n",
       "      <td>0.015989</td>\n",
       "      <td>...</td>\n",
       "      <td>-0.093232</td>\n",
       "      <td>0.030895</td>\n",
       "      <td>-0.053703</td>\n",
       "      <td>0.279361</td>\n",
       "      <td>0.116415</td>\n",
       "      <td>0.070050</td>\n",
       "      <td>0.107055</td>\n",
       "      <td>-0.096559</td>\n",
       "      <td>0.061196</td>\n",
       "      <td>-0.000101</td>\n",
       "    </tr>\n",
       "    <tr>\n",
       "      <th>101 Dalmatians (One Hundred and One Dalmatians) (1961)</th>\n",
       "      <td>0.004298</td>\n",
       "      <td>0.302018</td>\n",
       "      <td>0.437987</td>\n",
       "      <td>1.000000</td>\n",
       "      <td>0.214408</td>\n",
       "      <td>0.206852</td>\n",
       "      <td>0.064851</td>\n",
       "      <td>0.007596</td>\n",
       "      <td>-0.020538</td>\n",
       "      <td>0.010073</td>\n",
       "      <td>...</td>\n",
       "      <td>-0.119856</td>\n",
       "      <td>0.023840</td>\n",
       "      <td>0.004990</td>\n",
       "      <td>0.312663</td>\n",
       "      <td>0.240846</td>\n",
       "      <td>0.030046</td>\n",
       "      <td>-0.033372</td>\n",
       "      <td>0.021331</td>\n",
       "      <td>0.035020</td>\n",
       "      <td>0.220424</td>\n",
       "    </tr>\n",
       "    <tr>\n",
       "      <th>12 Angry Men (1957)</th>\n",
       "      <td>-0.005188</td>\n",
       "      <td>0.037764</td>\n",
       "      <td>0.039481</td>\n",
       "      <td>0.214408</td>\n",
       "      <td>1.000000</td>\n",
       "      <td>0.220372</td>\n",
       "      <td>0.008893</td>\n",
       "      <td>0.278380</td>\n",
       "      <td>0.079826</td>\n",
       "      <td>-0.047475</td>\n",
       "      <td>...</td>\n",
       "      <td>-0.002766</td>\n",
       "      <td>-0.032520</td>\n",
       "      <td>0.051646</td>\n",
       "      <td>-0.031319</td>\n",
       "      <td>0.023814</td>\n",
       "      <td>-0.014852</td>\n",
       "      <td>-0.001777</td>\n",
       "      <td>0.003979</td>\n",
       "      <td>0.003088</td>\n",
       "      <td>0.157527</td>\n",
       "    </tr>\n",
       "    <tr>\n",
       "      <th>...</th>\n",
       "      <td>...</td>\n",
       "      <td>...</td>\n",
       "      <td>...</td>\n",
       "      <td>...</td>\n",
       "      <td>...</td>\n",
       "      <td>...</td>\n",
       "      <td>...</td>\n",
       "      <td>...</td>\n",
       "      <td>...</td>\n",
       "      <td>...</td>\n",
       "      <td>...</td>\n",
       "      <td>...</td>\n",
       "      <td>...</td>\n",
       "      <td>...</td>\n",
       "      <td>...</td>\n",
       "      <td>...</td>\n",
       "      <td>...</td>\n",
       "      <td>...</td>\n",
       "      <td>...</td>\n",
       "      <td>...</td>\n",
       "      <td>...</td>\n",
       "    </tr>\n",
       "    <tr>\n",
       "      <th>Young Guns (1988)</th>\n",
       "      <td>-0.001368</td>\n",
       "      <td>0.138112</td>\n",
       "      <td>0.070050</td>\n",
       "      <td>0.030046</td>\n",
       "      <td>-0.014852</td>\n",
       "      <td>0.005620</td>\n",
       "      <td>0.062579</td>\n",
       "      <td>0.007511</td>\n",
       "      <td>-0.119952</td>\n",
       "      <td>-0.072917</td>\n",
       "      <td>...</td>\n",
       "      <td>-0.112473</td>\n",
       "      <td>-0.010685</td>\n",
       "      <td>-0.037538</td>\n",
       "      <td>0.151672</td>\n",
       "      <td>0.121726</td>\n",
       "      <td>1.000000</td>\n",
       "      <td>-0.063866</td>\n",
       "      <td>-0.118495</td>\n",
       "      <td>-0.103423</td>\n",
       "      <td>0.435801</td>\n",
       "    </tr>\n",
       "    <tr>\n",
       "      <th>Zombieland (2009)</th>\n",
       "      <td>0.335870</td>\n",
       "      <td>0.082833</td>\n",
       "      <td>0.107055</td>\n",
       "      <td>-0.033372</td>\n",
       "      <td>-0.001777</td>\n",
       "      <td>0.067129</td>\n",
       "      <td>0.064181</td>\n",
       "      <td>-0.011354</td>\n",
       "      <td>0.080437</td>\n",
       "      <td>0.627375</td>\n",
       "      <td>...</td>\n",
       "      <td>0.524884</td>\n",
       "      <td>0.288342</td>\n",
       "      <td>0.156088</td>\n",
       "      <td>-0.024175</td>\n",
       "      <td>0.013455</td>\n",
       "      <td>-0.063866</td>\n",
       "      <td>1.000000</td>\n",
       "      <td>0.258010</td>\n",
       "      <td>0.364422</td>\n",
       "      <td>-0.210477</td>\n",
       "    </tr>\n",
       "    <tr>\n",
       "      <th>Zoolander (2001)</th>\n",
       "      <td>-0.028218</td>\n",
       "      <td>0.022516</td>\n",
       "      <td>-0.096559</td>\n",
       "      <td>0.021331</td>\n",
       "      <td>0.003979</td>\n",
       "      <td>0.014078</td>\n",
       "      <td>0.097520</td>\n",
       "      <td>-0.101341</td>\n",
       "      <td>0.191403</td>\n",
       "      <td>0.285588</td>\n",
       "      <td>...</td>\n",
       "      <td>0.262930</td>\n",
       "      <td>0.204185</td>\n",
       "      <td>0.223972</td>\n",
       "      <td>-0.004738</td>\n",
       "      <td>-0.013875</td>\n",
       "      <td>-0.118495</td>\n",
       "      <td>0.258010</td>\n",
       "      <td>1.000000</td>\n",
       "      <td>0.157982</td>\n",
       "      <td>-0.115590</td>\n",
       "    </tr>\n",
       "    <tr>\n",
       "      <th>Zootopia (2016)</th>\n",
       "      <td>0.180969</td>\n",
       "      <td>0.073042</td>\n",
       "      <td>0.061196</td>\n",
       "      <td>0.035020</td>\n",
       "      <td>0.003088</td>\n",
       "      <td>0.207379</td>\n",
       "      <td>0.012906</td>\n",
       "      <td>-0.074363</td>\n",
       "      <td>-0.087658</td>\n",
       "      <td>0.407236</td>\n",
       "      <td>...</td>\n",
       "      <td>0.429635</td>\n",
       "      <td>0.233390</td>\n",
       "      <td>0.220483</td>\n",
       "      <td>-0.027939</td>\n",
       "      <td>-0.033730</td>\n",
       "      <td>-0.103423</td>\n",
       "      <td>0.364422</td>\n",
       "      <td>0.157982</td>\n",
       "      <td>1.000000</td>\n",
       "      <td>-0.089197</td>\n",
       "    </tr>\n",
       "    <tr>\n",
       "      <th>¡Three Amigos! (1986)</th>\n",
       "      <td>-0.136105</td>\n",
       "      <td>0.105355</td>\n",
       "      <td>-0.000101</td>\n",
       "      <td>0.220424</td>\n",
       "      <td>0.157527</td>\n",
       "      <td>-0.062866</td>\n",
       "      <td>0.058933</td>\n",
       "      <td>0.132302</td>\n",
       "      <td>-0.178503</td>\n",
       "      <td>-0.173762</td>\n",
       "      <td>...</td>\n",
       "      <td>-0.208271</td>\n",
       "      <td>-0.164040</td>\n",
       "      <td>-0.118383</td>\n",
       "      <td>0.042808</td>\n",
       "      <td>0.366287</td>\n",
       "      <td>0.435801</td>\n",
       "      <td>-0.210477</td>\n",
       "      <td>-0.115590</td>\n",
       "      <td>-0.089197</td>\n",
       "      <td>1.000000</td>\n",
       "    </tr>\n",
       "  </tbody>\n",
       "</table>\n",
       "<p>1000 rows × 1000 columns</p>\n",
       "</div>"
      ],
      "text/plain": [
       "title                                               (500) Days of Summer (2009)  \\\n",
       "title                                                                             \n",
       "(500) Days of Summer (2009)                                            1.000000   \n",
       "10 Things I Hate About You (1999)                                      0.097437   \n",
       "101 Dalmatians (1996)                                                  0.021039   \n",
       "101 Dalmatians (One Hundred and One Dalmatians)...                     0.004298   \n",
       "12 Angry Men (1957)                                                   -0.005188   \n",
       "...                                                                         ...   \n",
       "Young Guns (1988)                                                     -0.001368   \n",
       "Zombieland (2009)                                                      0.335870   \n",
       "Zoolander (2001)                                                      -0.028218   \n",
       "Zootopia (2016)                                                        0.180969   \n",
       "¡Three Amigos! (1986)                                                 -0.136105   \n",
       "\n",
       "title                                               10 Things I Hate About You (1999)  \\\n",
       "title                                                                                   \n",
       "(500) Days of Summer (2009)                                                  0.097437   \n",
       "10 Things I Hate About You (1999)                                            1.000000   \n",
       "101 Dalmatians (1996)                                                        0.246933   \n",
       "101 Dalmatians (One Hundred and One Dalmatians)...                           0.302018   \n",
       "12 Angry Men (1957)                                                          0.037764   \n",
       "...                                                                               ...   \n",
       "Young Guns (1988)                                                            0.138112   \n",
       "Zombieland (2009)                                                            0.082833   \n",
       "Zoolander (2001)                                                             0.022516   \n",
       "Zootopia (2016)                                                              0.073042   \n",
       "¡Three Amigos! (1986)                                                        0.105355   \n",
       "\n",
       "title                                               101 Dalmatians (1996)  \\\n",
       "title                                                                       \n",
       "(500) Days of Summer (2009)                                      0.021039   \n",
       "10 Things I Hate About You (1999)                                0.246933   \n",
       "101 Dalmatians (1996)                                            1.000000   \n",
       "101 Dalmatians (One Hundred and One Dalmatians)...               0.437987   \n",
       "12 Angry Men (1957)                                              0.039481   \n",
       "...                                                                   ...   \n",
       "Young Guns (1988)                                                0.070050   \n",
       "Zombieland (2009)                                                0.107055   \n",
       "Zoolander (2001)                                                -0.096559   \n",
       "Zootopia (2016)                                                  0.061196   \n",
       "¡Three Amigos! (1986)                                           -0.000101   \n",
       "\n",
       "title                                               101 Dalmatians (One Hundred and One Dalmatians) (1961)  \\\n",
       "title                                                                                                        \n",
       "(500) Days of Summer (2009)                                                                  0.004298        \n",
       "10 Things I Hate About You (1999)                                                            0.302018        \n",
       "101 Dalmatians (1996)                                                                        0.437987        \n",
       "101 Dalmatians (One Hundred and One Dalmatians)...                                           1.000000        \n",
       "12 Angry Men (1957)                                                                          0.214408        \n",
       "...                                                                                               ...        \n",
       "Young Guns (1988)                                                                            0.030046        \n",
       "Zombieland (2009)                                                                           -0.033372        \n",
       "Zoolander (2001)                                                                             0.021331        \n",
       "Zootopia (2016)                                                                              0.035020        \n",
       "¡Three Amigos! (1986)                                                                        0.220424        \n",
       "\n",
       "title                                               12 Angry Men (1957)  \\\n",
       "title                                                                     \n",
       "(500) Days of Summer (2009)                                   -0.005188   \n",
       "10 Things I Hate About You (1999)                              0.037764   \n",
       "101 Dalmatians (1996)                                          0.039481   \n",
       "101 Dalmatians (One Hundred and One Dalmatians)...             0.214408   \n",
       "12 Angry Men (1957)                                            1.000000   \n",
       "...                                                                 ...   \n",
       "Young Guns (1988)                                             -0.014852   \n",
       "Zombieland (2009)                                             -0.001777   \n",
       "Zoolander (2001)                                               0.003979   \n",
       "Zootopia (2016)                                                0.003088   \n",
       "¡Three Amigos! (1986)                                          0.157527   \n",
       "\n",
       "title                                               13 Going on 30 (2004)  \\\n",
       "title                                                                       \n",
       "(500) Days of Summer (2009)                                      0.118833   \n",
       "10 Things I Hate About You (1999)                                0.293404   \n",
       "101 Dalmatians (1996)                                            0.128221   \n",
       "101 Dalmatians (One Hundred and One Dalmatians)...               0.206852   \n",
       "12 Angry Men (1957)                                              0.220372   \n",
       "...                                                                   ...   \n",
       "Young Guns (1988)                                                0.005620   \n",
       "Zombieland (2009)                                                0.067129   \n",
       "Zoolander (2001)                                                 0.014078   \n",
       "Zootopia (2016)                                                  0.207379   \n",
       "¡Three Amigos! (1986)                                           -0.062866   \n",
       "\n",
       "title                                               13th Warrior, The (1999)  \\\n",
       "title                                                                          \n",
       "(500) Days of Summer (2009)                                        -0.049803   \n",
       "10 Things I Hate About You (1999)                                   0.142929   \n",
       "101 Dalmatians (1996)                                               0.056161   \n",
       "101 Dalmatians (One Hundred and One Dalmatians)...                  0.064851   \n",
       "12 Angry Men (1957)                                                 0.008893   \n",
       "...                                                                      ...   \n",
       "Young Guns (1988)                                                   0.062579   \n",
       "Zombieland (2009)                                                   0.064181   \n",
       "Zoolander (2001)                                                    0.097520   \n",
       "Zootopia (2016)                                                     0.012906   \n",
       "¡Three Amigos! (1986)                                               0.058933   \n",
       "\n",
       "title                                               2001: A Space Odyssey (1968)  \\\n",
       "title                                                                              \n",
       "(500) Days of Summer (2009)                                            -0.087192   \n",
       "10 Things I Hate About You (1999)                                       0.001313   \n",
       "101 Dalmatians (1996)                                                   0.066800   \n",
       "101 Dalmatians (One Hundred and One Dalmatians)...                      0.007596   \n",
       "12 Angry Men (1957)                                                     0.278380   \n",
       "...                                                                          ...   \n",
       "Young Guns (1988)                                                       0.007511   \n",
       "Zombieland (2009)                                                      -0.011354   \n",
       "Zoolander (2001)                                                       -0.101341   \n",
       "Zootopia (2016)                                                        -0.074363   \n",
       "¡Three Amigos! (1986)                                                   0.132302   \n",
       "\n",
       "title                                               21 Grams (2003)  \\\n",
       "title                                                                 \n",
       "(500) Days of Summer (2009)                                0.185467   \n",
       "10 Things I Hate About You (1999)                         -0.072044   \n",
       "101 Dalmatians (1996)                                      0.026023   \n",
       "101 Dalmatians (One Hundred and One Dalmatians)...        -0.020538   \n",
       "12 Angry Men (1957)                                        0.079826   \n",
       "...                                                             ...   \n",
       "Young Guns (1988)                                         -0.119952   \n",
       "Zombieland (2009)                                          0.080437   \n",
       "Zoolander (2001)                                           0.191403   \n",
       "Zootopia (2016)                                           -0.087658   \n",
       "¡Three Amigos! (1986)                                     -0.178503   \n",
       "\n",
       "title                                               21 Jump Street (2012)  \\\n",
       "title                                                                       \n",
       "(500) Days of Summer (2009)                                      0.362173   \n",
       "10 Things I Hate About You (1999)                                0.131139   \n",
       "101 Dalmatians (1996)                                            0.015989   \n",
       "101 Dalmatians (One Hundred and One Dalmatians)...               0.010073   \n",
       "12 Angry Men (1957)                                             -0.047475   \n",
       "...                                                                   ...   \n",
       "Young Guns (1988)                                               -0.072917   \n",
       "Zombieland (2009)                                                0.627375   \n",
       "Zoolander (2001)                                                 0.285588   \n",
       "Zootopia (2016)                                                  0.407236   \n",
       "¡Three Amigos! (1986)                                           -0.173762   \n",
       "\n",
       "title                                               ...  \\\n",
       "title                                               ...   \n",
       "(500) Days of Summer (2009)                         ...   \n",
       "10 Things I Hate About You (1999)                   ...   \n",
       "101 Dalmatians (1996)                               ...   \n",
       "101 Dalmatians (One Hundred and One Dalmatians)...  ...   \n",
       "12 Angry Men (1957)                                 ...   \n",
       "...                                                 ...   \n",
       "Young Guns (1988)                                   ...   \n",
       "Zombieland (2009)                                   ...   \n",
       "Zoolander (2001)                                    ...   \n",
       "Zootopia (2016)                                     ...   \n",
       "¡Three Amigos! (1986)                               ...   \n",
       "\n",
       "title                                               X-Men: First Class (2011)  \\\n",
       "title                                                                           \n",
       "(500) Days of Summer (2009)                                          0.148959   \n",
       "10 Things I Hate About You (1999)                                   -0.021605   \n",
       "101 Dalmatians (1996)                                               -0.093232   \n",
       "101 Dalmatians (One Hundred and One Dalmatians)...                  -0.119856   \n",
       "12 Angry Men (1957)                                                 -0.002766   \n",
       "...                                                                       ...   \n",
       "Young Guns (1988)                                                   -0.112473   \n",
       "Zombieland (2009)                                                    0.524884   \n",
       "Zoolander (2001)                                                     0.262930   \n",
       "Zootopia (2016)                                                      0.429635   \n",
       "¡Three Amigos! (1986)                                               -0.208271   \n",
       "\n",
       "title                                               X-Men: The Last Stand (2006)  \\\n",
       "title                                                                              \n",
       "(500) Days of Summer (2009)                                             0.089830   \n",
       "10 Things I Hate About You (1999)                                       0.096864   \n",
       "101 Dalmatians (1996)                                                   0.030895   \n",
       "101 Dalmatians (One Hundred and One Dalmatians)...                      0.023840   \n",
       "12 Angry Men (1957)                                                    -0.032520   \n",
       "...                                                                          ...   \n",
       "Young Guns (1988)                                                      -0.010685   \n",
       "Zombieland (2009)                                                       0.288342   \n",
       "Zoolander (2001)                                                        0.204185   \n",
       "Zootopia (2016)                                                         0.233390   \n",
       "¡Three Amigos! (1986)                                                  -0.164040   \n",
       "\n",
       "title                                               X2: X-Men United (2003)  \\\n",
       "title                                                                         \n",
       "(500) Days of Summer (2009)                                       -0.006146   \n",
       "10 Things I Hate About You (1999)                                 -0.015948   \n",
       "101 Dalmatians (1996)                                             -0.053703   \n",
       "101 Dalmatians (One Hundred and One Dalmatians)...                 0.004990   \n",
       "12 Angry Men (1957)                                                0.051646   \n",
       "...                                                                     ...   \n",
       "Young Guns (1988)                                                 -0.037538   \n",
       "Zombieland (2009)                                                  0.156088   \n",
       "Zoolander (2001)                                                   0.223972   \n",
       "Zootopia (2016)                                                    0.220483   \n",
       "¡Three Amigos! (1986)                                             -0.118383   \n",
       "\n",
       "title                                               You've Got Mail (1998)  \\\n",
       "title                                                                        \n",
       "(500) Days of Summer (2009)                                       0.109033   \n",
       "10 Things I Hate About You (1999)                                 0.432567   \n",
       "101 Dalmatians (1996)                                             0.279361   \n",
       "101 Dalmatians (One Hundred and One Dalmatians)...                0.312663   \n",
       "12 Angry Men (1957)                                              -0.031319   \n",
       "...                                                                    ...   \n",
       "Young Guns (1988)                                                 0.151672   \n",
       "Zombieland (2009)                                                -0.024175   \n",
       "Zoolander (2001)                                                 -0.004738   \n",
       "Zootopia (2016)                                                  -0.027939   \n",
       "¡Three Amigos! (1986)                                             0.042808   \n",
       "\n",
       "title                                               Young Frankenstein (1974)  \\\n",
       "title                                                                           \n",
       "(500) Days of Summer (2009)                                         -0.093264   \n",
       "10 Things I Hate About You (1999)                                   -0.033134   \n",
       "101 Dalmatians (1996)                                                0.116415   \n",
       "101 Dalmatians (One Hundred and One Dalmatians)...                   0.240846   \n",
       "12 Angry Men (1957)                                                  0.023814   \n",
       "...                                                                       ...   \n",
       "Young Guns (1988)                                                    0.121726   \n",
       "Zombieland (2009)                                                    0.013455   \n",
       "Zoolander (2001)                                                    -0.013875   \n",
       "Zootopia (2016)                                                     -0.033730   \n",
       "¡Three Amigos! (1986)                                                0.366287   \n",
       "\n",
       "title                                               Young Guns (1988)  \\\n",
       "title                                                                   \n",
       "(500) Days of Summer (2009)                                 -0.001368   \n",
       "10 Things I Hate About You (1999)                            0.138112   \n",
       "101 Dalmatians (1996)                                        0.070050   \n",
       "101 Dalmatians (One Hundred and One Dalmatians)...           0.030046   \n",
       "12 Angry Men (1957)                                         -0.014852   \n",
       "...                                                               ...   \n",
       "Young Guns (1988)                                            1.000000   \n",
       "Zombieland (2009)                                           -0.063866   \n",
       "Zoolander (2001)                                            -0.118495   \n",
       "Zootopia (2016)                                             -0.103423   \n",
       "¡Three Amigos! (1986)                                        0.435801   \n",
       "\n",
       "title                                               Zombieland (2009)  \\\n",
       "title                                                                   \n",
       "(500) Days of Summer (2009)                                  0.335870   \n",
       "10 Things I Hate About You (1999)                            0.082833   \n",
       "101 Dalmatians (1996)                                        0.107055   \n",
       "101 Dalmatians (One Hundred and One Dalmatians)...          -0.033372   \n",
       "12 Angry Men (1957)                                         -0.001777   \n",
       "...                                                               ...   \n",
       "Young Guns (1988)                                           -0.063866   \n",
       "Zombieland (2009)                                            1.000000   \n",
       "Zoolander (2001)                                             0.258010   \n",
       "Zootopia (2016)                                              0.364422   \n",
       "¡Three Amigos! (1986)                                       -0.210477   \n",
       "\n",
       "title                                               Zoolander (2001)  \\\n",
       "title                                                                  \n",
       "(500) Days of Summer (2009)                                -0.028218   \n",
       "10 Things I Hate About You (1999)                           0.022516   \n",
       "101 Dalmatians (1996)                                      -0.096559   \n",
       "101 Dalmatians (One Hundred and One Dalmatians)...          0.021331   \n",
       "12 Angry Men (1957)                                         0.003979   \n",
       "...                                                              ...   \n",
       "Young Guns (1988)                                          -0.118495   \n",
       "Zombieland (2009)                                           0.258010   \n",
       "Zoolander (2001)                                            1.000000   \n",
       "Zootopia (2016)                                             0.157982   \n",
       "¡Three Amigos! (1986)                                      -0.115590   \n",
       "\n",
       "title                                               Zootopia (2016)  \\\n",
       "title                                                                 \n",
       "(500) Days of Summer (2009)                                0.180969   \n",
       "10 Things I Hate About You (1999)                          0.073042   \n",
       "101 Dalmatians (1996)                                      0.061196   \n",
       "101 Dalmatians (One Hundred and One Dalmatians)...         0.035020   \n",
       "12 Angry Men (1957)                                        0.003088   \n",
       "...                                                             ...   \n",
       "Young Guns (1988)                                         -0.103423   \n",
       "Zombieland (2009)                                          0.364422   \n",
       "Zoolander (2001)                                           0.157982   \n",
       "Zootopia (2016)                                            1.000000   \n",
       "¡Three Amigos! (1986)                                     -0.089197   \n",
       "\n",
       "title                                               ¡Three Amigos! (1986)  \n",
       "title                                                                      \n",
       "(500) Days of Summer (2009)                                     -0.136105  \n",
       "10 Things I Hate About You (1999)                                0.105355  \n",
       "101 Dalmatians (1996)                                           -0.000101  \n",
       "101 Dalmatians (One Hundred and One Dalmatians)...               0.220424  \n",
       "12 Angry Men (1957)                                              0.157527  \n",
       "...                                                                   ...  \n",
       "Young Guns (1988)                                                0.435801  \n",
       "Zombieland (2009)                                               -0.210477  \n",
       "Zoolander (2001)                                                -0.115590  \n",
       "Zootopia (2016)                                                 -0.089197  \n",
       "¡Three Amigos! (1986)                                            1.000000  \n",
       "\n",
       "[1000 rows x 1000 columns]"
      ]
     },
     "execution_count": 77,
     "metadata": {},
     "output_type": "execute_result"
    }
   ],
   "source": [
    "item_similarity_df = pd.DataFrame(item_similarity, index=df.columns, columns=df.columns)\n",
    "item_similarity_df"
   ]
  },
  {
   "cell_type": "code",
   "execution_count": 78,
   "metadata": {},
   "outputs": [
    {
     "name": "stdout",
     "output_type": "stream",
     "text": [
      "title\n",
      "Interstellar (2014)              2.500000\n",
      "Dark Knight Rises, The (2012)    1.969602\n",
      "Edge of Tomorrow (2014)          1.921349\n",
      "Kick-Ass (2010)                  1.855716\n",
      "Django Unchained (2012)          1.837763\n",
      "                                   ...   \n",
      "Big (1988)                      -0.840826\n",
      "Top Gun (1986)                  -0.847244\n",
      "Clueless (1995)                 -0.858938\n",
      "Grosse Pointe Blank (1997)      -0.935211\n",
      "Sleepless in Seattle (1993)     -0.944986\n",
      "Name: Interstellar (2014), Length: 1000, dtype: float64\n"
     ]
    }
   ],
   "source": [
    "def get_similar_movies(movie_name,user_rating):\n",
    "    similar_score = item_similarity_df[movie_name]*(user_rating-2.5)\n",
    "    similar_score = similar_score.sort_values(ascending=False)\n",
    "    \n",
    "    \n",
    "    return similar_score\n",
    "\n",
    "print(get_similar_movies(\"Interstellar (2014)\",5))"
   ]
  },
  {
   "cell_type": "code",
   "execution_count": 79,
   "metadata": {},
   "outputs": [
    {
     "data": {
      "text/plain": [
       "Pulp Fiction (1994)                  2.185727\n",
       "Reservoir Dogs (1992)                1.643495\n",
       "21 Jump Street (2012)                1.498639\n",
       "X-Men: First Class (2011)            1.487314\n",
       "Kill Bill: Vol. 1 (2003)             1.383833\n",
       "                                       ...   \n",
       "Rocketeer, The (1991)               -1.344230\n",
       "Walk in the Clouds, A (1995)        -1.352301\n",
       "Philadelphia Story, The (1940)      -1.366675\n",
       "You've Got Mail (1998)              -1.435138\n",
       "10 Things I Hate About You (1999)   -1.702575\n",
       "Length: 1000, dtype: float64"
      ]
     },
     "execution_count": 79,
     "metadata": {},
     "output_type": "execute_result"
    }
   ],
   "source": [
    "action_lover = [(\"21 Jump Street (2012)\",5),(\"(500) Days of Summer (2009)\",1),(\"10 Things I Hate About You (1999)\",1),(\"Pulp Fiction (1994)\",5)]\n",
    "\n",
    "similar_movies = pd.DataFrame()\n",
    "\n",
    "for movie,rating in action_lover:\n",
    "    similar_movies = similar_movies.append(get_similar_movies(movie,rating),ignore_index=True)\n",
    "    \n",
    "similar_movies.head()\n",
    "similar_movies.sum().sort_values(ascending=False)\n"
   ]
  },
  {
   "cell_type": "markdown",
   "metadata": {},
   "source": [
    "## New Model"
   ]
  },
  {
   "cell_type": "code",
   "execution_count": 80,
   "metadata": {
    "scrolled": true
   },
   "outputs": [
    {
     "data": {
      "text/html": [
       "<div>\n",
       "<style scoped>\n",
       "    .dataframe tbody tr th:only-of-type {\n",
       "        vertical-align: middle;\n",
       "    }\n",
       "\n",
       "    .dataframe tbody tr th {\n",
       "        vertical-align: top;\n",
       "    }\n",
       "\n",
       "    .dataframe thead th {\n",
       "        text-align: right;\n",
       "    }\n",
       "</style>\n",
       "<table border=\"1\" class=\"dataframe\">\n",
       "  <thead>\n",
       "    <tr style=\"text-align: right;\">\n",
       "      <th></th>\n",
       "      <th>userId</th>\n",
       "      <th>movieId</th>\n",
       "      <th>rating</th>\n",
       "      <th>timestamp</th>\n",
       "      <th>number_reviews</th>\n",
       "      <th>title</th>\n",
       "    </tr>\n",
       "  </thead>\n",
       "  <tbody>\n",
       "    <tr>\n",
       "      <th>0</th>\n",
       "      <td>1</td>\n",
       "      <td>306</td>\n",
       "      <td>3.5</td>\n",
       "      <td>1147868817</td>\n",
       "      <td>70.0</td>\n",
       "      <td>Three Colors: Red (Trois couleurs: Rouge) (1994)</td>\n",
       "    </tr>\n",
       "    <tr>\n",
       "      <th>1</th>\n",
       "      <td>7</td>\n",
       "      <td>306</td>\n",
       "      <td>5.0</td>\n",
       "      <td>835444970</td>\n",
       "      <td>27.0</td>\n",
       "      <td>Three Colors: Red (Trois couleurs: Rouge) (1994)</td>\n",
       "    </tr>\n",
       "    <tr>\n",
       "      <th>2</th>\n",
       "      <td>25</td>\n",
       "      <td>306</td>\n",
       "      <td>4.0</td>\n",
       "      <td>836217388</td>\n",
       "      <td>22.0</td>\n",
       "      <td>Three Colors: Red (Trois couleurs: Rouge) (1994)</td>\n",
       "    </tr>\n",
       "    <tr>\n",
       "      <th>3</th>\n",
       "      <td>47</td>\n",
       "      <td>306</td>\n",
       "      <td>4.0</td>\n",
       "      <td>855094660</td>\n",
       "      <td>25.0</td>\n",
       "      <td>Three Colors: Red (Trois couleurs: Rouge) (1994)</td>\n",
       "    </tr>\n",
       "    <tr>\n",
       "      <th>4</th>\n",
       "      <td>79</td>\n",
       "      <td>306</td>\n",
       "      <td>5.0</td>\n",
       "      <td>828708508</td>\n",
       "      <td>113.0</td>\n",
       "      <td>Three Colors: Red (Trois couleurs: Rouge) (1994)</td>\n",
       "    </tr>\n",
       "  </tbody>\n",
       "</table>\n",
       "</div>"
      ],
      "text/plain": [
       "   userId  movieId  rating   timestamp  number_reviews  \\\n",
       "0       1      306     3.5  1147868817            70.0   \n",
       "1       7      306     5.0   835444970            27.0   \n",
       "2      25      306     4.0   836217388            22.0   \n",
       "3      47      306     4.0   855094660            25.0   \n",
       "4      79      306     5.0   828708508           113.0   \n",
       "\n",
       "                                              title  \n",
       "0  Three Colors: Red (Trois couleurs: Rouge) (1994)  \n",
       "1  Three Colors: Red (Trois couleurs: Rouge) (1994)  \n",
       "2  Three Colors: Red (Trois couleurs: Rouge) (1994)  \n",
       "3  Three Colors: Red (Trois couleurs: Rouge) (1994)  \n",
       "4  Three Colors: Red (Trois couleurs: Rouge) (1994)  "
      ]
     },
     "execution_count": 80,
     "metadata": {},
     "output_type": "execute_result"
    }
   ],
   "source": [
    "ratings.head()"
   ]
  },
  {
   "cell_type": "code",
   "execution_count": 83,
   "metadata": {},
   "outputs": [
    {
     "data": {
      "text/html": [
       "<div>\n",
       "<style scoped>\n",
       "    .dataframe tbody tr th:only-of-type {\n",
       "        vertical-align: middle;\n",
       "    }\n",
       "\n",
       "    .dataframe tbody tr th {\n",
       "        vertical-align: top;\n",
       "    }\n",
       "\n",
       "    .dataframe thead th {\n",
       "        text-align: right;\n",
       "    }\n",
       "</style>\n",
       "<table border=\"1\" class=\"dataframe\">\n",
       "  <thead>\n",
       "    <tr style=\"text-align: right;\">\n",
       "      <th></th>\n",
       "      <th>userId</th>\n",
       "      <th>movieId</th>\n",
       "      <th>rating</th>\n",
       "      <th>timestamp</th>\n",
       "      <th>number_reviews</th>\n",
       "      <th>title</th>\n",
       "    </tr>\n",
       "  </thead>\n",
       "  <tbody>\n",
       "    <tr>\n",
       "      <th>9</th>\n",
       "      <td>171</td>\n",
       "      <td>306</td>\n",
       "      <td>4.5</td>\n",
       "      <td>1088192124</td>\n",
       "      <td>553.0</td>\n",
       "      <td>Three Colors: Red (Trois couleurs: Rouge) (1994)</td>\n",
       "    </tr>\n",
       "    <tr>\n",
       "      <th>16</th>\n",
       "      <td>357</td>\n",
       "      <td>306</td>\n",
       "      <td>4.0</td>\n",
       "      <td>1367156902</td>\n",
       "      <td>26.0</td>\n",
       "      <td>Three Colors: Red (Trois couleurs: Rouge) (1994)</td>\n",
       "    </tr>\n",
       "    <tr>\n",
       "      <th>27</th>\n",
       "      <td>541</td>\n",
       "      <td>306</td>\n",
       "      <td>4.0</td>\n",
       "      <td>1542827243</td>\n",
       "      <td>21.0</td>\n",
       "      <td>Three Colors: Red (Trois couleurs: Rouge) (1994)</td>\n",
       "    </tr>\n",
       "    <tr>\n",
       "      <th>30</th>\n",
       "      <td>649</td>\n",
       "      <td>306</td>\n",
       "      <td>5.0</td>\n",
       "      <td>996856660</td>\n",
       "      <td>20.0</td>\n",
       "      <td>Three Colors: Red (Trois couleurs: Rouge) (1994)</td>\n",
       "    </tr>\n",
       "    <tr>\n",
       "      <th>32</th>\n",
       "      <td>734</td>\n",
       "      <td>306</td>\n",
       "      <td>4.0</td>\n",
       "      <td>992789983</td>\n",
       "      <td>110.0</td>\n",
       "      <td>Three Colors: Red (Trois couleurs: Rouge) (1994)</td>\n",
       "    </tr>\n",
       "  </tbody>\n",
       "</table>\n",
       "</div>"
      ],
      "text/plain": [
       "    userId  movieId  rating   timestamp  number_reviews  \\\n",
       "9      171      306     4.5  1088192124           553.0   \n",
       "16     357      306     4.0  1367156902            26.0   \n",
       "27     541      306     4.0  1542827243            21.0   \n",
       "30     649      306     5.0   996856660            20.0   \n",
       "32     734      306     4.0   992789983           110.0   \n",
       "\n",
       "                                               title  \n",
       "9   Three Colors: Red (Trois couleurs: Rouge) (1994)  \n",
       "16  Three Colors: Red (Trois couleurs: Rouge) (1994)  \n",
       "27  Three Colors: Red (Trois couleurs: Rouge) (1994)  \n",
       "30  Three Colors: Red (Trois couleurs: Rouge) (1994)  \n",
       "32  Three Colors: Red (Trois couleurs: Rouge) (1994)  "
      ]
     },
     "execution_count": 83,
     "metadata": {},
     "output_type": "execute_result"
    }
   ],
   "source": [
    "ratings_top_users_top.head()"
   ]
  },
  {
   "cell_type": "code",
   "execution_count": 85,
   "metadata": {},
   "outputs": [
    {
     "data": {
      "text/html": [
       "<div>\n",
       "<style scoped>\n",
       "    .dataframe tbody tr th:only-of-type {\n",
       "        vertical-align: middle;\n",
       "    }\n",
       "\n",
       "    .dataframe tbody tr th {\n",
       "        vertical-align: top;\n",
       "    }\n",
       "\n",
       "    .dataframe thead th {\n",
       "        text-align: right;\n",
       "    }\n",
       "</style>\n",
       "<table border=\"1\" class=\"dataframe\">\n",
       "  <thead>\n",
       "    <tr style=\"text-align: right;\">\n",
       "      <th>title</th>\n",
       "      <th>(500) Days of Summer (2009)</th>\n",
       "      <th>10 Things I Hate About You (1999)</th>\n",
       "      <th>101 Dalmatians (1996)</th>\n",
       "      <th>101 Dalmatians (One Hundred and One Dalmatians) (1961)</th>\n",
       "      <th>12 Angry Men (1957)</th>\n",
       "      <th>13 Going on 30 (2004)</th>\n",
       "      <th>13th Warrior, The (1999)</th>\n",
       "      <th>2001: A Space Odyssey (1968)</th>\n",
       "      <th>21 Grams (2003)</th>\n",
       "      <th>21 Jump Street (2012)</th>\n",
       "      <th>...</th>\n",
       "      <th>X-Men: First Class (2011)</th>\n",
       "      <th>X-Men: The Last Stand (2006)</th>\n",
       "      <th>X2: X-Men United (2003)</th>\n",
       "      <th>You've Got Mail (1998)</th>\n",
       "      <th>Young Frankenstein (1974)</th>\n",
       "      <th>Young Guns (1988)</th>\n",
       "      <th>Zombieland (2009)</th>\n",
       "      <th>Zoolander (2001)</th>\n",
       "      <th>Zootopia (2016)</th>\n",
       "      <th>¡Three Amigos! (1986)</th>\n",
       "    </tr>\n",
       "    <tr>\n",
       "      <th>userId</th>\n",
       "      <th></th>\n",
       "      <th></th>\n",
       "      <th></th>\n",
       "      <th></th>\n",
       "      <th></th>\n",
       "      <th></th>\n",
       "      <th></th>\n",
       "      <th></th>\n",
       "      <th></th>\n",
       "      <th></th>\n",
       "      <th></th>\n",
       "      <th></th>\n",
       "      <th></th>\n",
       "      <th></th>\n",
       "      <th></th>\n",
       "      <th></th>\n",
       "      <th></th>\n",
       "      <th></th>\n",
       "      <th></th>\n",
       "      <th></th>\n",
       "      <th></th>\n",
       "    </tr>\n",
       "  </thead>\n",
       "  <tbody>\n",
       "    <tr>\n",
       "      <th>3</th>\n",
       "      <td>0.0</td>\n",
       "      <td>0.0</td>\n",
       "      <td>0.0</td>\n",
       "      <td>0.0</td>\n",
       "      <td>0.0</td>\n",
       "      <td>0.0</td>\n",
       "      <td>0.0</td>\n",
       "      <td>5.0</td>\n",
       "      <td>0.0</td>\n",
       "      <td>0.0</td>\n",
       "      <td>...</td>\n",
       "      <td>4.0</td>\n",
       "      <td>4.0</td>\n",
       "      <td>4.0</td>\n",
       "      <td>0.0</td>\n",
       "      <td>0.0</td>\n",
       "      <td>0.0</td>\n",
       "      <td>4.0</td>\n",
       "      <td>3.5</td>\n",
       "      <td>0.0</td>\n",
       "      <td>0.0</td>\n",
       "    </tr>\n",
       "    <tr>\n",
       "      <th>12</th>\n",
       "      <td>3.0</td>\n",
       "      <td>3.0</td>\n",
       "      <td>1.0</td>\n",
       "      <td>0.0</td>\n",
       "      <td>0.0</td>\n",
       "      <td>0.0</td>\n",
       "      <td>0.0</td>\n",
       "      <td>0.0</td>\n",
       "      <td>0.0</td>\n",
       "      <td>0.0</td>\n",
       "      <td>...</td>\n",
       "      <td>0.0</td>\n",
       "      <td>0.0</td>\n",
       "      <td>0.0</td>\n",
       "      <td>2.0</td>\n",
       "      <td>0.0</td>\n",
       "      <td>4.0</td>\n",
       "      <td>0.0</td>\n",
       "      <td>0.0</td>\n",
       "      <td>0.0</td>\n",
       "      <td>3.5</td>\n",
       "    </tr>\n",
       "    <tr>\n",
       "      <th>13</th>\n",
       "      <td>0.0</td>\n",
       "      <td>0.0</td>\n",
       "      <td>0.0</td>\n",
       "      <td>0.0</td>\n",
       "      <td>0.0</td>\n",
       "      <td>0.0</td>\n",
       "      <td>3.5</td>\n",
       "      <td>3.5</td>\n",
       "      <td>0.0</td>\n",
       "      <td>0.0</td>\n",
       "      <td>...</td>\n",
       "      <td>0.0</td>\n",
       "      <td>3.0</td>\n",
       "      <td>3.5</td>\n",
       "      <td>0.0</td>\n",
       "      <td>5.0</td>\n",
       "      <td>3.5</td>\n",
       "      <td>4.0</td>\n",
       "      <td>3.5</td>\n",
       "      <td>0.0</td>\n",
       "      <td>0.0</td>\n",
       "    </tr>\n",
       "    <tr>\n",
       "      <th>19</th>\n",
       "      <td>0.0</td>\n",
       "      <td>0.0</td>\n",
       "      <td>2.5</td>\n",
       "      <td>0.0</td>\n",
       "      <td>0.0</td>\n",
       "      <td>0.0</td>\n",
       "      <td>0.0</td>\n",
       "      <td>5.0</td>\n",
       "      <td>0.0</td>\n",
       "      <td>0.0</td>\n",
       "      <td>...</td>\n",
       "      <td>2.0</td>\n",
       "      <td>2.0</td>\n",
       "      <td>3.0</td>\n",
       "      <td>0.0</td>\n",
       "      <td>0.0</td>\n",
       "      <td>0.0</td>\n",
       "      <td>0.0</td>\n",
       "      <td>0.0</td>\n",
       "      <td>3.5</td>\n",
       "      <td>0.0</td>\n",
       "    </tr>\n",
       "    <tr>\n",
       "      <th>23</th>\n",
       "      <td>0.0</td>\n",
       "      <td>0.0</td>\n",
       "      <td>0.0</td>\n",
       "      <td>0.0</td>\n",
       "      <td>5.0</td>\n",
       "      <td>0.0</td>\n",
       "      <td>0.0</td>\n",
       "      <td>4.0</td>\n",
       "      <td>0.0</td>\n",
       "      <td>0.0</td>\n",
       "      <td>...</td>\n",
       "      <td>0.0</td>\n",
       "      <td>0.0</td>\n",
       "      <td>0.0</td>\n",
       "      <td>0.0</td>\n",
       "      <td>0.0</td>\n",
       "      <td>0.0</td>\n",
       "      <td>0.0</td>\n",
       "      <td>0.0</td>\n",
       "      <td>0.0</td>\n",
       "      <td>0.0</td>\n",
       "    </tr>\n",
       "  </tbody>\n",
       "</table>\n",
       "<p>5 rows × 1000 columns</p>\n",
       "</div>"
      ],
      "text/plain": [
       "title   (500) Days of Summer (2009)  10 Things I Hate About You (1999)  \\\n",
       "userId                                                                   \n",
       "3                               0.0                                0.0   \n",
       "12                              3.0                                3.0   \n",
       "13                              0.0                                0.0   \n",
       "19                              0.0                                0.0   \n",
       "23                              0.0                                0.0   \n",
       "\n",
       "title   101 Dalmatians (1996)  \\\n",
       "userId                          \n",
       "3                         0.0   \n",
       "12                        1.0   \n",
       "13                        0.0   \n",
       "19                        2.5   \n",
       "23                        0.0   \n",
       "\n",
       "title   101 Dalmatians (One Hundred and One Dalmatians) (1961)  \\\n",
       "userId                                                           \n",
       "3                                                     0.0        \n",
       "12                                                    0.0        \n",
       "13                                                    0.0        \n",
       "19                                                    0.0        \n",
       "23                                                    0.0        \n",
       "\n",
       "title   12 Angry Men (1957)  13 Going on 30 (2004)  13th Warrior, The (1999)  \\\n",
       "userId                                                                         \n",
       "3                       0.0                    0.0                       0.0   \n",
       "12                      0.0                    0.0                       0.0   \n",
       "13                      0.0                    0.0                       3.5   \n",
       "19                      0.0                    0.0                       0.0   \n",
       "23                      5.0                    0.0                       0.0   \n",
       "\n",
       "title   2001: A Space Odyssey (1968)  21 Grams (2003)  21 Jump Street (2012)  \\\n",
       "userId                                                                         \n",
       "3                                5.0              0.0                    0.0   \n",
       "12                               0.0              0.0                    0.0   \n",
       "13                               3.5              0.0                    0.0   \n",
       "19                               5.0              0.0                    0.0   \n",
       "23                               4.0              0.0                    0.0   \n",
       "\n",
       "title   ...  X-Men: First Class (2011)  X-Men: The Last Stand (2006)  \\\n",
       "userId  ...                                                            \n",
       "3       ...                        4.0                           4.0   \n",
       "12      ...                        0.0                           0.0   \n",
       "13      ...                        0.0                           3.0   \n",
       "19      ...                        2.0                           2.0   \n",
       "23      ...                        0.0                           0.0   \n",
       "\n",
       "title   X2: X-Men United (2003)  You've Got Mail (1998)  \\\n",
       "userId                                                    \n",
       "3                           4.0                     0.0   \n",
       "12                          0.0                     2.0   \n",
       "13                          3.5                     0.0   \n",
       "19                          3.0                     0.0   \n",
       "23                          0.0                     0.0   \n",
       "\n",
       "title   Young Frankenstein (1974)  Young Guns (1988)  Zombieland (2009)  \\\n",
       "userId                                                                    \n",
       "3                             0.0                0.0                4.0   \n",
       "12                            0.0                4.0                0.0   \n",
       "13                            5.0                3.5                4.0   \n",
       "19                            0.0                0.0                0.0   \n",
       "23                            0.0                0.0                0.0   \n",
       "\n",
       "title   Zoolander (2001)  Zootopia (2016)  ¡Three Amigos! (1986)  \n",
       "userId                                                            \n",
       "3                    3.5              0.0                    0.0  \n",
       "12                   0.0              0.0                    3.5  \n",
       "13                   3.5              0.0                    0.0  \n",
       "19                   0.0              3.5                    0.0  \n",
       "23                   0.0              0.0                    0.0  \n",
       "\n",
       "[5 rows x 1000 columns]"
      ]
     },
     "execution_count": 85,
     "metadata": {},
     "output_type": "execute_result"
    }
   ],
   "source": [
    "dt = ratings_top_users_top.pivot(index='userId', columns='title', values='rating')\n",
    "dt = dt.fillna(0)\n",
    "dt.head()"
   ]
  },
  {
   "cell_type": "code",
   "execution_count": null,
   "metadata": {},
   "outputs": [],
   "source": [
    "def mean_user_average(x):\n",
    "    if  Number.isNaN(x):\n",
    "        \n",
    "    \n",
    "    \n",
    "# def standardize(row):\n",
    "#     new_row = (row - row.mean()) / (row.max() - row.min())\n",
    "#     return new_row"
   ]
  }
 ],
 "metadata": {
  "kernelspec": {
   "display_name": "Python 3",
   "language": "python",
   "name": "python3"
  },
  "language_info": {
   "codemirror_mode": {
    "name": "ipython",
    "version": 3
   },
   "file_extension": ".py",
   "mimetype": "text/x-python",
   "name": "python",
   "nbconvert_exporter": "python",
   "pygments_lexer": "ipython3",
   "version": "3.7.7"
  },
  "toc": {
   "base_numbering": 1,
   "nav_menu": {},
   "number_sections": true,
   "sideBar": true,
   "skip_h1_title": false,
   "title_cell": "Table of Contents",
   "title_sidebar": "Contents",
   "toc_cell": false,
   "toc_position": {},
   "toc_section_display": true,
   "toc_window_display": true
  },
  "varInspector": {
   "cols": {
    "lenName": 16,
    "lenType": 16,
    "lenVar": 40
   },
   "kernels_config": {
    "python": {
     "delete_cmd_postfix": "",
     "delete_cmd_prefix": "del ",
     "library": "var_list.py",
     "varRefreshCmd": "print(var_dic_list())"
    },
    "r": {
     "delete_cmd_postfix": ") ",
     "delete_cmd_prefix": "rm(",
     "library": "var_list.r",
     "varRefreshCmd": "cat(var_dic_list()) "
    }
   },
   "types_to_exclude": [
    "module",
    "function",
    "builtin_function_or_method",
    "instance",
    "_Feature"
   ],
   "window_display": false
  }
 },
 "nbformat": 4,
 "nbformat_minor": 4
}
